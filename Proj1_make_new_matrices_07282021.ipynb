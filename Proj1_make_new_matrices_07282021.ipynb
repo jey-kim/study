{
 "cells": [
  {
   "cell_type": "markdown",
   "metadata": {},
   "source": [
    "# Step 5: <font color=blue>\"make_new_matrices.ipynb\"</font>\n",
    "#### July 28, 2021  <font color=red>(Still working)</font> \n",
    "##### Jeonghyeop Kim (jeonghyeop.kim@gmail.com)\n",
    "\n",
    "> input file(s): **`time_vector.dat`** & **`i.raw`** \\\n",
    "> output file(s): **`edited_i`** \n",
    "1. This code loads **`i.raw`** and crops the GPS position data for the time of our interest\n",
    "2. And then saved the cropped data into **`edited_i`** files\n"
   ]
  },
  {
   "cell_type": "code",
   "execution_count": null,
   "metadata": {},
   "outputs": [],
   "source": []
  }
 ],
 "metadata": {
  "kernelspec": {
   "display_name": "Python 3",
   "language": "python",
   "name": "python3"
  },
  "language_info": {
   "codemirror_mode": {
    "name": "ipython",
    "version": 3
   },
   "file_extension": ".py",
   "mimetype": "text/x-python",
   "name": "python",
   "nbconvert_exporter": "python",
   "pygments_lexer": "ipython3",
   "version": "3.8.3"
  }
 },
 "nbformat": 4,
 "nbformat_minor": 4
}
