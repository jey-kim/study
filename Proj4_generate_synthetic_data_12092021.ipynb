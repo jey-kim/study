{
 "cells": [
  {
   "cell_type": "code",
   "execution_count": 1,
   "metadata": {},
   "outputs": [],
   "source": [
    "#<img src=\"Figs/GEOS_logo.pdf\" width=\"500\"/>"
   ]
  },
  {
   "cell_type": "markdown",
   "metadata": {},
   "source": [
    "# generate Synthetic InSAR (asd & dsd) and GNSS: <font color=blue>\"generate_synthetic_data.ipynb\"</font>\n",
    "#### Dec 09, 2021  <font color=red>(v. testing)</font>\n",
    "##### Jeonghyeop Kim (jeonghyeop.kim@gmail.com)\n",
    "\n",
    "\n",
    "**input files :**  \n",
    "> **`losx_DT173_regular_lat_long.dat`**, **`losy_DT173_regular_lat_long.dat`**, **`losz_DT173_regular_lat_long.dat`** \\\n",
    "> **`losx_AT64_regular_lat_long.dat`**, **`losy_AT64_regular_lat_long.dat`**, **`losz_AT64_regular_lat_long.dat`** \\\n",
    "> **`vel_horizontal_from_vertical_displacement.gmt`**, **`vel_UCERF3_corner.gmt`**, **`vel_vertical.gmt`** \\\n",
    "> **`coordinate_list_full.dat`** : GNSS stations\n",
    "\n",
    "**output files :** \n",
    "> **`dLOS_DT173_synthetic.dat`** & **`dLOS_AT64_synthetic.dat`** & **`GNSS_horizontal_synthetic.gmt`** \\\n",
    "\n",
    "0. This code is a part of the joint inversion project (project4: joint inversion of GNSS and InSAR)\n",
    "1. It generates Synthetic InSAR data sets (Ascending & Descending) and GNSS data sets\n",
    "2. The synthetic InSAR data sets will be sampled in a regular long & lat grid\n",
    "3. The synthetic horizontal GNSS data will be sampled in the NOTA (PBO) stations. "
   ]
  },
  {
   "cell_type": "code",
   "execution_count": 2,
   "metadata": {},
   "outputs": [],
   "source": [
    "import numpy as np\n",
    "import pandas as pd\n",
    "from distance_calculation import distance_calculation"
   ]
  },
  {
   "cell_type": "code",
   "execution_count": 3,
   "metadata": {},
   "outputs": [],
   "source": [
    "scaling_factor = 0.3 #for vertical"
   ]
  },
  {
   "cell_type": "code",
   "execution_count": 4,
   "metadata": {},
   "outputs": [],
   "source": [
    "error_level_InSAR = 0.3 # 30 %\n",
    "error_level_GNSS = 0.05 # 5 %"
   ]
  },
  {
   "cell_type": "code",
   "execution_count": 5,
   "metadata": {},
   "outputs": [],
   "source": [
    "data_losxD=np.loadtxt(\"losx_DT173_regular_lat_long.dat\")\n",
    "data_losyD=np.loadtxt(\"losy_DT173_regular_lat_long.dat\")\n",
    "data_loszD=np.loadtxt(\"losz_DT173_regular_lat_long.dat\")\n",
    "\n",
    "data_losxA=np.loadtxt(\"losx_AT64_regular_lat_long.dat\")\n",
    "data_losyA=np.loadtxt(\"losy_AT64_regular_lat_long.dat\")\n",
    "data_loszA=np.loadtxt(\"losz_AT64_regular_lat_long.dat\")\n",
    "\n",
    "data_hori_from_vert=np.loadtxt(\"vel_horizontal_from_vertical_displacement.gmt\")\n",
    "data_hori=np.loadtxt(\"vel_UCERF3_corner.gmt\")\n",
    "data_vert=np.loadtxt(\"vel_vertical.gmt\")\n",
    "\n",
    "data_GNSS_coor = np.loadtxt(\"coordinate_list_full.dat\")\n",
    "data_GNSS_coor[:,0]=data_GNSS_coor[:,0]-360\n",
    "data_GNSS_coor = data_GNSS_coor[(data_GNSS_coor[:,0]>=-117),:]\n",
    "data_GNSS_coor = data_GNSS_coor[(data_GNSS_coor[:,0]<=-116),:]\n",
    "data_GNSS_coor = data_GNSS_coor[(data_GNSS_coor[:,1]>=33.2),:]\n",
    "data_GNSS_coor = data_GNSS_coor[(data_GNSS_coor[:,1]<=34.1),:]\n",
    "\n",
    "lon = data_hori[:,0]\n",
    "lat = data_hori[:,1]\n",
    "zeroVec = data_hori[:,5]\n",
    "\n",
    "hori_UCERF_x = data_hori[:,2]\n",
    "hori_vert_x = data_hori_from_vert[:,2]\n",
    "u_x = hori_UCERF_x + hori_vert_x*scaling_factor\n",
    "\n",
    "hori_UCERF_y = data_hori[:,3]\n",
    "hori_vert_y = data_hori_from_vert[:,3]\n",
    "u_y = hori_UCERF_y + hori_vert_y*scaling_factor\n",
    "\n",
    "u_z = data_vert[:,2]*scaling_factor\n",
    "\n",
    "losxD=data_losxD[:,2]\n",
    "losyD=data_losyD[:,2]\n",
    "loszD=data_loszD[:,2]\n",
    "\n",
    "losxA=data_losxA[:,2]\n",
    "losyA=data_losyA[:,2]\n",
    "loszA=data_loszA[:,2]\n",
    "\n"
   ]
  },
  {
   "cell_type": "code",
   "execution_count": 6,
   "metadata": {},
   "outputs": [],
   "source": [
    "#generate synthetic data : InSAR\n",
    "dLOS_D = u_x*losxD + u_y*losyD + u_z*loszD\n",
    "dLOS_A = u_x*losxA + u_y*losyA + u_z*loszA"
   ]
  },
  {
   "cell_type": "code",
   "execution_count": 7,
   "metadata": {},
   "outputs": [],
   "source": [
    "GNSS_x = np.zeros((len(data_GNSS_coor),))\n",
    "GNSS_y = np.zeros((len(data_GNSS_coor),))\n",
    "# GNSS_sx = np.zeros((len(data_GNSS_coor),))\n",
    "# GNSS_sy = np.zeros((len(data_GNSS_coor),))\n",
    "GNSS_corrxy = np.zeros((len(data_GNSS_coor),))\n",
    "\n",
    "for i in range(len(data_GNSS_coor)):\n",
    "    lon_GNSS = data_GNSS_coor[i,0]\n",
    "    lat_GNSS = data_GNSS_coor[i,1]\n",
    "    \n",
    "    idx_total=np.argwhere((lon<=lon_GNSS+0.004) & (lon>=lon_GNSS-0.004))\n",
    "    #print(lon_GNSS, lat_GNSS)\n",
    "    #print(len(idx))\n",
    "    \n",
    "    lon_search = lon[idx_total]\n",
    "    lat_search = lat[idx_total]\n",
    "    \n",
    "    dist = np.zeros((len(lon_search),1))\n",
    "    \n",
    "    for j in range(len(lon_search)):\n",
    "        \n",
    "        lon_candidate = lon_search[j,0]\n",
    "        lat_candidate = lat_search[j,0]\n",
    "        #print(lon_search,lat_candidate)\n",
    "        \n",
    "        distance, az = distance_calculation(lat_GNSS,lon_GNSS,lat_candidate,lon_candidate)\n",
    "        dist[j,0] = distance\n",
    "    \n",
    "    index_search=np.argmin(dist)\n",
    "    \n",
    "    idx_final = idx_total[index_search]\n",
    "    \n",
    "    GNSS_x[i]=u_x[idx_final]\n",
    "    GNSS_y[i]=u_y[idx_final]\n",
    "    "
   ]
  },
  {
   "cell_type": "code",
   "execution_count": 8,
   "metadata": {},
   "outputs": [],
   "source": [
    "GNSS_lon=data_GNSS_coor[:,0]\n",
    "GNSS_lat=data_GNSS_coor[:,1]"
   ]
  },
  {
   "cell_type": "code",
   "execution_count": 9,
   "metadata": {},
   "outputs": [],
   "source": [
    "random_GNSSx = error_level_GNSS * np.random.uniform(-1,1,len(GNSS_x))\n",
    "GNSS_x = GNSS_x + GNSS_x * random_GNSSx\n",
    "GNSS_sx = GNSS_x * error_level_GNSS\n",
    "\n",
    "random_GNSSy = error_level_GNSS * np.random.uniform(-1,1,len(GNSS_y))\n",
    "GNSS_y = GNSS_y + GNSS_y * random_GNSSy\n",
    "GNSS_sy = GNSS_y * error_level_GNSS\n",
    "\n",
    "random_InSAR_D = error_level_InSAR * np.random.uniform(-1,1,len(dLOS_D))\n",
    "dLOS_D = dLOS_D + dLOS_D * random_InSAR_D\n",
    "\n",
    "random_InSAR_A = error_level_InSAR * np.random.uniform(-1,1,len(dLOS_A))\n",
    "dLOS_A = dLOS_A + dLOS_A * random_InSAR_A"
   ]
  },
  {
   "cell_type": "code",
   "execution_count": 10,
   "metadata": {},
   "outputs": [],
   "source": [
    "d = {'lon': GNSS_lon, 'lat': GNSS_lat, 've': GNSS_x, 'vn': GNSS_y, 'se': GNSS_sx, 'sn': GNSS_sy, 'corr': GNSS_corrxy}\n",
    "df = pd.DataFrame(d)"
   ]
  },
  {
   "cell_type": "code",
   "execution_count": 11,
   "metadata": {},
   "outputs": [],
   "source": [
    "df.to_csv(\"GNSS_horizontal_synthetic.gmt\",header=None,index=None,sep=' ')"
   ]
  },
  {
   "cell_type": "code",
   "execution_count": 12,
   "metadata": {},
   "outputs": [],
   "source": [
    "d_D = {'lon': lon, 'lat': lat, 'dLOS': dLOS_D}\n",
    "df_D = pd.DataFrame(d_D)\n",
    "df_D.to_csv(\"dLOS_DT173_synthetic.dat\",header=None,index=None,sep=' ')\n",
    "\n",
    "\n",
    "d_A = {'lon': lon, 'lat': lat, 'dLOS': dLOS_A}\n",
    "df_A = pd.DataFrame(d_A)\n",
    "df_A.to_csv(\"dLOS_AT64_synthetic.dat\",header=None,index=None,sep=' ')\n"
   ]
  },
  {
   "cell_type": "code",
   "execution_count": null,
   "metadata": {},
   "outputs": [],
   "source": []
  }
 ],
 "metadata": {
  "kernelspec": {
   "display_name": "Python 3",
   "language": "python",
   "name": "python3"
  },
  "language_info": {
   "codemirror_mode": {
    "name": "ipython",
    "version": 3
   },
   "file_extension": ".py",
   "mimetype": "text/x-python",
   "name": "python",
   "nbconvert_exporter": "python",
   "pygments_lexer": "ipython3",
   "version": "3.8.3"
  }
 },
 "nbformat": 4,
 "nbformat_minor": 4
}
