{
 "cells": [
  {
   "cell_type": "markdown",
   "metadata": {},
   "source": [
    "# Pandas TUTORIAL\n",
    "Jeonghyeop Kim \\\n",
    "7/15/2021 \\\n",
    "For more information about pandas, go to https://pandas.pydata.org. \\\n",
    "The original tutorial is available at : https://www.youtube.com/watch?v=e60ItwlZTKM, \\\n",
    "which is developed & presented by Joe James \\\n",
    "This jupyter notebook is written by J. Kim for the purpose of his personal use \\\n",
    "**Distributing this notebook or use for non personal reasons could violate Joe James's intellectual property rights!**"
   ]
  },
  {
   "cell_type": "code",
   "execution_count": 1,
   "metadata": {},
   "outputs": [],
   "source": [
    "import numpy as np\n",
    "import pandas as pd"
   ]
  },
  {
   "cell_type": "code",
   "execution_count": null,
   "metadata": {},
   "outputs": [],
   "source": [
    "def header(msg):\n",
    "    print('-' * 50)\n",
    "    print('[ ' + msg + ' ]')"
   ]
  },
  {
   "cell_type": "code",
   "execution_count": null,
   "metadata": {},
   "outputs": [],
   "source": [
    "# 1. load hard-coded data into a dataframe\n",
    "\n",
    "header(\"1. load hard-coded data into a df\")\n",
    "\n",
    "df = pd.DataFrame(\n",
    "    [['Jan',58,42,74,22,2.95],\n",
    "    ['Feb',61,45,78,26,3.02],\n",
    "    ['Mar',65,48,84,25,2.34],\n",
    "    ['Apr',67,50,92,28,1.02],\n",
    "    ['May',71,53,98,35,0.48],\n",
    "    ['Jun',75,56,107,41,0.11],\n",
    "    ['Jul',77,58,105,44,0.00],\n",
    "    ['Aug',77,59,102,43,0.03],\n",
    "    ['Sep',77,57,103,40,0.17],\n",
    "    ['Oct',73,54,96,34,0.81],\n",
    "    ['Nov',64,48,84,30,1.7],\n",
    "    ['Dec',58,42,73,21,2.56]],\n",
    "    index = [0,1,2,3,4,5,6,7,8,9,10,11],\n",
    "    columns = ['month','avg_high','avg_low','record_high','record_low','avg_precipitation'])"
   ]
  },
  {
   "cell_type": "code",
   "execution_count": null,
   "metadata": {},
   "outputs": [],
   "source": [
    "print(df)"
   ]
  },
  {
   "cell_type": "code",
   "execution_count": null,
   "metadata": {},
   "outputs": [],
   "source": [
    "#Since you don't want to hardcode your data everytime, we will import a data file."
   ]
  },
  {
   "cell_type": "code",
   "execution_count": null,
   "metadata": {},
   "outputs": [],
   "source": [
    "#### MAKE a \"input\" file :)\n",
    "df.to_csv('Fremont_weather.txt', index = None) "
   ]
  },
  {
   "cell_type": "code",
   "execution_count": null,
   "metadata": {},
   "outputs": [],
   "source": [
    "# 2. read text file into a dataframe\n",
    "header(\"2. read text file into a df\")\n",
    "\n",
    "filename = 'Fremont_weather.txt'\n",
    "df = pd.read_csv(filename)\n",
    "print(df)"
   ]
  },
  {
   "cell_type": "code",
   "execution_count": null,
   "metadata": {},
   "outputs": [],
   "source": [
    "# 3. print first 5 or last 3 rows of df\n",
    "# head and tail functions (Unix functions)\n",
    "# the default () is for 5 lines \n",
    "header(\"3. df.head()\")\n",
    "print(df.head())\n",
    "header(\"3. df.tail(3)\")\n",
    "print(df.tail(3))"
   ]
  },
  {
   "cell_type": "code",
   "execution_count": null,
   "metadata": {},
   "outputs": [],
   "source": [
    "# 4. get data types, index, columns, values\n",
    "header(\"4. df.dtypes\")\n",
    "print(df.dtypes)\n",
    "\n",
    "header(\"4. df.index\")\n",
    "print(df.index)\n",
    "\n",
    "header(\"4. df.columns\")\n",
    "print(df.columns)\n",
    "\n",
    "header(\"4. df.values\")\n",
    "print(df.values)"
   ]
  },
  {
   "cell_type": "code",
   "execution_count": null,
   "metadata": {},
   "outputs": [],
   "source": [
    "# 5. statistical summary of each column\n",
    "header(\"5. df.describe()\")\n",
    "print(df.describe())"
   ]
  },
  {
   "cell_type": "code",
   "execution_count": null,
   "metadata": {},
   "outputs": [],
   "source": [
    "# 6. sort records by any column\n",
    "header(\"6. df.sort_values('record_high', ascending=False)\")\n",
    "print(df.sort_values('record_high',ascending = False))"
   ]
  },
  {
   "cell_type": "code",
   "execution_count": null,
   "metadata": {},
   "outputs": [],
   "source": [
    "# 7. slicing records \n",
    "# bunch of ways to slice a DataFrame\n",
    "\n",
    "header(\"7. slicing -- df.avg_low\")\n",
    "print(df.avg_low)    \n",
    "# index with single column\n",
    "\n",
    "header(\"7. slicing -- df['avg_low']\")\n",
    "print(df['avg_low']) \n",
    "# this should give the same output as df.avg_low\n",
    "\n",
    "header(\"7. slicing -- df[2:4]\") \n",
    "print(df[2:4])      \n",
    "# rows 2 to 3 of all columns   \n",
    "\n",
    "header(\"7. slicing -- df[['avg_low','avg_high']]\")\n",
    "print(df[['avg_low','avg_high']])  # two columns\n",
    "\n",
    "header(\"7. slicing --df.loc[:,['avg_low','avg_high']]\")\n",
    "print(df.loc[:,['avg_low','avg_high']]) # loc = location\n",
    "# multiple columns: df.loc[from_row:to_row,['col1','col2']]\n",
    "\n",
    "header(\"7. slicing scalar value --df.loc[9,['avg_precipitation']]\")\n",
    "print(df.loc[9,['avg_precipitation']])\n",
    "\n",
    "header(\"7. df.iloc[3:5,[0,3]]\")\n",
    "print(df.iloc[3:5,[0,3]]) #iloc = index of location"
   ]
  },
  {
   "cell_type": "code",
   "execution_count": null,
   "metadata": {},
   "outputs": [],
   "source": [
    "# 8. filtering\n",
    "header(\"8. df[df.avg_precipitation > 1.0]\") # filter on column values\n",
    "print(df[df.avg_precipitation > 1.0]) #greater than 1 inch\n",
    "\n",
    "header(\"8. df[df['month'].isin(['Jun','Jul','Aug'])]\")\n",
    "print(df[df['month'].isin(['Jun','Jul','Aug'])])"
   ]
  },
  {
   "cell_type": "code",
   "execution_count": null,
   "metadata": {},
   "outputs": [],
   "source": [
    "# 9. assignment -- very similar to slicing\n",
    "\n",
    "header(\"9. df.loc[9,['avg_precipitation']] = 101.3\")\n",
    "print(df.loc[9,['avg_precipitation']]) #previous value\n",
    "df.loc[9,['avg_precipitation']] = 101.3\n",
    "print(df.iloc[9,[5]]) # new value (101.3)\n",
    "\n",
    "header(\"9. df.loc[9,['avg_precipitation']] = np.nan\")\n",
    "df.loc[9,['avg_precipitation']] = np.nan # not a number\n",
    "print(df.iloc[9:11])\n",
    "\n",
    "header(\"9. df.loc[:,'avg_low'] = np.array([5] * len(df))\")\n",
    "df.loc[:,'avg_low'] = np.array([5] * len(df))\n",
    "print(df.head())\n",
    "#c.f. np.array([1] * 10) == ones(1,10) in MATLAB\n",
    "\n",
    "header(\"9. df['avg_day'] = (df.avg_low + df.avg_high) / 2\")\n",
    "df['avg_day'] = (df.avg_low +df.avg_high) / 2\n",
    "print(df.head())\n",
    "print(df)"
   ]
  },
  {
   "cell_type": "code",
   "execution_count": null,
   "metadata": {},
   "outputs": [],
   "source": [
    "# 10. renaming columns\n",
    "header(\"10. df.rename(columns = {'avg_precipitation' : 'avg_rain'}, inplace=True)\")\n",
    "df.rename(columns = {'avg_precipitation' : 'avg_rain'}, inplace = True) # rename 1 column\n",
    "print(df.head())\n",
    "# or \n",
    "df = df.rename(columns ={'avg_rain': 'avg_prec'})\n",
    "print(df.head())\n",
    "\n",
    "# header(\"10. df.columns = ['month','av_hi','av_lo','rec_hi','rec_lo','av_rain']\")\n",
    "df.columns = ['month','av_hi','av_lo','rec_hi','rec_lo','av_rain','av_D']\n",
    "print(df.head())"
   ]
  },
  {
   "cell_type": "code",
   "execution_count": null,
   "metadata": {},
   "outputs": [],
   "source": [
    "# 11. iterate a df \n",
    "header(\"11. iterate rows of df with a for loop\")\n",
    "for index, row in df.iterrows():\n",
    "    print(index,row[\"month\"],row[\"av_D\"])\n",
    "    print(\"For loop %d\" %index)\n",
    "    print()"
   ]
  },
  {
   "cell_type": "code",
   "execution_count": null,
   "metadata": {},
   "outputs": [],
   "source": [
    "# 12. write to csv file\n",
    "df.to_csv('foo.csv')\n",
    "#you can do different format like Excel, txt, ..."
   ]
  },
  {
   "cell_type": "markdown",
   "metadata": {},
   "source": [
    "# END :)"
   ]
  }
 ],
 "metadata": {
  "kernelspec": {
   "display_name": "Python 3",
   "language": "python",
   "name": "python3"
  },
  "language_info": {
   "codemirror_mode": {
    "name": "ipython",
    "version": 3
   },
   "file_extension": ".py",
   "mimetype": "text/x-python",
   "name": "python",
   "nbconvert_exporter": "python",
   "pygments_lexer": "ipython3",
   "version": "3.8.3"
  }
 },
 "nbformat": 4,
 "nbformat_minor": 4
}
