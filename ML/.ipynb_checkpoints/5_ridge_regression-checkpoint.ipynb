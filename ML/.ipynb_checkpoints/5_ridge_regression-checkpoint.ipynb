{
 "cells": [
  {
   "cell_type": "markdown",
   "metadata": {},
   "source": [
    "# Gradient-based solver for ridge regression"
   ]
  },
  {
   "cell_type": "markdown",
   "metadata": {},
   "source": [
    "In this notebook, you will create a **gradient descent** solver for **ridge regression** and then compare it to the built-in solver in `sklearn.linear_model`."
   ]
  },
  {
   "cell_type": "markdown",
   "metadata": {},
   "source": [
    "## 1. Set up notebook and create data set"
   ]
  },
  {
   "cell_type": "markdown",
   "metadata": {},
   "source": [
    "After loading in some standard packages, we create a synthetic data set consisting of data points `(x,y)`:\n",
    "* `x`: 100-dimensional vector whose coordinates are independent draws from a standard normal (Gaussian) distribution\n",
    "* `y`: response value given by `y = wx + e` where `w` is a target regression function and `e` is Gaussian noise\n",
    "\n",
    "We will fix `w` to be the 100-dimensional vector whose first ten coordinates are exactly 1.0, and whose remaining coordinates are zero. Thus only the first ten coordinates of `x` are relevant to the regression task."
   ]
  },
  {
   "cell_type": "code",
   "execution_count": 1,
   "metadata": {},
   "outputs": [],
   "source": [
    "%matplotlib inline\n",
    "import numpy as np\n",
    "import matplotlib\n",
    "import matplotlib.pyplot as plt\n",
    "from sklearn import linear_model\n",
    "from sklearn.metrics import mean_squared_error\n",
    "matplotlib.rc('xtick', labelsize=14) \n",
    "matplotlib.rc('ytick', labelsize=14)"
   ]
  },
  {
   "cell_type": "markdown",
   "metadata": {},
   "source": [
    "The following procedure, **generate_data**, creates a data set of a specified number of points. It is invoked as follows:\n",
    "* `trainx, trainy = generate_data(n)`\n",
    "\n",
    "Here:\n",
    "* `n` is the target number of points\n",
    "* `trainx`: `nx100` array of data points\n",
    "* `trainy`: array of `n` response values"
   ]
  },
  {
   "cell_type": "code",
   "execution_count": 2,
   "metadata": {},
   "outputs": [],
   "source": [
    "def generate_data(n):\n",
    "    d = 100\n",
    "    w = np.zeros(d)\n",
    "    for i in range(0,10):\n",
    "        w[i] = 1.0\n",
    "    #\n",
    "    trainx = np.random.normal(size=(n,d))\n",
    "    e = np.random.normal(size=(n))\n",
    "    trainy = np.dot(trainx, w) + e\n",
    "    #\n",
    "    return trainx, trainy"
   ]
  },
  {
   "cell_type": "markdown",
   "metadata": {},
   "source": [
    "## 2. Gradient descent solver for ridge regression"
   ]
  },
  {
   "cell_type": "markdown",
   "metadata": {},
   "source": [
    "<font color=\"magenta\">**For you to do:**</font> Define a procedure, **ridge_regression_GD**, that uses gradient descent to solve the ridge regression problem. It is invoked as follows:\n",
    "\n",
    "* `w,b,losses = ridge_regression_GD(x,y,C)`\n",
    "\n",
    "Here, the input consists of:\n",
    "* training data `x,y`, where `x` and `y` are numpy arrays of dimension `n`-by-`d` and `n`, respectively (if there are `n` training points)\n",
    "* regularization constant `C`\n",
    "\n",
    "The function should find the `d`-dimensional vector `w` and offset `b` that minimize the ridge regression loss function (with regularization constant `C`), and return:\n",
    "* `w` and `b`\n",
    "* `losses`, an array containing the ridge regression loss at each iteration\n",
    "\n",
    "<font color=\"magenta\">Advice:</font> First figure out the derivative, which has a relatively simple form. Next, when implementing gradient descent, think carefully about two issues.\n",
    "\n",
    "1. What is the step size?\n",
    "2. When has the procedure converged?\n",
    "\n",
    "Take the time to experiment with different ways of handling these."
   ]
  },
  {
   "cell_type": "code",
   "execution_count": 116,
   "metadata": {},
   "outputs": [],
   "source": [
    "def ridge_regression_GD(x,y,C):\n",
    "    \n",
    "    step = 0.001 # a fixed step size\n",
    "    w_ini = np.zeros(len(x[0,:])) # w in 100,\n",
    "    b_ini = 0 # initial b = 0 as well as w\n",
    "    del_L_length = 1\n",
    "    losses = []\n",
    "    threshold = 0.000001\n",
    "    t = 1\n",
    "    while del_L_length > threshold:\n",
    "        #step = 1/t*100\n",
    "        del_L_ini = np.zeros(len(x[0,:])+1) # del_L_ini in 101: w1,... ,w100, b   \n",
    "        for j in range(len(x[0,:])): # the number of data features: 100    \n",
    "            before_sum_dldw = np.zeros(len(x[:,0]))\n",
    "            for i in range(len(x[:,0])): # the number of data points: 200\n",
    "                before_sum_dldw[i]=(y[i] - (np.dot(x[i,:],w_ini) + b_ini) ) * x[i,j]\n",
    "            \n",
    "            sum_dldw=np.sum(before_sum_dldw)\n",
    "            dldw = -2*sum_dldw+2*C*w_ini[j]\n",
    "            del_L_ini[j]=dldw  \n",
    "        \n",
    "        #Compute dL/db\n",
    "        before_sum_dldb = np.zeros(len(x[:,0]))\n",
    "        for i in range(len(x[:,0])):\n",
    "            before_sum_dldb[i]=y[i]-(np.dot(x[i,:],w_ini)+b_ini)\n",
    "        dldb = -2*np.sum(before_sum_dldb)\n",
    "        del_L_ini[-1]=dldb\n",
    "    \n",
    "        del_L_length = np.sqrt(np.dot(del_L_ini.transpose(), del_L_ini))\n",
    "   \n",
    "        w_ini = w_ini - step*del_L_ini[0:-1]\n",
    "        b_ini = b_ini - step*del_L_ini[-1]\n",
    "        loss_iteration = np.sum((y-np.dot(x,w_ini))**2) + C*np.dot(w_ini,w_ini)\n",
    "        losses.append(loss_iteration)\n",
    "        #t = t + 1\n",
    "    w = w_ini\n",
    "    b = b_ini\n",
    "    return w,b,losses,del_L_ini"
   ]
  },
  {
   "cell_type": "code",
   "execution_count": 117,
   "metadata": {},
   "outputs": [],
   "source": [
    "# This function is NOT working now... \n",
    "# w is diverging WHY? \n",
    "# Check the sign and maybe treat b separately\n",
    "\n",
    "# It turned out that the first step size was too large to get the loss function converged. \n",
    "# The descent Gradient approach for this test is quite sensative to the size of the step defined.\n",
    "# but it seems working right now. "
   ]
  },
  {
   "cell_type": "code",
   "execution_count": 118,
   "metadata": {},
   "outputs": [],
   "source": [
    "#TEST\n",
    "# n = 200\n",
    "# x,y = generate_data(n) # x in 200x100; y in 200,\n",
    "# C = 1.0\n",
    "\n",
    "# step = 0.001\n",
    "# #iteration = 2000\n",
    "\n",
    "# w_ini = np.zeros(len(x[0,:])) # w in 100,\n",
    "# b_ini = 0 # initial b = 0 as well as w\n",
    "# del_L_length = 1\n",
    "# losses = []\n",
    "\n",
    "# for n in range(iteration): # use while loop later; while del_L_length > threshold:\n",
    "#     del_L_ini = np.zeros(len(x[0,:])+1) # del_L_ini in 101: w1,... ,w100, b   \n",
    "#     for j in range(len(x[0,:])): # the number of data features: 100    \n",
    "#         before_sum_dldw = np.zeros(len(x[:,0]))\n",
    "#         for i in range(len(x[:,0])): # the number of data points: 200\n",
    "#             before_sum_dldw[i]=(y[i] - (np.dot(x[i,:],w_ini) + b_ini) ) * x[i,j]\n",
    "            \n",
    "#         sum_dldw=np.sum(before_sum_dldw)\n",
    "#         dldw = -2*sum_dldw+2*C*w_ini[j]\n",
    "#         del_L_ini[j]=dldw  \n",
    "        \n",
    "#     #Compute dL/db\n",
    "#     before_sum_dldb = np.zeros(len(x[:,0]))\n",
    "#     for i in range(len(x[:,0])):\n",
    "#         before_sum_dldb[i]=y[i]-(np.dot(x[i,:],w_ini)+b_ini)\n",
    "#     dldb = -2*np.sum(before_sum_dldb)\n",
    "#     del_L_ini[-1]=dldb\n",
    "    \n",
    "#     del_L_length = np.dot(del_L_ini.transpose(), del_L_ini)\n",
    "   \n",
    "#     w_ini = w_ini - step*del_L_ini[0:-1]\n",
    "#     b_ini = b_ini - step*del_L_ini[-1]\n",
    "    \n"
   ]
  },
  {
   "cell_type": "markdown",
   "metadata": {},
   "source": [
    "Let's try it out and print a graph of the loss values during the optimization process."
   ]
  },
  {
   "cell_type": "code",
   "execution_count": 140,
   "metadata": {},
   "outputs": [
    {
     "data": {
      "image/png": "[encoded data removed]",
      "text/plain": [
       "<Figure size 432x288 with 1 Axes>"
      ]
     },
     "metadata": {
      "needs_background": "light"
     },
     "output_type": "display_data"
    }
   ],
   "source": [
    "# Generate 200 data points\n",
    "n = 200\n",
    "x,y = generate_data(n)\n",
    "# Set regularization constant\n",
    "C = 5.0#1.0\n",
    "# Run gradient descent solver\n",
    "w, b, losses, del_L_ini = ridge_regression_GD(x,y,C)\n",
    "# Plot the losses\n",
    "\n",
    "plt.plot(losses,'r')\n",
    "plt.xlabel('Iterations', fontsize=14)\n",
    "plt.ylabel('Loss', fontsize=14)\n",
    "plt.show()"
   ]
  },
  {
   "cell_type": "code",
   "execution_count": 141,
   "metadata": {},
   "outputs": [
    {
     "data": {
      "image/png": "[encoded data removed]",
      "text/plain": [
       "<Figure size 432x288 with 1 Axes>"
      ]
     },
     "metadata": {
      "needs_background": "light"
     },
     "output_type": "display_data"
    },
    {
     "data": {
      "text/plain": [
       "324"
      ]
     },
     "execution_count": 141,
     "metadata": {},
     "output_type": "execute_result"
    }
   ],
   "source": [
    "plt.plot(losses,'or',markersize = 2)\n",
    "plt.xlabel('Iterations', fontsize=14)\n",
    "plt.ylabel('Loss', fontsize=14)\n",
    "plt.show()\n",
    "len(losses)"
   ]
  },
  {
   "cell_type": "code",
   "execution_count": 142,
   "metadata": {},
   "outputs": [
    {
     "data": {
      "text/plain": [
       "9.756999608926614e-07"
      ]
     },
     "execution_count": 142,
     "metadata": {},
     "output_type": "execute_result"
    }
   ],
   "source": [
    "np.sqrt(np.dot(del_L_ini.transpose(), del_L_ini))"
   ]
  },
  {
   "cell_type": "code",
   "execution_count": 143,
   "metadata": {},
   "outputs": [
    {
     "data": {
      "text/plain": [
       "155.90339350005488"
      ]
     },
     "execution_count": 143,
     "metadata": {},
     "output_type": "execute_result"
    }
   ],
   "source": [
    "np.min(losses)"
   ]
  },
  {
   "cell_type": "code",
   "execution_count": 144,
   "metadata": {},
   "outputs": [
    {
     "data": {
      "text/plain": [
       "array([-2.35273092e-07,  1.44714630e-07, -4.92663190e-08, -1.07584857e-08,\n",
       "       -1.05640048e-07, -6.20864054e-08, -2.72590999e-08,  4.18703099e-08,\n",
       "       -4.49588811e-08, -7.73937145e-08, -1.00949174e-07,  5.68043350e-08,\n",
       "        4.24446061e-08,  1.84585711e-07,  8.27753674e-08,  9.53578030e-08,\n",
       "       -1.29383265e-07,  5.54070737e-08, -5.79046975e-08, -4.94246068e-08,\n",
       "        3.18856808e-09,  2.29499877e-07, -1.32203311e-07, -1.27205997e-07,\n",
       "       -4.71420764e-09, -1.50906533e-07,  4.18479090e-08,  1.28833781e-07,\n",
       "       -3.59162122e-08,  5.36132412e-08, -6.77069266e-08,  1.88767630e-08,\n",
       "        7.56334074e-08,  5.10497407e-08, -8.68099073e-08,  1.07177393e-07,\n",
       "        2.09563713e-07, -4.65953426e-08,  4.53679205e-09, -7.46722810e-08,\n",
       "        3.71579656e-10, -5.96426952e-09, -8.86804425e-08,  2.84416417e-08,\n",
       "        1.18035997e-07, -8.77345481e-08,  7.90058480e-09,  1.26718590e-07,\n",
       "       -1.58673831e-07, -2.73166870e-08,  1.89724766e-08, -1.12235932e-08,\n",
       "        1.53011619e-07, -3.22600835e-11, -1.19605184e-08,  1.08333912e-07,\n",
       "        9.11034298e-08, -1.15121878e-07,  6.85176218e-08,  6.73848053e-08,\n",
       "       -1.68446411e-07, -8.34683371e-08, -2.88308866e-09,  1.13703677e-07,\n",
       "        1.60603896e-07,  4.99293447e-08, -8.57398147e-08, -7.74875197e-08,\n",
       "       -8.63793153e-08,  1.83811280e-08,  1.55700753e-07,  1.03413640e-07,\n",
       "        2.30095018e-08, -2.25249584e-07, -6.88024704e-08, -6.66170898e-08,\n",
       "       -2.96586016e-08, -1.16198008e-07, -3.62962844e-08, -4.44173782e-08,\n",
       "        5.67451945e-08, -1.96863865e-08,  8.36375631e-08, -9.45580253e-08,\n",
       "       -1.72258650e-07,  1.76021272e-07,  4.13894129e-08, -2.59544364e-08,\n",
       "       -8.64747585e-09, -1.18191048e-07, -1.19250201e-07,  1.08217776e-07,\n",
       "        2.22298970e-08,  4.42471504e-08, -1.10499899e-07, -3.33886518e-08,\n",
       "       -1.97868897e-07, -2.47436308e-08,  6.94972682e-08, -4.11367843e-08,\n",
       "       -8.26079081e-08])"
      ]
     },
     "execution_count": 144,
     "metadata": {},
     "output_type": "execute_result"
    }
   ],
   "source": [
    "del_L_ini"
   ]
  },
  {
   "cell_type": "markdown",
   "metadata": {},
   "source": [
    "<font color=\"magenta\">**Something to think about**</font>\n",
    "\n",
    "1. In setting the step size, does it work to use a fixed schedule 1/t? Why or why not?\n",
    "\n",
    "2. Can you set up the gradient descent procedure in such a way that on each iteration, the loss monotonically decreases?\n"
   ]
  },
  {
   "cell_type": "markdown",
   "metadata": {},
   "source": [
    "## 3. Evaluate the gradient descent solver"
   ]
  },
  {
   "cell_type": "markdown",
   "metadata": {},
   "source": [
    "Now let's compare the regressor found by your gradient descent procedure to that returned by the built-in ridge regression solver in `sklearn`. We will compare them in two ways:\n",
    "* Their MSE values\n",
    "* The distance between the corresponding `w`-vectors\n",
    "\n",
    "The latter should be smaller than 10^{-4}.\n"
   ]
  },
  {
   "cell_type": "code",
   "execution_count": 46,
   "metadata": {},
   "outputs": [],
   "source": [
    "def compute_mse(w,b,x,y):\n",
    "    residuals = y - (np.dot(x, w) + b)\n",
    "    return np.dot(residuals, residuals)/n"
   ]
  },
  {
   "cell_type": "code",
   "execution_count": 47,
   "metadata": {},
   "outputs": [
    {
     "name": "stdout",
     "output_type": "stream",
     "text": [
      "MSE of gradient descent solver:  0.49376451425442547\n",
      "MSE of built-in solver:  0.4937552472320587\n",
      "Distance between w-coefficients:  0.00014704885686569308\n"
     ]
    }
   ],
   "source": [
    "# Generate 200 data points\n",
    "n = 200\n",
    "x,y = generate_data(n)\n",
    "# Set regularization constant\n",
    "C = 10.0\n",
    "# Run gradient descent solver and compute its MSE\n",
    "w, b, losses = ridge_regression_GD(x,y,C)\n",
    "# Use built-in routine for ridge regression and compute MSE\n",
    "regr = linear_model.Ridge(alpha=C)\n",
    "regr.fit(x, y)\n",
    "# Print MSE values and L2 distance between the regression functions\n",
    "print(\"MSE of gradient descent solver: \", compute_mse(w,b,x,y))\n",
    "print(\"MSE of built-in solver: \", mean_squared_error(regr.predict(x), y))\n",
    "print(\"Distance between w-coefficients: \", np.linalg.norm(w-regr.coef_))"
   ]
  },
  {
   "cell_type": "code",
   "execution_count": 77,
   "metadata": {},
   "outputs": [
    {
     "data": {
      "text/plain": [
       "100"
      ]
     },
     "execution_count": 77,
     "metadata": {},
     "output_type": "execute_result"
    }
   ],
   "source": [
    "len(regr.coef_)"
   ]
  },
  {
   "cell_type": "markdown",
   "metadata": {},
   "source": [
    "<font color=\"magenta\">**Something to think about**</font>\n",
    "\n",
    "The data was originally generated using a linear function in which only ten of the 100 features (the first ten) were relevant. Does the vector `w` returned by ridge regression correctly identify the relevant features?"
   ]
  },
  {
   "cell_type": "code",
   "execution_count": 75,
   "metadata": {},
   "outputs": [],
   "source": [
    "# The first 10 w elements are ~ 10 time larger than others \n",
    "# 0-10 : values in between 0.8-1.2\n",
    "# 11-100 : values in between -0.254855 and 0.26 (mean = 0.007685005036413438) (std = 0.09896046391149643)"
   ]
  },
  {
   "cell_type": "code",
   "execution_count": 125,
   "metadata": {},
   "outputs": [
    {
     "data": {
      "text/plain": [
       "array([-4.41113443e+00, -1.99134389e+00, -5.37314161e+00, -5.58903627e+00,\n",
       "       -3.20890572e+00,  3.60781989e+00,  2.97709442e+00,  2.15709749e+00,\n",
       "        3.57608888e+00,  2.79192947e+00, -1.45607600e-01, -6.29419543e+00,\n",
       "        3.61292506e+00,  2.37350168e+00,  4.31085413e+00,  1.74076008e+00,\n",
       "        8.78846864e-01,  2.45596436e+00,  1.30203190e+00,  7.87476453e+00,\n",
       "       -3.61056520e-01, -6.23809610e+00, -8.13883341e-02,  1.56323641e+00,\n",
       "        7.69332093e-01,  1.58583729e+00, -2.63199188e+00, -2.53839577e-02,\n",
       "        2.70797823e-02,  5.28368447e-01, -7.77832262e+00,  1.56142429e+00,\n",
       "       -5.21465846e+00, -1.35682004e+00, -5.12108749e+00, -4.37828726e+00,\n",
       "        1.48322436e+00,  1.54189069e+00,  3.11124213e+00, -5.99363657e+00,\n",
       "        5.49707754e+00,  3.65246148e+00, -1.85531303e+00,  3.59513965e+00,\n",
       "        1.91033878e+00, -4.03871249e+00, -5.15619285e+00,  7.23966853e+00,\n",
       "        2.75915523e+00, -4.49219221e-01, -1.79920098e+00,  2.79024728e+00,\n",
       "       -6.38271472e-01, -3.88392239e+00,  7.14248106e+00,  2.21306618e+00,\n",
       "        4.25850421e+00, -3.29474173e-01, -4.98203793e+00, -2.53296178e+00,\n",
       "        2.94550652e+00, -4.34494302e+00,  4.26564739e+00, -4.51395454e+00,\n",
       "       -8.58854499e-01,  1.10453734e+00,  6.02190484e-01, -1.73778694e-01,\n",
       "        1.38223567e+00, -4.92650747e+00, -1.17558571e+00, -6.91875628e-01,\n",
       "        4.33850600e+00,  2.75827093e+00,  4.71174617e+00, -2.60163477e+00,\n",
       "        1.88013771e+00,  1.35679766e+00, -3.05396003e+00, -1.77572522e+00,\n",
       "        1.46064130e+00, -3.53576443e+00,  1.26495397e-01,  1.80789787e+00,\n",
       "       -1.10008019e-01,  4.86628300e+00,  1.21390616e+00, -3.54684139e+00,\n",
       "        9.35719088e-01,  3.95267092e+00, -8.35050993e+00, -5.31135777e+00,\n",
       "       -2.30565332e-01, -3.38464467e-01,  5.38361548e+00,  1.56080088e+00,\n",
       "        5.18462733e-01,  5.42721492e-01,  4.08355117e+00, -5.72239772e+00,\n",
       "        3.30772180e+00,  5.01061870e+00,  4.76924594e-02, -6.08741984e+00,\n",
       "       -3.84258117e-01, -3.12906172e-01,  2.02351638e+00, -1.23979639e+00,\n",
       "        4.34197477e+00,  4.49633373e+00,  3.38322239e+00, -4.81708477e-01,\n",
       "       -1.48187395e+00,  9.08191322e-01, -2.89712046e+00,  3.22012719e+00,\n",
       "        8.45314952e-01,  7.83576912e+00, -4.55760280e+00,  3.20292254e+00,\n",
       "        1.80584023e+00, -2.01413082e+00,  2.17915561e+00, -3.94696102e+00,\n",
       "        6.09384392e+00, -6.05631014e-03, -2.34105745e+00,  1.17720186e+00,\n",
       "        5.50042085e+00, -1.51647565e+00, -3.07995455e+00, -2.95891340e+00,\n",
       "        1.16722328e+00, -1.52150444e+00, -5.77721765e-01, -3.17254001e+00,\n",
       "       -5.52624338e+00,  1.47348633e+00, -1.34511088e+00,  6.12676152e+00,\n",
       "       -1.34805522e-01,  7.73231021e+00, -2.75594995e+00,  1.22589323e+00,\n",
       "       -4.52363269e+00,  1.85337854e-01,  6.31757701e-01, -3.17876951e+00,\n",
       "       -1.02671214e+00,  3.58221153e-01,  1.50941325e+00,  1.22694642e+00,\n",
       "        3.21989401e+00, -3.48327892e+00,  3.26991518e+00,  2.45458389e+00,\n",
       "        2.31752478e+00,  2.87340632e+00,  3.53976974e+00,  2.98216225e+00,\n",
       "       -5.26073452e+00,  2.33286640e+00,  1.63565611e-01, -4.12529049e-01,\n",
       "       -4.02095551e+00, -3.96991750e+00, -1.01733903e+00,  1.69345351e+00,\n",
       "        1.21731674e-01, -6.64254155e+00, -1.33567119e+00, -2.18596156e+00,\n",
       "       -2.53017068e+00,  4.74580897e+00, -2.14964924e+00,  3.85696546e+00,\n",
       "        3.33667537e+00, -2.59183351e-01, -3.51981552e+00, -1.40456848e+00,\n",
       "        6.05985192e-01, -2.10456324e+00,  2.83171090e+00,  4.56659756e+00,\n",
       "       -2.36392133e+00, -7.17544659e+00,  2.64134643e+00, -4.83484607e+00,\n",
       "       -1.72191924e+00,  3.65165838e+00,  3.61070648e+00, -1.62003789e+00,\n",
       "       -1.47321536e-01, -1.60902177e-01,  2.75766879e-01, -3.44657318e-01,\n",
       "       -7.82343717e-02, -3.17849676e+00,  1.45457139e+00, -3.00151527e+00])"
      ]
     },
     "execution_count": 125,
     "metadata": {},
     "output_type": "execute_result"
    }
   ],
   "source": [
    "y"
   ]
  },
  {
   "cell_type": "code",
   "execution_count": null,
   "metadata": {},
   "outputs": [],
   "source": []
  }
 ],
 "metadata": {
  "kernelspec": {
   "display_name": "Python 3",
   "language": "python",
   "name": "python3"
  },
  "language_info": {
   "codemirror_mode": {
    "name": "ipython",
    "version": 3
   },
   "file_extension": ".py",
   "mimetype": "text/x-python",
   "name": "python",
   "nbconvert_exporter": "python",
   "pygments_lexer": "ipython3",
   "version": "3.8.3"
  },
  "toc": {
   "colors": {
    "hover_highlight": "#DAA520",
    "navigate_num": "#000000",
    "navigate_text": "#333333",
    "running_highlight": "#FF0000",
    "selected_highlight": "#FFD700",
    "sidebar_border": "#EEEEEE",
    "wrapper_background": "#FFFFFF"
   },
   "moveMenuLeft": true,
   "nav_menu": {
    "height": "12px",
    "width": "252px"
   },
   "navigate_menu": true,
   "number_sections": false,
   "sideBar": true,
   "threshold": 4,
   "toc_cell": false,
   "toc_section_display": "block",
   "toc_window_display": false,
   "widenNotebook": false
  }
 },
 "nbformat": 4,
 "nbformat_minor": 4
}
