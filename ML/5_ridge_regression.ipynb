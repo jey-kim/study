{
 "cells": [
  {
   "cell_type": "markdown",
   "metadata": {},
   "source": [
    "# Gradient-based solver for ridge regression"
   ]
  },
  {
   "cell_type": "markdown",
   "metadata": {},
   "source": [
    "In this notebook, you will create a **gradient descent** solver for **ridge regression** and then compare it to the built-in solver in `sklearn.linear_model`."
   ]
  },
  {
   "cell_type": "markdown",
   "metadata": {},
   "source": [
    "## 1. Set up notebook and create data set"
   ]
  },
  {
   "cell_type": "markdown",
   "metadata": {},
   "source": [
    "After loading in some standard packages, we create a synthetic data set consisting of data points `(x,y)`:\n",
    "* `x`: 100-dimensional vector whose coordinates are independent draws from a standard normal (Gaussian) distribution\n",
    "* `y`: response value given by `y = wx + e` where `w` is a target regression function and `e` is Gaussian noise\n",
    "\n",
    "We will fix `w` to be the 100-dimensional vector whose first ten coordinates are exactly 1.0, and whose remaining coordinates are zero. Thus only the first ten coordinates of `x` are relevant to the regression task."
   ]
  },
  {
   "cell_type": "code",
   "execution_count": 1,
   "metadata": {},
   "outputs": [],
   "source": [
    "%matplotlib inline\n",
    "import numpy as np\n",
    "import matplotlib\n",
    "import matplotlib.pyplot as plt\n",
    "from sklearn import linear_model\n",
    "from sklearn.metrics import mean_squared_error\n",
    "matplotlib.rc('xtick', labelsize=14) \n",
    "matplotlib.rc('ytick', labelsize=14)"
   ]
  },
  {
   "cell_type": "markdown",
   "metadata": {},
   "source": [
    "The following procedure, **generate_data**, creates a data set of a specified number of points. It is invoked as follows:\n",
    "* `trainx, trainy = generate_data(n)`\n",
    "\n",
    "Here:\n",
    "* `n` is the target number of points\n",
    "* `trainx`: `nx100` array of data points\n",
    "* `trainy`: array of `n` response values"
   ]
  },
  {
   "cell_type": "code",
   "execution_count": 2,
   "metadata": {},
   "outputs": [],
   "source": [
    "def generate_data(n):\n",
    "    d = 100\n",
    "    w = np.zeros(d)\n",
    "    for i in range(0,10):\n",
    "        w[i] = 1.0\n",
    "    #\n",
    "    trainx = np.random.normal(size=(n,d))\n",
    "    e = np.random.normal(size=(n))\n",
    "    trainy = np.dot(trainx, w) + e\n",
    "    #\n",
    "    return trainx, trainy"
   ]
  },
  {
   "cell_type": "code",
   "execution_count": 3,
   "metadata": {},
   "outputs": [],
   "source": [
    "trainx, trainy=generate_data(200)"
   ]
  },
  {
   "cell_type": "code",
   "execution_count": 4,
   "metadata": {},
   "outputs": [
    {
     "data": {
      "text/plain": [
       "100"
      ]
     },
     "execution_count": 4,
     "metadata": {},
     "output_type": "execute_result"
    }
   ],
   "source": [
    "len(trainx[0,:])"
   ]
  },
  {
   "cell_type": "markdown",
   "metadata": {},
   "source": [
    "## 2. Gradient descent solver for ridge regression"
   ]
  },
  {
   "cell_type": "markdown",
   "metadata": {},
   "source": [
    "<font color=\"magenta\">**For you to do:**</font> Define a procedure, **ridge_regression_GD**, that uses gradient descent to solve the ridge regression problem. It is invoked as follows:\n",
    "\n",
    "* `w,b,losses = ridge_regression_GD(x,y,C)`\n",
    "\n",
    "Here, the input consists of:\n",
    "* training data `x,y`, where `x` and `y` are numpy arrays of dimension `n`-by-`d` and `n`, respectively (if there are `n` training points)\n",
    "* regularization constant `C`\n",
    "\n",
    "The function should find the `d`-dimensional vector `w` and offset `b` that minimize the ridge regression loss function (with regularization constant `C`), and return:\n",
    "* `w` and `b`\n",
    "* `losses`, an array containing the ridge regression loss at each iteration\n",
    "\n",
    "<font color=\"magenta\">Advice:</font> First figure out the derivative, which has a relatively simple form. Next, when implementing gradient descent, think carefully about two issues.\n",
    "\n",
    "1. What is the step size?\n",
    "2. When has the procedure converged?\n",
    "\n",
    "Take the time to experiment with different ways of handling these."
   ]
  },
  {
   "cell_type": "code",
   "execution_count": 26,
   "metadata": {},
   "outputs": [],
   "source": [
    "def ridge_regression_GD(x,y,C):\n",
    "    \n",
    "    one_vector=np.ones((len(x),1)) # Making a vector made of 1s\n",
    "    \n",
    "    x_tilda=np.append(x, one_vector, 1) \n",
    "    # Assimilate the one_vector into the data matrix (for the 'b' intercept term).\n",
    "    # The data matrix in [n x (d+1)] dim. \n",
    "    \n",
    "    step = 0.1 # An arbitrarily chosen step \n",
    "    \n",
    "    threshold = 0.01 # The while-loop stopper. \n",
    "    # If the length of 'del_L' is less then this threshold,\n",
    "    # then stop the while loop and return the final w_tilta.\n",
    "    \n",
    "    del_L_length = 1 \n",
    "    # The initial length of 'del_L' to run the first while loop.\n",
    "    \n",
    "    w_tilda = np.zeros((len(x_tilda[0,:]),1)) \n",
    "    # The initial model w_tilta in (d+1) dim. All of the elements are 0\n",
    "    \n",
    "    losses = []\n",
    "    while del_L_length > threshold: #while loop \n",
    "    \n",
    "        del_L = np.zeros((len(x_tilda[0,:]),1))\n",
    "        \n",
    "        for j in range(len(x_tilda[0,:])): # the number of data features: d + 1\n",
    "            in_sum=np.zeros((len(x_tilda),1))\n",
    "            in_sum_for_losses = np.zeros((len(x_tilda),1))\n",
    "            wj = w_tilda[j]\n",
    "            \n",
    "            for i in range(len(in_sum)): # the number of data points: n\n",
    "                in_sum[i,0]=(y[i]-np.dot(x_tilda[i,:],w_tilda))*x_tilda[i,j]\n",
    "                in_sum_for_losses[i,0]=(y[i]-np.dot(x_tilda[i,:],w_tilda))**2\n",
    "            summation_term = np.sum(in_sum)\n",
    "            summation_term_for_losses = np.sum(in_sum_for_losses)\n",
    "            addition_term = 2*C*wj\n",
    "                             \n",
    "            del_L[j,0] = -2*summation_term + addition_term                                       \n",
    "            # UPDATE del_L\n",
    "                             \n",
    "        w_tilda = w_tilda - step * del_L\n",
    "        # UPDATE w_tilda\n",
    "        del_L_length = np.dot(del_L.transpose(), del_L)\n",
    "        \n",
    "        losses.append(summation_term_for_losses+C*np.dot(w_tilda.transpose(), w_tilda))\n",
    "                             \n",
    "    w=w_tilda[0:-1]\n",
    "    b=w_tilda[-1]                         \n",
    "    #losses=1 #Update this              \n",
    "    return w,b,losses"
   ]
  },
  {
   "cell_type": "code",
   "execution_count": null,
   "metadata": {},
   "outputs": [],
   "source": [
    "#This function is NOT working now... \n",
    "# w is diverging WHY? \n",
    "# check the sign and maybe treat b separately"
   ]
  },
  {
   "cell_type": "code",
   "execution_count": null,
   "metadata": {},
   "outputs": [],
   "source": []
  },
  {
   "cell_type": "code",
   "execution_count": null,
   "metadata": {},
   "outputs": [],
   "source": []
  },
  {
   "cell_type": "code",
   "execution_count": null,
   "metadata": {},
   "outputs": [],
   "source": []
  },
  {
   "cell_type": "code",
   "execution_count": null,
   "metadata": {},
   "outputs": [],
   "source": [
    "#TEST"
   ]
  },
  {
   "cell_type": "code",
   "execution_count": 84,
   "metadata": {},
   "outputs": [],
   "source": [
    "n = 200\n",
    "x,y = generate_data(n)\n",
    "C = 1.0\n",
    "\n",
    "one_vector=np.ones((len(x),1)) # Making a vector made of 1s\n",
    "x_tilda=np.append(x, one_vector, 1) \n",
    "step = 0.1\n",
    "\n",
    "del_L_length = 1 \n",
    "iteration = 1\n",
    "\n",
    "w_tilda = np.zeros((len(x_tilda[0,:]),1)) \n",
    "del_L = np.zeros((len(x_tilda[0,:]),1))\n",
    "losses = []\n",
    "for n in range(iteration):\n",
    "\n",
    "    for j in range(len(x_tilda[0,:])): # the number of data features: d + 1\n",
    "        in_sum=np.zeros((len(x_tilda),1))\n",
    "        in_sum_for_losses = np.zeros((len(x_tilda),1))\n",
    "        wj = w_tilda[j]\n",
    "    \n",
    "        for i in range(len(in_sum)): # the number of data points: n\n",
    "            in_sum[i]=(y[i]-np.dot(x_tilda[i,:],w_tilda))*x_tilda[i,j]\n",
    "            in_sum_for_losses[i,0]=(y[i]-np.dot(x_tilda[i,:],w_tilda))**2\n",
    "        summation_term = np.sum(in_sum)\n",
    "        summation_term_for_losses = np.sum(in_sum_for_losses)\n",
    "        addition_term = 2*C*wj\n",
    "    \n",
    "        del_L[j,0] = -2*summation_term + addition_term\n",
    "    \n",
    "    w_tilda = w_tilda - step * del_L\n",
    "    del_L_length = np.dot(del_L.transpose(), del_L)\n",
    "    losses.append(summation_term_for_losses+C*np.dot(w_tilda.transpose(), w_tilda))\n",
    "\n",
    "                             \n",
    "w=w_tilda[0:-1]\n",
    "b=w_tilda[-1]"
   ]
  },
  {
   "cell_type": "code",
   "execution_count": 85,
   "metadata": {},
   "outputs": [
    {
     "data": {
      "text/plain": [
       "array([[ 3.42720280e+01],\n",
       "       [ 4.33798348e+01],\n",
       "       [ 2.49180011e+01],\n",
       "       [ 2.25210120e+01],\n",
       "       [ 4.36614033e+01],\n",
       "       [ 2.89425688e+01],\n",
       "       [ 3.74106245e+01],\n",
       "       [ 4.09037755e+01],\n",
       "       [ 4.30929246e+01],\n",
       "       [ 4.22351617e+01],\n",
       "       [ 6.36209349e+00],\n",
       "       [-6.17494946e+00],\n",
       "       [-1.32739929e+00],\n",
       "       [-6.28829381e-01],\n",
       "       [-1.92656064e+00],\n",
       "       [-1.16691345e+01],\n",
       "       [ 1.24331086e+01],\n",
       "       [-2.71150873e+00],\n",
       "       [ 9.72857527e+00],\n",
       "       [ 1.09437471e+00],\n",
       "       [-1.02370606e+01],\n",
       "       [ 1.89042334e+00],\n",
       "       [-2.65666041e+00],\n",
       "       [ 3.20789933e+00],\n",
       "       [-2.04444211e+00],\n",
       "       [-3.02240058e+00],\n",
       "       [ 3.78762799e-02],\n",
       "       [ 3.71468816e+00],\n",
       "       [ 5.68590895e+00],\n",
       "       [-5.66980682e+00],\n",
       "       [-5.30927912e+00],\n",
       "       [ 5.19708690e+00],\n",
       "       [ 1.10440912e+01],\n",
       "       [ 3.11195686e+00],\n",
       "       [ 2.68996603e+00],\n",
       "       [-8.90847644e+00],\n",
       "       [ 5.99598203e+00],\n",
       "       [ 1.41374781e+01],\n",
       "       [ 4.55645000e+00],\n",
       "       [-5.07049661e+00],\n",
       "       [ 1.57104032e+00],\n",
       "       [ 2.97393036e+00],\n",
       "       [-5.62073967e+00],\n",
       "       [ 2.07283281e+00],\n",
       "       [ 2.18881614e+01],\n",
       "       [-3.03446144e+00],\n",
       "       [ 4.89646699e+00],\n",
       "       [-8.03081984e+00],\n",
       "       [-2.96306655e+00],\n",
       "       [ 5.47915091e+00],\n",
       "       [ 4.22802448e+00],\n",
       "       [ 7.82991866e+00],\n",
       "       [-8.24378793e+00],\n",
       "       [ 6.62384541e+00],\n",
       "       [-1.03362566e+01],\n",
       "       [-3.95154177e+00],\n",
       "       [-1.02222937e+01],\n",
       "       [-6.34366342e+00],\n",
       "       [-8.04440931e+00],\n",
       "       [ 6.50075292e+00],\n",
       "       [-4.83836125e+00],\n",
       "       [-1.19113832e+01],\n",
       "       [-1.03438252e+01],\n",
       "       [ 2.81345306e+00],\n",
       "       [-2.50550560e+00],\n",
       "       [-6.15076750e+00],\n",
       "       [ 1.47812968e+01],\n",
       "       [ 1.99162363e+01],\n",
       "       [-9.86318179e+00],\n",
       "       [ 1.37878122e+01],\n",
       "       [ 6.28088044e+00],\n",
       "       [ 1.26542237e+01],\n",
       "       [-1.77527915e+01],\n",
       "       [-2.46796392e+00],\n",
       "       [-2.51926616e+00],\n",
       "       [ 7.58695999e+00],\n",
       "       [ 7.34668603e+00],\n",
       "       [ 3.47770902e+00],\n",
       "       [ 2.74507330e-01],\n",
       "       [-8.25491420e+00],\n",
       "       [-3.32132393e+00],\n",
       "       [-1.79178398e+01],\n",
       "       [ 7.67729600e-01],\n",
       "       [-1.08214218e+01],\n",
       "       [ 4.07615457e+00],\n",
       "       [ 9.62527964e+00],\n",
       "       [ 2.47131926e+00],\n",
       "       [ 2.46189776e-01],\n",
       "       [ 7.38853645e+00],\n",
       "       [-5.62977845e+00],\n",
       "       [ 8.40710723e+00],\n",
       "       [-6.26821741e-01],\n",
       "       [-1.02670527e+01],\n",
       "       [ 4.16173268e+00],\n",
       "       [-1.91497391e+01],\n",
       "       [ 1.51306396e+01],\n",
       "       [-2.73080372e+01],\n",
       "       [ 1.51799903e+00],\n",
       "       [-8.12051542e+00],\n",
       "       [ 1.06518161e+01],\n",
       "       [-4.90577286e+00]])"
      ]
     },
     "execution_count": 85,
     "metadata": {},
     "output_type": "execute_result"
    }
   ],
   "source": [
    "w_tilda"
   ]
  },
  {
   "cell_type": "markdown",
   "metadata": {},
   "source": [
    "Let's try it out and print a graph of the loss values during the optimization process."
   ]
  },
  {
   "cell_type": "code",
   "execution_count": 27,
   "metadata": {},
   "outputs": [],
   "source": [
    "# Generate 200 data points\n",
    "n = 200\n",
    "x,y = generate_data(n)\n",
    "# Set regularization constant\n",
    "C = 1.0\n",
    "# Run gradient descent solver\n",
    "w, b, losses,del_L = ridge_regression_GD(x,y,C)\n",
    "# Plot the losses\n",
    "\n",
    "# plt.plot(losses,'r')\n",
    "# plt.xlabel('Iterations', fontsize=14)\n",
    "# plt.ylabel('Loss', fontsize=14)\n",
    "# plt.show()"
   ]
  },
  {
   "cell_type": "markdown",
   "metadata": {},
   "source": [
    "<font color=\"magenta\">**Something to think about**</font>\n",
    "\n",
    "1. In setting the step size, does it work to use a fixed schedule 1/t? Why or why not?\n",
    "\n",
    "2. Can you set up the gradient descent procedure in such a way that on each iteration, the loss monotonically decreases?\n"
   ]
  },
  {
   "cell_type": "markdown",
   "metadata": {},
   "source": [
    "## 3. Evaluate the gradient descent solver"
   ]
  },
  {
   "cell_type": "markdown",
   "metadata": {},
   "source": [
    "Now let's compare the regressor found by your gradient descent procedure to that returned by the built-in ridge regression solver in `sklearn`. We will compare them in two ways:\n",
    "* Their MSE values\n",
    "* The distance between the corresponding `w`-vectors\n",
    "\n",
    "The latter should be smaller than 10^{-4}.\n"
   ]
  },
  {
   "cell_type": "code",
   "execution_count": null,
   "metadata": {},
   "outputs": [],
   "source": [
    "def compute_mse(w,b,x,y):\n",
    "    residuals = y - (np.dot(x, w) + b)\n",
    "    return np.dot(residuals, residuals)/n"
   ]
  },
  {
   "cell_type": "code",
   "execution_count": null,
   "metadata": {},
   "outputs": [],
   "source": [
    "# Generate 200 data points\n",
    "n = 200\n",
    "x,y = generate_data(n)\n",
    "# Set regularization constant\n",
    "C = 10.0\n",
    "# Run gradient descent solver and compute its MSE\n",
    "w, b, losses = ridge_regression_GD(x,y,C)\n",
    "# Use built-in routine for ridge regression and compute MSE\n",
    "regr = linear_model.Ridge(alpha=C)\n",
    "regr.fit(x, y)\n",
    "# Print MSE values and L2 distance between the regression functions\n",
    "print(\"MSE of gradient descent solver: \", compute_mse(w,b,x,y))\n",
    "print(\"MSE of built-in solver: \", mean_squared_error(regr.predict(x), y))\n",
    "print(\"Distance between w-coefficients: \", np.linalg.norm(w-regr.coef_))"
   ]
  },
  {
   "cell_type": "markdown",
   "metadata": {},
   "source": [
    "<font color=\"magenta\">**Something to think about**</font>\n",
    "\n",
    "The data was originally generated using a linear function in which only ten of the 100 features (the first ten) were relevant. Does the vector `w` returned by ridge regression correctly identify the relevant features?"
   ]
  }
 ],
 "metadata": {
  "kernelspec": {
   "display_name": "Python 3",
   "language": "python",
   "name": "python3"
  },
  "language_info": {
   "codemirror_mode": {
    "name": "ipython",
    "version": 3
   },
   "file_extension": ".py",
   "mimetype": "text/x-python",
   "name": "python",
   "nbconvert_exporter": "python",
   "pygments_lexer": "ipython3",
   "version": "3.8.3"
  },
  "toc": {
   "colors": {
    "hover_highlight": "#DAA520",
    "navigate_num": "#000000",
    "navigate_text": "#333333",
    "running_highlight": "#FF0000",
    "selected_highlight": "#FFD700",
    "sidebar_border": "#EEEEEE",
    "wrapper_background": "#FFFFFF"
   },
   "moveMenuLeft": true,
   "nav_menu": {
    "height": "12px",
    "width": "252px"
   },
   "navigate_menu": true,
   "number_sections": false,
   "sideBar": true,
   "threshold": 4,
   "toc_cell": false,
   "toc_section_display": "block",
   "toc_window_display": false,
   "widenNotebook": false
  }
 },
 "nbformat": 4,
 "nbformat_minor": 4
}
