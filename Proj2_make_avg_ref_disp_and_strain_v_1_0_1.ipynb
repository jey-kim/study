{
 "cells": [
  {
   "cell_type": "code",
   "execution_count": 1,
   "metadata": {},
   "outputs": [],
   "source": [
    "#<img src=\"Figs/GEOS_Logo.pdf\" width=\"500\" />"
   ]
  },
  {
   "cell_type": "markdown",
   "metadata": {},
   "source": [
    "`FNL2SEASONAL`**: <font color=blue>\"make_avg_ref_disp_and_strain.ipynb\"</font>\n",
    "#### Mar 05, 2022  <font color=red>(v. 1.0.1)</font>\n",
    "##### Jeonghyeop Kim (jeonghyeop.kim@gmail.com)\n",
    "\n",
    "> input files: **`vel_4_mo_knotpoints_%d.gmt`** & **`average_strain_4_mo_RECTANGULAR_%d.out`** \\\n",
    "> output files: **`vel_4_mo_knotpoints_average.gmt`** & **`average_strain_4_mo_RECTANGULAR_average.out`**\n",
    "\n",
    "0. This code is a part of FNL2SEASONAL process.\n",
    "1. It will compute **3-year** averaged continuous displacement and strain fields.\n"
   ]
  },
  {
   "cell_type": "markdown",
   "metadata": {},
   "source": [
    "<div class=\"alert alert-success\">\n",
    "3-year AVG. REFERENCE MODEL Before the 2010 El Mayor-Cucapah EQ. \n",
    "</div>"
   ]
  },
  {
   "cell_type": "code",
   "execution_count": 2,
   "metadata": {},
   "outputs": [],
   "source": [
    "import pandas as pd\n",
    "import numpy as np"
   ]
  },
  {
   "cell_type": "code",
   "execution_count": 3,
   "metadata": {},
   "outputs": [],
   "source": [
    "how_many_months = 36"
   ]
  },
  {
   "cell_type": "markdown",
   "metadata": {},
   "source": [
    "### Displacement"
   ]
  },
  {
   "cell_type": "code",
   "execution_count": 4,
   "metadata": {},
   "outputs": [],
   "source": [
    "vel_frame = np.zeros((9801,2))\n",
    "vel_error_frame = np.zeros((9801,2))\n",
    "df_vel_save = pd.DataFrame(vel_frame,columns=['ve','vn'])\n",
    "df_vel_error_save = pd.DataFrame(vel_error_frame,columns=['se','sn'])\n",
    "\n",
    "\n",
    "name=['lon','lat','ve','vn','se','sn','corr']\n",
    "for i in range(how_many_months):\n",
    "    filename = \"vel_4_mo_knotpoints_\"+str(i+1)+\".gmt\"\n",
    "    df_load=pd.read_csv(filename,header = None,sep=r'(?:,|\\s+)',comment='#', engine='python')\n",
    "    df_load.columns = name\n",
    "    df_vel_save = df_vel_save + df_load.loc[:,['ve','vn']]\n",
    "    df_vel_error_save = df_vel_error_save + df_load.loc[:,['se','sn']]**2\n",
    "    \n",
    "    \n",
    "lon = df_load.loc[:,['lon']]\n",
    "lat = df_load.loc[:,['lat']]\n",
    "df_vel_save = df_vel_save/how_many_months\n",
    "df_vel_error_save = np.sqrt(df_vel_error_save)/how_many_months\n",
    "corr = df_load.loc[:,['corr']]\n",
    "concatFrame =[lon, lat, df_vel_save, df_vel_error_save, corr]\n",
    "df_save=pd.concat(concatFrame,axis=1)"
   ]
  },
  {
   "cell_type": "code",
   "execution_count": 5,
   "metadata": {},
   "outputs": [],
   "source": [
    "savefile = \"vel_4_mo_knotpoints_average.gmt\"\n",
    "df_save.to_csv(savefile ,header=None, index=None ,float_format='%.6f', sep=' ')"
   ]
  },
  {
   "cell_type": "markdown",
   "metadata": {},
   "source": [
    "### Strain"
   ]
  },
  {
   "cell_type": "code",
   "execution_count": 6,
   "metadata": {},
   "outputs": [],
   "source": [
    "strain_frame = np.zeros((7185,3))\n",
    "strain_error_frame = np.zeros((7185,3))\n",
    "df_strain_save = pd.DataFrame(strain_frame,columns=['exx','eyy','exy'])\n",
    "df_strain_error_save = pd.DataFrame(strain_error_frame,columns=['sxx','syy','sxy'])\n",
    "\n",
    "\n",
    "name=['num','lat','lon','exx','eyy','exy','sxx','syy','sxy']\n",
    "for i in range(how_many_months):\n",
    "    filename = \"average_strain_4_mo_RECTANGULAR_\"+str(i+1)+\".out\"\n",
    "    df_load=pd.read_csv(filename,header = None,sep=r'(?:,|\\s+)',comment='#', engine='python')\n",
    "    df_load.columns = name\n",
    "    df_strain_save = df_strain_save + df_load.loc[:,['exx','eyy','exy']]\n",
    "    df_strain_error_save = df_strain_error_save + df_load.loc[:,['sxx','syy','sxy']]**2\n",
    "\n",
    "num = df_load.loc[:,['num']]\n",
    "lat = df_load.loc[:,['lat']]   \n",
    "lon = df_load.loc[:,['lon']]\n",
    "\n",
    "df_strain_save = df_strain_save/how_many_months\n",
    "df_strain_error_save = np.sqrt(df_strain_error_save)/how_many_months\n",
    "\n",
    "concatFrame =[num,lat,lon,  df_strain_save, df_strain_error_save]\n",
    "df_save=pd.concat(concatFrame,axis=1)"
   ]
  },
  {
   "cell_type": "code",
   "execution_count": 7,
   "metadata": {},
   "outputs": [],
   "source": [
    "savefile = \"average_strain_4_mo_RECTANGULAR_average.out\"\n",
    "df_save.to_csv(savefile ,header=None, index=None ,float_format='%.6f', sep=' ')"
   ]
  }
 ],
 "metadata": {
  "kernelspec": {
   "display_name": "Python 3 (ipykernel)",
   "language": "python",
   "name": "python3"
  },
  "language_info": {
   "codemirror_mode": {
    "name": "ipython",
    "version": 3
   },
   "file_extension": ".py",
   "mimetype": "text/x-python",
   "name": "python",
   "nbconvert_exporter": "python",
   "pygments_lexer": "ipython3",
   "version": "3.9.7"
  }
 },
 "nbformat": 4,
 "nbformat_minor": 4
}
