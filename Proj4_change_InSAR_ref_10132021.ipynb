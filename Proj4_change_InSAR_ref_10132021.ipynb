{
 "cells": [
  {
   "cell_type": "markdown",
   "metadata": {},
   "source": [
    "<img src=\"Figs/GEOS_logo.pdf\" width=\"500\"/>"
   ]
  },
  {
   "cell_type": "markdown",
   "metadata": {},
   "source": [
    "# Sample InSAR data: <font color=blue>\"change_InSAR_ref.ipynb\"</font>\n",
    "#### Oct 13, 2021  <font color=red>(v. testing)</font> \n",
    "##### Jeonghyeop Kim (jeonghyeop.kim@gmail.com)\n",
    "\n",
    "> input files : **`interpolated_A_i.dat`** \\\n",
    "> output files: **`interpolated_A_new_ref_i.dat`** where **i** in {1..4}\n",
    "\n",
    "0. This code is a part of the joint inversion project (project4: joint inversion of GNSS and InSAR)\n",
    "1. This code changes the frame of reference to a point. \n",
    "2. The LOS displacement at the ref. point will be projected onto each of the pointing vectors for all the data points. \n",
    "3. The projected LOS displacements will be subtracted from the original data\n",
    "4. DUE TO THE NATURE OF INSAR measurement, maybe to obtain basis-function responses with respect to InSAR reference would be better approach.\n",
    "> [**unwrapping**] (The LOS deformations are relative motions to a point and the point should be close to the signal). \\\n",
    "> **For now (10/04/2021)**, a master code for the boundary condition velocity responses is NOT ready. \\\n",
    "> Thus, this alternative method is used. \\\n",
    "> In addition, use of different sampling approaches for InSAR data (e.g., QuadTree) may not guarantee that \\\n",
    "> a data is available at the top right corner (the reference of the basis-function responses). \n"
   ]
  },
  {
   "cell_type": "code",
   "execution_count": 1,
   "metadata": {},
   "outputs": [],
   "source": [
    "#import\n",
    "import numpy as np\n",
    "import pandas as pd"
   ]
  },
  {
   "cell_type": "code",
   "execution_count": 2,
   "metadata": {},
   "outputs": [],
   "source": [
    "# STEP 0. Define reference point\n",
    "lon_ref = -116.54\n",
    "lat_ref = 33.96"
   ]
  },
  {
   "cell_type": "code",
   "execution_count": 3,
   "metadata": {},
   "outputs": [],
   "source": [
    "# STEP 1. Load interpolated InSAR data (in InSAR reference)\n",
    "\n",
    "names = ['lon','lat','rate','Px','Py','Pz']\n",
    "\n",
    "input_file_1=\"interpolated_A_1.dat\"\n",
    "df_A1=pd.read_csv(input_file_1, header=None, sep = ' ')\n",
    "df_A1.columns = names\n",
    "\n",
    "\n",
    "input_file_2=\"interpolated_A_2.dat\"\n",
    "df_A2=pd.read_csv(input_file_2, header=None, sep = ' ')\n",
    "df_A2.columns = names\n",
    "\n",
    "input_file_3=\"interpolated_A_3.dat\"\n",
    "df_A3=pd.read_csv(input_file_3, header=None, sep = ' ')\n",
    "df_A3.columns = names\n",
    "\n",
    "input_file_4=\"interpolated_A_4.dat\"\n",
    "df_A4=pd.read_csv(input_file_4, header=None, sep = ' ')\n",
    "df_A4.columns = names"
   ]
  },
  {
   "cell_type": "code",
   "execution_count": 4,
   "metadata": {},
   "outputs": [],
   "source": [
    "# STEP 2. Grab the LOS displacement at the reference point \n",
    "#            and project onto each of the pointing vectors of all the data points\n",
    "\n",
    "\n",
    "# 2-1 Grab the LOS displacement & pointing vector geometry at the ref\n",
    "\n",
    "ref_data_A1=df_A1[(df_A1['lon']==lon_ref) & (df_A1['lat']==lat_ref)]\n",
    "ref_data_A1=ref_data_A1.reset_index(drop=True)\n",
    "Px1 = float(ref_data_A1['Px']) # a constant\n",
    "Py1 = float(ref_data_A1['Py']) # a constant\n",
    "Pz1 = float(ref_data_A1['Pz']) # a constant\n",
    "rate1 = float(ref_data_A1['rate']) # a constant\n",
    "\n",
    "ref_data_A2=df_A2[(df_A2['lon']==lon_ref) & (df_A2['lat']==lat_ref)]\n",
    "ref_data_A2=ref_data_A2.reset_index(drop=True)\n",
    "Px2 = float(ref_data_A2['Px']) # a constant\n",
    "Py2 = float(ref_data_A2['Py']) # a constant\n",
    "Pz2 = float(ref_data_A2['Pz']) # a constant\n",
    "rate2 = float(ref_data_A2['rate']) # a constant\n",
    "\n",
    "ref_data_A3=df_A3[(df_A3['lon']==lon_ref) & (df_A3['lat']==lat_ref)]\n",
    "ref_data_A3=ref_data_A3.reset_index(drop=True)\n",
    "Px3 = float(ref_data_A3['Px']) # a constant\n",
    "Py3 = float(ref_data_A3['Py']) # a constant\n",
    "Pz3 = float(ref_data_A3['Pz']) # a constant\n",
    "rate3 = float(ref_data_A3['rate']) # a constant\n",
    "\n",
    "ref_data_A4=df_A4[(df_A4['lon']==lon_ref) & (df_A4['lat']==lat_ref)]\n",
    "ref_data_A4=ref_data_A4.reset_index(drop=True)\n",
    "Px4 = float(ref_data_A4['Px']) # a constant\n",
    "Py4 = float(ref_data_A4['Py']) # a constant\n",
    "Pz4 = float(ref_data_A4['Pz']) # a constant\n",
    "rate4 = float(ref_data_A4['rate']) # a constant\n",
    "\n",
    "\n",
    "# 2-2 Project ref. disp. onto the pointing vectors, get the lengths of the projected vectors, and subtract them from the original displacements\n",
    "\n",
    "# LOS displacements - Projected ref. LOS displacements = rate - rate_ref * (Px*Px_ref + Py*Py_ref + Pz*Pz_ref)\n",
    "df_A1['new_rate']=df_A1['rate']-rate1*(df_A1['Px']*Px1 + df_A1['Py']*Py1 + df_A1['Pz']*Pz1)\n",
    "df_A2['new_rate']=df_A2['rate']-rate2*(df_A2['Px']*Px2 + df_A2['Py']*Py2 + df_A2['Pz']*Pz2)\n",
    "df_A3['new_rate']=df_A3['rate']-rate3*(df_A3['Px']*Px3 + df_A3['Py']*Py3 + df_A3['Pz']*Pz3)\n",
    "df_A4['new_rate']=df_A4['rate']-rate4*(df_A4['Px']*Px4 + df_A4['Py']*Py4 + df_A4['Pz']*Pz4)"
   ]
  },
  {
   "cell_type": "code",
   "execution_count": 5,
   "metadata": {},
   "outputs": [],
   "source": [
    "# STEP 3. Statistics\n",
    "\n",
    "# print('reference information')\n",
    "# print(rate1,rate2,rate3,rate4)\n",
    "# print(Px1,Px2,Px3,Px4)\n",
    "# print(Py1,Py2,Py3,Py4)\n",
    "# print(Pz1,Pz2,Pz3,Pz4)\n",
    "# print(' ')\n",
    "# print(' ')\n",
    "# print(\"A1 new rate: median, mean, std\")\n",
    "# print(df_A1['new_rate'].median())\n",
    "# print(df_A1['new_rate'].mean())\n",
    "# print(df_A1['new_rate'].std())\n",
    "# print(' ')\n",
    "# print(\"A1 old rate: median, mean, std\")\n",
    "# print(df_A1['rate'].median())\n",
    "# print(df_A1['rate'].mean())\n",
    "# print(df_A1['rate'].std())\n",
    "# print(' ')\n",
    "# print(' ')\n",
    "# print(\"A2 new rate: median, mean, std\")\n",
    "# print(df_A2['new_rate'].median())\n",
    "# print(df_A2['new_rate'].mean())\n",
    "# print(df_A2['new_rate'].std())\n",
    "# print(' ')\n",
    "# print(\"A2 old rate: median, mean, std\")\n",
    "# print(df_A2['rate'].median())\n",
    "# print(df_A2['rate'].mean())\n",
    "# print(df_A2['rate'].std())\n",
    "# print(' ')\n",
    "# print(' ')\n",
    "# print(\"A3 new rate: median, mean, std\")\n",
    "# print(df_A3['new_rate'].median())\n",
    "# print(df_A3['new_rate'].mean())\n",
    "# print(df_A3['new_rate'].std())\n",
    "# print(' ')\n",
    "# print(\"A3 old rate: median, mean, std\")\n",
    "# print(df_A3['rate'].median())\n",
    "# print(df_A3['rate'].mean())\n",
    "# print(df_A3['rate'].std())\n",
    "# print(' ')\n",
    "# print(' ')\n",
    "# print(\"A4 new rate: median, mean, std\")\n",
    "# print(df_A4['new_rate'].median())\n",
    "# print(df_A4['new_rate'].mean())\n",
    "# print(df_A4['new_rate'].std())\n",
    "# print(' ')\n",
    "# print(\"A4 old rate: median, mean, std\")\n",
    "# print(df_A4['rate'].median())\n",
    "# print(df_A4['rate'].mean())\n",
    "# print(df_A4['rate'].std())"
   ]
  },
  {
   "cell_type": "code",
   "execution_count": 6,
   "metadata": {},
   "outputs": [],
   "source": [
    "cols_to_save = ['lon','lat','new_rate','Px','Py','Pz']\n",
    "df_A1_save = df_A1.loc[:, cols_to_save]\n",
    "df_A2_save = df_A2.loc[:, cols_to_save]\n",
    "df_A3_save = df_A3.loc[:, cols_to_save]\n",
    "df_A4_save = df_A4.loc[:, cols_to_save]"
   ]
  },
  {
   "cell_type": "code",
   "execution_count": 7,
   "metadata": {},
   "outputs": [],
   "source": [
    "# STEP 4. Save data\n",
    "\n",
    "df_A1_save.to_csv('interpolated_A_new_ref_1.dat',index=None, header=None, sep=' ',float_format='%.5f')\n",
    "df_A2_save.to_csv('interpolated_A_new_ref_2.dat',index=None, header=None, sep=' ',float_format='%.5f')\n",
    "df_A3_save.to_csv('interpolated_A_new_ref_3.dat',index=None, header=None, sep=' ',float_format='%.5f')\n",
    "df_A4_save.to_csv('interpolated_A_new_ref_4.dat',index=None, header=None, sep=' ',float_format='%.5f')"
   ]
  },
  {
   "cell_type": "code",
   "execution_count": null,
   "metadata": {},
   "outputs": [],
   "source": []
  }
 ],
 "metadata": {
  "kernelspec": {
   "display_name": "Python 3",
   "language": "python",
   "name": "python3"
  },
  "language_info": {
   "codemirror_mode": {
    "name": "ipython",
    "version": 3
   },
   "file_extension": ".py",
   "mimetype": "text/x-python",
   "name": "python",
   "nbconvert_exporter": "python",
   "pygments_lexer": "ipython3",
   "version": "3.8.3"
  }
 },
 "nbformat": 4,
 "nbformat_minor": 4
}
