{
 "cells": [
  {
   "cell_type": "markdown",
   "metadata": {},
   "source": [
    "# This is a Jupyter Notebook for tests to run fortran codes in Jupyter Lab environment.\n",
    "### Jeonghyeop Kim\n",
    "### May 17, 2021"
   ]
  },
  {
   "cell_type": "markdown",
   "metadata": {},
   "source": [
    "#   \n",
    "## Use 'bash magic' %%bash \n",
    "## is the simplest way \n",
    "## This is just like a *.sh file\n",
    "## MATLAB also works.\n",
    "#### matlab -nodisplay -r \"code; exit\" "
   ]
  },
  {
   "cell_type": "code",
   "execution_count": 20,
   "metadata": {},
   "outputs": [
    {
     "name": "stdout",
     "output_type": "stream",
     "text": [
      "001\n",
      " Do you want the data to be smoothed (Y/N)?\n",
      " Loading rectangles\n",
      " Starting DECOMP\n",
      " Starting INV\n",
      " Starting INV_T\n",
      " Outputting residuals\n",
      " Sum of squares is  1.54035009041136\n",
      " Do you want to save the results (Y/N)?\n",
      " Do you want variances and covariances (Y/N)?\n",
      "  If not, the output file spline_fit.out can\n",
      "   be used in all the same programs as before.\n",
      "    The same applies if you enter \"Y\" here,\n",
      "     provided you respond \"N\" when asked this\n",
      "      question again in the old programs. As\n",
      "       a rule, the calculation of variances\n",
      "        and covariances will be tedious for\n",
      "         for very large problems.\n",
      " Number of independent rotations =  165\n",
      "  Upper bound on RMS velocity =  0.000000000000000\n",
      "   Number of rectangles =  140\n",
      "    No variances and covariances\n",
      " Do you want to continue (Y/N)?\n",
      " Enter the latidude and longitude (in degrees) of the Euler\n",
      "  pole for the frame of reference and the rotation rate to\n",
      "   be removed\n",
      "Total number of points is 165\n",
      "002\n",
      " Do you want the data to be smoothed (Y/N)?\n",
      " Loading rectangles\n",
      " Starting DECOMP\n",
      " Starting INV\n",
      " Starting INV_T\n",
      " Outputting residuals\n",
      " Sum of squares is  1.15918659189591\n",
      " Do you want to save the results (Y/N)?\n",
      " Do you want variances and covariances (Y/N)?\n",
      "  If not, the output file spline_fit.out can\n",
      "   be used in all the same programs as before.\n",
      "    The same applies if you enter \"Y\" here,\n",
      "     provided you respond \"N\" when asked this\n",
      "      question again in the old programs. As\n",
      "       a rule, the calculation of variances\n",
      "        and covariances will be tedious for\n",
      "         for very large problems.\n",
      " Number of independent rotations =  165\n",
      "  Upper bound on RMS velocity =  0.000000000000000\n",
      "   Number of rectangles =  140\n",
      "    No variances and covariances\n",
      " Do you want to continue (Y/N)?\n",
      " Enter the latidude and longitude (in degrees) of the Euler\n",
      "  pole for the frame of reference and the rotation rate to\n",
      "   be removed\n",
      "Total number of points is 165\n"
     ]
    },
    {
     "name": "stderr",
     "output_type": "stream",
     "text": [
      "psbasemap [INFORMATION]: Constructing the basemap\n",
      "psbasemap [INFORMATION]: Central meridian not given, default to -116.61\n",
      "psbasemap [INFORMATION]: Map scale is 1.23688 km per cm or 1:123688.\n",
      "pscoast [INFORMATION]: Central meridian not given, default to -116.61\n",
      "pscoast [INFORMATION]: Map scale is 1.23688 km per cm or 1:123688.\n",
      "pscoast [INFORMATION]: Selected ice front line as Antarctica coastline\n",
      "pscoast [INFORMATION]: GSHHG version 2.3.7\n",
      "pscoast [INFORMATION]: Derived from World Vector Shoreline, CIA WDB-II, and Atlas of the Cryosphere\n",
      "pscoast [INFORMATION]: Processed by Paul Wessel and Walter H. F. Smith, 1994-2017\n",
      "pscoast [INFORMATION]: Adding Borders...psxy [INFORMATION]: Processing input table data\n",
      "psxy [INFORMATION]: Central meridian not given, default to -116.61\n",
      "psxy [INFORMATION]: Map scale is 1.23688 km per cm or 1:123688.\n",
      "psxy [INFORMATION]: Reading Data Table from Stream 7fff889b3e50\n",
      "psxy [INFORMATION]: Plotting segment 0\n",
      "pstext [INFORMATION]: Processing input text table data\n",
      "pstext [INFORMATION]: Central meridian not given, default to -116.61\n",
      "pstext [INFORMATION]: Map scale is 1.23688 km per cm or 1:123688.\n",
      "pstext [INFORMATION]: Reading Data Table from Standard Input stream\n",
      "pstext [INFORMATION]: pstext: Plotted 1 text strings\n",
      "psbasemap [INFORMATION]: Constructing the basemap\n",
      "psbasemap [INFORMATION]: Central meridian not given, default to -116.61\n",
      "psbasemap [INFORMATION]: Map scale is 1.23688 km per cm or 1:123688.\n",
      "pscoast [INFORMATION]: Central meridian not given, default to -116.61\n",
      "pscoast [INFORMATION]: Map scale is 1.23688 km per cm or 1:123688.\n",
      "pscoast [INFORMATION]: Selected ice front line as Antarctica coastline\n",
      "pscoast [INFORMATION]: GSHHG version 2.3.7\n",
      "pscoast [INFORMATION]: Derived from World Vector Shoreline, CIA WDB-II, and Atlas of the Cryosphere\n",
      "pscoast [INFORMATION]: Processed by Paul Wessel and Walter H. F. Smith, 1994-2017\n",
      "pscoast [INFORMATION]: Adding Borders...psxy [INFORMATION]: Processing input table data\n",
      "psxy [INFORMATION]: Central meridian not given, default to -116.61\n",
      "psxy [INFORMATION]: Map scale is 1.23688 km per cm or 1:123688.\n",
      "psxy [INFORMATION]: Reading Data Table from Stream 7fff889b3e50\n",
      "psxy [INFORMATION]: Plotting segment 0\n",
      "pstext [INFORMATION]: Processing input text table data\n",
      "pstext [INFORMATION]: Central meridian not given, default to -116.61\n",
      "pstext [INFORMATION]: Map scale is 1.23688 km per cm or 1:123688.\n",
      "pstext [INFORMATION]: Reading Data Table from Standard Input stream\n",
      "pstext [INFORMATION]: pstext: Plotted 1 text strings\n"
     ]
    }
   ],
   "source": [
    "%%bash\n",
    "\n",
    "for i in `seq -f \"%03g\" 1 2` #001 002\n",
    "do\n",
    "echo \"$i\"\n",
    "#echo \"$PATH\"\n",
    "cp xrot\"$i\".dat rot.dat\n",
    "gfortran input_spline_rotations.f\n",
    "./a.out\n",
    "sparse_fit<<!\n",
    "Y\n",
    "Y\n",
    "N\n",
    "!\n",
    "\n",
    "\n",
    "sparse_velocity<<!\n",
    "Y\n",
    "0 0 0\n",
    "!\n",
    "velocity\n",
    "cp vel.gmt vel_\"$i\"_100.gmt\n",
    "\n",
    "./image_boundary_basis\n",
    "\n",
    "cp horizontal_displacement.ps plot_BC_\"$i\"_100_test.ps\n",
    "\n",
    "done"
   ]
  },
  {
   "cell_type": "code",
   "execution_count": 21,
   "metadata": {},
   "outputs": [],
   "source": [
    "!cp vel.gmt 100.gmt\n"
   ]
  },
  {
   "cell_type": "code",
   "execution_count": 23,
   "metadata": {},
   "outputs": [
    {
     "name": "stdout",
     "output_type": "stream",
     "text": [
      "\n",
      "                            < M A T L A B (R) >\n",
      "                  Copyright 1984-2017 The MathWorks, Inc.\n",
      "               R2017b Update 9 (9.3.0.948333) 64-bit (maci64)\n",
      "                             September 4, 2018\n",
      "\n",
      " \n",
      "To get started, type one of these: helpwin, helpdesk, or demo.\n",
      "For product information, visit www.mathworks.com.\n",
      " \n",
      "\n",
      "\tStudent License -- for use by students to meet course requirements\n",
      "\tand perform academic research at degree granting institutions only.\n",
      "\n"
     ]
    },
    {
     "name": "stderr",
     "output_type": "stream",
     "text": [
      "psbasemap [INFORMATION]: Constructing the basemap\n",
      "psbasemap [INFORMATION]: Central meridian not given, default to -116.61\n",
      "psbasemap [INFORMATION]: Map scale is 1.23688 km per cm or 1:123688.\n",
      "pscoast [INFORMATION]: Central meridian not given, default to -116.61\n",
      "pscoast [INFORMATION]: Map scale is 1.23688 km per cm or 1:123688.\n",
      "pscoast [INFORMATION]: Selected ice front line as Antarctica coastline\n",
      "pscoast [INFORMATION]: GSHHG version 2.3.7\n",
      "pscoast [INFORMATION]: Derived from World Vector Shoreline, CIA WDB-II, and Atlas of the Cryosphere\n",
      "pscoast [INFORMATION]: Processed by Paul Wessel and Walter H. F. Smith, 1994-2017\n",
      "pscoast [INFORMATION]: Adding Borders...psxy [INFORMATION]: Processing input table data\n",
      "psxy [INFORMATION]: Central meridian not given, default to -116.61\n",
      "psxy [INFORMATION]: Map scale is 1.23688 km per cm or 1:123688.\n",
      "psxy [INFORMATION]: Reading Data Table from Stream 7fff889b3e50\n",
      "psxy [INFORMATION]: Plotting segment 0\n",
      "pstext [INFORMATION]: Processing input text table data\n",
      "pstext [INFORMATION]: Central meridian not given, default to -116.61\n",
      "pstext [INFORMATION]: Map scale is 1.23688 km per cm or 1:123688.\n",
      "pstext [INFORMATION]: Reading Data Table from Standard Input stream\n",
      "pstext [INFORMATION]: pstext: Plotted 1 text strings\n"
     ]
    }
   ],
   "source": [
    "%%bash\n",
    "\n",
    "matlab -nodisplay -r \"horizontal_less_dense_velo; exit\"\n",
    "\n",
    "cp vel_less_dense.gmt vel.gmt\n",
    "\n",
    "./image_boundary_basis"
   ]
  },
  {
   "cell_type": "code",
   "execution_count": null,
   "metadata": {},
   "outputs": [],
   "source": [
    "\n",
    "\n"
   ]
  },
  {
   "cell_type": "code",
   "execution_count": null,
   "metadata": {},
   "outputs": [],
   "source": []
  },
  {
   "cell_type": "markdown",
   "metadata": {},
   "source": [
    "# Another way is to run the entire  *.sh script !!  \n"
   ]
  },
  {
   "cell_type": "code",
   "execution_count": 1,
   "metadata": {},
   "outputs": [
    {
     "data": {
      "text/plain": [
       "0"
      ]
     },
     "execution_count": 1,
     "metadata": {},
     "output_type": "execute_result"
    }
   ],
   "source": [
    "import subprocess\n",
    "subprocess.call(['./stress_boundary_basis_functions_loop.sh'])"
   ]
  },
  {
   "cell_type": "code",
   "execution_count": null,
   "metadata": {},
   "outputs": [],
   "source": []
  }
 ],
 "metadata": {
  "kernelspec": {
   "display_name": "Python 3",
   "language": "python",
   "name": "python3"
  },
  "language_info": {
   "codemirror_mode": {
    "name": "ipython",
    "version": 3
   },
   "file_extension": ".py",
   "mimetype": "text/x-python",
   "name": "python",
   "nbconvert_exporter": "python",
   "pygments_lexer": "ipython3",
   "version": "3.8.3"
  }
 },
 "nbformat": 4,
 "nbformat_minor": 4
}
