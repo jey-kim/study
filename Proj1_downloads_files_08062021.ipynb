{
 "cells": [
  {
   "cell_type": "markdown",
   "metadata": {},
   "source": [
    "<img src=\"GEOS_Logo.png\" width=\"700\" />\n",
    "\n",
    "# Step 1 : <font color=blue>\"download_files.ipynb\"</font>\n",
    "#### Aug 5, 2021  <font color=red>(still working)</font> \n",
    "##### Jeonghyeop Kim (jeonghyeop.kim@gmail.com)\n",
    "\n",
    "\n",
    "\n",
    "> list_full.dat (904 stations) and list_extra.dat (extra 3 stations) \\\n",
    "> total is 907 \\\n",
    "> At some point, a code that downloads (a)a station ID list and (b)a list of their coordinates will be ready \\\n",
    "> And then it will count how many stations, this GPS2FNL algorithm will process and pass this info to the later codes. \\\n",
    "> metadata is needed\n",
    "\n"
   ]
  },
  {
   "cell_type": "markdown",
   "metadata": {},
   "source": [
    "### **`GPS data processed by the NGL is available at:`**  [here](http://geodesy.unr.edu)\n",
    "\n",
    "> On the right side of the website, find <font color=blue>\"Downloadable Lists of GPS Data Holdings:</font>\" \n",
    "\n",
    "> This algorithm uses data from \"stations with 24 hour sample rate solutions, final orbits, 2 week latency.\" \n",
    "\n"
   ]
  },
  {
   "cell_type": "code",
   "execution_count": 16,
   "metadata": {},
   "outputs": [],
   "source": [
    "#import modules\n",
    "import numpy as np\n",
    "import pandas as pd"
   ]
  },
  {
   "cell_type": "markdown",
   "metadata": {},
   "source": [
    "1.  Read the station list\n",
    "> url_lists=\"http://geodesy.unr.edu/NGLStationPages/DataHoldings.txt\"\n",
    "\n",
    "2. Download metadate (discontinuous steps)\n",
    "> url_metadata=\"http://geodesy.unr.edu/NGLStationPages/steps.txt\"\n",
    "\n"
   ]
  },
  {
   "cell_type": "code",
   "execution_count": 17,
   "metadata": {},
   "outputs": [],
   "source": [
    "url_list=\"http://geodesy.unr.edu/NGLStationPages/DataHoldings.txt\"\n",
    "url_metadata=\"http://geodesy.unr.edu/NGLStationPages/steps.txt\""
   ]
  },
  {
   "cell_type": "code",
   "execution_count": 26,
   "metadata": {},
   "outputs": [],
   "source": [
    "df_list=pd.read_csv(url_list, header=None, sep=r'(?:,|\\s+)', \n",
    "            comment='#', engine='python', \n",
    "            names=['0','1','2','3','4','5','6','7','8','9','10','11','12','13'])\n",
    "\n",
    "df_metadata=pd.read_csv(url_metadata, header=None, sep=r'(?:,|\\s+)', \n",
    "            comment='#', engine='python', names=['0','1','2','3','4','5','6'])    "
   ]
  },
  {
   "cell_type": "code",
   "execution_count": 27,
   "metadata": {},
   "outputs": [
    {
     "data": {
      "text/plain": [
       "'http://geodesy.unr.edu/NGLStationPages/steps.txt'"
      ]
     },
     "execution_count": 27,
     "metadata": {},
     "output_type": "execute_result"
    }
   ],
   "source": [
    "url_metadata"
   ]
  },
  {
   "cell_type": "code",
   "execution_count": null,
   "metadata": {},
   "outputs": [],
   "source": []
  }
 ],
 "metadata": {
  "kernelspec": {
   "display_name": "Python 3",
   "language": "python",
   "name": "python3"
  },
  "language_info": {
   "codemirror_mode": {
    "name": "ipython",
    "version": 3
   },
   "file_extension": ".py",
   "mimetype": "text/x-python",
   "name": "python",
   "nbconvert_exporter": "python",
   "pygments_lexer": "ipython3",
   "version": "3.8.3"
  }
 },
 "nbformat": 4,
 "nbformat_minor": 4
}
