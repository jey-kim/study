{
 "cells": [
  {
   "cell_type": "markdown",
   "id": "a40c894e-e1e6-4d82-ad56-af92c0d3b0c7",
   "metadata": {},
   "source": [
    "# Binary Search Trees, Traversals and Balancing in Python\n",
    "\n",
    "### Part 2 of \"Data Structures and Algorithms in Python\"\n",
    "\n",
    "![](https://i.imgur.com/lVqP63n.png)\n",
    "\n",
    "\n",
    "\n",
    "\n",
    "\n",
    "[Data Structures and Algorithms in Python](https://jovian.ai/learn/data-structures-and-algorithms-in-python) is a beginner-friendly introduction to common data structures (linked lists, stacks, queues, graphs) and algorithms (search, sorting, recursion, dynamic programming) in Python, designed to help you prepare for coding interviews and assessments.\n",
    "\n",
    "\n",
    "Earn a verified certificate of accomplishment for this course by signing up here: http://pythondsa.com.\n",
    "\n",
    "Ask questions, get help & participate in discussions on the community forum: https://jovian.ai/forum/c/data-structures-and-algorithms-in-python/78"
   ]
  },
  {
   "cell_type": "markdown",
   "id": "d9439220-385d-4661-b0ee-00d1ebf6decc",
   "metadata": {},
   "source": [
    "## Problem \n",
    "\n",
    "\n",
    "In this notebook, we'll focus on solving the following problem:\n",
    "\n",
    "> **QUESTION 1**: As a senior backend engineer at Jovian, you are tasked with developing a fast in-memory data structure to manage profile information (username, name and email) for 100 million users. It should allow the following operations to be performed efficiently:\n",
    "> \n",
    "> 1. **Insert** the profile information for a new user.\n",
    "> 2. **Find** the profile information of a user, given their username\n",
    "> 3. **Update** the profile information of a user, given their usrname\n",
    "> 5. **List** all the users of the platform, sorted by username\n",
    ">\n",
    "> You can assume that usernames are unique. \n",
    "\n",
    "Along the way, we will also solve several other questions related to binary trees and binary search trees that are often asked in coding interviews and assessments. "
   ]
  },
  {
   "cell_type": "markdown",
   "id": "d71e1b9c-49c6-42c8-b855-a40b2870684e",
   "metadata": {},
   "source": [
    "## The Method\n",
    "\n",
    "\n",
    "Here's a systematic strategy we'll apply for solving problems:\n",
    "\n",
    "1. State the problem clearly. Identify the input & output formats.\n",
    "2. Come up with some example inputs & outputs. Try to cover all edge cases.\n",
    "3. Come up with a correct solution for the problem. State it in plain English.\n",
    "4. Implement the solution and test it using example inputs. Fix bugs, if any.\n",
    "5. Analyze the algorithm's complexity and identify inefficiencies, if any.\n",
    "6. Apply the right technique to overcome the inefficiency. Repeat steps 3 to 6.\n"
   ]
  },
  {
   "cell_type": "markdown",
   "id": "90a24503-63ed-4d54-8e29-c3784385a56c",
   "metadata": {},
   "source": [
    "## 1. State the problem clearly. Identify the input & output formats.\n",
    "\n",
    "#### Problem\n",
    "\n",
    "> We need to create a data structure which can store 100 million records and perform insertion, search, update and list operations efficiently.\n",
    "\n",
    "#### Input\n",
    "\n",
    "The key inputs to our data structure are user profiles, which contain the username, name and email of a user. \n",
    "\n",
    "A Python _class_ would be a great way to represent the information for a user. A class is a blueprint for creating _objects_. Everything in Python is an _object_ belonging to some _class_. Here's the simples possible class in Python, with nothing in it:"
   ]
  },
  {
   "cell_type": "code",
   "execution_count": 1,
   "id": "070d614c-f4a4-473e-b225-345278fc5cac",
   "metadata": {},
   "outputs": [],
   "source": [
    "class User:\n",
    "    pass"
   ]
  },
  {
   "cell_type": "markdown",
   "id": "756a97c6-93df-41b5-9f63-c01002c36034",
   "metadata": {},
   "source": [
    "We can create or _instantiate_ an object of the class by calling it like a function."
   ]
  },
  {
   "cell_type": "code",
   "execution_count": 2,
   "id": "6637c8b9-c87e-451e-bfbc-80d1d8058638",
   "metadata": {},
   "outputs": [],
   "source": [
    "user1 = User()"
   ]
  },
  {
   "cell_type": "code",
   "execution_count": 3,
   "id": "98d456c9-e7f1-465a-9049-e370b24d109f",
   "metadata": {},
   "outputs": [
    {
     "data": {
      "text/plain": [
       "<__main__.User at 0x1038d9a30>"
      ]
     },
     "execution_count": 3,
     "metadata": {},
     "output_type": "execute_result"
    }
   ],
   "source": [
    "user1"
   ]
  },
  {
   "cell_type": "code",
   "execution_count": 4,
   "id": "61d06c50-764f-4268-9e92-60acbfdf33b0",
   "metadata": {},
   "outputs": [
    {
     "data": {
      "text/plain": [
       "__main__.User"
      ]
     },
     "execution_count": 4,
     "metadata": {},
     "output_type": "execute_result"
    }
   ],
   "source": [
    "type(user1)"
   ]
  },
  {
   "cell_type": "markdown",
   "id": "873d050b-40e2-4317-84f9-ca8431f63c59",
   "metadata": {},
   "source": [
    "The object `user1` does not contain any useful information. Let's add a _constructor method_ to the class to store some _attributes_ or _properties_."
   ]
  },
  {
   "cell_type": "code",
   "execution_count": 5,
   "id": "1659c13c-1fc2-401d-9a4a-dbd85d3e7b13",
   "metadata": {},
   "outputs": [],
   "source": [
    "class User:\n",
    "    def __init__(self, username, name, email):\n",
    "        self.username = username\n",
    "        self.name = name\n",
    "        self.email = email\n",
    "        print('User created!')"
   ]
  },
  {
   "cell_type": "markdown",
   "id": "5b1fd92e-3f57-4a55-bf31-f006856b9751",
   "metadata": {},
   "source": [
    "We can now create an object with some properties."
   ]
  },
  {
   "cell_type": "code",
   "execution_count": 6,
   "id": "6396f7ad-3de0-413e-a32c-9ead5bd58b63",
   "metadata": {},
   "outputs": [
    {
     "name": "stdout",
     "output_type": "stream",
     "text": [
      "User created!\n"
     ]
    }
   ],
   "source": [
    "user2 = User('john', 'John Doe', 'john@doe.com')"
   ]
  },
  {
   "cell_type": "code",
   "execution_count": 7,
   "id": "7070ab7a-245b-4d00-93c2-a54bb0dc39c3",
   "metadata": {},
   "outputs": [
    {
     "data": {
      "text/plain": [
       "<__main__.User at 0x1038d98b0>"
      ]
     },
     "execution_count": 7,
     "metadata": {},
     "output_type": "execute_result"
    }
   ],
   "source": [
    "user2"
   ]
  },
  {
   "cell_type": "markdown",
   "id": "dbc29d93-3e53-4cf6-925a-7494eac372e6",
   "metadata": {},
   "source": [
    "Here's what's happening above (conceptually):\n",
    "\n",
    "- Python creates an empty object of the type user and stores in the variable `user2`\n",
    "- Python then invokes the function `User.__init__` with the arguments `user2`, `\"john\"`, `\"John Doe\"` and `\"john@doe.com\"`\n",
    "- As the `__init__` function is executed, the properties `username`, `name` and `email` are set on the object `user2`"
   ]
  },
  {
   "cell_type": "code",
   "execution_count": 8,
   "id": "083cf9cc-cc7b-4237-a7c2-68c10522bf2b",
   "metadata": {},
   "outputs": [
    {
     "data": {
      "text/plain": [
       "<function __main__.User.__init__(self, username, name, email)>"
      ]
     },
     "execution_count": 8,
     "metadata": {},
     "output_type": "execute_result"
    }
   ],
   "source": [
    "User.__init__"
   ]
  },
  {
   "cell_type": "code",
   "execution_count": 9,
   "id": "c37df1d7-d9ec-4902-9c25-12dd24f4f97d",
   "metadata": {},
   "outputs": [
    {
     "data": {
      "text/plain": [
       "'John Doe'"
      ]
     },
     "execution_count": 9,
     "metadata": {},
     "output_type": "execute_result"
    }
   ],
   "source": [
    "user2.name"
   ]
  },
  {
   "cell_type": "code",
   "execution_count": 10,
   "id": "a22f2f50-1aa7-4f64-a239-d98c5cc1eec3",
   "metadata": {},
   "outputs": [
    {
     "data": {
      "text/plain": [
       "('john@doe.com', 'john')"
      ]
     },
     "execution_count": 10,
     "metadata": {},
     "output_type": "execute_result"
    }
   ],
   "source": [
    "user2.email, user2.username"
   ]
  },
  {
   "cell_type": "markdown",
   "id": "da7c4399-142f-4415-bc38-7d68f8037e75",
   "metadata": {},
   "source": [
    "You can also define custom methods inside a class."
   ]
  },
  {
   "cell_type": "code",
   "execution_count": 13,
   "id": "982e1bfb-0280-4fda-83a3-e9e209870826",
   "metadata": {},
   "outputs": [],
   "source": [
    "class User:\n",
    "    def __init__(self, username, name, email):\n",
    "        self.username = username\n",
    "        self.name = name\n",
    "        self.email = email\n",
    "    \n",
    "    def introduce_yourself(self, guest_name):\n",
    "        print(\"Hi {}, I am {}! Contact me at {}.\".format(guest_name, self.name, self.email))"
   ]
  },
  {
   "cell_type": "code",
   "execution_count": 15,
   "id": "28592bce-b07a-44cf-a4be-64f000e430e7",
   "metadata": {},
   "outputs": [],
   "source": [
    "user3 = User('jane', 'Jane Doe', 'jane@doe.com')"
   ]
  },
  {
   "cell_type": "code",
   "execution_count": 16,
   "id": "cc21fe69-a346-4f08-998f-5fc3894cc547",
   "metadata": {},
   "outputs": [
    {
     "name": "stdout",
     "output_type": "stream",
     "text": [
      "Hi Jey, I am Jane Doe! Contact me at jane@doe.com.\n"
     ]
    }
   ],
   "source": [
    "user3.introduce_yourself('Jey')"
   ]
  },
  {
   "cell_type": "markdown",
   "id": "d8fe652d-88de-4649-906f-088036ac5bc3",
   "metadata": {},
   "source": [
    "When we try to invoke the method `user3.introduce_yourself`, the object `user3` is automatically passed as the first argument `self`. Indeed, the following statement is equivalent to the above statement."
   ]
  },
  {
   "cell_type": "code",
   "execution_count": 17,
   "id": "6093965d-018a-4551-ba38-cee2301e3837",
   "metadata": {},
   "outputs": [
    {
     "name": "stdout",
     "output_type": "stream",
     "text": [
      "Hi Jey, I am Jane Doe! Contact me at jane@doe.com.\n"
     ]
    }
   ],
   "source": [
    "User.introduce_yourself(user3, 'Jey')"
   ]
  },
  {
   "cell_type": "markdown",
   "id": "2fc51728-4445-42ed-a448-9cdb9e21c49d",
   "metadata": {},
   "source": [
    "Finally, we'll define a couple of helper methods to display user objects nicely within Jupyter."
   ]
  },
  {
   "cell_type": "code",
   "execution_count": 26,
   "id": "da233da9-86fd-4b53-acf8-7305bcad67dd",
   "metadata": {},
   "outputs": [],
   "source": [
    "class User:\n",
    "    def __init__(self, username, name, email):\n",
    "        self.username = username\n",
    "        self.name = name\n",
    "        self.email = email\n",
    "        \n",
    "    def __repr__(self):\n",
    "        return \"User(username='{}', name='{}', email='{}')\".format(self.username, self.name, self.email)\n",
    "    \n",
    "    def __str__(self):\n",
    "        return self.__repr__()"
   ]
  },
  {
   "cell_type": "code",
   "execution_count": 27,
   "id": "c2659dcf-98ae-4948-b8ec-c6985aa354a7",
   "metadata": {},
   "outputs": [],
   "source": [
    "user4 = User('jane', 'Jane Doe', 'jane@doe.com')"
   ]
  },
  {
   "cell_type": "code",
   "execution_count": 28,
   "id": "c3fb369e-098a-406e-9eed-1ae0ef75b462",
   "metadata": {},
   "outputs": [
    {
     "data": {
      "text/plain": [
       "User(username='jane', name='Jane Doe', email='jane@doe.com')"
      ]
     },
     "execution_count": 28,
     "metadata": {},
     "output_type": "execute_result"
    }
   ],
   "source": [
    "user4"
   ]
  },
  {
   "cell_type": "code",
   "execution_count": 29,
   "id": "fd7814b5-6814-47a0-92ad-d64661bb9d5a",
   "metadata": {},
   "outputs": [
    {
     "data": {
      "text/plain": [
       "<__main__.User at 0x10391dbe0>"
      ]
     },
     "execution_count": 29,
     "metadata": {},
     "output_type": "execute_result"
    }
   ],
   "source": [
    "user3"
   ]
  },
  {
   "cell_type": "markdown",
   "id": "7711bcc8-8ed3-43c8-a83a-5b8182255d50",
   "metadata": {},
   "source": [
    "**Exercise:** What is the purpose of defining the functions `__str__` and `__repr__` within a class? How are the two functions different? Illustrate with some examples using the empty cells below.\n",
    "\n",
    "\n",
    "-> [Here](https://stackoverflow.com/questions/1436703/what-is-the-difference-between-str-and-repr)"
   ]
  },
  {
   "cell_type": "markdown",
   "id": "29ac146b-b5e8-407a-a752-9ee0a07c2fc7",
   "metadata": {},
   "source": [
    "#### Output\n",
    "\n",
    "We can also express our desired data structure as a Python class `UserDatabase` with four methods: `insert`, `find`, `update` and `list_all`. "
   ]
  },
  {
   "cell_type": "code",
   "execution_count": 31,
   "id": "ae1d685f-f8d5-4f1d-8049-51fe8951d5cb",
   "metadata": {},
   "outputs": [],
   "source": [
    "class UserDatabase:\n",
    "    def insert(self, user):\n",
    "        pass\n",
    "    \n",
    "    def find(self, username):\n",
    "        pass\n",
    "    \n",
    "    def update(self, user):\n",
    "        pass\n",
    "    \n",
    "    def list_all(self):\n",
    "        pass"
   ]
  },
  {
   "cell_type": "markdown",
   "id": "2a478997-e750-40d4-8f61-959f86207bdd",
   "metadata": {},
   "source": [
    "It's good programming practice to list out the signatures of different class functions before we actually implement the class."
   ]
  },
  {
   "cell_type": "code",
   "execution_count": 32,
   "id": "1cf1bc72-47ca-4841-845f-53c3ee1318ac",
   "metadata": {},
   "outputs": [],
   "source": [
    "aakash = User('aakash', 'Aakash Rai', 'aakash@example.com')\n",
    "biraj = User('biraj', 'Biraj Das', 'biraj@example.com')\n",
    "hemanth = User('hemanth', 'Hemanth Jain', 'hemanth@example.com')\n",
    "jadhesh = User('jadhesh', 'Jadhesh Verma', 'jadhesh@example.com')\n",
    "siddhant = User('siddhant', 'Siddhant Sinha', 'siddhant@example.com')\n",
    "sonaksh = User('sonaksh', 'Sonaksh Kumar', 'sonaksh@example.com')\n",
    "vishal = User('vishal', 'Vishal Goel', 'vishal@example.com')"
   ]
  },
  {
   "cell_type": "code",
   "execution_count": 33,
   "id": "8e573760-ffaa-4532-85ee-793d01ec4ea5",
   "metadata": {},
   "outputs": [],
   "source": [
    "users = [aakash, biraj, hemanth, jadhesh, siddhant, sonaksh, vishal]"
   ]
  },
  {
   "cell_type": "markdown",
   "id": "d96afdbf-f2c4-4ab8-8abf-f1f86a70fa50",
   "metadata": {},
   "source": [
    "We can access different fields within a user profile object using the `.` (dot) notation."
   ]
  },
  {
   "cell_type": "code",
   "execution_count": 34,
   "id": "8164b41c-50f6-48d7-a677-a33b6074cd27",
   "metadata": {},
   "outputs": [
    {
     "data": {
      "text/plain": [
       "('biraj', 'biraj@example.com', 'Biraj Das')"
      ]
     },
     "execution_count": 34,
     "metadata": {},
     "output_type": "execute_result"
    }
   ],
   "source": [
    "biraj.username, biraj.email, biraj.name"
   ]
  },
  {
   "cell_type": "markdown",
   "id": "c987cc76-14c4-4187-818d-a10cf23b7c29",
   "metadata": {},
   "source": [
    "We can also view a string representation of the object, since defined the `__repr__` and `__str__` methods"
   ]
  },
  {
   "cell_type": "code",
   "execution_count": 35,
   "id": "d32f91d7-576e-48e5-813f-410f6b1d2b48",
   "metadata": {},
   "outputs": [
    {
     "name": "stdout",
     "output_type": "stream",
     "text": [
      "User(username='aakash', name='Aakash Rai', email='aakash@example.com')\n"
     ]
    }
   ],
   "source": [
    "print(aakash)"
   ]
  },
  {
   "cell_type": "code",
   "execution_count": 36,
   "id": "5e6322fc-0d65-4970-855c-9540905b2a75",
   "metadata": {},
   "outputs": [
    {
     "data": {
      "text/plain": [
       "[User(username='aakash', name='Aakash Rai', email='aakash@example.com'),\n",
       " User(username='biraj', name='Biraj Das', email='biraj@example.com'),\n",
       " User(username='hemanth', name='Hemanth Jain', email='hemanth@example.com'),\n",
       " User(username='jadhesh', name='Jadhesh Verma', email='jadhesh@example.com'),\n",
       " User(username='siddhant', name='Siddhant Sinha', email='siddhant@example.com'),\n",
       " User(username='sonaksh', name='Sonaksh Kumar', email='sonaksh@example.com'),\n",
       " User(username='vishal', name='Vishal Goel', email='vishal@example.com')]"
      ]
     },
     "execution_count": 36,
     "metadata": {},
     "output_type": "execute_result"
    }
   ],
   "source": [
    "users"
   ]
  },
  {
   "cell_type": "markdown",
   "id": "36306428-4a7b-478b-aeb3-7175099b6816",
   "metadata": {},
   "source": [
    "Since we haven't implemented our data structure yet, it's not possible to list sample outputs. However you can try to come up with different scenarios to test future implementations\n",
    "\n",
    "**Exercise:** List some scenarios for testing the class methods `insert`, `find`, `update` and `list_all`.\n",
    "\n",
    "1. Insert:\n",
    "\n",
    "    1. Inserting into an empty database of users\n",
    "    2. Trying to insert a user with a username that already exists\n",
    "    3. Inserting a user with a username that does not exist\n",
    "    4. ???\n",
    "\n",
    "2. Find:\n",
    "\n",
    "    1. Find a user with an existing username\n",
    "    2. Try to find a user with a non-existent username\n",
    "    3. ???\n",
    "\n",
    "3. Update:\n",
    "\n",
    "    1. Update the information given an existing username\n",
    "    2. Try to update information given a non-existent username\n",
    "    3. ???\n",
    "\n",
    "4. List:\n",
    "\n",
    "    1. List an empty database\n",
    "    2. List a non-empty database sorted by username\n",
    "    3. For the 4\n",
    "\n"
   ]
  },
  {
   "cell_type": "code",
   "execution_count": null,
   "id": "4c0c838d-87c4-415f-b9b5-2c7ac7f0f711",
   "metadata": {},
   "outputs": [],
   "source": []
  },
  {
   "cell_type": "code",
   "execution_count": null,
   "id": "083e8c86-f8cd-44ea-9f6e-b3254a812894",
   "metadata": {},
   "outputs": [],
   "source": []
  },
  {
   "cell_type": "code",
   "execution_count": null,
   "id": "fd78e4ae-4a64-44f8-8e37-ab14bf483fc7",
   "metadata": {},
   "outputs": [],
   "source": []
  },
  {
   "cell_type": "code",
   "execution_count": null,
   "id": "d544e794-ed7d-459c-b03f-d411ecfeae86",
   "metadata": {},
   "outputs": [],
   "source": []
  }
 ],
 "metadata": {
  "kernelspec": {
   "display_name": "Python 3 (ipykernel)",
   "language": "python",
   "name": "python3"
  },
  "language_info": {
   "codemirror_mode": {
    "name": "ipython",
    "version": 3
   },
   "file_extension": ".py",
   "mimetype": "text/x-python",
   "name": "python",
   "nbconvert_exporter": "python",
   "pygments_lexer": "ipython3",
   "version": "3.9.7"
  }
 },
 "nbformat": 4,
 "nbformat_minor": 5
}
