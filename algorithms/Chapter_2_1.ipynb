{
 "cells": [
  {
   "cell_type": "markdown",
   "id": "a40c894e-e1e6-4d82-ad56-af92c0d3b0c7",
   "metadata": {},
   "source": [
    "# Binary Search Trees, Traversals and Balancing in Python\n",
    "\n",
    "### Part 2 of \"Data Structures and Algorithms in Python\"\n",
    "\n",
    "![](https://i.imgur.com/lVqP63n.png)\n",
    "\n",
    "\n",
    "\n",
    "\n",
    "\n",
    "[Data Structures and Algorithms in Python](https://jovian.ai/learn/data-structures-and-algorithms-in-python) is a beginner-friendly introduction to common data structures (linked lists, stacks, queues, graphs) and algorithms (search, sorting, recursion, dynamic programming) in Python, designed to help you prepare for coding interviews and assessments.\n",
    "\n",
    "\n",
    "Earn a verified certificate of accomplishment for this course by signing up here: http://pythondsa.com.\n",
    "\n",
    "Ask questions, get help & participate in discussions on the community forum: https://jovian.ai/forum/c/data-structures-and-algorithms-in-python/78"
   ]
  },
  {
   "cell_type": "markdown",
   "id": "d9439220-385d-4661-b0ee-00d1ebf6decc",
   "metadata": {},
   "source": [
    "## Problem \n",
    "\n",
    "\n",
    "In this notebook, we'll focus on solving the following problem:\n",
    "\n",
    "> **QUESTION 1**: As a senior backend engineer at Jovian, you are tasked with developing a fast in-memory data structure to manage profile information (username, name and email) for 100 million users. It should allow the following operations to be performed efficiently:\n",
    "> \n",
    "> 1. **Insert** the profile information for a new user.\n",
    "> 2. **Find** the profile information of a user, given their username\n",
    "> 3. **Update** the profile information of a user, given their usrname\n",
    "> 5. **List** all the users of the platform, sorted by username\n",
    ">\n",
    "> You can assume that usernames are unique. \n",
    "\n",
    "Along the way, we will also solve several other questions related to binary trees and binary search trees that are often asked in coding interviews and assessments. "
   ]
  },
  {
   "cell_type": "markdown",
   "id": "d71e1b9c-49c6-42c8-b855-a40b2870684e",
   "metadata": {},
   "source": [
    "## The Method\n",
    "\n",
    "\n",
    "Here's a systematic strategy we'll apply for solving problems:\n",
    "\n",
    "1. State the problem clearly. Identify the input & output formats.\n",
    "2. Come up with some example inputs & outputs. Try to cover all edge cases.\n",
    "3. Come up with a correct solution for the problem. State it in plain English.\n",
    "4. Implement the solution and test it using example inputs. Fix bugs, if any.\n",
    "5. Analyze the algorithm's complexity and identify inefficiencies, if any.\n",
    "6. Apply the right technique to overcome the inefficiency. Repeat steps 3 to 6.\n"
   ]
  },
  {
   "cell_type": "markdown",
   "id": "90a24503-63ed-4d54-8e29-c3784385a56c",
   "metadata": {},
   "source": [
    "## 1. State the problem clearly. Identify the input & output formats.\n",
    "\n",
    "#### Problem\n",
    "\n",
    "> We need to create a data structure which can store 100 million records and perform insertion, search, update and list operations efficiently.\n",
    "\n",
    "#### Input\n",
    "\n",
    "The key inputs to our data structure are user profiles, which contain the username, name and email of a user. \n",
    "\n",
    "A Python _class_ would be a great way to represent the information for a user. A class is a blueprint for creating _objects_. Everything in Python is an _object_ belonging to some _class_. Here's the simples possible class in Python, with nothing in it:"
   ]
  },
  {
   "cell_type": "code",
   "execution_count": 1,
   "id": "070d614c-f4a4-473e-b225-345278fc5cac",
   "metadata": {},
   "outputs": [],
   "source": [
    "class User:\n",
    "    pass"
   ]
  },
  {
   "cell_type": "markdown",
   "id": "756a97c6-93df-41b5-9f63-c01002c36034",
   "metadata": {},
   "source": [
    "We can create or _instantiate_ an object of the class by calling it like a function."
   ]
  },
  {
   "cell_type": "code",
   "execution_count": 2,
   "id": "6637c8b9-c87e-451e-bfbc-80d1d8058638",
   "metadata": {},
   "outputs": [],
   "source": [
    "user1 = User()"
   ]
  },
  {
   "cell_type": "code",
   "execution_count": 3,
   "id": "98d456c9-e7f1-465a-9049-e370b24d109f",
   "metadata": {},
   "outputs": [
    {
     "data": {
      "text/plain": [
       "<__main__.User at 0x103fc3850>"
      ]
     },
     "execution_count": 3,
     "metadata": {},
     "output_type": "execute_result"
    }
   ],
   "source": [
    "user1"
   ]
  },
  {
   "cell_type": "code",
   "execution_count": 4,
   "id": "61d06c50-764f-4268-9e92-60acbfdf33b0",
   "metadata": {},
   "outputs": [
    {
     "data": {
      "text/plain": [
       "__main__.User"
      ]
     },
     "execution_count": 4,
     "metadata": {},
     "output_type": "execute_result"
    }
   ],
   "source": [
    "type(user1)"
   ]
  },
  {
   "cell_type": "markdown",
   "id": "873d050b-40e2-4317-84f9-ca8431f63c59",
   "metadata": {},
   "source": [
    "The object `user1` does not contain any useful information. Let's add a _constructor method_ to the class to store some _attributes_ or _properties_."
   ]
  },
  {
   "cell_type": "code",
   "execution_count": 5,
   "id": "1659c13c-1fc2-401d-9a4a-dbd85d3e7b13",
   "metadata": {},
   "outputs": [],
   "source": [
    "class User:\n",
    "    def __init__(self, username, name, email):\n",
    "        self.username = username\n",
    "        self.name = name\n",
    "        self.email = email\n",
    "        print('User created!')"
   ]
  },
  {
   "cell_type": "markdown",
   "id": "5b1fd92e-3f57-4a55-bf31-f006856b9751",
   "metadata": {},
   "source": [
    "We can now create an object with some properties."
   ]
  },
  {
   "cell_type": "code",
   "execution_count": 6,
   "id": "6396f7ad-3de0-413e-a32c-9ead5bd58b63",
   "metadata": {},
   "outputs": [
    {
     "name": "stdout",
     "output_type": "stream",
     "text": [
      "User created!\n"
     ]
    }
   ],
   "source": [
    "user2 = User('john', 'John Doe', 'john@doe.com')"
   ]
  },
  {
   "cell_type": "code",
   "execution_count": 7,
   "id": "7070ab7a-245b-4d00-93c2-a54bb0dc39c3",
   "metadata": {},
   "outputs": [
    {
     "data": {
      "text/plain": [
       "<__main__.User at 0x103f59730>"
      ]
     },
     "execution_count": 7,
     "metadata": {},
     "output_type": "execute_result"
    }
   ],
   "source": [
    "user2"
   ]
  },
  {
   "cell_type": "markdown",
   "id": "dbc29d93-3e53-4cf6-925a-7494eac372e6",
   "metadata": {},
   "source": [
    "Here's what's happening above (conceptually):\n",
    "\n",
    "- Python creates an empty object of the type user and stores in the variable `user2`\n",
    "- Python then invokes the function `User.__init__` with the arguments `user2`, `\"john\"`, `\"John Doe\"` and `\"john@doe.com\"`\n",
    "- As the `__init__` function is executed, the properties `username`, `name` and `email` are set on the object `user2`"
   ]
  },
  {
   "cell_type": "code",
   "execution_count": 8,
   "id": "083cf9cc-cc7b-4237-a7c2-68c10522bf2b",
   "metadata": {},
   "outputs": [
    {
     "data": {
      "text/plain": [
       "<function __main__.User.__init__(self, username, name, email)>"
      ]
     },
     "execution_count": 8,
     "metadata": {},
     "output_type": "execute_result"
    }
   ],
   "source": [
    "User.__init__"
   ]
  },
  {
   "cell_type": "code",
   "execution_count": 9,
   "id": "c37df1d7-d9ec-4902-9c25-12dd24f4f97d",
   "metadata": {},
   "outputs": [
    {
     "data": {
      "text/plain": [
       "'John Doe'"
      ]
     },
     "execution_count": 9,
     "metadata": {},
     "output_type": "execute_result"
    }
   ],
   "source": [
    "user2.name"
   ]
  },
  {
   "cell_type": "code",
   "execution_count": 10,
   "id": "a22f2f50-1aa7-4f64-a239-d98c5cc1eec3",
   "metadata": {},
   "outputs": [
    {
     "data": {
      "text/plain": [
       "('john@doe.com', 'john')"
      ]
     },
     "execution_count": 10,
     "metadata": {},
     "output_type": "execute_result"
    }
   ],
   "source": [
    "user2.email, user2.username"
   ]
  },
  {
   "cell_type": "markdown",
   "id": "da7c4399-142f-4415-bc38-7d68f8037e75",
   "metadata": {},
   "source": [
    "You can also define custom methods inside a class."
   ]
  },
  {
   "cell_type": "code",
   "execution_count": 11,
   "id": "982e1bfb-0280-4fda-83a3-e9e209870826",
   "metadata": {},
   "outputs": [],
   "source": [
    "class User:\n",
    "    def __init__(self, username, name, email):\n",
    "        self.username = username\n",
    "        self.name = name\n",
    "        self.email = email\n",
    "    \n",
    "    def introduce_yourself(self, guest_name):\n",
    "        print(\"Hi {}, I am {}! Contact me at {}.\".format(guest_name, self.name, self.email))"
   ]
  },
  {
   "cell_type": "code",
   "execution_count": 12,
   "id": "28592bce-b07a-44cf-a4be-64f000e430e7",
   "metadata": {},
   "outputs": [],
   "source": [
    "user3 = User('jane', 'Jane Doe', 'jane@doe.com')"
   ]
  },
  {
   "cell_type": "code",
   "execution_count": 13,
   "id": "cc21fe69-a346-4f08-998f-5fc3894cc547",
   "metadata": {},
   "outputs": [
    {
     "name": "stdout",
     "output_type": "stream",
     "text": [
      "Hi Jey, I am Jane Doe! Contact me at jane@doe.com.\n"
     ]
    }
   ],
   "source": [
    "user3.introduce_yourself('Jey')"
   ]
  },
  {
   "cell_type": "markdown",
   "id": "d8fe652d-88de-4649-906f-088036ac5bc3",
   "metadata": {},
   "source": [
    "When we try to invoke the method `user3.introduce_yourself`, the object `user3` is automatically passed as the first argument `self`. Indeed, the following statement is equivalent to the above statement."
   ]
  },
  {
   "cell_type": "code",
   "execution_count": 14,
   "id": "6093965d-018a-4551-ba38-cee2301e3837",
   "metadata": {},
   "outputs": [
    {
     "name": "stdout",
     "output_type": "stream",
     "text": [
      "Hi Jey, I am Jane Doe! Contact me at jane@doe.com.\n"
     ]
    }
   ],
   "source": [
    "User.introduce_yourself(user3, 'Jey')"
   ]
  },
  {
   "cell_type": "markdown",
   "id": "2fc51728-4445-42ed-a448-9cdb9e21c49d",
   "metadata": {},
   "source": [
    "Finally, we'll define a couple of helper methods to display user objects nicely within Jupyter."
   ]
  },
  {
   "cell_type": "code",
   "execution_count": 15,
   "id": "da233da9-86fd-4b53-acf8-7305bcad67dd",
   "metadata": {},
   "outputs": [],
   "source": [
    "class User:\n",
    "    def __init__(self, username, name, email):\n",
    "        self.username = username\n",
    "        self.name = name\n",
    "        self.email = email\n",
    "        \n",
    "    def __repr__(self):\n",
    "        return \"User(username='{}', name='{}', email='{}')\".format(self.username, self.name, self.email)\n",
    "    \n",
    "    def __str__(self):\n",
    "        return self.__repr__()"
   ]
  },
  {
   "cell_type": "code",
   "execution_count": 16,
   "id": "c2659dcf-98ae-4948-b8ec-c6985aa354a7",
   "metadata": {},
   "outputs": [],
   "source": [
    "user4 = User('jane', 'Jane Doe', 'jane@doe.com')"
   ]
  },
  {
   "cell_type": "code",
   "execution_count": 17,
   "id": "c3fb369e-098a-406e-9eed-1ae0ef75b462",
   "metadata": {},
   "outputs": [
    {
     "data": {
      "text/plain": [
       "User(username='jane', name='Jane Doe', email='jane@doe.com')"
      ]
     },
     "execution_count": 17,
     "metadata": {},
     "output_type": "execute_result"
    }
   ],
   "source": [
    "user4"
   ]
  },
  {
   "cell_type": "code",
   "execution_count": 18,
   "id": "fd7814b5-6814-47a0-92ad-d64661bb9d5a",
   "metadata": {},
   "outputs": [
    {
     "data": {
      "text/plain": [
       "<__main__.User at 0x104024ee0>"
      ]
     },
     "execution_count": 18,
     "metadata": {},
     "output_type": "execute_result"
    }
   ],
   "source": [
    "user3"
   ]
  },
  {
   "cell_type": "markdown",
   "id": "7711bcc8-8ed3-43c8-a83a-5b8182255d50",
   "metadata": {},
   "source": [
    "**Exercise:** What is the purpose of defining the functions `__str__` and `__repr__` within a class? How are the two functions different? Illustrate with some examples using the empty cells below.\n",
    "\n",
    "\n",
    "-> [Here](https://stackoverflow.com/questions/1436703/what-is-the-difference-between-str-and-repr)"
   ]
  },
  {
   "cell_type": "markdown",
   "id": "29ac146b-b5e8-407a-a752-9ee0a07c2fc7",
   "metadata": {},
   "source": [
    "#### Output\n",
    "\n",
    "We can also express our desired data structure as a Python class `UserDatabase` with four methods: `insert`, `find`, `update` and `list_all`. "
   ]
  },
  {
   "cell_type": "code",
   "execution_count": 20,
   "id": "ae1d685f-f8d5-4f1d-8049-51fe8951d5cb",
   "metadata": {},
   "outputs": [],
   "source": [
    "class UserDatabase:\n",
    "    \n",
    "    def insert(self, user):\n",
    "        pass\n",
    "    \n",
    "    def find(self, username):\n",
    "        pass\n",
    "    \n",
    "    def update(self, user):\n",
    "        pass\n",
    "    \n",
    "    def list_all(self):\n",
    "        pass"
   ]
  },
  {
   "cell_type": "markdown",
   "id": "2a478997-e750-40d4-8f61-959f86207bdd",
   "metadata": {},
   "source": [
    "It's good programming practice to list out the signatures of different class functions before we actually implement the class."
   ]
  },
  {
   "cell_type": "code",
   "execution_count": 22,
   "id": "1cf1bc72-47ca-4841-845f-53c3ee1318ac",
   "metadata": {},
   "outputs": [],
   "source": [
    "jkim = User('jkim', 'Jeonghyeop Kim', 'jkim@example.com')\n",
    "hge = User('hge', 'Goeun Ha', 'hge@example.com')\n",
    "khjttr = User('khjttr', 'Hyojin Kim', 'khjttr@example.com')\n",
    "placetectonics = User('placetectonics', 'Jason Morgan', 'jmorgan@example.com')\n",
    "mprinz = User('mprinz', 'Mike Prinz', 'mprinz@example.com')\n",
    "aakash = User('aakash', 'Aakash Rai', 'aakash@example.com')\n",
    "appleman = User('appleman', 'Tim Cook', 'appleman@example.com')"
   ]
  },
  {
   "cell_type": "code",
   "execution_count": 45,
   "id": "b304de2f-ef35-40e6-b6bb-f22b943601d3",
   "metadata": {},
   "outputs": [
    {
     "data": {
      "text/plain": [
       "[User(username='jkim', name='Jeonghyeop Kim', email='jkim@example.com'),\n",
       " User(username='hge', name='Goeun Ha', email='hge@example.com'),\n",
       " User(username='khjttr', name='Hyojin Kim', email='khjttr@example.com'),\n",
       " User(username='placetectonics', name='Jason Morgan', email='jmorgan@example.com'),\n",
       " User(username='mprinz', name='Mike Prinz', email='mprinz@example.com'),\n",
       " User(username='aakash', name='Aakash Rai', email='aakash@example.com'),\n",
       " User(username='appleman', name='Tim Cook', email='appleman@example.com')]"
      ]
     },
     "execution_count": 45,
     "metadata": {},
     "output_type": "execute_result"
    }
   ],
   "source": [
    "users = [jkim, hge, khjttr, placetectonics, mprinz, aakash, appleman]\n",
    "users"
   ]
  },
  {
   "cell_type": "markdown",
   "id": "d96afdbf-f2c4-4ab8-8abf-f1f86a70fa50",
   "metadata": {},
   "source": [
    "We can access different fields within a user profile object using the `.` (dot) notation."
   ]
  },
  {
   "cell_type": "code",
   "execution_count": 46,
   "id": "8164b41c-50f6-48d7-a677-a33b6074cd27",
   "metadata": {},
   "outputs": [
    {
     "data": {
      "text/plain": [
       "('jkim', 'jkim@example.com', 'Jeonghyeop Kim')"
      ]
     },
     "execution_count": 46,
     "metadata": {},
     "output_type": "execute_result"
    }
   ],
   "source": [
    "jkim.username, jkim.email, jkim.name"
   ]
  },
  {
   "cell_type": "markdown",
   "id": "c987cc76-14c4-4187-818d-a10cf23b7c29",
   "metadata": {},
   "source": [
    "We can also view a string representation of the object, since defined the `__repr__` and `__str__` methods"
   ]
  },
  {
   "cell_type": "code",
   "execution_count": 47,
   "id": "d32f91d7-576e-48e5-813f-410f6b1d2b48",
   "metadata": {},
   "outputs": [
    {
     "name": "stdout",
     "output_type": "stream",
     "text": [
      "User(username='hge', name='Goeun Ha', email='hge@example.com')\n"
     ]
    }
   ],
   "source": [
    "print(hge)"
   ]
  },
  {
   "cell_type": "code",
   "execution_count": 52,
   "id": "5e6322fc-0d65-4970-855c-9540905b2a75",
   "metadata": {},
   "outputs": [
    {
     "data": {
      "text/plain": [
       "'Hyojin Kim'"
      ]
     },
     "execution_count": 52,
     "metadata": {},
     "output_type": "execute_result"
    }
   ],
   "source": [
    "users[2].name"
   ]
  },
  {
   "cell_type": "markdown",
   "id": "36306428-4a7b-478b-aeb3-7175099b6816",
   "metadata": {},
   "source": [
    "Since we haven't implemented our data structure yet, it's not possible to list sample outputs. However you can try to come up with different scenarios to test future implementations\n",
    "\n",
    "**Exercise:** List some scenarios for testing the class methods `insert`, `find`, `update` and `list_all`.\n",
    "\n",
    "1. Insert:\n",
    "\n",
    "    1. Inserting into an empty database of users\n",
    "    2. Trying to insert a user with a username that already exists\n",
    "    3. Inserting a user with a username that does not exist\n",
    "    4. ???\n",
    "\n",
    "2. Find:\n",
    "\n",
    "    1. Find a user with an existing username\n",
    "    2. Try to find a user with a non-existent username\n",
    "    3. Find a user from an empty database of users\n",
    "\n",
    "3. Update:\n",
    "\n",
    "    1. Update the information given an existing username\n",
    "    2. Try to update information given a non-existent username\n",
    "    3. Try to update information in an empty database\n",
    "\n",
    "4. List:\n",
    "\n",
    "    1. List an empty database\n",
    "    2. List a non-empty database sorted by username\n",
    "\n",
    "\n"
   ]
  },
  {
   "cell_type": "markdown",
   "id": "3bba47de-8c8d-4598-b172-b4914ed6a3bf",
   "metadata": {},
   "source": [
    "## 3. Come up with a correct solution. State it in plain English.\n",
    "\n",
    "Here's a simple and easy solution to the problem: we store the `User` objects in a list sorted by usernames. \n",
    "\n",
    "The various functions can be implemented as follows:\n",
    "\n",
    "1. **Insert**: Loop through the list and add the new user at a position that keeps the list sorted.\n",
    "2. **Find**: Loop through the list and find the user object with the username matching the query.\n",
    "3. **Update**: Loop through the list, find the user object matching the query and update the details\n",
    "4. **List**: Return the list of user objects.\n",
    "\n",
    "We can use the fact usernames, which are are strings can be compared using the `<`, `>` and `==` operators in Python."
   ]
  },
  {
   "cell_type": "code",
   "execution_count": 39,
   "id": "083e8c86-f8cd-44ea-9f6e-b3254a812894",
   "metadata": {},
   "outputs": [
    {
     "data": {
      "text/plain": [
       "True"
      ]
     },
     "execution_count": 39,
     "metadata": {},
     "output_type": "execute_result"
    }
   ],
   "source": [
    "'appleman' < 'hge'"
   ]
  },
  {
   "cell_type": "code",
   "execution_count": 40,
   "id": "263f8088-8cf8-4a00-9ab4-09f2cbf52de2",
   "metadata": {},
   "outputs": [
    {
     "data": {
      "text/plain": [
       "False"
      ]
     },
     "execution_count": 40,
     "metadata": {},
     "output_type": "execute_result"
    }
   ],
   "source": [
    "'appleman' > 'hge'"
   ]
  },
  {
   "cell_type": "markdown",
   "id": "e5802b2c-dba6-4f0c-ae55-f53f64c85624",
   "metadata": {},
   "source": [
    "## 4. Implement the solution and test it using example inputs.\n",
    "\n",
    "The code for implementing the above solution is also fairly straightfoward."
   ]
  },
  {
   "cell_type": "code",
   "execution_count": 42,
   "id": "6e662359-358d-47e5-bdeb-3edfed028412",
   "metadata": {},
   "outputs": [],
   "source": [
    "i = 0\n",
    "users = []"
   ]
  },
  {
   "cell_type": "code",
   "execution_count": 43,
   "id": "5c5137bd-522e-4fce-b493-22c7d1583e94",
   "metadata": {},
   "outputs": [
    {
     "data": {
      "text/plain": [
       "False"
      ]
     },
     "execution_count": 43,
     "metadata": {},
     "output_type": "execute_result"
    }
   ],
   "source": [
    "i < len(users)"
   ]
  },
  {
   "cell_type": "code",
   "execution_count": 84,
   "id": "d544e794-ed7d-459c-b03f-d411ecfeae86",
   "metadata": {},
   "outputs": [],
   "source": [
    "class UserDatabase:\n",
    "\n",
    "    def __init__(self):\n",
    "        self.users = []\n",
    "        \n",
    "        \n",
    "    def insert(self, user):\n",
    "        i = 0 \n",
    "        while i < len(self.users):\n",
    "            # Find the first username greater than the new user's username\n",
    "            if self.users[i].username > user.username:\n",
    "                break        \n",
    "            i += 1\n",
    "        self.users.insert(i, user) \n",
    "        # This 'insert' here is python's built-in function for lists\n",
    "        # e.g., list_name.insert(idx_number, variable_name)\n",
    "        \n",
    "    \n",
    "    def find(self, username):\n",
    "        for user in self.users:\n",
    "            if user.username == username:\n",
    "                return user\n",
    "           \n",
    "        \n",
    "    def update(self, user):\n",
    "        target = self.find(user.username)\n",
    "        target.name, target.email = user.name, user.email\n",
    "        \n",
    "        \n",
    "    def list_all(self):\n",
    "        return self.users"
   ]
  },
  {
   "cell_type": "markdown",
   "id": "2db13e67-31cc-4d03-bdd7-4c4f0ea0d6df",
   "metadata": {},
   "source": [
    "We can create a new database of users by _instantiating_ and object of the `UserDatabase` class.\n",
    "> instantiate = create an object = make an \"instance\" of a given class."
   ]
  },
  {
   "cell_type": "code",
   "execution_count": 85,
   "id": "60f29bfe-94ac-4a46-b370-11700abd061d",
   "metadata": {},
   "outputs": [],
   "source": [
    "database = UserDatabase()"
   ]
  },
  {
   "cell_type": "code",
   "execution_count": 86,
   "id": "07ff2b3e-95f7-4af8-965e-d5c662483214",
   "metadata": {},
   "outputs": [
    {
     "data": {
      "text/plain": [
       "[]"
      ]
     },
     "execution_count": 86,
     "metadata": {},
     "output_type": "execute_result"
    }
   ],
   "source": [
    "database.list_all()"
   ]
  },
  {
   "cell_type": "code",
   "execution_count": 87,
   "id": "1e5a42dc-f5ad-41a8-98a8-c4d1809b2c76",
   "metadata": {},
   "outputs": [],
   "source": [
    "database.insert(khjttr)\n",
    "\n",
    "database.insert(hge)\n",
    "\n",
    "database.insert(jkim)"
   ]
  },
  {
   "cell_type": "code",
   "execution_count": 88,
   "id": "0735ca17-63c9-4042-af18-975f67280856",
   "metadata": {},
   "outputs": [
    {
     "data": {
      "text/plain": [
       "[User(username='hge', name='Goeun Ha', email='hge@example.com'),\n",
       " User(username='jkim', name='Jeonghyeop Kim', email='jkim@example.com'),\n",
       " User(username='khjttr', name='Jinhyo Kim', email='jinhyo@example.com')]"
      ]
     },
     "execution_count": 88,
     "metadata": {},
     "output_type": "execute_result"
    }
   ],
   "source": [
    "database.users"
   ]
  },
  {
   "cell_type": "markdown",
   "id": "d217910d-cbcf-4765-bd90-424e3c91b919",
   "metadata": {},
   "source": [
    "We can now retrieve the data for a user, given their username."
   ]
  },
  {
   "cell_type": "code",
   "execution_count": 89,
   "id": "e5169468-1a5d-4a4f-bc3e-e11a5b645685",
   "metadata": {},
   "outputs": [
    {
     "data": {
      "text/plain": [
       "User(username='jkim', name='Jeonghyeop Kim', email='jkim@example.com')"
      ]
     },
     "execution_count": 89,
     "metadata": {},
     "output_type": "execute_result"
    }
   ],
   "source": [
    "user = database.find('jkim')\n",
    "user"
   ]
  },
  {
   "cell_type": "markdown",
   "id": "2d256194-c329-4913-a919-5fcaf9fbd448",
   "metadata": {},
   "source": [
    "Let's try changing the information for a user"
   ]
  },
  {
   "cell_type": "code",
   "execution_count": 90,
   "id": "c713ad75-3a7e-4019-b52c-76a11fcbab86",
   "metadata": {},
   "outputs": [],
   "source": [
    "database.update(User(username='khjttr', name='Jinhyo Kim', email='jinhyo@example.com'))"
   ]
  },
  {
   "cell_type": "code",
   "execution_count": 91,
   "id": "83d806a6-a73d-42d0-b180-c73a255ba8a7",
   "metadata": {},
   "outputs": [
    {
     "data": {
      "text/plain": [
       "User(username='khjttr', name='Jinhyo Kim', email='jinhyo@example.com')"
      ]
     },
     "execution_count": 91,
     "metadata": {},
     "output_type": "execute_result"
    }
   ],
   "source": [
    "user = database.find('khjttr')\n",
    "user"
   ]
  },
  {
   "cell_type": "markdown",
   "id": "226fb1ba-5a83-440d-9e0a-057f63444398",
   "metadata": {},
   "source": [
    "Finally, we can retrieve a list of users in alphabetical order."
   ]
  },
  {
   "cell_type": "code",
   "execution_count": 92,
   "id": "3c816c28-6ad0-43dd-a685-acae2ed92eb2",
   "metadata": {},
   "outputs": [
    {
     "data": {
      "text/plain": [
       "[User(username='hge', name='Goeun Ha', email='hge@example.com'),\n",
       " User(username='jkim', name='Jeonghyeop Kim', email='jkim@example.com'),\n",
       " User(username='khjttr', name='Jinhyo Kim', email='jinhyo@example.com')]"
      ]
     },
     "execution_count": 92,
     "metadata": {},
     "output_type": "execute_result"
    }
   ],
   "source": [
    "database.list_all()"
   ]
  },
  {
   "cell_type": "code",
   "execution_count": 93,
   "id": "87b4b50e-a71d-48f2-bbc9-0a26332da065",
   "metadata": {},
   "outputs": [],
   "source": [
    "database.insert(appleman)"
   ]
  },
  {
   "cell_type": "code",
   "execution_count": 94,
   "id": "151eb7ad-758b-438c-85db-624994e719a6",
   "metadata": {},
   "outputs": [
    {
     "data": {
      "text/plain": [
       "[User(username='appleman', name='Tim Cook', email='appleman@example.com'),\n",
       " User(username='hge', name='Goeun Ha', email='hge@example.com'),\n",
       " User(username='jkim', name='Jeonghyeop Kim', email='jkim@example.com'),\n",
       " User(username='khjttr', name='Jinhyo Kim', email='jinhyo@example.com')]"
      ]
     },
     "execution_count": 94,
     "metadata": {},
     "output_type": "execute_result"
    }
   ],
   "source": [
    "database.list_all()"
   ]
  },
  {
   "cell_type": "markdown",
   "id": "f3f9e776-0c28-409e-a1cb-ed8e8cdde337",
   "metadata": {},
   "source": [
    "The user `appleman` was inserted just before `hge`, as expected.\n",
    "\n",
    "**Exercise:** Use the empty cells below to test the various scenarios you listed in step 2 above."
   ]
  },
  {
   "cell_type": "markdown",
   "id": "133a5c5e-026a-4427-8c6c-3c5b1e0bd4b6",
   "metadata": {},
   "source": [
    "1. Insert:\n",
    "\n",
    "    1. Inserting into an empty database of users\n",
    "    2. Trying to insert a user with a username that already exists\n",
    "    3. Inserting a user with a username that does not exist\n",
    "    4. ???\n",
    "\n",
    "2. Find:\n",
    "\n",
    "    1. Find a user with an existing username\n",
    "    2. Try to find a user with a non-existent username\n",
    "    3. Find a user from an empty database of users\n",
    "\n",
    "3. Update:\n",
    "\n",
    "    1. Update the information given an existing username\n",
    "    2. Try to update information given a non-existent username\n",
    "    3. Try to update information in an empty database\n",
    "\n",
    "4. List:\n",
    "\n",
    "    1. List an empty database\n",
    "    2. List a non-empty database sorted by username"
   ]
  },
  {
   "cell_type": "markdown",
   "id": "ff87ddeb-8e8a-499e-924b-1cf1e7a18e30",
   "metadata": {},
   "source": [
    "#### 1-A, 1-C, 2-A, 3-A, 4-A, 4-B were already tested. "
   ]
  },
  {
   "cell_type": "code",
   "execution_count": 82,
   "id": "871322cc-3362-4227-89fe-0c7526fe460b",
   "metadata": {},
   "outputs": [
    {
     "data": {
      "text/plain": [
       "[User(username='appleman', name='Tim Cook', email='appleman@example.com'),\n",
       " User(username='appleman', name='Tim Cook', email='appleman@example.com'),\n",
       " User(username='hge', name='Goeun Ha', email='hge@example.com'),\n",
       " User(username='jkim', name='Jeonghyeop Kim', email='jkim@example.com'),\n",
       " User(username='khjttr', name='Jinhyo Kim', email='jinhyo@example.com')]"
      ]
     },
     "execution_count": 82,
     "metadata": {},
     "output_type": "execute_result"
    }
   ],
   "source": [
    "# 1-B Add an existing username.\n",
    "database.insert(appleman)\n",
    "database.list_all()"
   ]
  },
  {
   "cell_type": "markdown",
   "id": "a31f40cb-9b7f-47d2-a4b5-c04e3d8eee61",
   "metadata": {},
   "source": [
    "#### The database now has redundant user information for appleman"
   ]
  },
  {
   "cell_type": "code",
   "execution_count": 96,
   "id": "4c207649-0c8e-40eb-92dc-c986fadd6a0e",
   "metadata": {},
   "outputs": [
    {
     "ename": "NameError",
     "evalue": "name 'jdoe' is not defined",
     "output_type": "error",
     "traceback": [
      "\u001b[0;31m---------------------------------------------------------------------------\u001b[0m",
      "\u001b[0;31mNameError\u001b[0m                                 Traceback (most recent call last)",
      "Input \u001b[0;32mIn [96]\u001b[0m, in \u001b[0;36m<module>\u001b[0;34m\u001b[0m\n\u001b[1;32m      1\u001b[0m \u001b[38;5;66;03m# 2-2 Try to find a user with a non-existent username\u001b[39;00m\n\u001b[0;32m----> 2\u001b[0m database\u001b[38;5;241m.\u001b[39mfind(\u001b[43mjdoe\u001b[49m)\n",
      "\u001b[0;31mNameError\u001b[0m: name 'jdoe' is not defined"
     ]
    }
   ],
   "source": [
    "# 2-B Try to find a user with a non-existent username\n",
    "database.find(jdoe)"
   ]
  },
  {
   "cell_type": "markdown",
   "id": "3976d1b9-c422-4956-89ee-af08d7e78a2f",
   "metadata": {},
   "source": [
    "#### An error "
   ]
  },
  {
   "cell_type": "code",
   "execution_count": 97,
   "id": "ded9e272-7a25-445c-91d3-c032ce2b7261",
   "metadata": {},
   "outputs": [
    {
     "ename": "AttributeError",
     "evalue": "'NoneType' object has no attribute 'name'",
     "output_type": "error",
     "traceback": [
      "\u001b[0;31m---------------------------------------------------------------------------\u001b[0m",
      "\u001b[0;31mAttributeError\u001b[0m                            Traceback (most recent call last)",
      "Input \u001b[0;32mIn [97]\u001b[0m, in \u001b[0;36m<module>\u001b[0;34m\u001b[0m\n\u001b[1;32m      1\u001b[0m \u001b[38;5;66;03m# 3-2 Try to update information given a non-existing username\u001b[39;00m\n\u001b[0;32m----> 2\u001b[0m \u001b[43mdatabase\u001b[49m\u001b[38;5;241;43m.\u001b[39;49m\u001b[43mupdate\u001b[49m\u001b[43m(\u001b[49m\u001b[43mUser\u001b[49m\u001b[43m(\u001b[49m\u001b[43musername\u001b[49m\u001b[38;5;241;43m=\u001b[39;49m\u001b[38;5;124;43m'\u001b[39;49m\u001b[38;5;124;43mjdoe\u001b[39;49m\u001b[38;5;124;43m'\u001b[39;49m\u001b[43m,\u001b[49m\u001b[43m \u001b[49m\u001b[43mname\u001b[49m\u001b[38;5;241;43m=\u001b[39;49m\u001b[38;5;124;43m'\u001b[39;49m\u001b[38;5;124;43mJohn Doe\u001b[39;49m\u001b[38;5;124;43m'\u001b[39;49m\u001b[43m,\u001b[49m\u001b[43m \u001b[49m\u001b[43memail\u001b[49m\u001b[38;5;241;43m=\u001b[39;49m\u001b[38;5;124;43m'\u001b[39;49m\u001b[38;5;124;43mjdoe@example.com\u001b[39;49m\u001b[38;5;124;43m'\u001b[39;49m\u001b[43m)\u001b[49m\u001b[43m)\u001b[49m\n",
      "Input \u001b[0;32mIn [84]\u001b[0m, in \u001b[0;36mUserDatabase.update\u001b[0;34m(self, user)\u001b[0m\n\u001b[1;32m     25\u001b[0m \u001b[38;5;28;01mdef\u001b[39;00m \u001b[38;5;21mupdate\u001b[39m(\u001b[38;5;28mself\u001b[39m, user):\n\u001b[1;32m     26\u001b[0m     target \u001b[38;5;241m=\u001b[39m \u001b[38;5;28mself\u001b[39m\u001b[38;5;241m.\u001b[39mfind(user\u001b[38;5;241m.\u001b[39musername)\n\u001b[0;32m---> 27\u001b[0m     target\u001b[38;5;241m.\u001b[39mname, target\u001b[38;5;241m.\u001b[39memail \u001b[38;5;241m=\u001b[39m user\u001b[38;5;241m.\u001b[39mname, user\u001b[38;5;241m.\u001b[39memail\n",
      "\u001b[0;31mAttributeError\u001b[0m: 'NoneType' object has no attribute 'name'"
     ]
    }
   ],
   "source": [
    "# 3-B Try to update information given a non-existing username\n",
    "database.update(User(username='jdoe', name='John Doe', email='jdoe@example.com'))"
   ]
  },
  {
   "cell_type": "markdown",
   "id": "ce49c6a3-639c-4618-8c69-fb833c9ebc43",
   "metadata": {},
   "source": [
    "#### An error"
   ]
  },
  {
   "cell_type": "markdown",
   "id": "59e3729b-8b63-4573-b991-f515e917f7f0",
   "metadata": {},
   "source": [
    "#### To test 2-C and 3-C, generate an empty database"
   ]
  },
  {
   "cell_type": "code",
   "execution_count": 100,
   "id": "8120a63e-e28e-4e6b-9de3-f8f6887e1032",
   "metadata": {},
   "outputs": [
    {
     "data": {
      "text/plain": [
       "[]"
      ]
     },
     "execution_count": 100,
     "metadata": {},
     "output_type": "execute_result"
    }
   ],
   "source": [
    "database = UserDatabase()\n",
    "database.users"
   ]
  },
  {
   "cell_type": "code",
   "execution_count": 101,
   "id": "d2dcefad-34ad-48c2-9b13-20cda3b40df2",
   "metadata": {},
   "outputs": [
    {
     "ename": "NameError",
     "evalue": "name 'jdoe' is not defined",
     "output_type": "error",
     "traceback": [
      "\u001b[0;31m---------------------------------------------------------------------------\u001b[0m",
      "\u001b[0;31mNameError\u001b[0m                                 Traceback (most recent call last)",
      "Input \u001b[0;32mIn [101]\u001b[0m, in \u001b[0;36m<module>\u001b[0;34m\u001b[0m\n\u001b[0;32m----> 1\u001b[0m database\u001b[38;5;241m.\u001b[39mfind(\u001b[43mjdoe\u001b[49m)\n",
      "\u001b[0;31mNameError\u001b[0m: name 'jdoe' is not defined"
     ]
    }
   ],
   "source": [
    "database.find(jdoe)"
   ]
  },
  {
   "cell_type": "code",
   "execution_count": 102,
   "id": "d1534b5f-3344-4d3d-b83d-6653f82624a6",
   "metadata": {},
   "outputs": [
    {
     "ename": "AttributeError",
     "evalue": "'NoneType' object has no attribute 'name'",
     "output_type": "error",
     "traceback": [
      "\u001b[0;31m---------------------------------------------------------------------------\u001b[0m",
      "\u001b[0;31mAttributeError\u001b[0m                            Traceback (most recent call last)",
      "Input \u001b[0;32mIn [102]\u001b[0m, in \u001b[0;36m<module>\u001b[0;34m\u001b[0m\n\u001b[0;32m----> 1\u001b[0m \u001b[43mdatabase\u001b[49m\u001b[38;5;241;43m.\u001b[39;49m\u001b[43mupdate\u001b[49m\u001b[43m(\u001b[49m\u001b[43mUser\u001b[49m\u001b[43m(\u001b[49m\u001b[43musername\u001b[49m\u001b[38;5;241;43m=\u001b[39;49m\u001b[38;5;124;43m'\u001b[39;49m\u001b[38;5;124;43mjdoe\u001b[39;49m\u001b[38;5;124;43m'\u001b[39;49m\u001b[43m,\u001b[49m\u001b[43m \u001b[49m\u001b[43mname\u001b[49m\u001b[38;5;241;43m=\u001b[39;49m\u001b[38;5;124;43m'\u001b[39;49m\u001b[38;5;124;43mJohn Doe\u001b[39;49m\u001b[38;5;124;43m'\u001b[39;49m\u001b[43m,\u001b[49m\u001b[43m \u001b[49m\u001b[43memail\u001b[49m\u001b[38;5;241;43m=\u001b[39;49m\u001b[38;5;124;43m'\u001b[39;49m\u001b[38;5;124;43mjdoe@example.com\u001b[39;49m\u001b[38;5;124;43m'\u001b[39;49m\u001b[43m)\u001b[49m\u001b[43m)\u001b[49m\n",
      "Input \u001b[0;32mIn [84]\u001b[0m, in \u001b[0;36mUserDatabase.update\u001b[0;34m(self, user)\u001b[0m\n\u001b[1;32m     25\u001b[0m \u001b[38;5;28;01mdef\u001b[39;00m \u001b[38;5;21mupdate\u001b[39m(\u001b[38;5;28mself\u001b[39m, user):\n\u001b[1;32m     26\u001b[0m     target \u001b[38;5;241m=\u001b[39m \u001b[38;5;28mself\u001b[39m\u001b[38;5;241m.\u001b[39mfind(user\u001b[38;5;241m.\u001b[39musername)\n\u001b[0;32m---> 27\u001b[0m     target\u001b[38;5;241m.\u001b[39mname, target\u001b[38;5;241m.\u001b[39memail \u001b[38;5;241m=\u001b[39m user\u001b[38;5;241m.\u001b[39mname, user\u001b[38;5;241m.\u001b[39memail\n",
      "\u001b[0;31mAttributeError\u001b[0m: 'NoneType' object has no attribute 'name'"
     ]
    }
   ],
   "source": [
    "database.update(User(username='jdoe', name='John Doe', email='jdoe@example.com'))"
   ]
  },
  {
   "cell_type": "markdown",
   "id": "604df398-ad15-4048-a360-a692c60bbfec",
   "metadata": {},
   "source": [
    "#### Each of the tests gave an error"
   ]
  },
  {
   "cell_type": "markdown",
   "id": "3dc96e9c-24a3-4940-a1c0-c0bb337de7c5",
   "metadata": {},
   "source": [
    "## 5. Analyze the algorithm's complexity and identify inefficiencies\n",
    "\n",
    "The operations `insert`, `find`, `update` involves iterating over a list of users, in the worst case, they may take up to `N` iterations to return a result, where `N` is the total number of users. `list_all` however, simply returns the existing internal list of users. \n",
    "\n",
    "Thus, the time complexities of the various operations are:\n",
    "\n",
    "1. Insert: **O(N)**\n",
    "2. Find: **O(N)**\n",
    "3. Update: **O(N)**\n",
    "4. List: **O(1)**\n",
    "\n",
    "**Exercise:** Verify that the space complexity of each operation is **O(1)**.\n",
    "\n",
    "Is this good enough? To get a sense how long each function might take if there are 100 million users on the platform, we can simply run an `for` or `while` loop on 10 million numbers."
   ]
  },
  {
   "cell_type": "code",
   "execution_count": null,
   "id": "eb22ca7c-5726-4dff-8c8d-e42f5b4b12c9",
   "metadata": {},
   "outputs": [],
   "source": []
  },
  {
   "cell_type": "code",
   "execution_count": null,
   "id": "b35aae0b-a7b7-4ba1-9c83-820339faa864",
   "metadata": {},
   "outputs": [],
   "source": []
  },
  {
   "cell_type": "code",
   "execution_count": null,
   "id": "d0962b51-c10e-4ff8-8509-e6dee9385a3b",
   "metadata": {},
   "outputs": [],
   "source": []
  },
  {
   "cell_type": "code",
   "execution_count": null,
   "id": "cea98b77-4765-420e-a812-98c9e8d27962",
   "metadata": {},
   "outputs": [],
   "source": []
  },
  {
   "cell_type": "code",
   "execution_count": null,
   "id": "43a2467f-ef66-4ef4-afdc-1316ba82fb49",
   "metadata": {},
   "outputs": [],
   "source": []
  },
  {
   "cell_type": "code",
   "execution_count": null,
   "id": "9d0bee81-df51-4dc5-a365-561e651b27f1",
   "metadata": {},
   "outputs": [],
   "source": []
  },
  {
   "cell_type": "code",
   "execution_count": null,
   "id": "41169b40-5b90-4708-aff6-d32cd180f5be",
   "metadata": {},
   "outputs": [],
   "source": []
  }
 ],
 "metadata": {
  "kernelspec": {
   "display_name": "Python 3 (ipykernel)",
   "language": "python",
   "name": "python3"
  },
  "language_info": {
   "codemirror_mode": {
    "name": "ipython",
    "version": 3
   },
   "file_extension": ".py",
   "mimetype": "text/x-python",
   "name": "python",
   "nbconvert_exporter": "python",
   "pygments_lexer": "ipython3",
   "version": "3.9.7"
  }
 },
 "nbformat": 4,
 "nbformat_minor": 5
}
