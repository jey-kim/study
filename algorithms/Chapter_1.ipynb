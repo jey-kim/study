{
 "cells": [
  {
   "cell_type": "markdown",
   "id": "f8777aa2-535a-4593-bf85-e817c60ccfcb",
   "metadata": {},
   "source": [
    "# Introduction to Binary Search and Complexity Analysis with Python\n",
    "\n",
    "### Part 1 of \"Data Structures and Algorithms in Python\"\n"
   ]
  },
  {
   "cell_type": "markdown",
   "id": "0ddd4677-57dd-4ef0-a6d4-bf6250aa44b8",
   "metadata": {},
   "source": [
    "## Problem \n",
    "\n",
    "This course takes a coding-focused approach towards learning. In each notebook, we'll focus on solving one problem, and learn the techniques, algorithms, and data structures to devise an *efficient* solution. We will then generalize the technique and apply it to other problems.\n",
    "\n",
    "\n",
    "\n",
    "In this notebook, we focus on solving the following problem:\n",
    "\n",
    "> **QUESTION 1:** Alice has some cards with numbers written on them. She arranges the cards in decreasing order, and lays them out face down in a sequence on a table. She challenges Bob to pick out the card containing a given number by turning over as few cards as possible. Write a function to help Bob locate the card.\n",
    "\n",
    "<img src=\"https://i.imgur.com/mazym6s.png\" width=\"480\">\n",
    "\n",
    "This may seem like a simple problem, especially if you're familiar with the concept of _binary search_, but the strategy and technique we learning here will be widely applicable, and we'll soon use it to solve harder problems."
   ]
  },
  {
   "cell_type": "markdown",
   "id": "e7a30139-fa5c-46d0-8dd7-12f946dc4ac8",
   "metadata": {},
   "source": [
    "## Why You Should Learn Data Structures and Algorithms\n",
    "\n",
    "Whether you're pursuing a career in software development or data science, it's almost certain that you'll be asked to solve programming problems like *reversing a linked list* or *balancing a binary tree* in a technical interview or coding assessment.\n",
    "\n",
    "It's well known, however, that you will almost never face these problems in your job as a software developer. So it's reasonable to wonder why such problems are asked in interviews and coding assessments. Solving programming problems demonstrates the following traits:\n",
    "\n",
    "1. You can **think about a problem systematically** and solve it systematically step-by-step.\n",
    "2. You can **envision different inputs, outputs, and edge cases** for programs you write.\n",
    "3. You can **communicate your ideas clearly** to co-workers and incorporate their suggestions.\n",
    "4. Most importantly, you can **convert your thoughts and ideas into working code** that's also readable.\n",
    "\n",
    "It's not your knowledge of specific data structures or algorithms that's tested in an interview, but your approach towards the problem. You may fail to solve the problem and still clear the interview or vice versa. In this course, you will learn the skills to both solve problems and clear interviews successfully."
   ]
  },
  {
   "cell_type": "markdown",
   "id": "e2721b4c-945e-4ceb-bea3-9c339f665597",
   "metadata": {},
   "source": [
    "## The Method\n",
    "\n",
    "Upon reading the problem, you may get some ideas on how to solve it and your first instinct might be to start writing code. This is not the optimal strategy and you may end up spending a longer time trying to solve the problem due to coding errors, or may not be able to solve it at all.\n",
    "\n",
    "Here's a systematic strategy we'll apply for solving problems:\n",
    "\n",
    "1. State the problem clearly. Identify the input & output formats.\n",
    "2. Come up with some example inputs & outputs. Try to cover all edge cases.\n",
    "3. Come up with a correct solution for the problem. State it in plain English.\n",
    "4. Implement the solution and test it using example inputs. Fix bugs, if any.\n",
    "5. Analyze the algorithm's complexity and identify inefficiencies, if any.\n",
    "6. Apply the right technique to overcome the inefficiency. Repeat steps 3 to 6.\n",
    "\n",
    "_\"Applying the right technique\"_ is where the knowledge of common data structures and algorithms comes in handy. \n",
    "\n",
    "Use this template for solving problems by applying this method: https://jovian.ai/aakashns/python-problem-solving-template"
   ]
  },
  {
   "cell_type": "markdown",
   "id": "b887f232-493c-4777-b826-06cd5b244a54",
   "metadata": {},
   "source": [
    "## Solution (Step by step)\n",
    "\n",
    "\n",
    "### 1. State the problem clearly. Identify the input & output formats.\n",
    "\n",
    "You will often encounter detailed word problems in coding challenges and interviews. The first step is to state the problem clearly and precisely in abstract terms. \n",
    "\n",
    "<img src=\"https://i.imgur.com/mazym6s.png\" width=\"480\">\n",
    "\n",
    "In this case, for instance, we can represent the sequence of cards as a list of numbers. Turning over a specific card is equivalent to accessing the value of the number at the corresponding position the list. \n",
    "\n",
    "<img src=\"https://i.imgur.com/G9fBarb.png\" width=\"600\">\n",
    "\n",
    "The problem can now be stated as follows:\n",
    "\n",
    "#### Problem\n",
    "\n",
    "> We need to write a program to find the position of a given number in a list of numbers arranged in decreasing order. We also need to minimize the number of times we access elements from the list.\n",
    "\n",
    "#### Input\n",
    "\n",
    "1. `cards`: A list of numbers sorted in decreasing order. E.g. `[13, 11, 10, 7, 4, 3, 1, 0]`\n",
    "2. `query`: A number, whose position in the array is to be determined. E.g. `7`\n",
    "\n",
    "#### Output\n",
    "\n",
    "3. `position`: The position of `query` in the list `cards`. E.g. `3` in the above case (counting from `0`)\n",
    "\n",
    "\n",
    "\n",
    "Based on the above, we can now create the signature of our function:"
   ]
  },
  {
   "cell_type": "code",
   "execution_count": 1,
   "id": "feb3ee88-a366-4d1c-a8b6-b8cf21a5a97c",
   "metadata": {},
   "outputs": [],
   "source": [
    "def locate_card(cards,query):\n",
    "    pass"
   ]
  },
  {
   "cell_type": "markdown",
   "id": "6820d967-966d-4c82-af03-91ce849e7d1c",
   "metadata": {},
   "source": [
    "**Tips**:\n",
    "\n",
    "* Name your function appropriately and think carefully about the signature\n",
    "* Discuss the problem with the interviewer if you are unsure how to frame it in abstract terms\n",
    "* Use descriptive variable names, otherwise you may forget what a variable represents\n"
   ]
  },
  {
   "cell_type": "markdown",
   "id": "12e738ed-cdc1-465b-9b01-240c0af52557",
   "metadata": {},
   "source": [
    "### 2. Come up with some example inputs & outputs. Try to cover all edge cases.\n",
    "\n",
    "Before we start implementing our function, it would be useful to come up with some example inputs and outputs which we can use later to test out problem. We'll refer to them as *test cases*.\n",
    "\n",
    "Here's the test case described in the example above."
   ]
  },
  {
   "cell_type": "code",
   "execution_count": 2,
   "id": "d965ce77-1448-4005-a36c-1c70df82e191",
   "metadata": {},
   "outputs": [],
   "source": [
    "cards = [13, 11, 10, 7, 4, 3, 1, 0]\n",
    "query = 7\n",
    "output = 3"
   ]
  },
  {
   "cell_type": "markdown",
   "id": "d89c5033-4eef-487e-b860-b6f41b388935",
   "metadata": {},
   "source": [
    "We can test our function by passing the inputs into function and comparing the result with the expected output."
   ]
  },
  {
   "cell_type": "code",
   "execution_count": 3,
   "id": "fb81c98f-f753-4b3d-a379-77993dbf4190",
   "metadata": {},
   "outputs": [
    {
     "name": "stdout",
     "output_type": "stream",
     "text": [
      "None\n"
     ]
    }
   ],
   "source": [
    "result = locate_card(cards, query)\n",
    "print(result)"
   ]
  },
  {
   "cell_type": "code",
   "execution_count": 4,
   "id": "93ede675-ff3f-423d-a28b-c2f67c5ef38e",
   "metadata": {},
   "outputs": [
    {
     "data": {
      "text/plain": [
       "False"
      ]
     },
     "execution_count": 4,
     "metadata": {},
     "output_type": "execute_result"
    }
   ],
   "source": [
    "result==output"
   ]
  },
  {
   "cell_type": "markdown",
   "id": "0a3f5fe8-ce01-46ac-b19f-f2adafe1e122",
   "metadata": {},
   "source": [
    "Obviously, the two result does not match the output as we have not yet implemented the function.\n",
    "\n",
    "We'll represent our test cases as dictionaries to make it easier to test them once we write implement our function. For example, the above test case can be represented as follows:"
   ]
  },
  {
   "cell_type": "code",
   "execution_count": 5,
   "id": "9bcc7416-102a-4575-a330-ad6e0789930d",
   "metadata": {},
   "outputs": [],
   "source": [
    "test = {\n",
    "    'input': { \n",
    "        'cards': [13, 11, 10, 7, 4, 3, 1, 0], \n",
    "        'query': 7\n",
    "    },\n",
    "    'output': 3\n",
    "}"
   ]
  },
  {
   "cell_type": "markdown",
   "id": "54c671be-dea8-46a1-a359-c4a4b170279f",
   "metadata": {},
   "source": [
    "The function can now be tested as follows."
   ]
  },
  {
   "cell_type": "code",
   "execution_count": 6,
   "id": "c60fb2c1-1364-45b9-b972-a884ed7c00ac",
   "metadata": {},
   "outputs": [
    {
     "data": {
      "text/plain": [
       "False"
      ]
     },
     "execution_count": 6,
     "metadata": {},
     "output_type": "execute_result"
    }
   ],
   "source": [
    "locate_card(**test['input']) == test['output']"
   ]
  },
  {
   "cell_type": "code",
   "execution_count": 7,
   "id": "027791f5-38a1-4931-977b-4fdef4b47dde",
   "metadata": {},
   "outputs": [
    {
     "data": {
      "text/plain": [
       "False"
      ]
     },
     "execution_count": 7,
     "metadata": {},
     "output_type": "execute_result"
    }
   ],
   "source": [
    "#Same as the line above\n",
    "locate_card(test['input']['cards'], test['input']['query']) == test['output']"
   ]
  },
  {
   "cell_type": "markdown",
   "id": "89b255c6-1892-4ed3-bec4-f72a77d4ae54",
   "metadata": {},
   "source": [
    "Our function should be able to handle any set of valid inputs we pass into it. Here's a list of some possible variations we might encounter:\n",
    "\n",
    "1. The number `query` occurs somewhere in the middle of the list `cards`.\n",
    "2. `query` is the first element in `cards`.\n",
    "3. `query` is the last element in `cards`.\n",
    "4. The list `cards` contains just one element, which is `query`.\n",
    "5. The list `cards` does not contain number `query`.\n",
    "6. The list `cards` is empty.\n",
    "7. The list `cards` contains repeating numbers.\n",
    "8. The number `query` occurs at more than one position in `cards`.\n",
    "9. (can you think of any more variations?)\n",
    "\n",
    "> **Edge Cases**: It's likely that you didn't think of all of the above cases when you read the problem for the first time. Some of these (like the empty array or `query` not occurring in `cards`) are called *edge cases*, as they represent rare or extreme examples. \n",
    "\n",
    "While edge cases may not occur frequently, your programs should be able to handle all edge cases, otherwise they may fail in unexpected ways. Let's create some more test cases for the variations listed above. We'll store all our test cases in an list for easier testing."
   ]
  },
  {
   "cell_type": "code",
   "execution_count": 8,
   "id": "6c00de59-8d88-436c-a989-3b77b50b5030",
   "metadata": {},
   "outputs": [],
   "source": [
    "tests = []"
   ]
  },
  {
   "cell_type": "code",
   "execution_count": 9,
   "id": "a57eeea5-16e4-42c4-bfed-e751ff958360",
   "metadata": {},
   "outputs": [],
   "source": [
    "# query occurs in the middle\n",
    "tests.append(test)\n",
    "\n",
    "tests.append({\n",
    "    'input': {\n",
    "        'cards': [13, 11, 10, 7, 4, 3, 1, 0],\n",
    "        'query': 1\n",
    "    },\n",
    "    'output': 6\n",
    "})"
   ]
  },
  {
   "cell_type": "code",
   "execution_count": 10,
   "id": "cf10af9d-662f-42ab-b5d8-021239c5879c",
   "metadata": {},
   "outputs": [],
   "source": [
    "# query is the first element\n",
    "tests.append({\n",
    "    'input': {\n",
    "        'cards': [4, 2, 1, -1],\n",
    "        'query': 4\n",
    "    },\n",
    "    'output': 0\n",
    "})"
   ]
  },
  {
   "cell_type": "code",
   "execution_count": 11,
   "id": "0567df26-6a6c-4154-9b04-51e4685fbde9",
   "metadata": {},
   "outputs": [],
   "source": [
    "# query is the last element\n",
    "tests.append({\n",
    "    'input': {\n",
    "        'cards': [3, -1, -9, -127],\n",
    "        'query': -127\n",
    "    },\n",
    "    'output': 3\n",
    "})"
   ]
  },
  {
   "cell_type": "code",
   "execution_count": 12,
   "id": "50faa34e-3027-4510-a235-71638c6b346e",
   "metadata": {},
   "outputs": [],
   "source": [
    "# cards contains just one element, query\n",
    "tests.append({\n",
    "    'input': {\n",
    "        'cards': [6],\n",
    "        'query': 6\n",
    "    },\n",
    "    'output': 0 \n",
    "})"
   ]
  },
  {
   "cell_type": "markdown",
   "id": "ce49a43a-4ff6-412d-835e-8a786447ada7",
   "metadata": {},
   "source": [
    "The problem statement does not specify what to do if the list `cards` does not contain the number `query`. \n",
    "\n",
    "1. Read the problem statement again, carefully.\n",
    "2. Look through the examples provided with the problem.\n",
    "3. Ask the interviewer/platform for a clarification.\n",
    "4. Make a reasonable assumption, state it and move forward.\n",
    "\n",
    "We will assume that our function will return `-1` in case `cards` does not contain `query`."
   ]
  },
  {
   "cell_type": "code",
   "execution_count": 13,
   "id": "2d6887be-b180-418b-9fcb-7a3bc392b82a",
   "metadata": {},
   "outputs": [],
   "source": [
    "# cards does not contain query \n",
    "tests.append({\n",
    "    'input': {\n",
    "        'cards': [9, 7, 5, 2, -9],\n",
    "        'query': 4\n",
    "    },\n",
    "    'output': -1\n",
    "})"
   ]
  },
  {
   "cell_type": "code",
   "execution_count": 14,
   "id": "157e70be-2281-4556-8b95-bcf7c8881892",
   "metadata": {},
   "outputs": [],
   "source": [
    "# cards is empty\n",
    "tests.append({\n",
    "    'input': {\n",
    "        'cards': [],\n",
    "        'query': 7\n",
    "    },\n",
    "    'output': -1\n",
    "})"
   ]
  },
  {
   "cell_type": "code",
   "execution_count": 15,
   "id": "bd08e607-06ea-4377-9702-81353100910a",
   "metadata": {},
   "outputs": [],
   "source": [
    "# numbers can repeat in cards\n",
    "tests.append({\n",
    "    'input': {\n",
    "        'cards': [8, 8, 6, 6, 6, 6, 6, 3, 2, 2, 2, 0, 0, 0],\n",
    "        'query': 3\n",
    "    },\n",
    "    'output': 7\n",
    "})"
   ]
  },
  {
   "cell_type": "markdown",
   "id": "5220d8db-a766-460f-827b-c64aca8550d1",
   "metadata": {},
   "source": [
    "In the case where `query` occurs multiple times in `cards`, we'll expect our function to return the first occurrence of `query`. \n",
    "\n",
    "While it may also be acceptable for the function to return any position where `query` occurs within the list, it would be slightly more difficult to test the function, as the output is non-deterministic."
   ]
  },
  {
   "cell_type": "code",
   "execution_count": 16,
   "id": "e568eaf5-59f4-45ba-baff-488d28361c8e",
   "metadata": {},
   "outputs": [],
   "source": [
    "# query occurs multiple times\n",
    "tests.append({\n",
    "    'input': {\n",
    "        'cards': [8, 8, 6, 6, 6, 6, 6, 6, 3, 2, 2, 2, 0, 0, 0],\n",
    "        'query': 6\n",
    "    },\n",
    "    'output': 2\n",
    "})"
   ]
  },
  {
   "cell_type": "code",
   "execution_count": 17,
   "id": "438be270-9c36-4256-86f9-7b639de1e1fe",
   "metadata": {},
   "outputs": [
    {
     "data": {
      "text/plain": [
       "[{'input': {'cards': [13, 11, 10, 7, 4, 3, 1, 0], 'query': 7}, 'output': 3},\n",
       " {'input': {'cards': [13, 11, 10, 7, 4, 3, 1, 0], 'query': 1}, 'output': 6},\n",
       " {'input': {'cards': [4, 2, 1, -1], 'query': 4}, 'output': 0},\n",
       " {'input': {'cards': [3, -1, -9, -127], 'query': -127}, 'output': 3},\n",
       " {'input': {'cards': [6], 'query': 6}, 'output': 0},\n",
       " {'input': {'cards': [9, 7, 5, 2, -9], 'query': 4}, 'output': -1},\n",
       " {'input': {'cards': [], 'query': 7}, 'output': -1},\n",
       " {'input': {'cards': [8, 8, 6, 6, 6, 6, 6, 3, 2, 2, 2, 0, 0, 0], 'query': 3},\n",
       "  'output': 7},\n",
       " {'input': {'cards': [8, 8, 6, 6, 6, 6, 6, 6, 3, 2, 2, 2, 0, 0, 0],\n",
       "   'query': 6},\n",
       "  'output': 2}]"
      ]
     },
     "execution_count": 17,
     "metadata": {},
     "output_type": "execute_result"
    }
   ],
   "source": [
    "tests"
   ]
  },
  {
   "cell_type": "markdown",
   "id": "4c182ce7-7a1a-4b84-a3ae-150cfeba52c6",
   "metadata": {},
   "source": [
    "Great, now we have a fairly exhaustive set of test cases to evaluate our function. \n",
    "\n",
    "Creating test cases beforehand allows you to identify different variations and edge cases in advance so that can make sure to handle them while writing code. Sometimes, you may start out confused, but the solution will reveal itself as you try to come up with interesting test cases.\n",
    "\n",
    "\n",
    "**Tip:** Don't stress it if you can't come up with an exhaustive list of test cases though. You can come back to this section and add more test cases as you discover them. Coming up with good test cases is a skill that takes practice.\n"
   ]
  },
  {
   "cell_type": "markdown",
   "id": "24f9f199-967b-421a-b0fa-2a9b59529b75",
   "metadata": {},
   "source": [
    "### 3. Come up with a correct solution for the problem. State it in plain English.\n",
    "\n",
    "Our first goal should always be to come up with a _correct_ solution to the problem, which may necessarily be the most _efficient_ solution. The simplest or most obvious solution to a problem, which generally involves checking all possible answers is called the _brute force_ solution.\n",
    "\n",
    "In this problem, coming up with a correct solution is quite easy: Bob can simply turn over cards in order one by one, till he find a card with the given number on it. Here's how we might implement it:\n",
    "\n",
    "1. Create a variable `position` with the value 0.\n",
    "3. Check whether the number at index `position` in `card` equals `query`.\n",
    "4. If it does, `position` is the answer and can be returned from the function\n",
    "5. If not, increment the value of `position` by 1, and repeat steps 2 to 5 till we reach the last position.\n",
    "6. If the number was not found, return `-1`.\n",
    "\n",
    "> **Linear Search Algorithm**: Congratulations, we've just written our first _algorithm_! An algorithm is simply a list of statements which can be converted into code and executed by a computer on different sets of inputs. This particular algorithm is called linear search, since it involves searching through a list in a linear fashion i.e. element after element.\n",
    "\n",
    "\n",
    "**Tip:** Always try to express (speak or write) the algorithm in your own words before you start coding. It can be as brief or detailed as you require it to be. Writing is a great tool for thinking clearly. It's likely that you will find some parts of the solution difficult to express, which suggests that you are probably unable to think about it clearly. The more clearly you are able to express your thoughts, the easier it will be for you to turn into code."
   ]
  },
  {
   "cell_type": "markdown",
   "id": "1b78995a-7c9d-4d84-b452-e2920ce352c9",
   "metadata": {},
   "source": [
    "### 4. Implement the solution and test it using example inputs. Fix bugs, if any.\n",
    "\n",
    "Phew! We are finally ready to implement our solution. All the work we've done so far will definitely come in handy, as we now exactly what we want our function to do, and we have an easy way of testing it on a variety of inputs.\n",
    "\n",
    "Here's a first attempt at implementing the function."
   ]
  },
  {
   "cell_type": "code",
   "execution_count": null,
   "id": "ddcbf486-d717-4ba8-a217-de95da141b91",
   "metadata": {},
   "outputs": [],
   "source": [
    "def locate_card(cards, query):\n",
    "    # Create a variable position with the value 0\n",
    "    position = 0\n",
    "    \n",
    "    # Set up a loop for repetition\n",
    "    while True:\n",
    "        \n",
    "        # Check if element at the current position matche the query\n",
    "        if cards[position] == query:\n",
    "            \n",
    "            # Answer found! Return and exit..\n",
    "            return position\n",
    "        \n",
    "        # Increment the position\n",
    "        position += 1\n",
    "        \n",
    "        # Check if we have reached the end of the array\n",
    "        if position == len(cards):\n",
    "            \n",
    "            # Number not found, return -1\n",
    "            return -1"
   ]
  },
  {
   "cell_type": "markdown",
   "id": "cc0bbc2a-837c-4e69-8666-56abed1d2958",
   "metadata": {},
   "source": [
    "Let's test out the function with the first test case"
   ]
  },
  {
   "cell_type": "code",
   "execution_count": null,
   "id": "b1211fe2-4a2a-4990-94bf-e7dc57a1c0ae",
   "metadata": {},
   "outputs": [],
   "source": [
    "test"
   ]
  },
  {
   "cell_type": "code",
   "execution_count": null,
   "id": "9ce9c07d-95b1-4b49-94e6-408b68451408",
   "metadata": {},
   "outputs": [],
   "source": [
    "result = locate_card(test['input']['cards'], test['input']['query'])\n",
    "result"
   ]
  },
  {
   "cell_type": "code",
   "execution_count": null,
   "id": "f9735d66-aa44-415d-960d-f0b9d7c0cbc9",
   "metadata": {},
   "outputs": [],
   "source": [
    "result == output"
   ]
  },
  {
   "cell_type": "markdown",
   "id": "12c39005-e486-4eb6-bfaf-8b1f8d62797b",
   "metadata": {},
   "source": [
    "Test for all the cases"
   ]
  },
  {
   "cell_type": "code",
   "execution_count": null,
   "id": "65261806-6fa3-4b0a-bd34-32d59027c6e1",
   "metadata": {},
   "outputs": [],
   "source": [
    "for test in tests:\n",
    "    locate_card(**test['inputs']==test['output'])"
   ]
  },
  {
   "cell_type": "markdown",
   "id": "fef3f0a2-80d8-4660-996c-42a8b41b3ea6",
   "metadata": {},
   "source": [
    "Oh no! Looks like our function encountered an error in the sixth test case. The error message suggests that we're trying to access an index outside the range of valid indices in the list. Looks like the list `cards` is empty in this case, and may be the root of the problem. \n",
    "\n",
    "Let's add some `print` statements within our function to print the inputs and the value of the `position` variable in each loop."
   ]
  },
  {
   "cell_type": "code",
   "execution_count": null,
   "id": "087fccae-c93f-40c7-99ae-527447239efb",
   "metadata": {},
   "outputs": [],
   "source": [
    "def locate_card(cards, query):\n",
    "    position = 0\n",
    "    \n",
    "    print('cards:', cards)\n",
    "    print('query:', query)\n",
    "    \n",
    "    while True:\n",
    "        print('position:', position)\n",
    "        \n",
    "        if cards[position] == query:\n",
    "            return position\n",
    "        \n",
    "        position += 1\n",
    "        if position == len(cards):\n",
    "            return -1"
   ]
  },
  {
   "cell_type": "code",
   "execution_count": null,
   "id": "904f6861-cc79-4256-a01a-5bbb995abed6",
   "metadata": {},
   "outputs": [],
   "source": [
    "cards6 = tests[6]['input']['cards']\n",
    "query6 = tests[6]['input']['query']\n",
    "\n",
    "locate_card(cards6, query6)"
   ]
  },
  {
   "cell_type": "markdown",
   "id": "c230a554-a75c-4709-a105-7780521ffbeb",
   "metadata": {},
   "source": [
    "Clearly, since `cards` is empty, it's not possible to access the element at index 0. To fix this, we can check whether we've reached the end of the array before trying to access an element from it. In fact, this can be terminating condition for the `while` loop itself."
   ]
  },
  {
   "cell_type": "code",
   "execution_count": null,
   "id": "781162d8-947e-47dc-bfa5-08c9cd31b69c",
   "metadata": {},
   "outputs": [],
   "source": [
    "def locate_card(cards, query):\n",
    "    position = 0\n",
    "    while position < len(cards):\n",
    "        if cards[position] == query:\n",
    "            return position\n",
    "        position += 1\n",
    "    return -1"
   ]
  },
  {
   "cell_type": "code",
   "execution_count": null,
   "id": "b388d423-18fe-4c6a-862e-5da76728c800",
   "metadata": {},
   "outputs": [],
   "source": [
    "tests[6]"
   ]
  },
  {
   "cell_type": "code",
   "execution_count": null,
   "id": "589326af-03d2-484f-b2b3-b89c17b700ff",
   "metadata": {},
   "outputs": [],
   "source": [
    "locate_card(cards6, query6)"
   ]
  },
  {
   "cell_type": "markdown",
   "id": "7f63010a-c918-4e52-b5c1-ea73f714d724",
   "metadata": {},
   "source": [
    "The result now matches the expected output. Do you now see the benefit of listing test cases beforehand? Without a good set of test cases, we may never have discovered this error in our function.\n",
    "\n",
    "Let's verify that all the other test cases pass too."
   ]
  },
  {
   "cell_type": "code",
   "execution_count": null,
   "id": "ae6a1c8a-2e35-42cc-a0d7-b5625863492b",
   "metadata": {},
   "outputs": [],
   "source": [
    "for test in tests:\n",
    "    locate_card(**test['inputs']==test['output'])"
   ]
  },
  {
   "cell_type": "markdown",
   "id": "2403b786-d36f-4ef5-b542-dd0ef9cf6801",
   "metadata": {},
   "source": [
    "Our code passes all the test cases. Of course, there might be some other edge cases we haven't thought of which may cause the function to fail. Can you think of any?\n",
    "\n",
    "**Tip**: In a real interview or coding assessment, you can skip the step of implementing and testing the brute force solution in the interest of time. It's generally quite easy to figure out the complexity of the brute for solution from the plain English description."
   ]
  },
  {
   "cell_type": "markdown",
   "id": "30aa9aeb-dc22-44bc-a673-45e13e296354",
   "metadata": {},
   "source": [
    "### 5. Analyze the algorithm's complexity and identify inefficiencies, if any.\n",
    "\n",
    "Recall this statement from  original question: _\"Alice challenges Bob to pick out the card containing a given number by **turning over as few cards as possible**.\"_ We restated this requirement as: _\"Minimize the number of times we access elements from the list `cards`\"_\n",
    "\n",
    "<img src=\"https://i.imgur.com/mazym6s.png\" width=\"480\">\n",
    "\n",
    "Before we can minimize the number, we need a way to measure it. Since we access a list element once in every iteration, for a list of size `N` we access the elements from the list up to `N` times. Thus, Bob may need to overturn up to `N` cards in the worst case, to find the required card. \n",
    "\n",
    "Suppose he is only allowed to overturn 1 card per minute, it may take him 30 minutes to find the required card if 30 cards are laid out on the table. Is this the best he can do? Is a way for Bob to arrive at the answer by turning over just 5 cards, instead of 30?\n",
    "\n",
    "The field of study concerned with finding the amount of time, space or other resources required to complete the execution of computer programs is called _the analysis of algorithms_. And the process of figuring out the best algorithm to solve a given problem is called _algorithm design and optimization_.\n",
    "\n",
    "\n",
    "### Complexity and Big O Notation\n",
    "\n",
    "> **Complexity** of an algorithm is a measure of the amount of time and/or space required by an algorithm for an input of a given size e.g. `N`. Unless otherwise stated, the term _complexity_ always refers to the worst-case complexity (i.e. the highest possible time/space taken by the program/algorithm to process an input).\n",
    "\n",
    "In the case of linear search:\n",
    "\n",
    "1. The _time complexity_ of the algorithm is `cN` for some fixed constant `c` that depends on the number of operations we perform in each iteration and the time taken to execute a statement. Time complexity is sometimes also called the _running time_ of the algorithm.\n",
    "\n",
    "2. The _space complexity_ is some constant `c'` (independent of `N`), since we just need a single variable `position` to iterate through the array, and it occupies a constant space in the computer's memory (RAM).\n",
    "\n",
    "\n",
    "> **Big O Notation**: Worst-case complexity is often expressed using the Big O notation. In the Big O, we drop fixed constants and lower powers of variables to capture the trend of relationship between the size of the input and the complexity of the algorithm i.e. if the complexity of the algorithm is `cN^3 + dN^2 + eN + f`, in the Big O notation it is expressed as **O(N^3)**\n",
    "\n",
    "Thus, the time complexity of linear search is **O(N)** and its space complexity is **O(1)**.\n",
    "\n"
   ]
  },
  {
   "cell_type": "markdown",
   "id": "f9cb7fc6-d274-4b2e-8e11-cac97df99427",
   "metadata": {},
   "source": [
    "### 6. Apply the right technique to overcome the inefficiency. Repeat steps 3 to 6.\n",
    "\n",
    "At the moment, we're simply going over cards one by one, and not even utilizing the face that they're sorted. This is called a *brute force* approach.\n",
    "\n",
    "It would be great if Bob could somehow guess the card at the first attempt, but with all the cards turned over it's simply impossible to guess the right card. \n",
    "\n",
    "\n",
    "<img src=\"https://i.imgur.com/mazym6s.png\" width=\"480\">\n",
    "\n",
    "The next best idea would be to pick a random card, and use the fact that the list is sorted, to determine whether the target card lies to the left or right of it. In fact, if we pick the middle card, we can reduce the number of additional cards to be tested to half the size of the list. Then, we can simply repeat the process with each half. This technique is called binary search. Here's a visual explanation of the technique:\n",
    "\n",
    "\n",
    "\n",
    "<img src=\"https://miro.medium.com/max/494/1*3eOrsoF9idyOp-0Ll9I9PA.png\" width=\"480\">\n",
    "\n"
   ]
  },
  {
   "cell_type": "markdown",
   "id": "b4dae285-0b7b-43c6-adbd-1b87c5dfc9de",
   "metadata": {},
   "source": [
    "### 7. Come up with a correct solution for the problem. State it in plain English.\n",
    "\n",
    "Here's how binary search can be applied to our problem:\n",
    "\n",
    "1. Find the middle element of the list.\n",
    "2. If it matches queried number, return the middle position as the answer.\n",
    "3. If it is less than the queried number, then search the first half of the list\n",
    "3. If it is greater than the queried number, then search the second half of the list\n",
    "4. If no more elements remain, return -1.\n"
   ]
  },
  {
   "cell_type": "markdown",
   "id": "f00bfd20-049a-48eb-8517-1e53e29b137d",
   "metadata": {},
   "source": [
    "### 8. Implement the solution and test it using example inputs. Fix bugs, if any."
   ]
  },
  {
   "cell_type": "markdown",
   "id": "4855e5dc-ab1d-4653-89f4-66aef6fb8759",
   "metadata": {},
   "source": [
    "Here's an implementation of binary search for solving our problem. We also print the relevant variables in each iteration of the `while` loop."
   ]
  },
  {
   "cell_type": "code",
   "execution_count": null,
   "id": "a5cacf62-a7cb-4fa2-829b-faeab74682ca",
   "metadata": {},
   "outputs": [],
   "source": [
    "def locate_card(cards, query):\n",
    "    lo, hi = 0, len(cards) - 1\n",
    "    \n",
    "    while lo <= hi:\n",
    "        mid = (lo + hi) // 2\n",
    "        mid_number = cards[mid]\n",
    "        \n",
    "        print(\"lo:\", lo, \", hi:\", hi, \", mid:\", mid, \", mid_number:\", mid_number)\n",
    "        \n",
    "        if mid_number == query:\n",
    "            return mid\n",
    "        elif mid_number < query:\n",
    "            hi = mid - 1  \n",
    "        elif mid_number > query:\n",
    "            lo = mid + 1\n",
    "    \n",
    "    return -1"
   ]
  },
  {
   "cell_type": "code",
   "execution_count": null,
   "id": "e5a3156f-7b0d-47c5-9413-5e5dfbead802",
   "metadata": {},
   "outputs": [],
   "source": [
    "for test in tests:\n",
    "    locate_card(**test['inputs']==test['output'])"
   ]
  },
  {
   "cell_type": "markdown",
   "id": "f6292f1a-55a7-471d-a1b1-a3e544032027",
   "metadata": {},
   "source": [
    "Looks like it passed 8 out of 9 tests! Let's look at the failed test."
   ]
  },
  {
   "cell_type": "markdown",
   "id": "72c7f932-9e7c-42e6-8797-d4663d130586",
   "metadata": {},
   "source": [
    "Seems like our function returned the position `7`. Let's check what lies at this position in the input list."
   ]
  },
  {
   "cell_type": "code",
   "execution_count": 20,
   "id": "8b383079-6fe0-487f-b397-0e44e8542067",
   "metadata": {},
   "outputs": [],
   "source": [
    "cards8 = tests[8]['input']['cards']\n",
    "query8 = tests[8]['input']['cards']"
   ]
  },
  {
   "cell_type": "code",
   "execution_count": 21,
   "id": "5171164f-44d2-4d53-818c-de368407643f",
   "metadata": {},
   "outputs": [
    {
     "data": {
      "text/plain": [
       "6"
      ]
     },
     "execution_count": 21,
     "metadata": {},
     "output_type": "execute_result"
    }
   ],
   "source": [
    "query8[7]"
   ]
  },
  {
   "cell_type": "markdown",
   "id": "24fe7a96-ea6b-4a04-8ff9-0cff65ee3ad3",
   "metadata": {},
   "source": [
    "Seems like we did locate a 6 in the array, it's just that it wasn't the first 6. As you can guess, this is because in binary search, we don't go over indices in a linear order.\n",
    "\n",
    "So how do we fix it?\n",
    "\n",
    "When we find that `cards[mid]` is equal to `query`, we need to check whether it is the first occurrence of `query` in the list i.e the number that comes before it.\n",
    "\n",
    "`[8, 8, 6, 6, 6, 6, 6, 6, 3, 2, 2, 2, 0, 0, 0]`\n",
    "\n",
    "To make it easier, we'll define a helper function called `test_location`, which will take the list `cards`, the `query` and `mid` as inputs."
   ]
  },
  {
   "cell_type": "code",
   "execution_count": null,
   "id": "96409d45-22d7-45c6-86b4-b43a8e662be3",
   "metadata": {},
   "outputs": [],
   "source": [
    "def test_location(cards, query, mid):\n",
    "    mid_number = cards[mid]\n",
    "    print(\"mid:\", mid, \", mid_number:\", mid_number)\n",
    "    if mid_number == query:\n",
    "        if mid-1 >= 0 and cards[mid-1] == query:\n",
    "            return 'left'\n",
    "        else:\n",
    "            return 'found'\n",
    "    elif mid_number < query:\n",
    "        return 'left'\n",
    "    else:\n",
    "        return 'right'\n",
    "\n",
    "def locate_card(cards, query):\n",
    "    lo, hi = 0, len(cards) - 1\n",
    "    \n",
    "    while lo <= hi:\n",
    "        print(\"lo:\", lo, \", hi:\", hi)\n",
    "        mid = (lo + hi) // 2\n",
    "        result = test_location(cards, query, mid)\n",
    "        \n",
    "        if result == 'found':\n",
    "            return mid\n",
    "        elif result == 'left':\n",
    "            hi = mid - 1\n",
    "        elif result == 'right':\n",
    "            lo = mid + 1\n",
    "    return -1"
   ]
  },
  {
   "cell_type": "code",
   "execution_count": null,
   "id": "a1ad6fa8-85d0-4476-95d7-7c70f54c5250",
   "metadata": {},
   "outputs": [],
   "source": [
    "locate_card(cards8, query8)"
   ]
  },
  {
   "cell_type": "code",
   "execution_count": null,
   "id": "c633ed4e-92a4-4cc2-b956-5b6eb7fbe627",
   "metadata": {},
   "outputs": [],
   "source": [
    "for test in tests:\n",
    "    locate_card(**test['inputs']==test['output'])"
   ]
  },
  {
   "cell_type": "markdown",
   "id": "85e2bc63-6e4e-4f4c-8236-fbcd4ccf777b",
   "metadata": {},
   "source": [
    "In fact, once we have written out the algorithm, we may want to add a few more test cases:\n",
    "\n",
    "1. The number lies in first half of the array. \n",
    "2. The number lies in the second half of the array."
   ]
  },
  {
   "cell_type": "markdown",
   "id": "fa5dc960-5aa7-4dfd-a336-f4f975709d5f",
   "metadata": {},
   "source": [
    "Here is the final code for the algorithm (without the `print` statements):"
   ]
  },
  {
   "cell_type": "code",
   "execution_count": null,
   "id": "28f1e6c9-1a1f-4bb4-a6d8-6d19fee9a477",
   "metadata": {},
   "outputs": [],
   "source": [
    "def test_location(cards, query, mid):\n",
    "    if cards[mid] == query:\n",
    "        if mid-1 >= 0 and cards[mid-1] == query:\n",
    "            return 'left'\n",
    "        else:\n",
    "            return 'found'\n",
    "    elif cards[mid] < query:\n",
    "        return 'left'\n",
    "    else:\n",
    "        return 'right'\n",
    "\n",
    "def locate_card(cards, query):\n",
    "    lo, hi = 0, len(cards) - 1\n",
    "    while lo <= hi:\n",
    "        mid = (lo + hi) // 2\n",
    "        result = test_location(cards, query, mid)\n",
    "        if result == 'found':\n",
    "            return mid\n",
    "        elif result == 'left':\n",
    "            hi = mid - 1\n",
    "        elif result == 'right':\n",
    "            lo = mid + 1\n",
    "    return -1"
   ]
  },
  {
   "cell_type": "code",
   "execution_count": null,
   "id": "e26c4d8f-24e6-443b-954b-72206d644fb0",
   "metadata": {},
   "outputs": [],
   "source": [
    "## 49:53 (Youtube) & website Step 9"
   ]
  },
  {
   "cell_type": "code",
   "execution_count": null,
   "id": "387e7fe9-b2a4-43b7-bf0c-24130e82b2e8",
   "metadata": {},
   "outputs": [],
   "source": []
  },
  {
   "cell_type": "code",
   "execution_count": null,
   "id": "6c856979-2e77-48b9-aeac-0f495f639a08",
   "metadata": {},
   "outputs": [],
   "source": []
  }
 ],
 "metadata": {
  "kernelspec": {
   "display_name": "Python 3 (ipykernel)",
   "language": "python",
   "name": "python3"
  },
  "language_info": {
   "codemirror_mode": {
    "name": "ipython",
    "version": 3
   },
   "file_extension": ".py",
   "mimetype": "text/x-python",
   "name": "python",
   "nbconvert_exporter": "python",
   "pygments_lexer": "ipython3",
   "version": "3.9.7"
  }
 },
 "nbformat": 4,
 "nbformat_minor": 5
}
