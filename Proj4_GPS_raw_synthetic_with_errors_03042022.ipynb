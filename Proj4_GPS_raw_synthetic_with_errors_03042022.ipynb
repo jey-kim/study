{
 "cells": [
  {
   "cell_type": "markdown",
   "id": "d62840e3-5829-4743-9c11-102ba42d355a",
   "metadata": {},
   "source": [
    "# <font color=blue>\"GPS_raw_synthetic_with_errors.ipynb\"</font>\n",
    "##### Mar 4, 2022  <font color=red>(v. testing)</font> \n",
    "##### Jeonghyeop Kim (jeonghyeop.kim@gmail.com)\n",
    "> input files: **`vel_no_error.gmt`** \\\n",
    "> output file: **`GPS_raw_with_error.dat`** "
   ]
  },
  {
   "cell_type": "code",
   "execution_count": 24,
   "id": "593711ae-269a-4387-8df3-e4850e6bd36d",
   "metadata": {},
   "outputs": [],
   "source": [
    "import numpy as np\n",
    "import pandas as pd"
   ]
  },
  {
   "cell_type": "code",
   "execution_count": null,
   "id": "bcf2f27a-cc65-4bc9-81c9-b86d076db8ec",
   "metadata": {},
   "outputs": [],
   "source": [
    "error_level_GNSS = 0.05"
   ]
  },
  {
   "cell_type": "code",
   "execution_count": 25,
   "id": "6dc3f832-12e4-470f-ae2d-3f92b3369fb9",
   "metadata": {},
   "outputs": [],
   "source": [
    "data_GNSS = np.loadtxt(\"vel_no_error.gmt\")"
   ]
  },
  {
   "cell_type": "code",
   "execution_count": 26,
   "id": "03b8739f-7de0-4a3e-922c-100bcae3d346",
   "metadata": {},
   "outputs": [],
   "source": [
    "random_GNSSx = error_level_GNSS * np.random.uniform(-1,1,len(data_GNSS))\n",
    "data_GNSS[:,2] = data_GNSS[:,2] + np.sqrt(data_GNSS[:,2]**2+data_GNSS[:,3]**2) * random_GNSSx"
   ]
  },
  {
   "cell_type": "code",
   "execution_count": 27,
   "id": "defa23c6-7275-4871-b242-7c8d2186d135",
   "metadata": {},
   "outputs": [],
   "source": [
    "random_GNSSy = error_level_GNSS * np.random.uniform(-1,1,len(data_GNSS))\n",
    "data_GNSS[:,3] = data_GNSS[:,3] + np.sqrt(data_GNSS[:,2]**2+data_GNSS[:,3]**2) * random_GNSSy"
   ]
  },
  {
   "cell_type": "code",
   "execution_count": 28,
   "id": "3af9e030-5db6-4b4d-8921-013504bf0734",
   "metadata": {},
   "outputs": [],
   "source": [
    "ste=np.sqrt(data_GNSS[:,2]**2+data_GNSS[:,3]**2)*error_level_GNSS\n",
    "corr=np.ones(len(data_GNSS))*0.05\n",
    "year=np.ones(len(data_GNSS))*2022\n",
    "year=year.astype(int)\n",
    "flag=np.ones(len(data_GNSS))\n",
    "flag=flag.astype(int)"
   ]
  },
  {
   "cell_type": "code",
   "execution_count": 33,
   "id": "980ad342-3da3-425e-bf02-6497abef73ba",
   "metadata": {},
   "outputs": [],
   "source": [
    "df_save = pd.DataFrame(data_GNSS[:,0:4])\n",
    "df_save.columns=['lon', 'lat', 've', 'vn']\n",
    "df_save['se'] = ste\n",
    "df_save['sn'] = ste\n",
    "df_save['crr'] = corr\n",
    "df_save['yr'] = year\n",
    "df_save['flg'] = flag"
   ]
  },
  {
   "cell_type": "code",
   "execution_count": 37,
   "id": "f8ac7b9f-0c59-4b86-9661-911e455442fb",
   "metadata": {},
   "outputs": [],
   "source": [
    "df_save.to_csv(\"GPS_raw_with_error.dat\", sep=' ', index=None, float_format='%g')"
   ]
  }
 ],
 "metadata": {
  "kernelspec": {
   "display_name": "Python 3 (ipykernel)",
   "language": "python",
   "name": "python3"
  },
  "language_info": {
   "codemirror_mode": {
    "name": "ipython",
    "version": 3
   },
   "file_extension": ".py",
   "mimetype": "text/x-python",
   "name": "python",
   "nbconvert_exporter": "python",
   "pygments_lexer": "ipython3",
   "version": "3.9.7"
  }
 },
 "nbformat": 4,
 "nbformat_minor": 5
}
