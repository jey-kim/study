{
 "cells": [
  {
   "cell_type": "markdown",
   "metadata": {},
   "source": [
    "<img src=\"GEOS_Logo.png\" width=\"700\" />\n",
    "\n",
    "# Step 1 : <font color=blue>\"download_files.ipynb\"</font>\n",
    "#### Aug 12, 2021  <font color=red>(still working)</font> \n",
    "##### Jeonghyeop Kim (jeonghyeop.kim@gmail.com)\n",
    "\n",
    "\n",
    "\n",
    "> list_full.dat (904 stations) and list_extra.dat (extra 3 stations) \\\n",
    "> total is 907 \\\n",
    "> At some point, a code that downloads (a)a station ID list and (b)a list of their coordinates will be ready \\\n",
    "> And then it will count how many stations, this GPS2FNL algorithm will process and pass this info to the later codes. \\\n",
    "> metadata is needed\n",
    "\n"
   ]
  },
  {
   "cell_type": "markdown",
   "metadata": {},
   "source": [
    "### **`GPS data processed by the NGL is available at:`**  [here](http://geodesy.unr.edu)\n",
    "\n",
    "> On the right side of the website, find <font color=blue>\"Downloadable Lists of GPS Data Holdings:</font>\" \n",
    "\n",
    "> This algorithm uses data from \"stations with 24 hour sample rate solutions, final orbits, 2 week latency.\" \n",
    "\n"
   ]
  },
  {
   "cell_type": "code",
   "execution_count": 39,
   "metadata": {},
   "outputs": [],
   "source": [
    "lon_min=235.437\n",
    "lon_max=246.988\n",
    "lat_min=31.3131\n",
    "lat_max=42.9817"
   ]
  },
  {
   "cell_type": "code",
   "execution_count": 2,
   "metadata": {},
   "outputs": [],
   "source": [
    "#import modules\n",
    "import numpy as np\n",
    "import pandas as pd\n",
    "import urllib"
   ]
  },
  {
   "cell_type": "markdown",
   "metadata": {},
   "source": [
    "1.  Read the station list\n",
    "> url_lists=\"http://geodesy.unr.edu/NGLStationPages/DataHoldings.txt\"\n",
    "\n",
    "2. Download metadate (discontinuous steps)\n",
    "> url_metadata=\"http://geodesy.unr.edu/NGLStationPages/steps.txt\"\n",
    "\n"
   ]
  },
  {
   "cell_type": "code",
   "execution_count": 3,
   "metadata": {},
   "outputs": [],
   "source": [
    "# A list of GPS stations \n",
    "url_list=\"http://geodesy.unr.edu/NGLStationPages/DataHoldings.txt\" # URL\n",
    "list_file=\"list_test.txt\" # file name\n",
    "\n",
    "\n",
    "# metadata for steps\n",
    "url_metadata=\"http://geodesy.unr.edu/NGLStationPages/steps.txt\" # URL\n",
    "metadata_file=\"steps_test.txt\" # file name"
   ]
  },
  {
   "cell_type": "code",
   "execution_count": 4,
   "metadata": {},
   "outputs": [
    {
     "name": "stdout",
     "output_type": "stream",
     "text": [
      "Downloaded a GPS list and metadata for steps\n"
     ]
    }
   ],
   "source": [
    "# Download the list of GPS stations (final orbits) and metadata \n",
    "urllib.request.urlretrieve(url_list, list_file)\n",
    "urllib.request.urlretrieve(url_metadata, metadata_file)\n",
    "print(\"Downloaded a GPS list and metadata for steps\")"
   ]
  },
  {
   "cell_type": "code",
   "execution_count": 40,
   "metadata": {},
   "outputs": [],
   "source": [
    "# Read the station list.\n",
    "df_original_list=pd.read_csv(list_file ,header=None, sep=r'(?:,|\\s+)', \n",
    "                comment='#', engine='python',\n",
    "                names=['Sta','lat','lon','3','4','5','6','7','8','9','10','11','12','13'])\n",
    "\n",
    "\n",
    "# Here the first 3 columns will be used.\n",
    "df_three_cols=df_original_list.loc[1:len(df_original_list),['Sta','lat','lon']] #first three columns\n",
    "df_three_cols=df_three_cols.reset_index(drop=True)\n",
    "\n",
    "# str to float\n",
    "df_three_cols['lon'] = df_three_cols['lon'].astype(float)\n",
    "df_three_cols['lat'] = df_three_cols['lat'].astype(float)\n",
    "\n",
    "\n",
    "# Select stations within the region of interest.\n",
    "# > lon_min,lon_max,lat_min,lat_max must be defined.\n",
    "\n",
    "df_interest=df_three_cols.loc[(df_three_cols['lat'] >= lat_min)\\\n",
    "                            & (df_three_cols['lat'] <= lat_max)\\\n",
    "                            & (df_three_cols['lon'] >= lon_min)\\\n",
    "                            & (df_three_cols['lon'] <= lon_max)]\n",
    "\n",
    "# df_interest=df_interest.reset_index(drop=True)"
   ]
  },
  {
   "cell_type": "code",
   "execution_count": 44,
   "metadata": {},
   "outputs": [
    {
     "data": {
      "text/html": [
       "<div>\n",
       "<style scoped>\n",
       "    .dataframe tbody tr th:only-of-type {\n",
       "        vertical-align: middle;\n",
       "    }\n",
       "\n",
       "    .dataframe tbody tr th {\n",
       "        vertical-align: top;\n",
       "    }\n",
       "\n",
       "    .dataframe thead th {\n",
       "        text-align: right;\n",
       "    }\n",
       "</style>\n",
       "<table border=\"1\" class=\"dataframe\">\n",
       "  <thead>\n",
       "    <tr style=\"text-align: right;\">\n",
       "      <th></th>\n",
       "      <th>Sta</th>\n",
       "      <th>lat</th>\n",
       "      <th>lon</th>\n",
       "    </tr>\n",
       "  </thead>\n",
       "  <tbody>\n",
       "    <tr>\n",
       "      <th>47</th>\n",
       "      <td>34A1</td>\n",
       "      <td>41.8387</td>\n",
       "      <td>240.3460</td>\n",
       "    </tr>\n",
       "    <tr>\n",
       "      <th>48</th>\n",
       "      <td>34A2</td>\n",
       "      <td>41.8531</td>\n",
       "      <td>240.3926</td>\n",
       "    </tr>\n",
       "    <tr>\n",
       "      <th>49</th>\n",
       "      <td>34A3</td>\n",
       "      <td>41.8507</td>\n",
       "      <td>240.4229</td>\n",
       "    </tr>\n",
       "    <tr>\n",
       "      <th>50</th>\n",
       "      <td>34A4</td>\n",
       "      <td>41.8666</td>\n",
       "      <td>240.5052</td>\n",
       "    </tr>\n",
       "    <tr>\n",
       "      <th>51</th>\n",
       "      <td>34NO</td>\n",
       "      <td>41.9291</td>\n",
       "      <td>240.2914</td>\n",
       "    </tr>\n",
       "    <tr>\n",
       "      <th>...</th>\n",
       "      <td>...</td>\n",
       "      <td>...</td>\n",
       "      <td>...</td>\n",
       "    </tr>\n",
       "    <tr>\n",
       "      <th>19238</th>\n",
       "      <td>ZLA1</td>\n",
       "      <td>34.6035</td>\n",
       "      <td>241.9161</td>\n",
       "    </tr>\n",
       "    <tr>\n",
       "      <th>19251</th>\n",
       "      <td>ZOA1</td>\n",
       "      <td>37.5431</td>\n",
       "      <td>237.9841</td>\n",
       "    </tr>\n",
       "    <tr>\n",
       "      <th>19252</th>\n",
       "      <td>ZOA2</td>\n",
       "      <td>37.5430</td>\n",
       "      <td>237.9841</td>\n",
       "    </tr>\n",
       "    <tr>\n",
       "      <th>19256</th>\n",
       "      <td>ZOLE</td>\n",
       "      <td>39.4217</td>\n",
       "      <td>240.2466</td>\n",
       "    </tr>\n",
       "    <tr>\n",
       "      <th>19269</th>\n",
       "      <td>ZUMA</td>\n",
       "      <td>37.5582</td>\n",
       "      <td>242.5098</td>\n",
       "    </tr>\n",
       "  </tbody>\n",
       "</table>\n",
       "<p>1851 rows × 3 columns</p>\n",
       "</div>"
      ],
      "text/plain": [
       "        Sta      lat       lon\n",
       "47     34A1  41.8387  240.3460\n",
       "48     34A2  41.8531  240.3926\n",
       "49     34A3  41.8507  240.4229\n",
       "50     34A4  41.8666  240.5052\n",
       "51     34NO  41.9291  240.2914\n",
       "...     ...      ...       ...\n",
       "19238  ZLA1  34.6035  241.9161\n",
       "19251  ZOA1  37.5431  237.9841\n",
       "19252  ZOA2  37.5430  237.9841\n",
       "19256  ZOLE  39.4217  240.2466\n",
       "19269  ZUMA  37.5582  242.5098\n",
       "\n",
       "[1851 rows x 3 columns]"
      ]
     },
     "execution_count": 44,
     "metadata": {},
     "output_type": "execute_result"
    }
   ],
   "source": [
    "df_interest"
   ]
  },
  {
   "cell_type": "code",
   "execution_count": 45,
   "metadata": {},
   "outputs": [],
   "source": [
    "#?? too many stations.\n",
    "# look for  network information\n",
    "# shouldn't I use MAGNET?"
   ]
  },
  {
   "cell_type": "code",
   "execution_count": null,
   "metadata": {},
   "outputs": [],
   "source": []
  }
 ],
 "metadata": {
  "kernelspec": {
   "display_name": "Python 3",
   "language": "python",
   "name": "python3"
  },
  "language_info": {
   "codemirror_mode": {
    "name": "ipython",
    "version": 3
   },
   "file_extension": ".py",
   "mimetype": "text/x-python",
   "name": "python",
   "nbconvert_exporter": "python",
   "pygments_lexer": "ipython3",
   "version": "3.8.3"
  }
 },
 "nbformat": 4,
 "nbformat_minor": 4
}
