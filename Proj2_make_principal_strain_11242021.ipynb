{
 "cells": [
  {
   "cell_type": "code",
   "execution_count": null,
   "metadata": {},
   "outputs": [],
   "source": [
    "#<img src=\"Figs/GEOS_Logo.pdf\" width=\"500\" />"
   ]
  },
  {
   "cell_type": "markdown",
   "metadata": {},
   "source": [
    "# `Seasonal Strain`**: <font color=blue>\"make_principal_strain.ipynb\"</font>\n",
    "#### Nov 24, 2021  <font color=red>(v. working)</font>\n",
    "##### Jeonghyeop Kim (jeonghyeop.kim@gmail.com)\n",
    "\n",
    "> input files: **`average_strain_MATLAB.out`** \\\n",
    "> output files: **`principal_ext.out`** & **`principal_con.out`** & **`dilatation.out`**\n",
    "\n",
    "0. This code is a part of OOOOO process.\n",
    "1. It will calculate principal strains (psvelo -Sx) and dilatational strain (xyz)\n"
   ]
  },
  {
   "cell_type": "code",
   "execution_count": 1,
   "metadata": {},
   "outputs": [],
   "source": [
    "import numpy as np\n",
    "import pandas as pd"
   ]
  },
  {
   "cell_type": "code",
   "execution_count": 2,
   "metadata": {},
   "outputs": [],
   "source": [
    "input_file=\"average_strain_MATLAB.out\"\n",
    "output_file1=\"principal_ext.out\"\n",
    "output_file2=\"principal_con.out\"\n",
    "output_file3=\"dilatation.out\"\n",
    "\n",
    "\n",
    "data=np.loadtxt(input_file)\n",
    "long = data[:,1]\n",
    "lat = data[:,2]\n",
    "exx = data[:,3]\n",
    "eyy = data[:,4]\n",
    "exy = data[:,5]\n",
    "\n",
    "num_strain = len(exx)"
   ]
  },
  {
   "cell_type": "markdown",
   "metadata": {},
   "source": [
    "### Calculate Principal strains and save in a GMT format\n",
    "> The GMT module **psvelo** with -Sx flag requires a input file with a format of  \\\n",
    "> **`lon`, `lat`, `ext`, `contr`, `angle(e22,north)`** "
   ]
  },
  {
   "cell_type": "code",
   "execution_count": 3,
   "metadata": {},
   "outputs": [],
   "source": [
    "BASIS_for_extensional = np.zeros((num_strain,5))\n",
    "BASIS_for_contractional = np.zeros((num_strain,5))\n",
    "\n",
    "for i in range(num_strain):\n",
    "    tau = np.array([[exx[i],exy[i]],[exy[i],eyy[i]]])\n",
    "    Lam, N = np.linalg.eig(tau) #Lam = eigenvalues; N = eigenvectors (columns)\n",
    "    taur = N.transpose() @ tau @ N  #Principal axes    \n",
    "    \n",
    "    # Set the larger principal axis is e11\n",
    "    t1=taur[0,0]\n",
    "    t2=taur[1,1]\n",
    "    N1=N[:,0]\n",
    "    N2=N[:,1]\n",
    "    if t2 > t1:\n",
    "        taur[0,0] = t2\n",
    "        taur[1,1] = t1\n",
    "        N = np.array([N2,N1])\n",
    "        \n",
    "    # Take the two components of the contractional eigenvector\n",
    "    x = N[0,1]  \n",
    "    y = N[1,1]\n",
    "    \n",
    "    # Angle from the north\n",
    "    if x > 0 and y > 0:\n",
    "        angle = np.arcsin(x)*180/np.pi\n",
    "    elif x > 0 and y < 0:\n",
    "        angle = 180 - np.arcsin(x)*180/np.pi\n",
    "    elif x == 0 and y > 0:\n",
    "        angle = 0\n",
    "    elif x == 0 and y < 0:\n",
    "        angle = 180\n",
    "    elif x < 0 and y < 0:\n",
    "        angle = 180 + np.arcsin(np.abs(x))*180/np.pi\n",
    "    elif x < 0 and y > 0:\n",
    "        angle = 360 - np.arcsin(np.abs(x))*180/np.pi\n",
    "    elif x > 0 and y == 0:\n",
    "        angle = 90\n",
    "    elif x < 0 and y == 0:\n",
    "        angle = 270\n",
    "    else:\n",
    "        print(\"ERROR! Stop this algorithm.\")\n",
    "        break\n",
    "        \n",
    "        \n",
    "    BASIS_for_extensional[i,0] = long[i]\n",
    "    BASIS_for_extensional[i,1] = lat[i]\n",
    "    BASIS_for_extensional[i,4] = angle\n",
    "    \n",
    "    \n",
    "    BASIS_for_contractional[i,0] = long[i]\n",
    "    BASIS_for_contractional[i,1] = lat[i]\n",
    "    BASIS_for_contractional[i,4] = angle\n",
    "    \n",
    "    \n",
    "    if taur[0,0] >= 0 and taur[1,1] >= 0: #e11 and e22 are both extentional (+ve)\n",
    "        BASIS_for_extensional[i,2] = taur[0,0]\n",
    "        BASIS_for_extensional[i,3] = taur[1,1]\n",
    "        \n",
    "    elif taur[0,0] >= 0 and taur[1,1] < 0: #e11 +ve ; e22 -ve\n",
    "        BASIS_for_extensional[i,2] = taur[0,0]\n",
    "        BASIS_for_contractional[i,3] = taur[1,1]\n",
    "    \n",
    "    elif taur[0,0] < 0 and taur[1,1] < 0: #e11 and e22 are both contractional (-ve)\n",
    "        BASIS_for_contractional[i,2] = taur[0,0]\n",
    "        BASIS_for_contractional[i,3] = taur[1,1]\n",
    "    else:\n",
    "        print(\"ERROR! Stop this algorithm.\")\n",
    "        break\n",
    "        \n"
   ]
  },
  {
   "cell_type": "markdown",
   "metadata": {},
   "source": [
    "### Calculate dilatational strains and save in a xyz format\n",
    "> **dilatation is invariant** : exx+eyy = e11+e22"
   ]
  },
  {
   "cell_type": "code",
   "execution_count": 4,
   "metadata": {},
   "outputs": [],
   "source": [
    "BASIS_for_dilatation = data[:,1:4] \n",
    "#BE CAREFUL: the third column is exx at this moment\n",
    "dil = exx + eyy\n",
    "BASIS_for_dilatation[:,2]=dil"
   ]
  },
  {
   "cell_type": "markdown",
   "metadata": {},
   "source": [
    "### SAVE THE RESULTS"
   ]
  },
  {
   "cell_type": "code",
   "execution_count": 5,
   "metadata": {},
   "outputs": [],
   "source": [
    "np.savetxt(output_file1, BASIS_for_extensional, fmt='%g', delimiter=' ')\n",
    "np.savetxt(output_file2, BASIS_for_contractional, fmt='%g', delimiter=' ')\n",
    "np.savetxt(output_file3, BASIS_for_dilatation, fmt='%g', delimiter=' ')"
   ]
  },
  {
   "cell_type": "code",
   "execution_count": null,
   "metadata": {},
   "outputs": [],
   "source": []
  }
 ],
 "metadata": {
  "kernelspec": {
   "display_name": "Python 3",
   "language": "python",
   "name": "python3"
  },
  "language_info": {
   "codemirror_mode": {
    "name": "ipython",
    "version": 3
   },
   "file_extension": ".py",
   "mimetype": "text/x-python",
   "name": "python",
   "nbconvert_exporter": "python",
   "pygments_lexer": "ipython3",
   "version": "3.8.3"
  }
 },
 "nbformat": 4,
 "nbformat_minor": 4
}
