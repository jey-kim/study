{
 "cells": [
  {
   "cell_type": "code",
   "execution_count": 1,
   "metadata": {},
   "outputs": [],
   "source": [
    "import numpy as np\n",
    "import pandas as pd"
   ]
  },
  {
   "cell_type": "code",
   "execution_count": 18,
   "metadata": {},
   "outputs": [],
   "source": [
    "df_AT35 = pd.read_csv('masked_AT35_resampled_reform.dat',header=None,sep=r'(?:,|\\s+)',comment='#', engine='python')\n",
    "df_AT35.columns=['lon','lat','vel','px','py','pz']"
   ]
  },
  {
   "cell_type": "code",
   "execution_count": 19,
   "metadata": {},
   "outputs": [],
   "source": [
    "df_DT42 = pd.read_csv('masked_DT42_resampled.dat',header=None,sep=' ')\n",
    "df_DT42.columns=['lon','lat','vel','px','py','pz']"
   ]
  },
  {
   "cell_type": "code",
   "execution_count": 22,
   "metadata": {},
   "outputs": [],
   "source": [
    "df_save=df_AT35.merge(df_DT42, on=['lon','lat'], how='left')\n",
    "    # MERGE the two data frames based on 'lon' and 'lat' columns. \n",
    "    # how='left' means that \n",
    "    # MERGE them together filling all empty elements of df_input (right), \n",
    "    # comparing with time_vector (left), with NaN\n",
    "df_save=df_save.dropna()\n",
    "df_save.reset_index(drop=True)"
   ]
  },
  {
   "cell_type": "code",
   "execution_count": 30,
   "metadata": {},
   "outputs": [],
   "source": [
    "df_asd = df_save.loc[:,['lon','lat','vel_x','px_x','py_x','pz_x']]\n",
    "df_dsd = df_save.loc[:,['lon','lat','vel_y','px_y','py_y','pz_y']]"
   ]
  },
  {
   "cell_type": "code",
   "execution_count": 33,
   "metadata": {},
   "outputs": [],
   "source": [
    "df_asd.to_csv('AT35_data_final.dat',header=None,index=None,sep=' ')\n",
    "df_dsd.to_csv('DT42_data_final.dat',header=None,index=None,sep=' ')"
   ]
  },
  {
   "cell_type": "code",
   "execution_count": null,
   "metadata": {},
   "outputs": [],
   "source": []
  }
 ],
 "metadata": {
  "kernelspec": {
   "display_name": "Python 3",
   "language": "python",
   "name": "python3"
  },
  "language_info": {
   "codemirror_mode": {
    "name": "ipython",
    "version": 3
   },
   "file_extension": ".py",
   "mimetype": "text/x-python",
   "name": "python",
   "nbconvert_exporter": "python",
   "pygments_lexer": "ipython3",
   "version": "3.8.3"
  }
 },
 "nbformat": 4,
 "nbformat_minor": 4
}
