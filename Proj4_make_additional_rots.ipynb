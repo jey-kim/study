{
 "cells": [
  {
   "cell_type": "code",
   "execution_count": 1,
   "id": "4f5ce286-efe3-4501-9b89-0600398d6d7c",
   "metadata": {},
   "outputs": [],
   "source": [
    "import numpy as np"
   ]
  },
  {
   "cell_type": "code",
   "execution_count": 2,
   "id": "7e0107b4-4e0b-4c34-ac6f-b8fdf5359c80",
   "metadata": {},
   "outputs": [],
   "source": [
    "boundary_file=\"boundary_rotations.dat\"\n",
    "with open(boundary_file) as f:\n",
    "    first_line = f.readline() \n",
    "    \n",
    "current_last_rot=int(first_line.split()[2])\n",
    "last_rot=current_last_rot+1\n",
    "\n",
    "\n",
    "xrot_inputfile=\"xrot\"+str(f\"{current_last_rot:03}\")+\".dat\"\n",
    "xrot_outputfile=\"xrot\"+str(f\"{last_rot:03}\")+\".dat\"\n",
    "\n",
    "yrot_inputfile=\"yrot\"+str(f\"{current_last_rot:03}\")+\".dat\"\n",
    "yrot_outputfile=\"yrot\"+str(f\"{last_rot:03}\")+\".dat\"\n",
    "\n",
    "zrot_inputfile=\"zrot\"+str(f\"{current_last_rot:03}\")+\".dat\"\n",
    "zrot_outputfile=\"zrot\"+str(f\"{last_rot:03}\")+\".dat\"\n"
   ]
  },
  {
   "cell_type": "code",
   "execution_count": 3,
   "id": "207e70a3-9c4e-4745-8e0e-828d49b995b3",
   "metadata": {},
   "outputs": [],
   "source": [
    "def save_new_rot(inputfile, outputfile):\n",
    "    \n",
    "    with open(inputfile) as f:\n",
    "        input_data = f.readlines()\n",
    "    \n",
    "    num_inner_points=input_data[0]\n",
    "    num_inner_points=int(num_inner_points)\n",
    "    rot_values=input_data[1:]\n",
    "    str_list = [rot_values[i].split() for i in range(len(rot_values))]\n",
    "    str_arr = np.array(str_list)\n",
    "    float_arr = str_arr.astype(np.float64)\n",
    "\n",
    "    num=float_arr[:,0].astype(int)\n",
    "    lat=float_arr[:,1].astype(int)\n",
    "    lon=float_arr[:,2].astype(int)\n",
    "    w_rate=float_arr[:,3]\n",
    "    shifts= w_rate[0:2]\n",
    "    fixed_w = w_rate[2:]\n",
    "    lat[-1]=lat[-2]\n",
    "    lon[-1]=lon[-2]\n",
    "    new_w_rate=np.append(fixed_w,shifts)\n",
    "\n",
    "    f=open(outputfile,mode=\"w\")\n",
    "    f.write(\"        \"+str(num_inner_points))\n",
    "    f.write('\\n')\n",
    "    for i in range(len(num)):\n",
    "        f.write(\"        \"+str(num[i])+\"    \"+str(lat[i])+\"   \"+str(lon[i])+\"   \"+str(new_w_rate[i]))\n",
    "        f.write('\\n')\n",
    "    f.close()"
   ]
  },
  {
   "cell_type": "code",
   "execution_count": 4,
   "id": "f9168344-d2e4-4664-9c50-9732c872ce1f",
   "metadata": {},
   "outputs": [],
   "source": [
    "save_new_rot(xrot_inputfile, xrot_outputfile)\n",
    "save_new_rot(yrot_inputfile, yrot_outputfile)\n",
    "save_new_rot(zrot_inputfile, zrot_outputfile)"
   ]
  },
  {
   "cell_type": "code",
   "execution_count": null,
   "id": "c1dd4098-39d0-4c5f-90c3-bfd2efdb6da0",
   "metadata": {},
   "outputs": [],
   "source": []
  }
 ],
 "metadata": {
  "kernelspec": {
   "display_name": "Python 3 (ipykernel)",
   "language": "python",
   "name": "python3"
  },
  "language_info": {
   "codemirror_mode": {
    "name": "ipython",
    "version": 3
   },
   "file_extension": ".py",
   "mimetype": "text/x-python",
   "name": "python",
   "nbconvert_exporter": "python",
   "pygments_lexer": "ipython3",
   "version": "3.9.7"
  }
 },
 "nbformat": 4,
 "nbformat_minor": 5
}
