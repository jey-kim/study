{
 "cells": [
  {
   "cell_type": "markdown",
   "id": "fa2a30a8-f027-4980-8a88-2b6cda733caf",
   "metadata": {},
   "source": [
    "## QUESTION \n",
    "The file **mystery.dat** contains pairs $(x,y)$ , where $y\\in\\mathbb{R}$ and $x\\in\\mathbb{R}^{100}$. There is one data point per line, with comma-separated values; the very last number in each line is the $y$-value.\n",
    "\n",
    "In this data set, $y$ is a linear function of just ten of the features in $x$ , plus some noise. Your job is to identify those ten features.\n",
    "\n",
    "Which of the following contain only relevant features?\n",
    "\n",
    "(Think of the feature numbers as being in the range 1 to 100, but be aware that Python indexes arrays "
   ]
  },
  {
   "cell_type": "code",
   "execution_count": 148,
   "id": "0a67fdc1-9d73-431a-a8bc-2156cfb3eda1",
   "metadata": {},
   "outputs": [],
   "source": [
    "import numpy as np\n",
    "from sklearn import linear_model"
   ]
  },
  {
   "cell_type": "code",
   "execution_count": 149,
   "id": "6292259c-ebaf-4976-84c4-a9fc0565816c",
   "metadata": {},
   "outputs": [],
   "source": [
    "data=np.loadtxt('mystery.dat',delimiter=',')\n",
    "trainx = data[:,0:100]\n",
    "trainy = data[:,-1]"
   ]
  },
  {
   "cell_type": "code",
   "execution_count": 150,
   "id": "d5915244-be9e-4d2a-9e0d-971d24dbe8a4",
   "metadata": {},
   "outputs": [],
   "source": [
    "def Lasso_regression(x,y,a):\n",
    "    regr = linear_model.Lasso(alpha=a)\n",
    "    regr.fit(x, y)\n",
    "    return regr"
   ]
  },
  {
   "cell_type": "code",
   "execution_count": 217,
   "id": "af6e55df-d808-4e45-8b8d-1f78def61f4b",
   "metadata": {},
   "outputs": [
    {
     "name": "stdout",
     "output_type": "stream",
     "text": [
      "[ 2  3  5  7 11 13 17 19 23 29] 62 0.025118864315095794\n",
      "[ 2  3  5  7 11 13 17 19 23 29] 63 0.02590200204531324\n",
      "[ 2  3  5  7 11 13 17 19 23 29] 63 0.02670955587558984\n",
      "[ 2  3  5  7 11 13 17 19 23 29] 63 0.02754228703338166\n",
      "[ 2  3  5  7 11 13 17 19 23 29] 63 0.02840098047914214\n",
      "[ 2  3  5  7 11 13 17 19 23 29] 60 0.02928644564625236\n",
      "[ 2  3  5  7 11 13 17 19 23 29] 57 0.03019951720402016\n",
      "[ 2  3  5  7 11 13 17 19 23 29] 55 0.031141055844467583\n",
      "[ 2  3  5  7 11 13 17 19 23 29] 55 0.03211194909364822\n",
      "[ 2  3  5  7 11 13 17 19 23 29] 54 0.03311311214825911\n",
      "[ 2  3  5  7 11 13 17 19 23 29] 54 0.034145488738336005\n",
      "[ 2  3  5  7 11 13 17 19 23 29] 53 0.03521005201684519\n",
      "[ 2  3  5  7 11 13 17 19 23 29] 53 0.03630780547701012\n",
      "[ 2  3  5  7 11 13 17 19 23 29] 53 0.037439783898238106\n",
      "[ 2  3  5  7 11 13 17 19 23 29] 52 0.03860705432153813\n",
      "[ 2  3  5  7 11 13 17 19 23 29] 52 0.03981071705534971\n",
      "[ 2  3  5  7 11 13 17 19 23 29] 51 0.04105190671273078\n",
      "[ 2  3  5  7 11 13 17 19 23 29] 52 0.04233179328088207\n",
      "[ 2  3  5  7 11 13 17 19 23 29] 51 0.043651583224016584\n",
      "[ 2  3  5  7 11 13 17 19 23 29] 50 0.04501252062061337\n",
      "[ 2  3  5  7 11 13 17 19 23 29] 48 0.046415888336127774\n",
      "[ 2  3  5  7 11 13 17 19 23 29] 48 0.047863009232263824\n",
      "[ 2  3  5  7 11 13 17 19 23 29] 48 0.04935524741394806\n",
      "[ 2  3  5  7 11 13 17 19 23 29] 48 0.05089400951518089\n",
      "[ 2  3  5  7 11 13 17 19 23 29] 48 0.05248074602497726\n",
      "[ 2  3  5  7 11 13 17 19 23 29] 48 0.054116952654646375\n",
      "[ 2  3  5  7 11 13 17 19 23 29] 48 0.05580417174769964\n",
      "[ 2  3  5  7 11 13 17 19 23 29] 47 0.057543993733715694\n",
      "[ 2  3  5  7 11 13 17 19 23 29] 46 0.05933805862753278\n",
      "[ 2  3  5  7 11 13 17 19 23 29] 46 0.06118805757518219\n",
      "[ 2  3  5  7 11 13 17 19 23 29] 45 0.0630957344480193\n",
      "[ 2  3  5  7 11 13 17 19 23 29] 45 0.0650628874865557\n",
      "[ 2  3  5  7 11 13 17 19 23 29] 45 0.06709137099554112\n",
      "[ 2  3  5  7 11 13 17 19 23 29] 45 0.06918309709189363\n",
      "[ 2  3  5  7 11 13 17 19 23 29] 44 0.07134003750712561\n",
      "[ 2  3  5  7 11 13 17 19 23 29] 43 0.07356422544596414\n",
      "[ 2  3  5  7 11 13 17 19 23 29] 42 0.07585775750291836\n",
      "[ 2  3  5  7 11 13 17 19 23 29] 42 0.07822279563860025\n",
      "[ 2  3  5  7 11 13 17 19 23 29] 40 0.08066156921766135\n",
      "[ 2  3  5  7 11 13 17 19 23 29] 39 0.08317637711026708\n",
      "[ 2  3  5  7 11 13 17 19 23 29] 38 0.08576958985908938\n",
      "[ 2  3  5  7 11 13 17 19 23 29] 37 0.08844365191385999\n",
      "[ 2  3  5  7 11 13 17 19 23 29] 36 0.09120108393559097\n",
      "[ 2  3  5  7 11 13 17 19 23 29] 36 0.09404448517263514\n",
      "[ 2  3  5  7 11 13 17 19 23 29] 36 0.0969765359108249\n",
      "[ 2  3  5  7 11 13 17 19 23 29] 36 0.1\n",
      "[ 2  3  5  7 11 13 17 19 23 29] 36 0.10311772745930552\n",
      "[ 2  3  5  7 11 13 17 19 23 29] 35 0.10633265716371611\n",
      "[ 2  3  5  7 11 13 17 19 23 29] 34 0.10964781961431848\n",
      "[ 2  3  5  7 11 13 17 19 23 29] 34 0.11306633979496387\n",
      "[ 2  3  5  7 11 13 17 19 23 29] 33 0.11659144011798317\n",
      "[ 2  3  5  7 11 13 17 19 23 29] 32 0.12022644346174129\n",
      "[ 2  3  5  7 11 13 17 19 23 29] 31 0.12397477630289441\n",
      "[ 2  3  5  7 11 13 17 19 23 29] 29 0.12783997194630234\n",
      "[ 2  3  5  7 11 13 17 19 23 29] 29 0.1318256738556407\n",
      "[ 2  3  5  7 11 13 17 19 23 29] 27 0.13593563908785256\n",
      "[ 2  3  5  7 11 13 17 19 23 29] 27 0.14017374183467698\n",
      "[ 2  3  5  7 11 13 17 19 23 29] 25 0.1445439770745927\n",
      "[ 2  3  5  7 11 13 17 19 23 29] 25 0.1490504643386196\n",
      "[ 2  3  5  7 11 13 17 19 23 29] 25 0.15369745159352713\n",
      "[ 2  3  5  7 11 13 17 19 23 29] 25 0.15848931924611134\n",
      "[ 2  3  5  7 11 13 17 19 23 29] 23 0.16343058427231372\n",
      "[ 2  3  5  7 11 13 17 19 23 29] 22 0.16852590447507515\n",
      "[ 2  3  5  7 11 13 17 19 23 29] 21 0.17378008287493754\n",
      "[ 2  3  5  7 11 13 17 19 23 29] 21 0.17919807223753337\n",
      "[ 2  3  5  7 11 13 17 19 23 29] 21 0.18478497974222907\n",
      "[ 2  3  5  7 11 13 17 19 23 29] 20 0.19054607179632468\n",
      "[ 2  3  5  7 11 13 17 19 23 29] 19 0.19648677899934675\n",
      "[ 2  3  5  7 11 13 17 19 23 29] 18 0.20261270126211434\n",
      "[ 2  3  5  7 11 13 17 19 23 29] 18 0.20892961308540392\n",
      "[ 2  3  5  7 11 13 17 19 23 29] 17 0.21544346900318834\n",
      "[ 2  3  5  7 11 13 17 19 23 29] 16 0.22216040919558117\n",
      "[ 2  3  5  7 11 13 17 19 23 29] 16 0.2290867652767773\n",
      "[ 2  3  5  7 11 13 17 19 23 29] 15 0.23622906626344617\n",
      "[ 2  3  5  7 11 13 17 19 23 29] 14 0.24359404472920265\n",
      "[ 2  3  5  7 11 13 17 19 23 29] 13 0.25118864315095796\n",
      "[ 2  3  5  7 11 13 17 19 23 29] 13 0.2590200204531324\n",
      "[ 2  3  5  7 11 13 17 19 23 29] 13 0.2670955587558985\n",
      "[ 2  3  5  7 11 13 17 19 23 29] 12 0.2754228703338166\n",
      "[ 2  3  5  7 11 13 17 19 23 29] 12 0.2840098047914215\n",
      "[ 2  3  5  7 11 13 17 19 23 29] 12 0.29286445646252357\n",
      "[ 2  3  5  7 11 13 17 19 23 29] 12 0.3019951720402016\n",
      "[ 2  3  5  7 11 13 17 19 23 29] 12 0.31141055844467597\n",
      "[ 2  3  5  7 11 13 17 19 23 29] 12 0.32111949093648223\n",
      "[ 2  3  5  7 11 13 17 19 23 29] 12 0.3311311214825911\n",
      "[ 2  3  5  7 11 13 17 19 23 29] 12 0.34145488738336005\n",
      "[ 2  3  5  7 11 13 17 19 23 29] 11 0.3521005201684519\n",
      "[ 2  3  5  7 11 13 17 19 23 29] 11 0.3630780547701014\n",
      "[ 2  3  5  7 11 13 17 19 23 29] 11 0.37439783898238105\n",
      "[ 2  3  5  7 11 13 17 19 23 29] 11 0.3860705432153813\n",
      "[ 2  3  5  7 11 13 17 19 23 29] 11 0.3981071705534973\n",
      "[ 2  3  5  7 11 13 17 19 23 29] 11 0.41051906712730785\n",
      "[ 2  3  5  7 11 13 17 19 23 29] 11 0.4233179328088209\n",
      "[ 2  3  5  7 11 13 17 19 23 29] 11 0.4365158322401659\n",
      "[ 2  3  5  7 11 13 17 19 23 29] 11 0.45012520620613367\n",
      "[ 2  3  5  7 11 13 17 19 23 29] 11 0.464158883361278\n",
      "[ 2  3  5  7 11 13 17 19 23 29] 11 0.47863009232263826\n",
      "[ 2  3  5  7 11 13 17 19 23 29] 11 0.49355247413948067\n",
      "[ 2  3  5  7 11 13 17 19 23 81] 11 0.5089400951518088\n",
      "[ 2  3  5  7 11 13 17 19 23 81] 11 0.5248074602497725\n"
     ]
    }
   ],
   "source": [
    "for alpha in np.logspace(-1.6,-0.28,100):\n",
    "    clf = Lasso_regression(trainx,trainy,alpha)\n",
    "    s_L1 = clf.coef_\n",
    "    nonzero_num=len(s_L1[np.abs(s_L1)>0])\n",
    "    print(np.sort(np.flip(np.argsort(np.abs(s_L1)))[0:10]+1),nonzero_num,alpha)"
   ]
  },
  {
   "cell_type": "code",
   "execution_count": 219,
   "id": "8c33393c-3eca-4887-9b1c-a34fa035a0ec",
   "metadata": {},
   "outputs": [
    {
     "data": {
      "image/png": "[encoded data removed]",
      "text/plain": [
       "<Figure size 432x288 with 1 Axes>"
      ]
     },
     "metadata": {
      "needs_background": "light"
     },
     "output_type": "display_data"
    }
   ],
   "source": [
    "from sklearn import model_selection\n",
    "import matplotlib.pyplot as plt\n",
    "lasso = linear_model.Lasso(random_state=0, max_iter=10000)\n",
    "alphas = np.logspace(-4, -0.5, 300)\n",
    "tuned_parameters = [{'alpha': alphas}] \n",
    "clf = model_selection.GridSearchCV(lasso, tuned_parameters, cv=10, refit=False)\n",
    "clf.fit(trainx, trainy)\n",
    "XL1 = linear_model.Lasso(alpha=clf.best_params_['alpha'])\n",
    "XL1.fit(trainx, trainy)\n",
    "s_L1 = XL1.coef_\n",
    "scores = clf.cv_results_['mean_test_score']\n",
    "scores_std = clf.cv_results_['std_test_score']\n",
    "plt.semilogx(alphas, scores,'r-')\n",
    "# plot error lines showing +/- std. errors of the scores\n",
    "std_error = scores_std / np.sqrt(10)\n",
    "plt.semilogx(alphas, scores + std_error, 'k--')\n",
    "plt.semilogx(alphas, scores - std_error, 'k--')\n",
    "plt.fill_between(alphas, scores + std_error, scores - std_error, alpha=0.1,color='k')\n",
    "plt.ylabel('CV score +/- std error')\n",
    "plt.xlabel('alpha')\n",
    "plt.axhline(np.max(scores), linestyle='--', color='.5')\n",
    "plt.xlim([alphas[-1], alphas[0]])\n",
    "plt.show()\n"
   ]
  },
  {
   "cell_type": "code",
   "execution_count": 224,
   "id": "5345a53e-a5eb-4038-81e5-7a120decd25f",
   "metadata": {},
   "outputs": [
    {
     "name": "stdout",
     "output_type": "stream",
     "text": [
      "[ 2  3  5  7 11 13 17 19 23 29] 45 0.06275652144031313\n"
     ]
    }
   ],
   "source": [
    "idx_best_alpha=np.argmax(scores)\n",
    "best_alpah=alphas[idx_best_alpha]\n",
    "clf = Lasso_regression(trainx,trainy,best_alpah)\n",
    "s_L1 = clf.coef_\n",
    "nonzero_num=len(s_L1[np.abs(s_L1)>0])\n",
    "print(np.sort(np.flip(np.argsort(np.abs(s_L1)))[0:10]+1),nonzero_num,best_alpah)"
   ]
  },
  {
   "cell_type": "code",
   "execution_count": 228,
   "id": "8176c3cd-086c-4704-b243-6ca657dc99eb",
   "metadata": {},
   "outputs": [
    {
     "data": {
      "text/plain": [
       "array([0.86852124, 0.68200265, 1.06085405, 0.95854395, 0.90424589,\n",
       "       0.70857333, 0.85983096, 0.79105633, 0.88347248, 0.56707905])"
      ]
     },
     "execution_count": 228,
     "metadata": {},
     "output_type": "execute_result"
    }
   ],
   "source": [
    "s_L1[s_L1>0.2]"
   ]
  },
  {
   "cell_type": "code",
   "execution_count": null,
   "id": "87a5cc0f-6327-426f-86f6-ed33b1956b74",
   "metadata": {},
   "outputs": [],
   "source": []
  }
 ],
 "metadata": {
  "kernelspec": {
   "display_name": "Python 3 (ipykernel)",
   "language": "python",
   "name": "python3"
  },
  "language_info": {
   "codemirror_mode": {
    "name": "ipython",
    "version": 3
   },
   "file_extension": ".py",
   "mimetype": "text/x-python",
   "name": "python",
   "nbconvert_exporter": "python",
   "pygments_lexer": "ipython3",
   "version": "3.9.7"
  }
 },
 "nbformat": 4,
 "nbformat_minor": 5
}
