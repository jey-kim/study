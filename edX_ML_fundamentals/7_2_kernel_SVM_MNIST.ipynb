{
 "cells": [
  {
   "cell_type": "markdown",
   "id": "7cf46414-77c8-42b5-8c01-36fe1b7989ae",
   "metadata": {},
   "source": [
    " {working... 1/18/2022}"
   ]
  },
  {
   "cell_type": "code",
   "execution_count": 1,
   "id": "494f9f00-10df-42a9-a9b8-32f27ab14530",
   "metadata": {},
   "outputs": [],
   "source": [
    "%matplotlib inline\n",
    "import numpy as np\n",
    "import matplotlib\n",
    "import matplotlib.pyplot as plt\n",
    "from sklearn.svm import SVC\n",
    "from sklearn.svm import LinearSVC\n",
    "matplotlib.rc('xtick', labelsize=14) \n",
    "matplotlib.rc('ytick', labelsize=14)\n"
   ]
  },
  {
   "cell_type": "code",
   "execution_count": null,
   "id": "a4010684-5d28-47c9-b89f-b0f2f1585aac",
   "metadata": {},
   "outputs": [],
   "source": [
    "# def learn_and_display_SVM(datafile, kernel_type='rbf', C_value=1.0, s_value=1.0):\n",
    "#     data = np.loadtxt(datafile)\n",
    "#     n,d = data.shape\n",
    "#     # Create training set x and labels y\n",
    "#     x = data[:,0:2]\n",
    "#     y = data[:,2]\n",
    "#     # Now train a support vector machine and identify the support vectors\n",
    "#     if kernel_type == 'rbf':\n",
    "#         clf = SVC(kernel='rbf', C=C_value, gamma=1.0/(s_value*s_value))\n",
    "#     if kernel_type == 'quadratic':\n",
    "#         clf = SVC(kernel='poly', degree=2, C=C_value, coef0=1.0)\n",
    "#     clf.fit(x,y)\n",
    "#     sv = np.zeros(n,dtype=bool)\n",
    "#     sv[clf.support_] = True\n",
    "#     notsv = np.logical_not(sv)\n",
    "#     # Determine the x1- and x2- limits of the plot\n",
    "#     x1min = min(x[:,0]) - 1\n",
    "#     x1max = max(x[:,0]) + 1\n",
    "#     x2min = min(x[:,1]) - 1\n",
    "#     x2max = max(x[:,1]) + 1\n",
    "#     plt.xlim(x1min,x1max)\n",
    "#     plt.ylim(x2min,x2max)\n",
    "#     # Plot the data points, enlarging those that are support vectors\n",
    "#     plt.plot(x[(y==1)*notsv,0], x[(y==1)*notsv,1], 'ro') ## x[bool1*bool2] means x[bool1 & bool2]\n",
    "#     plt.plot(x[(y==1)*sv,0], x[(y==1)*sv,1], 'ro', markersize=10) ## x[bool1*bool2] means x[bool1 & bool2]\n",
    "#     plt.plot(x[(y==-1)*notsv,0], x[(y==-1)*notsv,1], 'k^') ## x[bool1*bool2] means x[bool1 & bool2]\n",
    "#     plt.plot(x[(y==-1)*sv,0], x[(y==-1)*sv,1], 'k^', markersize=10) ## x[bool1*bool2] means x[bool1 & bool2]\n",
    "#     # Construct a grid of points and evaluate classifier at each grid points\n",
    "#     grid_spacing = 0.05\n",
    "#     xx1, xx2 = np.meshgrid(np.arange(x1min, x1max, grid_spacing), np.arange(x2min, x2max, grid_spacing))\n",
    "#     grid = np.c_[xx1.ravel(), xx2.ravel()]\n",
    "#     Z = clf.decision_function(grid)\n",
    "#     # Quantize the values to -1, -0.5, 0, 0.5, 1 for display purposes\n",
    "#     for i in range(len(Z)):\n",
    "#         Z[i] = min(Z[i],1.0)\n",
    "#         Z[i] = max(Z[i],-1.0)\n",
    "#         if (Z[i] > 0.0) and (Z[i] < 1.0):\n",
    "#             Z[i] = 0.5\n",
    "#         if (Z[i] < 0.0) and (Z[i] > -1.0):\n",
    "#             Z[i] = -0.5\n",
    "#     # Show boundary and margin using a color plot\n",
    "#     Z = Z.reshape(xx1.shape)\n",
    "#     plt.pcolormesh(xx1, xx2, Z, cmap=plt.cm.PRGn, vmin=-2, vmax=2)\n",
    "#     plt.show()"
   ]
  }
 ],
 "metadata": {
  "kernelspec": {
   "display_name": "Python 3 (ipykernel)",
   "language": "python",
   "name": "python3"
  },
  "language_info": {
   "codemirror_mode": {
    "name": "ipython",
    "version": 3
   },
   "file_extension": ".py",
   "mimetype": "text/x-python",
   "name": "python",
   "nbconvert_exporter": "python",
   "pygments_lexer": "ipython3",
   "version": "3.9.7"
  }
 },
 "nbformat": 4,
 "nbformat_minor": 5
}
