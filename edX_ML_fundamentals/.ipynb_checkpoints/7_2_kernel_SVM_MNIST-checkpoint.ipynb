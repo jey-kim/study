{
 "cells": [
  {
   "cell_type": "markdown",
   "id": "7cf46414-77c8-42b5-8c01-36fe1b7989ae",
   "metadata": {},
   "source": [
    "## Additional quick programming assignment for the MNIST DATA SET \n",
    "> Using an SVM for this data set, build a basic classifier. \n",
    "\n",
    "1.  Load in the MNIST data (the training set of 60000 points & the test set of 10000 points). Learn a linear SVM classifier using sklearn.svm.LinearSVC, setting loss='hinge'. Try different C values C = 0.01, 0.1, 1.0, 10.0, 100.0. Find the training error and test error in each case. \n",
    "\n",
    "2. Try kernel SVM with a quadratic kernel. For this you can use sklearn.svm.SVC, setting kernel = 'poly' and degree = 2. Just try C = 1.0 "
   ]
  },
  {
   "cell_type": "code",
   "execution_count": 2,
   "id": "494f9f00-10df-42a9-a9b8-32f27ab14530",
   "metadata": {},
   "outputs": [],
   "source": [
    "%matplotlib inline\n",
    "import numpy as np\n",
    "import matplotlib\n",
    "import matplotlib.pyplot as plt\n",
    "from sklearn.svm import SVC\n",
    "from sklearn.svm import LinearSVC\n",
    "matplotlib.rc('xtick', labelsize=14) \n",
    "matplotlib.rc('ytick', labelsize=14)\n"
   ]
  },
  {
   "cell_type": "code",
   "execution_count": 7,
   "id": "e98704ec-0ffa-45ae-a782-0a22bf85e5f6",
   "metadata": {},
   "outputs": [],
   "source": [
    "import sys\n",
    "import gzip, os\n",
    "if sys.version_info[0] == 2:\n",
    "    from urllib import urlretrieve\n",
    "else:\n",
    "    from urllib.request import urlretrieve"
   ]
  },
  {
   "cell_type": "code",
   "execution_count": 8,
   "id": "bb4f0881-28c1-4166-acae-7472d52901f9",
   "metadata": {},
   "outputs": [],
   "source": [
    "# Function that downloads a specified MNIST data file from Yann Le Cun's website\n",
    "def download(filename, source='http://yann.lecun.com/exdb/mnist/'):\n",
    "    print(\"Downloading %s\" % filename)\n",
    "    urlretrieve(source + filename, filename)\n",
    "\n",
    "# Invokes download() if necessary, then reads in images\n",
    "def load_mnist_images(filename):\n",
    "    if not os.path.exists(filename):\n",
    "        download(filename)\n",
    "    with gzip.open(filename, 'rb') as f:\n",
    "        data = np.frombuffer(f.read(), np.uint8, offset=16)\n",
    "    data = data.reshape(-1,784)\n",
    "    return data\n",
    "\n",
    "def load_mnist_labels(filename):\n",
    "    if not os.path.exists(filename):\n",
    "        download(filename)\n",
    "    with gzip.open(filename, 'rb') as f:\n",
    "        data = np.frombuffer(f.read(), np.uint8, offset=8)\n",
    "    return data"
   ]
  },
  {
   "cell_type": "code",
   "execution_count": 9,
   "id": "ba809937-84d6-4ae4-87c5-c3993ca39439",
   "metadata": {},
   "outputs": [],
   "source": [
    "## Load the training set\n",
    "train_data = load_mnist_images('train-images-idx3-ubyte.gz')\n",
    "train_labels = load_mnist_labels('train-labels-idx1-ubyte.gz')\n",
    "\n",
    "## Load the testing set\n",
    "test_data = load_mnist_images('t10k-images-idx3-ubyte.gz')\n",
    "test_labels = load_mnist_labels('t10k-labels-idx1-ubyte.gz')"
   ]
  },
  {
   "cell_type": "code",
   "execution_count": 12,
   "id": "c579a6f8-49f6-41c3-b84d-932fcece7a5b",
   "metadata": {},
   "outputs": [
    {
     "name": "stdout",
     "output_type": "stream",
     "text": [
      "(60000, 784)\n",
      "(60000,)\n",
      "(10000, 784)\n",
      "(10000,)\n"
     ]
    }
   ],
   "source": [
    "print(train_data.shape)\n",
    "print(train_labels.shape)\n",
    "print(test_data.shape)\n",
    "print(test_labels.shape)"
   ]
  },
  {
   "cell_type": "code",
   "execution_count": 27,
   "id": "f989d201-6a28-4314-9565-af0633e03cf5",
   "metadata": {},
   "outputs": [
    {
     "name": "stderr",
     "output_type": "stream",
     "text": [
      "/Users/jkim/miniconda3/lib/python3.9/site-packages/sklearn/svm/_base.py:1206: ConvergenceWarning: Liblinear failed to converge, increase the number of iterations.\n",
      "  warnings.warn(\n",
      "/Users/jkim/miniconda3/lib/python3.9/site-packages/sklearn/svm/_base.py:1206: ConvergenceWarning: Liblinear failed to converge, increase the number of iterations.\n",
      "  warnings.warn(\n",
      "/Users/jkim/miniconda3/lib/python3.9/site-packages/sklearn/svm/_base.py:1206: ConvergenceWarning: Liblinear failed to converge, increase the number of iterations.\n",
      "  warnings.warn(\n",
      "/Users/jkim/miniconda3/lib/python3.9/site-packages/sklearn/svm/_base.py:1206: ConvergenceWarning: Liblinear failed to converge, increase the number of iterations.\n",
      "  warnings.warn(\n",
      "/Users/jkim/miniconda3/lib/python3.9/site-packages/sklearn/svm/_base.py:1206: ConvergenceWarning: Liblinear failed to converge, increase the number of iterations.\n",
      "  warnings.warn(\n"
     ]
    }
   ],
   "source": [
    "C_values=[0.01, 0.1, 1.0, 10.0, 100.0]\n",
    "train_errors = np.zeros(len(C_values))\n",
    "test_errors = np.zeros(len(C_values))\n",
    "for i in range(len(C_values)):\n",
    "    C_value=C_values[i]\n",
    "    clf = LinearSVC(loss='hinge', C=C_value)\n",
    "    clf.fit(train_data,train_labels)\n",
    "    error_trai=(train_labels!=clf.predict(train_data)).sum()/len(train_labels)\n",
    "    error_test=(test_labels!=clf.predict(test_data)).sum()/len(test_labels)\n",
    "    train_errors[i]=error_trai\n",
    "    test_errors[i]=error_test"
   ]
  },
  {
   "cell_type": "code",
   "execution_count": 34,
   "id": "75e663ba-a312-4730-a086-88df9a389705",
   "metadata": {},
   "outputs": [
    {
     "data": {
      "image/png": "[encoded data removed]",
      "text/plain": [
       "<Figure size 432x288 with 1 Axes>"
      ]
     },
     "metadata": {
      "needs_background": "light"
     },
     "output_type": "display_data"
    }
   ],
   "source": [
    "plt.plot(C_values,train_errors,'*')\n",
    "plt.xscale('log')\n",
    "plt.show()"
   ]
  },
  {
   "cell_type": "code",
   "execution_count": 35,
   "id": "d849adeb-e039-4a6d-9367-79d3400ed643",
   "metadata": {},
   "outputs": [
    {
     "data": {
      "image/png": "[encoded data removed]",
      "text/plain": [
       "<Figure size 432x288 with 1 Axes>"
      ]
     },
     "metadata": {
      "needs_background": "light"
     },
     "output_type": "display_data"
    }
   ],
   "source": [
    "plt.plot(C_values,test_errors,'*')\n",
    "plt.xscale('log')\n",
    "plt.show()"
   ]
  },
  {
   "cell_type": "code",
   "execution_count": 38,
   "id": "106a6b01-6f51-4375-bed8-2d01b6355883",
   "metadata": {},
   "outputs": [
    {
     "data": {
      "text/plain": [
       "SVC(coef0=1.0, degree=2, kernel='poly')"
      ]
     },
     "execution_count": 38,
     "metadata": {},
     "output_type": "execute_result"
    }
   ],
   "source": [
    "clf_Poly = SVC(kernel='poly', degree=2, C=1.0, coef0=1.0)\n",
    "clf_Poly.fit(train_data,train_labels)"
   ]
  },
  {
   "cell_type": "code",
   "execution_count": null,
   "id": "e7f784d9-4edb-4a4a-9aed-156deca73aad",
   "metadata": {},
   "outputs": [],
   "source": []
  },
  {
   "cell_type": "code",
   "execution_count": null,
   "id": "77029599-0bcb-4a1e-84c3-12741e8fea9c",
   "metadata": {},
   "outputs": [],
   "source": []
  },
  {
   "cell_type": "code",
   "execution_count": null,
   "id": "a4010684-5d28-47c9-b89f-b0f2f1585aac",
   "metadata": {},
   "outputs": [],
   "source": [
    "# def learn_and_display_SVM(datafile, kernel_type='rbf', C_value=1.0, s_value=1.0):\n",
    "#     data = np.loadtxt(datafile)\n",
    "#     n,d = data.shape\n",
    "#     # Create training set x and labels y\n",
    "#     x = data[:,0:2]\n",
    "#     y = data[:,2]\n",
    "#     # Now train a support vector machine and identify the support vectors\n",
    "#     if kernel_type == 'rbf':\n",
    "#         clf = SVC(kernel='rbf', C=C_value, gamma=1.0/(s_value*s_value))\n",
    "#     if kernel_type == 'quadratic':\n",
    "#         clf = SVC(kernel='poly', degree=2, C=C_value, coef0=1.0)\n",
    "#     clf.fit(x,y)\n",
    "#     sv = np.zeros(n,dtype=bool)\n",
    "#     sv[clf.support_] = True\n",
    "#     notsv = np.logical_not(sv)\n",
    "#     # Determine the x1- and x2- limits of the plot\n",
    "#     x1min = min(x[:,0]) - 1\n",
    "#     x1max = max(x[:,0]) + 1\n",
    "#     x2min = min(x[:,1]) - 1\n",
    "#     x2max = max(x[:,1]) + 1\n",
    "#     plt.xlim(x1min,x1max)\n",
    "#     plt.ylim(x2min,x2max)\n",
    "#     # Plot the data points, enlarging those that are support vectors\n",
    "#     plt.plot(x[(y==1)*notsv,0], x[(y==1)*notsv,1], 'ro') ## x[bool1*bool2] means x[bool1 & bool2]\n",
    "#     plt.plot(x[(y==1)*sv,0], x[(y==1)*sv,1], 'ro', markersize=10) ## x[bool1*bool2] means x[bool1 & bool2]\n",
    "#     plt.plot(x[(y==-1)*notsv,0], x[(y==-1)*notsv,1], 'k^') ## x[bool1*bool2] means x[bool1 & bool2]\n",
    "#     plt.plot(x[(y==-1)*sv,0], x[(y==-1)*sv,1], 'k^', markersize=10) ## x[bool1*bool2] means x[bool1 & bool2]\n",
    "#     # Construct a grid of points and evaluate classifier at each grid points\n",
    "#     grid_spacing = 0.05\n",
    "#     xx1, xx2 = np.meshgrid(np.arange(x1min, x1max, grid_spacing), np.arange(x2min, x2max, grid_spacing))\n",
    "#     grid = np.c_[xx1.ravel(), xx2.ravel()]\n",
    "#     Z = clf.decision_function(grid)\n",
    "#     # Quantize the values to -1, -0.5, 0, 0.5, 1 for display purposes\n",
    "#     for i in range(len(Z)):\n",
    "#         Z[i] = min(Z[i],1.0)\n",
    "#         Z[i] = max(Z[i],-1.0)\n",
    "#         if (Z[i] > 0.0) and (Z[i] < 1.0):\n",
    "#             Z[i] = 0.5\n",
    "#         if (Z[i] < 0.0) and (Z[i] > -1.0):\n",
    "#             Z[i] = -0.5\n",
    "#     # Show boundary and margin using a color plot\n",
    "#     Z = Z.reshape(xx1.shape)\n",
    "#     plt.pcolormesh(xx1, xx2, Z, cmap=plt.cm.PRGn, vmin=-2, vmax=2)\n",
    "#     plt.show()"
   ]
  }
 ],
 "metadata": {
  "kernelspec": {
   "display_name": "Python 3 (ipykernel)",
   "language": "python",
   "name": "python3"
  },
  "language_info": {
   "codemirror_mode": {
    "name": "ipython",
    "version": 3
   },
   "file_extension": ".py",
   "mimetype": "text/x-python",
   "name": "python",
   "nbconvert_exporter": "python",
   "pygments_lexer": "ipython3",
   "version": "3.9.7"
  }
 },
 "nbformat": 4,
 "nbformat_minor": 5
}
