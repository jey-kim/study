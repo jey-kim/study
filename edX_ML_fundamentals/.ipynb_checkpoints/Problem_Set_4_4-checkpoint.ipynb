{
 "cells": [
  {
   "cell_type": "markdown",
   "id": "371d865d-d746-44a9-8b04-a8de75be3fde",
   "metadata": {},
   "source": [
    "# Problem Set #4 \n",
    "### Problem 4e\n",
    "#### Jeonghyeop Kim (1/6/2022)"
   ]
  },
  {
   "cell_type": "markdown",
   "id": "d672cacd-d2a9-4d8a-bf71-174c9390372d",
   "metadata": {},
   "source": [
    "Let's continue the thought process of the previous problem. Again, we have a collection of numbers $ x_1,...,x_n $ that we wish to summarize by a single number ***s***. But this time we want to minimize the **average absolute error,**\n",
    "$$\n",
    "L(s)=\\frac{1}{n}\\sum_{i=1}^n\\lvert x_i - s \\rvert\n",
    "$$\n",
    "\n",
    "To see why the median is the solution in general (not just for the specific numbers in the example, but always, for any numbers), we could try to use calculus, as we did in the case of squared loss. But this is tricky, because the absolute value function $\\lvert x \\rvert$ is not differentiable (at $x=0$). A related approach is to reason that if ***s*** is less than the median, then the loss function gets lower when you increase ***s***; and if ***s*** is more than the median, then the loss function gets lower when you decrease ***s***."
   ]
  },
  {
   "cell_type": "code",
   "execution_count": 1,
   "id": "d65fc1e6-41b6-4115-803d-3bb7605ec100",
   "metadata": {},
   "outputs": [],
   "source": [
    "import numpy as np\n",
    "import matplotlib.pyplot as plt"
   ]
  },
  {
   "cell_type": "code",
   "execution_count": 2,
   "id": "eefe2ea0-42e0-4b94-b100-e25cca57b257",
   "metadata": {},
   "outputs": [],
   "source": [
    "def avg_abs_err(x,s):  \n",
    "    L_s=np.mean(np.abs(x-s))\n",
    "    return L_s"
   ]
  },
  {
   "cell_type": "code",
   "execution_count": 3,
   "id": "3c1c899a-a902-4721-a719-a866c0d9a327",
   "metadata": {},
   "outputs": [],
   "source": [
    "set1=np.array([1,2,3,4,5,6,7,8,90])\n",
    "# example data for the problem\n",
    "\n",
    "arr_median = np.median(set1)\n",
    "# median of the example data\n",
    "L_s_median = avg_abs_err(set1,arr_median)\n",
    "\n",
    "\n",
    "start = arr_median - 5\n",
    "stop = arr_median + 5\n",
    "s_values = np.linspace(start, stop, num=500)\n",
    "L_s_functions = []\n",
    "\n",
    "for i in range(len(s_values)):\n",
    "    L_s = avg_abs_err(set1,s_values[i])\n",
    "    L_s_functions.append(L_s)"
   ]
  },
  {
   "cell_type": "code",
   "execution_count": 4,
   "id": "ebfc8647-da0a-4051-b8e2-0352755aee5c",
   "metadata": {},
   "outputs": [
    {
     "data": {
      "image/png": "[encoded data removed]",
      "text/plain": [
       "<Figure size 432x288 with 1 Axes>"
      ]
     },
     "metadata": {
      "needs_background": "light"
     },
     "output_type": "display_data"
    }
   ],
   "source": [
    "fig, ax = plt.subplots()\n",
    "ax.plot(s_values, L_s_functions, '-')\n",
    "ax.plot(arr_median, L_s_median, 'o', color='tab:brown')\n",
    "ax.set_xlabel('s value')\n",
    "ax.set_ylabel('avg absolute errors')\n",
    "plt.show()"
   ]
  },
  {
   "cell_type": "markdown",
   "id": "5083521a-ee2f-4572-852d-d7ac5e59123e",
   "metadata": {},
   "source": [
    "This loss function is a convex function and its minimum value is at s = median(x)"
   ]
  },
  {
   "cell_type": "code",
   "execution_count": null,
   "id": "13499ce0-ecbe-4a8e-8fde-1d1bca4492ad",
   "metadata": {},
   "outputs": [],
   "source": []
  }
 ],
 "metadata": {
  "kernelspec": {
   "display_name": "Python 3 (ipykernel)",
   "language": "python",
   "name": "python3"
  },
  "language_info": {
   "codemirror_mode": {
    "name": "ipython",
    "version": 3
   },
   "file_extension": ".py",
   "mimetype": "text/x-python",
   "name": "python",
   "nbconvert_exporter": "python",
   "pygments_lexer": "ipython3",
   "version": "3.9.7"
  }
 },
 "nbformat": 4,
 "nbformat_minor": 5
}
