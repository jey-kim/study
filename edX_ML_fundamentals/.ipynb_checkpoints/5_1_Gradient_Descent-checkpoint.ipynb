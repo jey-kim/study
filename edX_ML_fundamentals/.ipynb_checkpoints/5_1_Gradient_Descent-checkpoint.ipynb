{
 "cells": [
  {
   "cell_type": "markdown",
   "metadata": {},
   "source": [
    "# Gradient-based solver for ridge regression"
   ]
  },
  {
   "cell_type": "markdown",
   "metadata": {},
   "source": [
    "In this notebook, you will create a **gradient descent** solver for **ridge regression** and then compare it to the built-in solver in `sklearn.linear_model`."
   ]
  },
  {
   "cell_type": "markdown",
   "metadata": {},
   "source": [
    "## 1. Set up notebook and create data set"
   ]
  },
  {
   "cell_type": "markdown",
   "metadata": {},
   "source": [
    "After loading in some standard packages, we create a synthetic data set consisting of data points `(x,y)`:\n",
    "* `x`: 100-dimensional vector whose coordinates are independent draws from a standard normal (Gaussian) distribution\n",
    "* `y`: response value given by `y = wx + e` where `w` is a target regression function and `e` is Gaussian noise\n",
    "\n",
    "We will fix `w` to be the 100-dimensional vector whose first ten coordinates are exactly 1.0, and whose remaining coordinates are zero. Thus only the first ten coordinates of `x` are relevant to the regression task."
   ]
  },
  {
   "cell_type": "code",
   "execution_count": 1,
   "metadata": {},
   "outputs": [],
   "source": [
    "%matplotlib inline\n",
    "import numpy as np\n",
    "import matplotlib\n",
    "import matplotlib.pyplot as plt\n",
    "from sklearn import linear_model\n",
    "from sklearn.metrics import mean_squared_error\n",
    "matplotlib.rc('xtick', labelsize=14) \n",
    "matplotlib.rc('ytick', labelsize=14)"
   ]
  },
  {
   "cell_type": "markdown",
   "metadata": {},
   "source": [
    "The following procedure, **generate_data**, creates a data set of a specified number of points. It is invoked as follows:\n",
    "* `trainx, trainy = generate_data(n)`\n",
    "\n",
    "Here:\n",
    "* `n` is the target number of points\n",
    "* `trainx`: `nx100` array of data points\n",
    "* `trainy`: array of `n` response values"
   ]
  },
  {
   "cell_type": "code",
   "execution_count": 2,
   "metadata": {},
   "outputs": [],
   "source": [
    "def generate_data(n):\n",
    "    d = 100\n",
    "    w = np.zeros(d)\n",
    "    for i in range(0,10):\n",
    "        w[i] = 1.0\n",
    "    #\n",
    "    trainx = np.random.normal(size=(n,d))\n",
    "    e = np.random.normal(size=(n))\n",
    "    trainy = np.dot(trainx, w) + e\n",
    "    #\n",
    "    return trainx, trainy"
   ]
  },
  {
   "cell_type": "markdown",
   "metadata": {},
   "source": [
    "## 2. Gradient descent solver for ridge regression"
   ]
  },
  {
   "cell_type": "markdown",
   "metadata": {},
   "source": [
    "<font color=\"magenta\">**For you to do:**</font> Define a procedure, **ridge_regression_GD**, that uses gradient descent to solve the ridge regression problem. It is invoked as follows:\n",
    "\n",
    "* `w,b,losses = ridge_regression_GD(x,y,C)`\n",
    "\n",
    "Here, the input consists of:\n",
    "* training data `x,y`, where `x` and `y` are numpy arrays of dimension `n`-by-`d` and `n`, respectively (if there are `n` training points)\n",
    "* regularization constant `C`\n",
    "\n",
    "The function should find the `d`-dimensional vector `w` and offset `b` that minimize the ridge regression loss function (with regularization constant `C`), and return:\n",
    "* `w` and `b`\n",
    "* `losses`, an array containing the ridge regression loss at each iteration\n",
    "\n",
    "<font color=\"magenta\">Advice:</font> First figure out the derivative, which has a relatively simple form. Next, when implementing gradient descent, think carefully about two issues.\n",
    "\n",
    "1. What is the step size?\n",
    "2. When has the procedure converged?\n",
    "\n",
    "Take the time to experiment with different ways of handling these."
   ]
  },
  {
   "cell_type": "code",
   "execution_count": 22,
   "metadata": {},
   "outputs": [],
   "source": [
    "def dL_ridge_calculator(w,b,x,y,C):\n",
    "    # Calculate dL(w,b)/dwj and dL(w,b)/db\n",
    "    # del(L) is a (d+1) dimension vector \n",
    "    # w in d-dim \n",
    "    # b is an intercept\n",
    "    # x is a data matrix (n,d)\n",
    "    # y is response variable (n,)\n",
    "    n=x.shape[0]  \n",
    "    d=x.shape[1]\n",
    "    grd_L = np.zeros((d+1,))\n",
    "    \n",
    "    for j in range(d): \n",
    "        xj = x[:,j]\n",
    "        wj = w[j]\n",
    "        ## The j component of the derivative w.r.t. wj \n",
    "        ## -2*sum(yi,xij) + 2*sum(dot(w,xi)*xij) + 2*b*sum(xij) + 2*C*wj      \n",
    "        term1 = -2*np.sum(y*xj)\n",
    "        term2 = 2*np.sum(np.dot(x,w)*xj)\n",
    "        term3 = 2*b*np.sum(xj)\n",
    "        term4 = 2*C*wj \n",
    "        dL_dwj = term1 + term2+ term3 + term4\n",
    "        grd_L[j] = dL_dwj\n",
    "        \n",
    "    dL_db = -2*np.sum(y-(np.dot(x,w)+b))\n",
    "    grd_L[-1] = dL_db\n",
    "    \n",
    "    \n",
    "    return grd_L"
   ]
  },
  {
   "cell_type": "code",
   "execution_count": 64,
   "metadata": {},
   "outputs": [],
   "source": [
    "def loss_ridge_calculator(data,model,real):\n",
    "    loss=np.sum((real-np.dot(data,model))**2)\n",
    "    return loss"
   ]
  },
  {
   "cell_type": "code",
   "execution_count": 90,
   "metadata": {},
   "outputs": [],
   "source": [
    "def ridge_regression_GD(x,y,C):\n",
    "    x_tilda = np.c_[ x, np.ones(x.shape[0]) ]\n",
    "    # add d+1 column made of np.ones(n)\n",
    "    step_size = 0.001 # arbitrary number\n",
    "    t = 0\n",
    "    w_model = np.zeros(x.shape[1]) # initial model w\n",
    "    b_model = 0 # initial model b\n",
    "    iteration = True\n",
    "    losses=[]\n",
    "    \n",
    "    while iteration:  \n",
    "        \n",
    "        dL=dL_ridge_calculator(w_model,b_model,x,y,C)\n",
    "        \n",
    "        if not all(np.abs(dL) < 0.0001):\n",
    "            total_model = np.append(w_model, b_model, axis=None)   \n",
    "            total_model = total_model - step_size*dL\n",
    "            t = t + 1\n",
    "            w_model = total_model[0:-1]\n",
    "            b_model = total_model[-1]\n",
    "            loss = loss_ridge_calculator(x_tilda,total_model,y)\n",
    "            losses.append(loss)\n",
    "            \n",
    "        else: \n",
    "            w = w_model\n",
    "            b = b_model\n",
    "            iteration=False\n",
    "            \n",
    "        if t > 1000:\n",
    "            print(\"The model is NOT converged after 1000 iteration\")\n",
    "            w = w_model\n",
    "            b = b_model\n",
    "            iteration=False\n",
    "        \n",
    "    return w,b,losses"
   ]
  },
  {
   "cell_type": "markdown",
   "metadata": {},
   "source": [
    "Let's try it out and print a graph of the loss values during the optimization process."
   ]
  },
  {
   "cell_type": "code",
   "execution_count": 91,
   "metadata": {},
   "outputs": [
    {
     "data": {
      "image/png": "[encoded data removed]",
      "text/plain": [
       "<Figure size 432x288 with 1 Axes>"
      ]
     },
     "metadata": {
      "needs_background": "light"
     },
     "output_type": "display_data"
    }
   ],
   "source": [
    "# Generate 200 data points\n",
    "n = 200\n",
    "x,y = generate_data(n)\n",
    "# Set regularization constant\n",
    "C = 1.0\n",
    "# Run gradient descent solver\n",
    "w,b,losses = ridge_regression_GD(x,y,C)\n",
    "# Plot the losses\n",
    "plt.plot(losses,'r')\n",
    "plt.xlabel('Iterations', fontsize=14)\n",
    "plt.ylabel('Loss', fontsize=14)\n",
    "plt.show()"
   ]
  },
  {
   "cell_type": "markdown",
   "metadata": {},
   "source": [
    "<font color=\"magenta\">**Something to think about**</font>\n",
    "\n",
    "1. In setting the step size, does it work to use a fixed schedule 1/t? Why or why not? \n",
    "**`No. In the begining the step size is too large, and later 1/t is too small.`** \n",
    "\n",
    "2. Can you set up the gradient descent procedure in such a way that on each iteration, the loss monotonically decreases?\n",
    "\n",
    "**`this can be done by choosing a step size adaptively.`**"
   ]
  },
  {
   "cell_type": "markdown",
   "metadata": {},
   "source": [
    "## 3. Evaluate the gradient descent solver"
   ]
  },
  {
   "cell_type": "markdown",
   "metadata": {},
   "source": [
    "Now let's compare the regressor found by your gradient descent procedure to that returned by the built-in ridge regression solver in `sklearn`. We will compare them in two ways:\n",
    "* Their MSE values\n",
    "* The distance between the corresponding `w`-vectors\n",
    "\n",
    "The latter should be smaller than 10^{-4}.\n"
   ]
  },
  {
   "cell_type": "code",
   "execution_count": 92,
   "metadata": {},
   "outputs": [],
   "source": [
    "def compute_mse(w,b,x,y):\n",
    "    residuals = y - (np.dot(x, w) + b)\n",
    "    return np.dot(residuals, residuals)/n"
   ]
  },
  {
   "cell_type": "code",
   "execution_count": 93,
   "metadata": {},
   "outputs": [
    {
     "name": "stdout",
     "output_type": "stream",
     "text": [
      "MSE of gradient descent solver:  0.6510702026776611\n",
      "MSE of built-in solver:  0.651069946100741\n",
      "Distance between w-coefficients:  5.716191842477627e-06\n"
     ]
    }
   ],
   "source": [
    "# Generate 200 data points\n",
    "n = 200\n",
    "x,y = generate_data(n)\n",
    "# Set regularization constant\n",
    "C = 10.0\n",
    "# Run gradient descent solver and compute its MSE\n",
    "w, b, losses = ridge_regression_GD(x,y,C)\n",
    "# Use built-in routine for ridge regression and compute MSE\n",
    "regr = linear_model.Ridge(alpha=C)\n",
    "regr.fit(x, y)\n",
    "# Print MSE values and L2 distance between the regression functions\n",
    "print(\"MSE of gradient descent solver: \", compute_mse(w,b,x,y))\n",
    "print(\"MSE of built-in solver: \", mean_squared_error(regr.predict(x), y))\n",
    "print(\"Distance between w-coefficients: \", np.linalg.norm(w-regr.coef_))"
   ]
  },
  {
   "cell_type": "code",
   "execution_count": 101,
   "metadata": {},
   "outputs": [
    {
     "data": {
      "image/png": "[encoded data removed]",
      "text/plain": [
       "<Figure size 432x288 with 1 Axes>"
      ]
     },
     "metadata": {
      "needs_background": "light"
     },
     "output_type": "display_data"
    }
   ],
   "source": [
    "plt.plot(w,'*')\n",
    "plt.xlabel('models', fontsize=14)\n",
    "plt.ylabel('values', fontsize=14)\n",
    "plt.show()"
   ]
  },
  {
   "cell_type": "markdown",
   "metadata": {},
   "source": [
    "<font color=\"magenta\">**Something to think about**</font>\n",
    "\n",
    "The data was originally generated using a linear function in which only ten of the 100 features (the first ten) were relevant. Does the vector `w` returned by ridge regression correctly identify the relevant features? \\\n",
    "**`YES the plot above tells the first 10 models are the relevant features for this case`** \\\n",
    "**`However, there is no coefficient with 0 value because it is Ridge regression.`** \\\n",
    "**`In general, to obtain sparse model w, LASSO regression should be used instead of Ridge.`**"
   ]
  },
  {
   "cell_type": "code",
   "execution_count": 102,
   "metadata": {},
   "outputs": [
    {
     "data": {
      "text/plain": [
       "array([ 0.87467631,  1.00576048,  0.91683153,  0.82840949,  0.97728899,\n",
       "        1.00153206,  0.86856685,  0.93888667,  0.86056727,  1.00118181,\n",
       "        0.14059902,  0.06101548,  0.02592466, -0.09232616, -0.03830689,\n",
       "       -0.0124051 ,  0.04671731, -0.01414822, -0.10672835, -0.05140666,\n",
       "       -0.01775365,  0.05627249, -0.03862442,  0.09320051,  0.00429336,\n",
       "       -0.11452098,  0.02869223, -0.0635308 , -0.09289799,  0.03041033,\n",
       "       -0.01848412, -0.05700244, -0.0955932 ,  0.02147065,  0.07031319,\n",
       "        0.02099685,  0.02132005,  0.15583631,  0.25634966,  0.05758519,\n",
       "        0.10901771,  0.13077857, -0.01851129, -0.10946859,  0.16072044,\n",
       "        0.1252529 , -0.10212854, -0.03735741,  0.16496787,  0.16411611,\n",
       "        0.13346597,  0.10998617, -0.04344834, -0.07914878,  0.01542392,\n",
       "        0.04514937,  0.0239191 ,  0.02535004, -0.02574353, -0.02826953,\n",
       "       -0.02640078, -0.00541227,  0.04628319, -0.05596039,  0.01049163,\n",
       "       -0.02102073, -0.05731415,  0.05988147,  0.03966455,  0.03093688,\n",
       "        0.023104  ,  0.17198733, -0.07136167, -0.03847862,  0.06897425,\n",
       "       -0.13204719, -0.0248354 , -0.08986944,  0.06677672,  0.11260753,\n",
       "       -0.03359126,  0.0212513 ,  0.00301907, -0.0611859 ,  0.07758574,\n",
       "        0.02667668, -0.00704058, -0.04386956,  0.00950547,  0.05754488,\n",
       "        0.10661057, -0.00870782,  0.07518509, -0.05524449,  0.19175454,\n",
       "        0.05598591, -0.05839607,  0.06313735, -0.01304779,  0.01848318])"
      ]
     },
     "execution_count": 102,
     "metadata": {},
     "output_type": "execute_result"
    }
   ],
   "source": [
    "w"
   ]
  },
  {
   "cell_type": "code",
   "execution_count": null,
   "metadata": {},
   "outputs": [],
   "source": []
  }
 ],
 "metadata": {
  "kernelspec": {
   "display_name": "Python 3 (ipykernel)",
   "language": "python",
   "name": "python3"
  },
  "language_info": {
   "codemirror_mode": {
    "name": "ipython",
    "version": 3
   },
   "file_extension": ".py",
   "mimetype": "text/x-python",
   "name": "python",
   "nbconvert_exporter": "python",
   "pygments_lexer": "ipython3",
   "version": "3.9.7"
  },
  "toc": {
   "colors": {
    "hover_highlight": "#DAA520",
    "navigate_num": "#000000",
    "navigate_text": "#333333",
    "running_highlight": "#FF0000",
    "selected_highlight": "#FFD700",
    "sidebar_border": "#EEEEEE",
    "wrapper_background": "#FFFFFF"
   },
   "moveMenuLeft": true,
   "nav_menu": {
    "height": "12px",
    "width": "252px"
   },
   "navigate_menu": true,
   "number_sections": false,
   "sideBar": true,
   "threshold": 4,
   "toc_cell": false,
   "toc_section_display": "block",
   "toc_window_display": false,
   "widenNotebook": false
  }
 },
 "nbformat": 4,
 "nbformat_minor": 4
}
