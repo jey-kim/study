{
 "cells": [
  {
   "cell_type": "code",
   "execution_count": null,
   "metadata": {},
   "outputs": [],
   "source": [
    "#<img src=\"Figs/GEOS_Logo.png\" width=\"700\"/> "
   ]
  },
  {
   "cell_type": "markdown",
   "metadata": {},
   "source": [
    "\n",
    "# Step **X** of **`G2FNL`**: <font color=blue>\"fourMonthDiff_daily.ipynb\"</font>\n",
    "#### August 3, 2021  <font color=red>(v. testing)</font> \n",
    "##### Jeonghyeop Kim (jeonghyeop.kim@gmail.com)\n",
    "\n",
    "\n",
    "quick and dirty\n",
    "1. Take centered moving avg daily values from \"centered_moving_avg.ipynb\".\n",
    "2. Find a pair of two postion values apart of 120 days. \n",
    "3. Compute the difference and save\n",
    "4. If it cannot pair two positions, pass and continue"
   ]
  },
  {
   "cell_type": "code",
   "execution_count": 121,
   "metadata": {},
   "outputs": [],
   "source": [
    "# 1. import python modules\n",
    "import numpy as np\n",
    "import pandas as pd\n",
    "from datetime import datetime\n",
    "from ismember import ismember"
   ]
  },
  {
   "cell_type": "code",
   "execution_count": 122,
   "metadata": {},
   "outputs": [
    {
     "name": "stdout",
     "output_type": "stream",
     "text": [
      "905\n",
      "906\n"
     ]
    }
   ],
   "source": [
    "for i in range(905,907): #906\n",
    "    \n",
    "    \n",
    "    print(i)\n",
    "    target_data=\"centered_moving_avg_\"+str(i+1)\n",
    "    df_GPS=pd.read_csv(target_data, header=None, sep=' ')\n",
    "    df_GPS.columns=['time','datenum','lon','lat','e','n','z','se','sn','sz','corr_en','flag']\n",
    "    lon = float(df_GPS['lon'].iloc[0])\n",
    "    lat = float(df_GPS['lat'].iloc[0])\n",
    "    \n",
    "    lst = []\n",
    "    cols = ['time','datenum','lon','lat','e_diff_mm','n_diff_mm']\n",
    "    \n",
    "    for j in range (len(df_GPS)):\n",
    "        datenum_initial=int(df_GPS['datenum'].loc[j])\n",
    "        df_4month = df_GPS[df_GPS.datenum==datenum_initial+120]\n",
    "        \n",
    "        \n",
    "        if len(df_4month)==0: #can't find a pair: PASS\n",
    "            passvalue=1\n",
    "            \n",
    "        else: # A pair exists: compute the difference.\n",
    "            \n",
    "            time_final = int(df_4month.time)\n",
    "            date_num_final = int(df_4month.datenum)\n",
    "            e_final = float(df_4month.e)\n",
    "            n_final = float(df_4month.n)\n",
    "            \n",
    "            \n",
    "            date_num_initial=int(df_GPS['datenum'].loc[j])\n",
    "            e_initial=float(df_GPS['e'].loc[j])\n",
    "            n_initial=float(df_GPS['n'].loc[j])\n",
    "                     \n",
    "            e_diff=e_final-e_initial\n",
    "            e_diff=e_diff*1000 #mm\n",
    "            n_diff=n_final-n_initial\n",
    "            n_diff=n_diff*1000 #mm\n",
    "            lst.append([time_final,date_num_final,lon,lat,e_diff,n_diff])\n",
    "            \n",
    "            \n",
    "            \n",
    "    df = pd.DataFrame(lst, columns=cols)\n",
    "    df.loc[:,['datenum']]=df.loc[:,['datenum']]-365*2  #New time flag => 1 means 1/1/2008\n",
    "    df_save = df[df.datenum>=1]\n",
    "    df_save = df_save.reset_index(drop=True)\n",
    "    \n",
    "    savefile = \"DISP_centered_moving_avg_\"+str(i+1) #output file \n",
    "    df_save.to_csv(savefile ,header=None, index=None,sep=' ',float_format='%g') #SAVE AS THEY ARE\n",
    "    "
   ]
  },
  {
   "cell_type": "code",
   "execution_count": 114,
   "metadata": {},
   "outputs": [],
   "source": [
    "#import matplotlib.pyplot as plt"
   ]
  },
  {
   "cell_type": "code",
   "execution_count": 115,
   "metadata": {},
   "outputs": [],
   "source": [
    "#e=df_save.e_diff_mm.tolist()\n",
    "#n=df_save.n_diff_mm.tolist()"
   ]
  },
  {
   "cell_type": "code",
   "execution_count": 116,
   "metadata": {},
   "outputs": [],
   "source": [
    "#plt.plot(n)\n",
    "#plt.plot(e)\n",
    "#plt.ylabel('some numbers')\n",
    "#plt.show()"
   ]
  },
  {
   "cell_type": "code",
   "execution_count": null,
   "metadata": {},
   "outputs": [],
   "source": [
    "#116 is an empty file \n",
    "\n",
    "#==> error"
   ]
  }
 ],
 "metadata": {
  "kernelspec": {
   "display_name": "Python 3",
   "language": "python",
   "name": "python3"
  },
  "language_info": {
   "codemirror_mode": {
    "name": "ipython",
    "version": 3
   },
   "file_extension": ".py",
   "mimetype": "text/x-python",
   "name": "python",
   "nbconvert_exporter": "python",
   "pygments_lexer": "ipython3",
   "version": "3.6.13"
  }
 },
 "nbformat": 4,
 "nbformat_minor": 4
}
