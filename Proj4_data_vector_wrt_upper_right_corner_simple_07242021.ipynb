{
 "cells": [
  {
   "cell_type": "markdown",
   "metadata": {},
   "source": [
    "# Simple velocity frame \n",
    ">jeonghyeop Kim \n",
    "> 2021/7/24\n",
    "\n",
    "This code just pick the velocity vectors \\\n",
    "at the **upper right corner** and **subtract** out them \n",
    "from all of the velocity vectors. \\\n",
    "\n",
    "*NOTE*: This approach works(approximate) for a small area only. \\\n",
    "If you deal with a large region, do it on a cap of a sphere.\n",
    "\n",
    "\n"
   ]
  },
  {
   "cell_type": "code",
   "execution_count": 1,
   "metadata": {},
   "outputs": [],
   "source": [
    "#import numpy and pandas\n",
    "import numpy as np\n",
    "import pandas as pd"
   ]
  },
  {
   "cell_type": "code",
   "execution_count": 2,
   "metadata": {},
   "outputs": [],
   "source": [
    "inputFILE = \"vel_on_boundary.gmt\" \n",
    "# input file name\n",
    "\n",
    "df_input = pd.read_csv(inputFILE, header = None, sep =' ')\n",
    "# read dataFrame\n",
    "# separator = ' '\n",
    "# no head in this input file\n",
    "\n",
    "df_input.columns = ['lon','lat','ve','vn','se','sn','corr']\n",
    "# assign the column names\n",
    "\n",
    "max_lon = df_input.lon.max() #maximum longitude\n",
    "max_lat = df_input.lat.max() #maximum latitude\n",
    "\n",
    "df_upper_right = df_input[(df_input.lon == max_lon) & (df_input.lat == max_lat)]\n",
    "#find the upper right corner : largest lon and largest lat"
   ]
  },
  {
   "cell_type": "code",
   "execution_count": 3,
   "metadata": {},
   "outputs": [
    {
     "name": "stdout",
     "output_type": "stream",
     "text": [
      "       lon    lat      ve    vn  se  sn  corr\n",
      "47  243.46  33.96 -12.109  14.7   0   0     0\n"
     ]
    }
   ],
   "source": [
    "print(df_upper_right)\n",
    "ref_ve=float(df_upper_right.ve)\n",
    "ref_vn=float(df_upper_right.vn)"
   ]
  },
  {
   "cell_type": "code",
   "execution_count": 4,
   "metadata": {},
   "outputs": [
    {
     "name": "stdout",
     "output_type": "stream",
     "text": [
      "-12.109 14.7\n"
     ]
    }
   ],
   "source": [
    "print(ref_ve,ref_vn)"
   ]
  },
  {
   "cell_type": "code",
   "execution_count": 5,
   "metadata": {},
   "outputs": [],
   "source": [
    "df_input.ve = df_input.ve -ref_ve\n",
    "df_input.vn = df_input.vn -ref_vn\n",
    "\n",
    "#Sub"
   ]
  },
  {
   "cell_type": "code",
   "execution_count": 6,
   "metadata": {},
   "outputs": [
    {
     "name": "stdout",
     "output_type": "stream",
     "text": [
      "       lon    lat     ve     vn  se  sn  corr\n",
      "0   243.32  33.86 -3.881  3.228   0   0     0\n",
      "1   243.33  33.86 -3.823  3.166   0   0     0\n",
      "2   243.34  33.86 -3.765  3.083   0   0     0\n",
      "3   243.35  33.86 -3.706  2.979   0   0     0\n",
      "4   243.36  33.86 -3.644  2.858   0   0     0\n",
      "5   243.37  33.86 -3.575  2.724   0   0     0\n",
      "6   243.38  33.86 -3.498  2.582   0   0     0\n",
      "7   243.39  33.86 -3.411  2.442   0   0     0\n",
      "8   243.40  33.86 -3.311  2.313   0   0     0\n",
      "9   243.41  33.86 -3.195  2.199   0   0     0\n",
      "10  243.42  33.86 -3.065  2.095   0   0     0\n",
      "11  243.43  33.86 -2.923  1.998   0   0     0\n",
      "12  243.44  33.86 -2.773  1.906   0   0     0\n",
      "13  243.45  33.86 -2.618  1.816   0   0     0\n",
      "14  243.46  33.86 -2.460  1.724   0   0     0\n",
      "15  243.32  33.87 -3.775  3.161   0   0     0\n",
      "16  243.46  33.87 -2.240  1.576   0   0     0\n",
      "17  243.32  33.88 -3.660  3.084   0   0     0\n",
      "18  243.46  33.88 -1.996  1.425   0   0     0\n",
      "19  243.32  33.89 -3.532  2.996   0   0     0\n",
      "20  243.46  33.89 -1.733  1.271   0   0     0\n",
      "21  243.32  33.90 -3.382  2.893   0   0     0\n",
      "22  243.46  33.90 -1.454  1.116   0   0     0\n",
      "23  243.32  33.91 -3.205  2.772   0   0     0\n",
      "24  243.46  33.91 -1.173  0.951   0   0     0\n",
      "25  243.32  33.92 -2.999  2.636   0   0     0\n",
      "26  243.46  33.92 -0.903  0.772   0   0     0\n",
      "27  243.32  33.93 -2.762  2.487   0   0     0\n",
      "28  243.46  33.93 -0.648  0.583   0   0     0\n",
      "29  243.32  33.94 -2.496  2.330   0   0     0\n",
      "30  243.46  33.94 -0.412  0.388   0   0     0\n",
      "31  243.32  33.95 -2.203  2.168   0   0     0\n",
      "32  243.46  33.95 -0.196  0.192   0   0     0\n",
      "33  243.32  33.96 -1.891  2.004   0   0     0\n",
      "34  243.33  33.96 -1.789  1.911   0   0     0\n",
      "35  243.34  33.96 -1.682  1.792   0   0     0\n",
      "36  243.35  33.96 -1.570  1.649   0   0     0\n",
      "37  243.36  33.96 -1.455  1.484   0   0     0\n",
      "38  243.37  33.96 -1.335  1.303   0   0     0\n",
      "39  243.38  33.96 -1.211  1.115   0   0     0\n",
      "40  243.39  33.96 -1.083  0.930   0   0     0\n",
      "41  243.40  33.96 -0.952  0.760   0   0     0\n",
      "42  243.41  33.96 -0.812  0.605   0   0     0\n",
      "43  243.42  33.96 -0.660  0.457   0   0     0\n",
      "44  243.43  33.96 -0.499  0.320   0   0     0\n",
      "45  243.44  33.96 -0.333  0.198   0   0     0\n",
      "46  243.45  33.96 -0.166  0.091   0   0     0\n",
      "47  243.46  33.96  0.000  0.000   0   0     0\n"
     ]
    }
   ],
   "source": [
    "print(df_input)"
   ]
  },
  {
   "cell_type": "code",
   "execution_count": 9,
   "metadata": {},
   "outputs": [],
   "source": [
    "outputFILE = \"vel_on_boundary_wrt_URcorner.gmt\" \n",
    "# output file name\n",
    "df_input.to_csv(outputFILE, header=None, index=None, sep=' ',float_format='%g')"
   ]
  },
  {
   "cell_type": "code",
   "execution_count": 12,
   "metadata": {},
   "outputs": [
    {
     "name": "stderr",
     "output_type": "stream",
     "text": [
      "psbasemap [INFORMATION]: Constructing the basemap\n",
      "psbasemap [INFORMATION]: Central meridian not given, default to -116.61\n",
      "psbasemap [INFORMATION]: Map scale is 1.23688 km per cm or 1:123688.\n",
      "pscoast [INFORMATION]: Central meridian not given, default to -116.61\n",
      "pscoast [INFORMATION]: Map scale is 1.23688 km per cm or 1:123688.\n",
      "pscoast [INFORMATION]: Selected ice front line as Antarctica coastline\n",
      "pscoast [INFORMATION]: GSHHG version 2.3.7\n",
      "pscoast [INFORMATION]: Derived from World Vector Shoreline, CIA WDB-II, and Atlas of the Cryosphere\n",
      "pscoast [INFORMATION]: Processed by Paul Wessel and Walter H. F. Smith, 1994-2017\n",
      "pscoast [INFORMATION]: Adding Borders...psxy [INFORMATION]: Processing input table data\n",
      "psxy [INFORMATION]: Central meridian not given, default to -116.61\n",
      "psxy [INFORMATION]: Map scale is 1.23688 km per cm or 1:123688.\n",
      "psxy [INFORMATION]: Reading Data Table from Stream 7fff889fbe50\n",
      "psxy [INFORMATION]: Plotting segment 0\n",
      "pstext [INFORMATION]: Processing input text table data\n",
      "pstext [INFORMATION]: Central meridian not given, default to -116.61\n",
      "pstext [INFORMATION]: Map scale is 1.23688 km per cm or 1:123688.\n",
      "pstext [INFORMATION]: Reading Data Table from Standard Input stream\n",
      "pstext [INFORMATION]: pstext: Plotted 1 text strings\n"
     ]
    }
   ],
   "source": [
    "%%bash \n",
    "./image_boundary_data_wrt_URC\n",
    "gmt psconvert boundary_data_wrt_URC.ps -Tf -A"
   ]
  },
  {
   "cell_type": "code",
   "execution_count": null,
   "metadata": {},
   "outputs": [],
   "source": []
  }
 ],
 "metadata": {
  "kernelspec": {
   "display_name": "Python 3",
   "language": "python",
   "name": "python3"
  },
  "language_info": {
   "codemirror_mode": {
    "name": "ipython",
    "version": 3
   },
   "file_extension": ".py",
   "mimetype": "text/x-python",
   "name": "python",
   "nbconvert_exporter": "python",
   "pygments_lexer": "ipython3",
   "version": "3.6.13"
  }
 },
 "nbformat": 4,
 "nbformat_minor": 4
}
