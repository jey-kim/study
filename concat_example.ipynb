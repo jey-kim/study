{
 "cells": [
  {
   "cell_type": "markdown",
   "metadata": {},
   "source": [
    "pd.\n",
    "concat \n",
    "example \n",
    "\n",
    "\n",
    "\n",
    "list1 = \"list_full.dat\"\n",
    "df_list1=pd.read_csv(list1, header=None)\n",
    "\n",
    "list2 = \"list_extra.dat\"\n",
    "df_list2=pd.read_csv(list2, header=None)\n",
    "\n",
    "frames=[df_list1,df_list2]\n",
    "df_list=pd.concat(frames,ignore_index=True) #combine two DFs as a DF\n",
    "\n",
    "N_list = len(df_list) #length of the combine Df?\n",
    "print(\"the total number of stations for the analysis is %i\" % N_list)\n",
    "df_list.columns=['stID']"
   ]
  }
 ],
 "metadata": {
  "kernelspec": {
   "display_name": "Python 3",
   "language": "python",
   "name": "python3"
  },
  "language_info": {
   "codemirror_mode": {
    "name": "ipython",
    "version": 3
   },
   "file_extension": ".py",
   "mimetype": "text/x-python",
   "name": "python",
   "nbconvert_exporter": "python",
   "pygments_lexer": "ipython3",
   "version": "3.8.3"
  }
 },
 "nbformat": 4,
 "nbformat_minor": 4
}
