{
 "cells": [
  {
   "cell_type": "markdown",
   "metadata": {},
   "source": [
    "<img src=\"Figs/GEOS_logo.pdf\" width=\"500\"/>"
   ]
  },
  {
   "cell_type": "markdown",
   "metadata": {},
   "source": [
    "# <font color=blue>\"make_fake_GPS_raw_for_BC.ipynb\"</font>\n",
    "#### Nov 16, 2021  <font color=red>(v. testing)</font> \n",
    "##### Jeonghyeop Kim (jeonghyeop.kim@gmail.com)\n",
    "\n",
    "> output file: **`GPS_raw_fake_BC.dat`** \n",
    "\n",
    "0. This code is a part of the joint inversion project (project4: joint inversion of GNSS and InSAR)\n",
    "1. This code generates `GPS_raw_fake_BC.dat` file that will be used to obtain latlong_gps.dat\n",
    "2. The latlong_gps.dat will be copied as output.dat \n",
    "3. Sparse code will generate UCERF ref. velocity at the boundary as well as at the InSAR reference point. \n",
    "4. A velocity vector at the InSAR reference can be removed. Thus the B.C. data is in the same reference point as the InSAR data. "
   ]
  },
  {
   "cell_type": "code",
   "execution_count": 1,
   "metadata": {},
   "outputs": [],
   "source": [
    "import numpy as np\n",
    "import pandas as pd"
   ]
  },
  {
   "cell_type": "code",
   "execution_count": 2,
   "metadata": {},
   "outputs": [],
   "source": [
    "# Define reference point\n",
    "ref_file=\"ref_GNSS.dat\"\n",
    "df_ref = pd.read_csv(ref_file, header=None, sep = ' ')\n",
    "ref_lon = df_ref.iloc[0,0]\n",
    "ref_lat = df_ref.iloc[0,1]"
   ]
  },
  {
   "cell_type": "code",
   "execution_count": 3,
   "metadata": {},
   "outputs": [],
   "source": [
    "# PARAMETERS\n",
    "\n",
    "output = 'GPS_raw_fake_BC.dat'\n",
    "\n",
    "# Boundary longitude, latitude\n",
    "lon_min=-122.6\n",
    "lon_max=-121.6\n",
    "lat_min=37.2\n",
    "lat_max=38.1\n",
    "\n",
    "# Data sampling step on the boundary\n",
    "step = 0.05  #in degree\n",
    "\n"
   ]
  },
  {
   "cell_type": "code",
   "execution_count": 4,
   "metadata": {},
   "outputs": [
    {
     "data": {
      "text/plain": [
       "array([37.25, 37.3 , 37.35, 37.4 , 37.45, 37.5 , 37.55, 37.6 , 37.65,\n",
       "       37.7 , 37.75, 37.8 , 37.85, 37.9 , 37.95, 38.  , 38.05])"
      ]
     },
     "execution_count": 4,
     "metadata": {},
     "output_type": "execute_result"
    }
   ],
   "source": [
    "lon_range=np.arange(lon_min,lon_max+step,step)\n",
    "lat_range=np.arange(lat_min+step,lat_max-step,step)\n",
    "lat_range"
   ]
  },
  {
   "cell_type": "code",
   "execution_count": 12,
   "metadata": {},
   "outputs": [],
   "source": [
    "lon_range=np.arange(lon_min,lon_max+step,step)\n",
    "lat_max_for_lon_range=np.array(lat_max*np.ones(len(lon_range)))\n",
    "lat_min_for_lon_range=np.array(lat_min*np.ones(len(lon_range)))\n",
    "\n",
    "\n",
    "lat_range=np.arange(lat_min+step,lat_max-step,step)\n",
    "lon_max_for_lat_range=np.array(lon_max*np.ones(len(lat_range)))\n",
    "lon_min_for_lat_range=np.array(lon_min*np.ones(len(lat_range)))"
   ]
  },
  {
   "cell_type": "code",
   "execution_count": 13,
   "metadata": {},
   "outputs": [],
   "source": [
    "lon_fi=np.concatenate((lon_range, lon_max_for_lat_range, lon_min_for_lat_range,lon_range))\n",
    "lat_fi=np.concatenate((lat_min_for_lon_range, lat_range, lat_range, lat_max_for_lon_range))\n",
    "#Merge all np arrays\n",
    "\n",
    "lon_fi=lon_fi.tolist()\n",
    "lat_fi=lat_fi.tolist()\n",
    "\n",
    "\n",
    "coor_dict = {'lon' : lon_fi, 'lat' : lat_fi}\n",
    "\n",
    "df=pd.DataFrame.from_dict(coor_dict)"
   ]
  },
  {
   "cell_type": "code",
   "execution_count": 14,
   "metadata": {},
   "outputs": [],
   "source": [
    "df=df.round(3)\n",
    "df=df.sort_values(by=['lat', 'lon'])"
   ]
  },
  {
   "cell_type": "code",
   "execution_count": 15,
   "metadata": {},
   "outputs": [],
   "source": [
    "df_ref = pd.DataFrame({'lon': [ref_lon], 'lat' : [ref_lat]})\n",
    "#make a new df for the reference point\n",
    "\n",
    "df_fi = pd.concat([df_ref, df], ignore_index = True, axis = 0)"
   ]
  },
  {
   "cell_type": "code",
   "execution_count": 16,
   "metadata": {},
   "outputs": [],
   "source": [
    "df_fi['vx fake']=np.ones(len(df_fi))*-17\n",
    "df_fi['vy fake']=np.ones(len(df_fi))*15\n",
    "df_fi['sx fake']=np.ones(len(df_fi))*0.111\n",
    "df_fi['sy fake']=np.ones(len(df_fi))*0.111\n",
    "df_fi['coxy fake']=np.ones(len(df_fi))*0.05\n",
    "\n",
    "year = np.ones(len(df_fi))*2020\n",
    "year = year.astype(int)\n",
    "\n",
    "flag = np.ones(len(df_fi))*1\n",
    "flag = flag.astype(int)\n",
    "\n",
    "df_fi['year']=year\n",
    "df_fi['flag']=flag"
   ]
  },
  {
   "cell_type": "code",
   "execution_count": 17,
   "metadata": {},
   "outputs": [],
   "source": [
    "df_fi.to_csv(output, index=False, sep=' ',float_format='%.4f')"
   ]
  },
  {
   "cell_type": "code",
   "execution_count": 18,
   "metadata": {},
   "outputs": [
    {
     "data": {
      "text/html": [
       "<div>\n",
       "<style scoped>\n",
       "    .dataframe tbody tr th:only-of-type {\n",
       "        vertical-align: middle;\n",
       "    }\n",
       "\n",
       "    .dataframe tbody tr th {\n",
       "        vertical-align: top;\n",
       "    }\n",
       "\n",
       "    .dataframe thead th {\n",
       "        text-align: right;\n",
       "    }\n",
       "</style>\n",
       "<table border=\"1\" class=\"dataframe\">\n",
       "  <thead>\n",
       "    <tr style=\"text-align: right;\">\n",
       "      <th></th>\n",
       "      <th>lon</th>\n",
       "      <th>lat</th>\n",
       "      <th>vx fake</th>\n",
       "      <th>vy fake</th>\n",
       "      <th>sx fake</th>\n",
       "      <th>sy fake</th>\n",
       "      <th>coxy fake</th>\n",
       "      <th>year</th>\n",
       "      <th>flag</th>\n",
       "    </tr>\n",
       "  </thead>\n",
       "  <tbody>\n",
       "    <tr>\n",
       "      <th>0</th>\n",
       "      <td>-121.869</td>\n",
       "      <td>37.9756</td>\n",
       "      <td>-17.0</td>\n",
       "      <td>15.0</td>\n",
       "      <td>0.111</td>\n",
       "      <td>0.111</td>\n",
       "      <td>0.05</td>\n",
       "      <td>2020</td>\n",
       "      <td>1</td>\n",
       "    </tr>\n",
       "    <tr>\n",
       "      <th>1</th>\n",
       "      <td>-122.600</td>\n",
       "      <td>37.2000</td>\n",
       "      <td>-17.0</td>\n",
       "      <td>15.0</td>\n",
       "      <td>0.111</td>\n",
       "      <td>0.111</td>\n",
       "      <td>0.05</td>\n",
       "      <td>2020</td>\n",
       "      <td>1</td>\n",
       "    </tr>\n",
       "    <tr>\n",
       "      <th>2</th>\n",
       "      <td>-122.550</td>\n",
       "      <td>37.2000</td>\n",
       "      <td>-17.0</td>\n",
       "      <td>15.0</td>\n",
       "      <td>0.111</td>\n",
       "      <td>0.111</td>\n",
       "      <td>0.05</td>\n",
       "      <td>2020</td>\n",
       "      <td>1</td>\n",
       "    </tr>\n",
       "    <tr>\n",
       "      <th>3</th>\n",
       "      <td>-122.500</td>\n",
       "      <td>37.2000</td>\n",
       "      <td>-17.0</td>\n",
       "      <td>15.0</td>\n",
       "      <td>0.111</td>\n",
       "      <td>0.111</td>\n",
       "      <td>0.05</td>\n",
       "      <td>2020</td>\n",
       "      <td>1</td>\n",
       "    </tr>\n",
       "    <tr>\n",
       "      <th>4</th>\n",
       "      <td>-122.450</td>\n",
       "      <td>37.2000</td>\n",
       "      <td>-17.0</td>\n",
       "      <td>15.0</td>\n",
       "      <td>0.111</td>\n",
       "      <td>0.111</td>\n",
       "      <td>0.05</td>\n",
       "      <td>2020</td>\n",
       "      <td>1</td>\n",
       "    </tr>\n",
       "    <tr>\n",
       "      <th>...</th>\n",
       "      <td>...</td>\n",
       "      <td>...</td>\n",
       "      <td>...</td>\n",
       "      <td>...</td>\n",
       "      <td>...</td>\n",
       "      <td>...</td>\n",
       "      <td>...</td>\n",
       "      <td>...</td>\n",
       "      <td>...</td>\n",
       "    </tr>\n",
       "    <tr>\n",
       "      <th>72</th>\n",
       "      <td>-121.800</td>\n",
       "      <td>38.1000</td>\n",
       "      <td>-17.0</td>\n",
       "      <td>15.0</td>\n",
       "      <td>0.111</td>\n",
       "      <td>0.111</td>\n",
       "      <td>0.05</td>\n",
       "      <td>2020</td>\n",
       "      <td>1</td>\n",
       "    </tr>\n",
       "    <tr>\n",
       "      <th>73</th>\n",
       "      <td>-121.750</td>\n",
       "      <td>38.1000</td>\n",
       "      <td>-17.0</td>\n",
       "      <td>15.0</td>\n",
       "      <td>0.111</td>\n",
       "      <td>0.111</td>\n",
       "      <td>0.05</td>\n",
       "      <td>2020</td>\n",
       "      <td>1</td>\n",
       "    </tr>\n",
       "    <tr>\n",
       "      <th>74</th>\n",
       "      <td>-121.700</td>\n",
       "      <td>38.1000</td>\n",
       "      <td>-17.0</td>\n",
       "      <td>15.0</td>\n",
       "      <td>0.111</td>\n",
       "      <td>0.111</td>\n",
       "      <td>0.05</td>\n",
       "      <td>2020</td>\n",
       "      <td>1</td>\n",
       "    </tr>\n",
       "    <tr>\n",
       "      <th>75</th>\n",
       "      <td>-121.650</td>\n",
       "      <td>38.1000</td>\n",
       "      <td>-17.0</td>\n",
       "      <td>15.0</td>\n",
       "      <td>0.111</td>\n",
       "      <td>0.111</td>\n",
       "      <td>0.05</td>\n",
       "      <td>2020</td>\n",
       "      <td>1</td>\n",
       "    </tr>\n",
       "    <tr>\n",
       "      <th>76</th>\n",
       "      <td>-121.600</td>\n",
       "      <td>38.1000</td>\n",
       "      <td>-17.0</td>\n",
       "      <td>15.0</td>\n",
       "      <td>0.111</td>\n",
       "      <td>0.111</td>\n",
       "      <td>0.05</td>\n",
       "      <td>2020</td>\n",
       "      <td>1</td>\n",
       "    </tr>\n",
       "  </tbody>\n",
       "</table>\n",
       "<p>77 rows × 9 columns</p>\n",
       "</div>"
      ],
      "text/plain": [
       "        lon      lat  vx fake  vy fake  sx fake  sy fake  coxy fake  year  \\\n",
       "0  -121.869  37.9756    -17.0     15.0    0.111    0.111       0.05  2020   \n",
       "1  -122.600  37.2000    -17.0     15.0    0.111    0.111       0.05  2020   \n",
       "2  -122.550  37.2000    -17.0     15.0    0.111    0.111       0.05  2020   \n",
       "3  -122.500  37.2000    -17.0     15.0    0.111    0.111       0.05  2020   \n",
       "4  -122.450  37.2000    -17.0     15.0    0.111    0.111       0.05  2020   \n",
       "..      ...      ...      ...      ...      ...      ...        ...   ...   \n",
       "72 -121.800  38.1000    -17.0     15.0    0.111    0.111       0.05  2020   \n",
       "73 -121.750  38.1000    -17.0     15.0    0.111    0.111       0.05  2020   \n",
       "74 -121.700  38.1000    -17.0     15.0    0.111    0.111       0.05  2020   \n",
       "75 -121.650  38.1000    -17.0     15.0    0.111    0.111       0.05  2020   \n",
       "76 -121.600  38.1000    -17.0     15.0    0.111    0.111       0.05  2020   \n",
       "\n",
       "    flag  \n",
       "0      1  \n",
       "1      1  \n",
       "2      1  \n",
       "3      1  \n",
       "4      1  \n",
       "..   ...  \n",
       "72     1  \n",
       "73     1  \n",
       "74     1  \n",
       "75     1  \n",
       "76     1  \n",
       "\n",
       "[77 rows x 9 columns]"
      ]
     },
     "execution_count": 18,
     "metadata": {},
     "output_type": "execute_result"
    }
   ],
   "source": [
    "df_fi"
   ]
  },
  {
   "cell_type": "code",
   "execution_count": null,
   "metadata": {},
   "outputs": [],
   "source": []
  }
 ],
 "metadata": {
  "kernelspec": {
   "display_name": "Python 3",
   "language": "python",
   "name": "python3"
  },
  "language_info": {
   "codemirror_mode": {
    "name": "ipython",
    "version": 3
   },
   "file_extension": ".py",
   "mimetype": "text/x-python",
   "name": "python",
   "nbconvert_exporter": "python",
   "pygments_lexer": "ipython3",
   "version": "3.8.3"
  }
 },
 "nbformat": 4,
 "nbformat_minor": 4
}
