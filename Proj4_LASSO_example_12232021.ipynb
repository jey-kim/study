{
 "cells": [
  {
   "cell_type": "markdown",
   "id": "d98d085f-604b-46d7-9f0d-8362313a690e",
   "metadata": {},
   "source": [
    "# LASSO Example\n",
    "\n",
    "### This code is from a YouTube video titled \"Underdetermined systems and compressed sensing [Python] \n",
    "##### by Steve Brunton. [link](https://www.youtube.com/watch?v=GaXfqoLR_yI&list=PLMrJAkhIeNNRHP5UA-gIimsXLQyHXxRty&index=16)\n",
    "\n",
    "Jeonghyeop Kim (12/23/2021)"
   ]
  },
  {
   "cell_type": "code",
   "execution_count": 1,
   "id": "399ee6b0-ee79-4787-827b-0442f7f7d7c5",
   "metadata": {},
   "outputs": [],
   "source": [
    "import numpy as np\n",
    "import matplotlib.pyplot as plt\n",
    "import os\n",
    "import scipy.io\n",
    "from sklearn import linear_model\n",
    "from sklearn import model_selection\n",
    "\n",
    "plt.rcParams['figure.figsize'] = [7, 7]\n",
    "plt.rcParams.update({'font.size': 18})"
   ]
  },
  {
   "cell_type": "code",
   "execution_count": null,
   "id": "0ea71030-8ae7-4c9c-ad95-9d4ac961393d",
   "metadata": {},
   "outputs": [],
   "source": [
    "A = np.random.randn(100,10) # Matrix of possible predictors\n",
    "x = np.array([0, 0, 1, 0, 0, 0, -1, 0, 0, 0]) #Two nonzero predictors\n",
    "b = A @ x + 2*np.random.randn(100)\n",
    "\n",
    "xL2 = np.linalg.pinv(A) @ b"
   ]
  },
  {
   "cell_type": "code",
   "execution_count": null,
   "id": "41152e73-bce2-4d04-8d3c-ed1dd1e47904",
   "metadata": {},
   "outputs": [],
   "source": [
    "reg = linear_model.LassoCV(cv=10).fit(A, b)\n",
    "\n",
    "lasso = linear_model.Lasso(random_state=0, max_iter=10000)\n",
    "alphas = np.logspace(-4, -0.5, 30)\n",
    "\n",
    "tuned_parameters = [{'alpha': alphas}]\n",
    "\n",
    "clf = model_selection.GridSearchCV(lasso, tuned_parameters, cv=10, refit=False)\n",
    "clf.fit(A, b)\n",
    "\n",
    "scores = clf.cv_results_['mean_test_score']\n",
    "scores_std = clf.cv_results_['std_test_score']\n",
    "plt.semilogx(alphas, scores,'r-')\n",
    "\n",
    "# plot error lines showing +/- std. errors of the scores\n",
    "std_error = scores_std / np.sqrt(10)\n",
    "\n",
    "plt.semilogx(alphas, scores + std_error, 'k--')\n",
    "plt.semilogx(alphas, scores - std_error, 'k--')\n",
    "plt.fill_between(alphas, scores + std_error, scores - std_error, alpha=0.1,color='k')\n",
    "\n",
    "plt.ylabel('CV score +/- std error')\n",
    "plt.xlabel('alpha')\n",
    "plt.axhline(np.max(scores), linestyle='--', color='.5')\n",
    "plt.xlim([alphas[-1], alphas[0]])\n",
    "\n",
    "plt.show()"
   ]
  },
  {
   "cell_type": "code",
   "execution_count": null,
   "id": "0bf9909e-48e3-481e-8bc4-af4438413e92",
   "metadata": {},
   "outputs": [],
   "source": [
    "XL1 = linear_model.Lasso(alpha=clf.best_params_['alpha'])\n",
    "XL1.fit(A,b)\n",
    "xL1 = XL1.coef_\n",
    "xL1DeBiased = np.linalg.pinv(A[:,np.abs(xL1)>0]) @ b"
   ]
  },
  {
   "cell_type": "code",
   "execution_count": null,
   "id": "a11f8128-261a-4015-ac58-9fd3b86c5c1c",
   "metadata": {},
   "outputs": [],
   "source": []
  },
  {
   "cell_type": "code",
   "execution_count": null,
   "id": "18d7acfa-164d-4fa9-86a8-af9d4f405e68",
   "metadata": {},
   "outputs": [],
   "source": []
  },
  {
   "cell_type": "code",
   "execution_count": null,
   "id": "c65b31f9-0fa5-4af6-8015-1233e9fc4fa9",
   "metadata": {},
   "outputs": [],
   "source": []
  }
 ],
 "metadata": {
  "kernelspec": {
   "display_name": "Python 3 (ipykernel)",
   "language": "python",
   "name": "python3"
  },
  "language_info": {
   "codemirror_mode": {
    "name": "ipython",
    "version": 3
   },
   "file_extension": ".py",
   "mimetype": "text/x-python",
   "name": "python",
   "nbconvert_exporter": "python",
   "pygments_lexer": "ipython3",
   "version": "3.9.7"
  }
 },
 "nbformat": 4,
 "nbformat_minor": 5
}
