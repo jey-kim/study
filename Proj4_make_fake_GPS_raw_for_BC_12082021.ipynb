{
 "cells": [
  {
   "cell_type": "markdown",
   "metadata": {},
   "source": [
    "<img src=\"Figs/GEOS_logo.pdf\" width=\"500\"/>"
   ]
  },
  {
   "cell_type": "markdown",
   "metadata": {},
   "source": [
    "# <font color=blue>\"make_fake_GPS_raw_for_BC.ipynb\"</font>\n",
    "#### Dec 08, 2021  <font color=red>(v. testing)</font> \n",
    "##### Jeonghyeop Kim (jeonghyeop.kim@gmail.com)\n",
    "> input files: **`ref_GNSS.dat`** & **`map_config.txt`** \\\n",
    "> output file: **`GPS_raw_fake_BC.dat`** \n",
    "\n",
    "0. This code is a part of the joint inversion project (project4: joint inversion of GNSS and InSAR)\n",
    "1. This code generates **`GPS_raw_fake_BC.dat`** file that will be used to obtain latlong_gps.dat\n",
    "2. The latlong_gps.dat will be copied as output.dat \n",
    "3. Sparse code will generate UCERF ref. velocity at the boundary as well as at the InSAR reference point. \n",
    "4. A velocity vector at the InSAR reference can be removed. Thus the B.C. data is in the same reference point as the InSAR data. "
   ]
  },
  {
   "cell_type": "code",
   "execution_count": 1,
   "metadata": {},
   "outputs": [],
   "source": [
    "import numpy as np\n",
    "import pandas as pd"
   ]
  },
  {
   "cell_type": "code",
   "execution_count": 2,
   "metadata": {},
   "outputs": [],
   "source": [
    "# Define reference point\n",
    "ref_file=\"ref_GNSS.dat\"\n",
    "df_ref = pd.read_csv(ref_file, header=None, sep = ' ')\n",
    "ref_lon = df_ref.iloc[0,0]\n",
    "ref_lat = df_ref.iloc[0,1]"
   ]
  },
  {
   "cell_type": "code",
   "execution_count": 3,
   "metadata": {},
   "outputs": [],
   "source": [
    "# output file name\n",
    "output = 'GPS_raw_fake_BC.dat'"
   ]
  },
  {
   "cell_type": "code",
   "execution_count": 4,
   "metadata": {},
   "outputs": [],
   "source": [
    "# Boundary longitude, latitude\n",
    "\n",
    "conf_file=\"map_config.txt\" \n",
    "#lon min\n",
    "#lon max\n",
    "#lat min\n",
    "#lat max\n",
    "#steps\n",
    "\n",
    "conf=np.loadtxt(conf_file, dtype=\"float\")\n",
    "\n",
    "lon_min=float(conf[0])\n",
    "lon_max=float(conf[1])\n",
    "lat_min=float(conf[2])\n",
    "lat_max=float(conf[3])\n",
    "\n",
    "# Data sampling step on the boundary\n",
    "step = float(conf[4])  #in degree"
   ]
  },
  {
   "cell_type": "code",
   "execution_count": 5,
   "metadata": {},
   "outputs": [],
   "source": [
    "lon_range=np.arange(lon_min,lon_max,step)\n",
    "lon_range=np.append(lon_range, lon_max)\n",
    "lat_range=np.arange(lat_min,lat_max,step)\n",
    "lat_range=lat_range[1:]"
   ]
  },
  {
   "cell_type": "code",
   "execution_count": 6,
   "metadata": {},
   "outputs": [],
   "source": [
    "lon_max_for_lat_range=np.array(lon_max*np.ones(len(lat_range)))\n",
    "lon_min_for_lat_range=np.array(lon_min*np.ones(len(lat_range)))\n",
    "\n",
    "lat_max_for_lon_range=np.array(lat_max*np.ones(len(lon_range)))\n",
    "lat_min_for_lon_range=np.array(lat_min*np.ones(len(lon_range)))"
   ]
  },
  {
   "cell_type": "code",
   "execution_count": 7,
   "metadata": {},
   "outputs": [],
   "source": [
    "lon_fi=np.concatenate((lon_range, lon_max_for_lat_range, lon_min_for_lat_range,lon_range))\n",
    "lat_fi=np.concatenate((lat_min_for_lon_range, lat_range, lat_range, lat_max_for_lon_range))\n",
    "#Merge all np arrays\n",
    "\n",
    "lon_fi=lon_fi.tolist()\n",
    "lat_fi=lat_fi.tolist()\n",
    "\n",
    "\n",
    "coor_dict = {'lon' : lon_fi, 'lat' : lat_fi}\n",
    "\n",
    "df=pd.DataFrame.from_dict(coor_dict)"
   ]
  },
  {
   "cell_type": "code",
   "execution_count": 8,
   "metadata": {},
   "outputs": [],
   "source": [
    "df=df.round(3)\n",
    "df=df.sort_values(by=['lat', 'lon'])"
   ]
  },
  {
   "cell_type": "code",
   "execution_count": 9,
   "metadata": {},
   "outputs": [],
   "source": [
    "df_ref = pd.DataFrame({'lon': [ref_lon], 'lat' : [ref_lat]})\n",
    "#make a new df for the reference point\n",
    "\n",
    "df_fi = pd.concat([df_ref, df], ignore_index = True, axis = 0)"
   ]
  },
  {
   "cell_type": "code",
   "execution_count": 10,
   "metadata": {},
   "outputs": [],
   "source": [
    "df_fi['vx fake']=np.ones(len(df_fi))*-17\n",
    "df_fi['vy fake']=np.ones(len(df_fi))*15\n",
    "df_fi['sx fake']=np.ones(len(df_fi))*0.111\n",
    "df_fi['sy fake']=np.ones(len(df_fi))*0.111\n",
    "df_fi['coxy fake']=np.ones(len(df_fi))*0.05\n",
    "\n",
    "year = np.ones(len(df_fi))*2020\n",
    "year = year.astype(int)\n",
    "\n",
    "flag = np.ones(len(df_fi))*1\n",
    "flag = flag.astype(int)\n",
    "\n",
    "df_fi['year']=year\n",
    "df_fi['flag']=flag"
   ]
  },
  {
   "cell_type": "code",
   "execution_count": 11,
   "metadata": {},
   "outputs": [],
   "source": [
    "df_fi.to_csv(output, index=False, sep=' ',float_format='%.4f')"
   ]
  },
  {
   "cell_type": "code",
   "execution_count": 12,
   "metadata": {},
   "outputs": [],
   "source": [
    "df_fi.lon.values\n",
    "df_fi.lat.values\n",
    "import matplotlib.pyplot as plt"
   ]
  },
  {
   "cell_type": "code",
   "execution_count": 13,
   "metadata": {},
   "outputs": [
    {
     "data": {
      "image/png": "[encoded data removed]",
      "text/plain": [
       "<Figure size 432x288 with 1 Axes>"
      ]
     },
     "metadata": {
      "needs_background": "light"
     },
     "output_type": "display_data"
    }
   ],
   "source": [
    "plt.plot(df_fi.lon.values,df_fi.lat.values,'*')\n",
    "plt.savefig('boundary_points.pdf')"
   ]
  }
 ],
 "metadata": {
  "kernelspec": {
   "display_name": "Python 3 (ipykernel)",
   "language": "python",
   "name": "python3"
  },
  "language_info": {
   "codemirror_mode": {
    "name": "ipython",
    "version": 3
   },
   "file_extension": ".py",
   "mimetype": "text/x-python",
   "name": "python",
   "nbconvert_exporter": "python",
   "pygments_lexer": "ipython3",
   "version": "3.9.7"
  }
 },
 "nbformat": 4,
 "nbformat_minor": 4
}
