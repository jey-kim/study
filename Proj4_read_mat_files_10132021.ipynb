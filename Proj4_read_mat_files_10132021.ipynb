{
 "cells": [
  {
   "cell_type": "markdown",
   "metadata": {},
   "source": [
    "<img src=\"Figs/GEOS_logo.pdf\" width=\"500\"/>"
   ]
  },
  {
   "cell_type": "markdown",
   "metadata": {},
   "source": [
    "# Sample InSAR data: <font color=blue>\"preprocess_data.ipynb\"</font>\n",
    "#### Oct 13, 2021  <font color=red>(v. testing)</font> \n",
    "##### Jeonghyeop Kim (jeonghyeop.kim@gmail.com)\n",
    "\n",
    "> input files: **`*.mat`** \\\n",
    "> output\n",
    "files: **`A_i.dat`** where **i** in {1..4}\n",
    "\n",
    "0. This code is a part of the joint inversion project (project4: joint inversion of GNSS and InSAR)\n",
    "1. The original MATLAB code is preprocess_data.m\n",
    "2. This code reads all *.mat files provided by Kyle and perform the following tasks:\n",
    "> (a) convert the sign of the x and y components of the look direction (to fix a sign error). \\\n",
    "> (b) crop the data for the region of interest. \\\n",
    "> (c) take good pixels only.\n",
    "3. Although a UAVSAR data is also available, this code does NOT include that data \n",
    "4. Each of **`A_i.dat`** files is a matrix that has columns of **'lon' 'lat' 'losX' 'losY' 'losZ' 'disp'**"
   ]
  },
  {
   "cell_type": "code",
   "execution_count": 2,
   "metadata": {},
   "outputs": [],
   "source": [
    "#import\n",
    "import numpy as np\n",
    "import pandas as pd\n",
    "from scipy.io import loadmat  # this is the SciPy module that loads *.mat files"
   ]
  },
  {
   "cell_type": "code",
   "execution_count": 3,
   "metadata": {},
   "outputs": [],
   "source": [
    "# STEP 0. Define boundaries for the region of interest \n",
    "lon_min = -116.68\n",
    "lon_max = -116.54\n",
    "lat_min = 33.86\n",
    "lat_max = 33.96"
   ]
  },
  {
   "cell_type": "code",
   "execution_count": 4,
   "metadata": {},
   "outputs": [],
   "source": [
    "# STEP 1. Load *.mat files\n",
    "\n",
    "#don't need this elevation information for the output of this code\n",
    "hgt = loadmat('hgt.mat'); hgtList = hgt['hgt'].tolist()[0] \n",
    "\n",
    "# coordinates\n",
    "lon = loadmat('lon.mat'); lonList = lon['lon'].tolist()[0]\n",
    "lat = loadmat('lat.mat'); latList = lat['lat'].tolist()[0]\n",
    "\n",
    "#Ascending 1\n",
    "losA1 = loadmat('losA1.mat'); losA1List = losA1['losA1'].T.tolist()\n",
    "losA1xList = losA1List[0] #LOS X component \n",
    "losA1yList = losA1List[1] #LOS Y component\n",
    "losA1zList = losA1List[2] #LOS Z component\n",
    "ratesA1 = loadmat('ratesA1.mat'); rateA1List = ratesA1['ratesA1'].tolist()[0] \n",
    "\n",
    "#Ascending 2\n",
    "losA2 = loadmat('losA2.mat'); losA2List = losA2['losA2'].T.tolist()\n",
    "losA2xList = losA2List[0]\n",
    "losA2yList = losA2List[1]\n",
    "losA2zList = losA2List[2]\n",
    "ratesA2 = loadmat('ratesA2.mat'); rateA2List = ratesA2['ratesA2'].tolist()[0]\n",
    "\n",
    "#Descending 1\n",
    "losD1 = loadmat('losD1.mat'); losD1List = losD1['losD1'].T.tolist() \n",
    "losD1xList = losD1List[0]\n",
    "losD1yList = losD1List[1]\n",
    "losD1zList = losD1List[2]\n",
    "ratesD1 = loadmat('ratesD1.mat'); rateD1List = ratesD1['ratesD1'].tolist()[0]\n",
    "\n",
    "#Descending 2\n",
    "losD2 = loadmat('losD2.mat'); losD2List = losD2['losD2'].T.tolist() \n",
    "losD2xList = losD2List[0]\n",
    "losD2yList = losD2List[1]\n",
    "losD2zList = losD2List[2]\n",
    "ratesD2 = loadmat('ratesD2.mat'); rateD2List = ratesD2['ratesD2'].tolist()[0]\n",
    "\n",
    "# masks\n",
    "msk = loadmat('msk.mat'); mskList = msk['msk'].tolist()[0]\n"
   ]
  },
  {
   "cell_type": "code",
   "execution_count": 5,
   "metadata": {},
   "outputs": [],
   "source": [
    "# STEP 2. Save data into  pd.DataFrame\n",
    "\n",
    "#Dictionary for A1 data\n",
    "dataA1_dics = {'lon': lonList,'lat': latList, \\\n",
    "               'LOS_X':losA1xList, 'LOS_Y':losA1yList, 'LOS_Z':losA1zList, \\\n",
    "               'rates':rateA1List}\n",
    "#Data frame for A1 data\n",
    "df_A1=pd.DataFrame.from_dict(dataA1_dics)\n",
    "\n",
    "#############################################################################\n",
    "\n",
    "#Dictionary for A2 data\n",
    "dataA2_dics = {'lon': lonList,'lat': latList, \\\n",
    "               'LOS_X':losA2xList, 'LOS_Y':losA2yList, 'LOS_Z':losA2zList, \\\n",
    "               'rates':rateA2List}\n",
    "#Data frame for A2 data\n",
    "df_A2=pd.DataFrame.from_dict(dataA2_dics)\n",
    "\n",
    "#############################################################################\n",
    "\n",
    "#Dictionary for D1 data\n",
    "dataD1_dics = {'lon': lonList,'lat': latList, \\\n",
    "               'LOS_X':losD1xList, 'LOS_Y':losD1yList, 'LOS_Z':losD1zList, \\\n",
    "               'rates':rateD1List}\n",
    "#Data frame for A1 data\n",
    "df_D1=pd.DataFrame.from_dict(dataD1_dics)\n",
    "\n",
    "#############################################################################\n",
    "\n",
    "#Dictionary for D2 data\n",
    "dataD2_dics = {'lon': lonList,'lat': latList, \\\n",
    "               'LOS_X':losD2xList, 'LOS_Y':losD2yList, 'LOS_Z':losD2zList, \\\n",
    "               'rates':rateD2List}\n",
    "#Data frame for D2 data\n",
    "df_D2=pd.DataFrame.from_dict(dataD2_dics)\n",
    "\n",
    "#############################################################################\n",
    "# mask 0 or 1\n",
    "msk_dics ={'msk': mskList}\n",
    "df_msk = pd.DataFrame.from_dict(msk_dics)\n",
    "df_msk['msk'] = df_msk['msk'].astype(int)"
   ]
  },
  {
   "cell_type": "code",
   "execution_count": 6,
   "metadata": {},
   "outputs": [],
   "source": [
    "# STEP 3. Change LOS signs: x=(-1)*x; y=(-1)*y; and z=z ==> ground perspective direction!\n",
    "df_A1['LOS_X']=df_A1['LOS_X']*(-1)\n",
    "df_A1['LOS_Y']=df_A1['LOS_Y']*(-1)\n",
    "\n",
    "df_A2['LOS_X']=df_A2['LOS_X']*(-1)\n",
    "df_A2['LOS_Y']=df_A2['LOS_Y']*(-1)\n",
    "\n",
    "df_D1['LOS_X']=df_D1['LOS_X']*(-1)\n",
    "df_D1['LOS_Y']=df_D1['LOS_Y']*(-1)\n",
    "\n",
    "df_D2['LOS_X']=df_D2['LOS_X']*(-1)\n",
    "df_D2['LOS_Y']=df_D2['LOS_Y']*(-1)"
   ]
  },
  {
   "cell_type": "code",
   "execution_count": 7,
   "metadata": {},
   "outputs": [],
   "source": [
    "# STET 4. select 'good pixel data only'\n",
    "idx=np.where(df_msk['msk']==1)[0] #array\n",
    "\n",
    "\n",
    "df_A1=df_A1.loc[idx,:].reset_index(drop=True)\n",
    "df_A2=df_A2.loc[idx,:].reset_index(drop=True)\n",
    "df_D1=df_D1.loc[idx,:].reset_index(drop=True)\n",
    "df_D2=df_D2.loc[idx,:].reset_index(drop=True)"
   ]
  },
  {
   "cell_type": "code",
   "execution_count": 14,
   "metadata": {},
   "outputs": [],
   "source": [
    "# STEP 5. Select data within the region of interest, which defined in the begining. \n",
    "\n",
    "df_A1_save = df_A1[(df_A1['lon']>=lon_min) & (df_A1['lon']<=lon_max) \\\n",
    "                   & (df_A1['lat']>=lat_min) & (df_A1['lat']<=lat_max)]\n",
    "\n",
    "df_A2_save = df_A2[(df_A2['lon']>=lon_min) & (df_A2['lon']<=lon_max) \\\n",
    "                   & (df_A2['lat']>=lat_min) & (df_A2['lat']<=lat_max)]\n",
    "\n",
    "df_D1_save = df_D1[(df_D1['lon']>=lon_min) & (df_D1['lon']<=lon_max) \\\n",
    "                   & (df_D1['lat']>=lat_min) & (df_D1['lat']<=lat_max)]\n",
    "\n",
    "df_D2_save = df_D2[(df_D2['lon']>=lon_min) & (df_D2['lon']<=lon_max) \\\n",
    "                   & (df_D2['lat']>=lat_min) & (df_D2['lat']<=lat_max)]\n",
    "\n",
    "\n",
    "\n",
    "df_A1_save=df_A1_save.reset_index(drop=True)\n",
    "df_A2_save=df_A2_save.reset_index(drop=True)\n",
    "df_D1_save=df_D1_save.reset_index(drop=True)\n",
    "df_D2_save=df_D2_save.reset_index(drop=True)\n"
   ]
  },
  {
   "cell_type": "code",
   "execution_count": 25,
   "metadata": {},
   "outputs": [],
   "source": [
    "# STEP 6. Save data\n",
    "# The pointing vector (LOS) has its origin on the ground. \n",
    "# Therefore the positive means the ground is moving toward the satellite.\n",
    "\n",
    "df_A1_save.to_csv('A_1.dat',index=None, header=None, sep=' ',float_format='%.5f')\n",
    "df_A2_save.to_csv('A_2.dat',index=None, header=None, sep=' ',float_format='%.5f')\n",
    "df_D1_save.to_csv('D_1.dat',index=None, header=None, sep=' ',float_format='%.5f')\n",
    "df_D2_save.to_csv('D_2.dat',index=None, header=None, sep=' ',float_format='%.5f')"
   ]
  },
  {
   "cell_type": "code",
   "execution_count": null,
   "metadata": {},
   "outputs": [],
   "source": []
  }
 ],
 "metadata": {
  "kernelspec": {
   "display_name": "Python 3",
   "language": "python",
   "name": "python3"
  },
  "language_info": {
   "codemirror_mode": {
    "name": "ipython",
    "version": 3
   },
   "file_extension": ".py",
   "mimetype": "text/x-python",
   "name": "python",
   "nbconvert_exporter": "python",
   "pygments_lexer": "ipython3",
   "version": "3.8.3"
  }
 },
 "nbformat": 4,
 "nbformat_minor": 4
}
