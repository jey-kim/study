{
 "cells": [
  {
   "cell_type": "markdown",
   "metadata": {},
   "source": [
    "# Step 4: <font color=blue>\"time_vector_generator.ipynb\"</font>\n",
    "#### July 27, 2021  <font color=red>(Still working)</font> \n",
    "##### Jeonghyeop Kim (jeonghyeop.kim@gmail.com)\n",
    "\n",
    "> output files: **`time_vector.dat` & `days_per_month.dat`**\n",
    "\n",
    "1. This code makes a consecutive time vector from 2006/1/1 \\ to the last day of the previous month day from today (`time_vector.dat`)\n",
    "2. This code also generates `days_per_month.dat`,in which  a number for each row indicates the number of days for all months in the time period of our interest\n",
    "\n"
   ]
  },
  {
   "cell_type": "code",
   "execution_count": 1,
   "metadata": {},
   "outputs": [],
   "source": [
    "# 1. import modules\n",
    "import numpy as np\n",
    "import datetime as datetime\n",
    "import pandas as pd\n",
    "#from calendar import monthrange\n",
    "#pd.__version__"
   ]
  },
  {
   "cell_type": "code",
   "execution_count": 3,
   "metadata": {},
   "outputs": [
    {
     "name": "stdout",
     "output_type": "stream",
     "text": [
      "The initial date is January 1, 2006.\n",
      "What is your last date of your analysis (YYYYMMDD format) : \n"
     ]
    },
    {
     "name": "stdin",
     "output_type": "stream",
     "text": [
      " 20201231\n"
     ]
    }
   ],
   "source": [
    "print(\"The initial date is January 1, 2006.\")\n",
    "print(\"What is your last date of your analysis (YYYYMMDD format) : \")\n",
    "#write a statement here\n",
    "#If statement Y-> specific final date\n",
    "#             N-> the last date of the previous month from today is the final date\n",
    "last_date=input()"
   ]
  },
  {
   "cell_type": "code",
   "execution_count": 4,
   "metadata": {},
   "outputs": [],
   "source": [
    "date_final = pd.to_datetime(last_date, format='%Y%m%d')\n",
    "date_initial = pd.to_datetime(20060101, format='%Y%m%d')\n",
    "today=datetime.datetime.today()\n",
    "date_today = pd.to_datetime(today).strftime('%Y%m')\n",
    "\n",
    "\n",
    "#if m = 01 y=y-1\n",
    "#else m = m-1"
   ]
  },
  {
   "cell_type": "code",
   "execution_count": 5,
   "metadata": {},
   "outputs": [],
   "source": [
    "time_vector_list=pd.date_range(start=date_initial,end=date_final).strftime('%Y%m%d').tolist()"
   ]
  },
  {
   "cell_type": "code",
   "execution_count": 6,
   "metadata": {},
   "outputs": [],
   "source": [
    "with open('time_vector.dat', 'w') as filehandle:\n",
    "    for listitem in time_vector_list:\n",
    "        filehandle.write('%s\\n' % listitem)"
   ]
  },
  {
   "cell_type": "code",
   "execution_count": 7,
   "metadata": {},
   "outputs": [],
   "source": [
    "df_year=np.array(pd.date_range(start=date_initial,end=date_final).strftime('%Y'))\n",
    "df_month=np.array(pd.date_range(start=date_initial,end=date_final).strftime('%m'))\n",
    "df_year_month = pd.DataFrame(index = range(len(df_year))) # A blank dataFrame\n",
    "\n",
    "\n",
    "df_year_month['year']=df_year\n",
    "df_year_month['month']=df_month"
   ]
  },
  {
   "cell_type": "code",
   "execution_count": 8,
   "metadata": {},
   "outputs": [
    {
     "data": {
      "text/html": [
       "<div>\n",
       "<style scoped>\n",
       "    .dataframe tbody tr th:only-of-type {\n",
       "        vertical-align: middle;\n",
       "    }\n",
       "\n",
       "    .dataframe tbody tr th {\n",
       "        vertical-align: top;\n",
       "    }\n",
       "\n",
       "    .dataframe thead th {\n",
       "        text-align: right;\n",
       "    }\n",
       "</style>\n",
       "<table border=\"1\" class=\"dataframe\">\n",
       "  <thead>\n",
       "    <tr style=\"text-align: right;\">\n",
       "      <th></th>\n",
       "      <th>year</th>\n",
       "      <th>month</th>\n",
       "    </tr>\n",
       "  </thead>\n",
       "  <tbody>\n",
       "    <tr>\n",
       "      <th>0</th>\n",
       "      <td>2006</td>\n",
       "      <td>01</td>\n",
       "    </tr>\n",
       "    <tr>\n",
       "      <th>1</th>\n",
       "      <td>2006</td>\n",
       "      <td>01</td>\n",
       "    </tr>\n",
       "    <tr>\n",
       "      <th>2</th>\n",
       "      <td>2006</td>\n",
       "      <td>01</td>\n",
       "    </tr>\n",
       "    <tr>\n",
       "      <th>3</th>\n",
       "      <td>2006</td>\n",
       "      <td>01</td>\n",
       "    </tr>\n",
       "    <tr>\n",
       "      <th>4</th>\n",
       "      <td>2006</td>\n",
       "      <td>01</td>\n",
       "    </tr>\n",
       "    <tr>\n",
       "      <th>...</th>\n",
       "      <td>...</td>\n",
       "      <td>...</td>\n",
       "    </tr>\n",
       "    <tr>\n",
       "      <th>5474</th>\n",
       "      <td>2020</td>\n",
       "      <td>12</td>\n",
       "    </tr>\n",
       "    <tr>\n",
       "      <th>5475</th>\n",
       "      <td>2020</td>\n",
       "      <td>12</td>\n",
       "    </tr>\n",
       "    <tr>\n",
       "      <th>5476</th>\n",
       "      <td>2020</td>\n",
       "      <td>12</td>\n",
       "    </tr>\n",
       "    <tr>\n",
       "      <th>5477</th>\n",
       "      <td>2020</td>\n",
       "      <td>12</td>\n",
       "    </tr>\n",
       "    <tr>\n",
       "      <th>5478</th>\n",
       "      <td>2020</td>\n",
       "      <td>12</td>\n",
       "    </tr>\n",
       "  </tbody>\n",
       "</table>\n",
       "<p>5479 rows × 2 columns</p>\n",
       "</div>"
      ],
      "text/plain": [
       "      year month\n",
       "0     2006    01\n",
       "1     2006    01\n",
       "2     2006    01\n",
       "3     2006    01\n",
       "4     2006    01\n",
       "...    ...   ...\n",
       "5474  2020    12\n",
       "5475  2020    12\n",
       "5476  2020    12\n",
       "5477  2020    12\n",
       "5478  2020    12\n",
       "\n",
       "[5479 rows x 2 columns]"
      ]
     },
     "execution_count": 8,
     "metadata": {},
     "output_type": "execute_result"
    }
   ],
   "source": [
    "df_year_month"
   ]
  },
  {
   "cell_type": "code",
   "execution_count": 9,
   "metadata": {},
   "outputs": [],
   "source": [
    "howManyDatesPerMonths = df_year_month.groupby(['year','month']).size()"
   ]
  },
  {
   "cell_type": "code",
   "execution_count": 10,
   "metadata": {},
   "outputs": [],
   "source": [
    "howManyDatesPerMonths.to_csv('days_per_month.dat',header=None, index=None,sep=' ',float_format='%g')"
   ]
  },
  {
   "cell_type": "code",
   "execution_count": 11,
   "metadata": {},
   "outputs": [
    {
     "data": {
      "text/plain": [
       "year  month\n",
       "2006  01       31\n",
       "      02       28\n",
       "      03       31\n",
       "      04       30\n",
       "      05       31\n",
       "               ..\n",
       "2020  08       31\n",
       "      09       30\n",
       "      10       31\n",
       "      11       30\n",
       "      12       31\n",
       "Length: 180, dtype: int64"
      ]
     },
     "execution_count": 11,
     "metadata": {},
     "output_type": "execute_result"
    }
   ],
   "source": [
    "howManyDatesPerMonths"
   ]
  },
  {
   "cell_type": "code",
   "execution_count": null,
   "metadata": {},
   "outputs": [],
   "source": []
  }
 ],
 "metadata": {
  "kernelspec": {
   "display_name": "Python 3",
   "language": "python",
   "name": "python3"
  },
  "language_info": {
   "codemirror_mode": {
    "name": "ipython",
    "version": 3
   },
   "file_extension": ".py",
   "mimetype": "text/x-python",
   "name": "python",
   "nbconvert_exporter": "python",
   "pygments_lexer": "ipython3",
   "version": "3.8.3"
  }
 },
 "nbformat": 4,
 "nbformat_minor": 4
}
