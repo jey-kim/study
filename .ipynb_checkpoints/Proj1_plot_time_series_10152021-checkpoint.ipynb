{
 "cells": [
  {
   "cell_type": "markdown",
   "metadata": {},
   "source": [
    "<img src=\"Figs/GEOS_Logo.pdf\" width=\"500\" />"
   ]
  },
  {
   "cell_type": "markdown",
   "metadata": {},
   "source": [
    "\n",
    "# Step **9** of **`G2FNL`**: <font color=blue>\"plot_time_series.ipynb\"</font>\n",
    "#### Oct 15, 2021  <font color=red>(v. working)</font>\n",
    "##### Jeonghyeop Kim (jeonghyeop.kim@gmail.com)\n",
    "\n",
    "> input files: **`zeroFilled_i`**, **`outlierRemoved_i`**, **`station_list_full.dat`**,  **`timeCropped_i`**, **`steps.txt`** and **`time_vector.dat`** \\\n",
    "> output files: **`timeseries_i.pdf`** \n",
    "\n",
    "#### <font color=red>UNIT in `outlierRemoved_i` is [mm], while any `other input files` have a unit of [m] </font>\n",
    "\n",
    "\n",
    "0. This code is a part of GPS2FNL process \n",
    "1. It will plot three different time series for each station:\n",
    "- time series uncorrected (timeCropped_i)\n",
    "- time series step corrected (zeroFilled_i)\n",
    "- time series outlier removed (outlierRemoved_i)\n",
    "2. Each of the three different time series has three components (east-west, north-south, and up-down)\n",
    "3. Investigate each *.pdf outfiles to make sure correcting and removing outlier steps work properly. \n",
    "4. This code will plot vertical `solid` lines for the equipment-related steps.\n",
    "5. This code will plot vertical `dashed` lines for the earthquake-related steps."
   ]
  },
  {
   "cell_type": "markdown",
   "metadata": {},
   "source": [
    "<div class=\"alert alert-danger\">\n",
    "Do NOT run this code twice without re-starting the kernel\n",
    "</div>"
   ]
  },
  {
   "cell_type": "code",
   "execution_count": 3,
   "metadata": {},
   "outputs": [],
   "source": [
    "# 1. import modules\n",
    "import numpy as np\n",
    "import pandas as pd\n",
    "import os\n",
    "import datetime as dt\n",
    "import matplotlib.pyplot as plt\n",
    "import matplotlib.dates as mdates"
   ]
  },
  {
   "cell_type": "code",
   "execution_count": 4,
   "metadata": {},
   "outputs": [
    {
     "data": {
      "text/plain": [
       "'/Users/jkim/main/local_repo/study_imac'"
      ]
     },
     "execution_count": 4,
     "metadata": {},
     "output_type": "execute_result"
    }
   ],
   "source": [
    "current_dir=os.getcwd()\n",
    "os.getcwd()"
   ]
  },
  {
   "cell_type": "code",
   "execution_count": 9,
   "metadata": {},
   "outputs": [],
   "source": [
    "\n",
    "#############################################\n",
    "#(1)\n",
    "list_full = \"station_list_full.dat\"\n",
    "df_list=pd.read_csv(list_full, header=None)\n",
    "df_list.columns=['StID']\n",
    "N_list = len(df_list) \n",
    "\n",
    "#############################################\n",
    "#(2)\n",
    "timefile = 'time_vector.dat'\n",
    "df_time=pd.read_csv(timefile, header=None)\n",
    "startDateAnalysis=int(df_time.iloc[0])\n",
    "endDateAnalysis=int(df_time.iloc[-1])\n",
    "##########################################################################################\n",
    "#(3)\n",
    "metadata = \"steps.txt\" #file name\n",
    "df_metadata=pd.read_csv(metadata, header=None, names=list('0123456'), sep=r'(?:,|\\s+)', \\\n",
    "                        comment='#', engine='python')\n",
    "## steps.txt is in an irregular shape\n",
    "## equipment-related steps\n",
    "df_steps_maintenance = df_metadata[df_metadata['2'] == 1].reset_index(drop=True)\n",
    "df_steps_maintenance = df_steps_maintenance.iloc[:,[0,1,2,3]]\n",
    "df_steps_maintenance.columns=['stID','time','flag','log']\n",
    "date_old = df_steps_maintenance.time.tolist() # A DataFrame to a list\n",
    "date_new = pd.to_datetime(date_old, format='%y%b%d').strftime('%Y%m%d') # convert date format\n",
    "df_steps_maintenance.loc[:,'time'] = date_new # replaces with the new date  in YYYYMMDD\n",
    "df_steps_maintenance['time']=df_steps_maintenance['time'].astype(int) #str to int\n",
    "df_steps_maintenance = df_steps_maintenance[(df_steps_maintenance['time']>=startDateAnalysis) & \\\n",
    "                                            (df_steps_maintenance['time']<=endDateAnalysis)]\n",
    "\n",
    "## earthquake-related steps\n",
    "df_steps_earthquakes = df_metadata[df_metadata['2'] == 2].reset_index(drop=True)\n",
    "df_steps_earthquakes.columns=['stID','time','flag','threshold','distance','mag','eventID'] \n",
    "#The step data has a time column in the form of yyMMMdd \n",
    "date_old = df_steps_earthquakes.time.tolist() # A DataFrame to a list\n",
    "date_new = pd.to_datetime(date_old, format='%y%b%d').strftime('%Y%m%d') # convert date format\n",
    "df_steps_earthquakes.loc[:,'time'] = date_new # replaces with the new date  in YYYYMMDD\n",
    "df_steps_earthquakes['time']=df_steps_earthquakes['time'].astype(int) #str to int\n",
    "df_steps_earthquakes = df_steps_earthquakes[(df_steps_earthquakes['time']>=startDateAnalysis) & \\\n",
    "                                            (df_steps_earthquakes['time']<=endDateAnalysis)]\n",
    "df_steps_earthquakes = df_steps_earthquakes.reset_index(drop=True)"
   ]
  },
  {
   "cell_type": "code",
   "execution_count": 12,
   "metadata": {},
   "outputs": [
    {
     "ename": "FileNotFoundError",
     "evalue": "[Errno 2] No such file or directory: '/Users/jkim/main/local_repo/study_imac/data/processing'",
     "output_type": "error",
     "traceback": [
      "\u001b[0;31m---------------------------------------------------------------------------\u001b[0m",
      "\u001b[0;31mFileNotFoundError\u001b[0m                         Traceback (most recent call last)",
      "\u001b[0;32m<ipython-input-12-bae691102c07>\u001b[0m in \u001b[0;36m<module>\u001b[0;34m\u001b[0m\n\u001b[1;32m      1\u001b[0m \u001b[0mprocessing_dir\u001b[0m \u001b[0;34m=\u001b[0m \u001b[0mos\u001b[0m\u001b[0;34m.\u001b[0m\u001b[0mpath\u001b[0m\u001b[0;34m.\u001b[0m\u001b[0mjoin\u001b[0m\u001b[0;34m(\u001b[0m\u001b[0mcurrent_dir\u001b[0m\u001b[0;34m,\u001b[0m \u001b[0;34m'data'\u001b[0m\u001b[0;34m,\u001b[0m \u001b[0;34m'processing'\u001b[0m\u001b[0;34m)\u001b[0m\u001b[0;34m\u001b[0m\u001b[0;34m\u001b[0m\u001b[0m\n\u001b[0;32m----> 2\u001b[0;31m \u001b[0mos\u001b[0m\u001b[0;34m.\u001b[0m\u001b[0mchdir\u001b[0m\u001b[0;34m(\u001b[0m\u001b[0mprocessing_dir\u001b[0m\u001b[0;34m)\u001b[0m \u001b[0;31m# cp to processing directory\u001b[0m\u001b[0;34m\u001b[0m\u001b[0;34m\u001b[0m\u001b[0m\n\u001b[0m\u001b[1;32m      3\u001b[0m \u001b[0mos\u001b[0m\u001b[0;34m.\u001b[0m\u001b[0mgetcwd\u001b[0m\u001b[0;34m(\u001b[0m\u001b[0;34m)\u001b[0m\u001b[0;34m\u001b[0m\u001b[0;34m\u001b[0m\u001b[0m\n",
      "\u001b[0;31mFileNotFoundError\u001b[0m: [Errno 2] No such file or directory: '/Users/jkim/main/local_repo/study_imac/data/processing'"
     ]
    }
   ],
   "source": [
    "processing_dir = os.path.join(current_dir, 'data', 'processing')\n",
    "os.chdir(processing_dir) # cp to processing directory\n",
    "os.getcwd()"
   ]
  },
  {
   "cell_type": "code",
   "execution_count": null,
   "metadata": {},
   "outputs": [],
   "source": []
  },
  {
   "cell_type": "code",
   "execution_count": null,
   "metadata": {},
   "outputs": [],
   "source": []
  },
  {
   "cell_type": "code",
   "execution_count": null,
   "metadata": {},
   "outputs": [],
   "source": []
  },
  {
   "cell_type": "code",
   "execution_count": null,
   "metadata": {},
   "outputs": [],
   "source": []
  },
  {
   "cell_type": "code",
   "execution_count": null,
   "metadata": {},
   "outputs": [],
   "source": [
    "#plot practice!"
   ]
  },
  {
   "cell_type": "code",
   "execution_count": null,
   "metadata": {},
   "outputs": [],
   "source": [
    "y = np.random.rand(31,1)[:,0] "
   ]
  },
  {
   "cell_type": "code",
   "execution_count": null,
   "metadata": {},
   "outputs": [],
   "source": [
    "x_raw = np.arange(20120101,20120132)"
   ]
  },
  {
   "cell_type": "code",
   "execution_count": null,
   "metadata": {},
   "outputs": [],
   "source": [
    "plt.plot(x,y,'-*r')\n",
    "plt.show()"
   ]
  },
  {
   "cell_type": "code",
   "execution_count": null,
   "metadata": {},
   "outputs": [],
   "source": [
    "date_fmt = '%Y%m%d'\n",
    "dt_x = [dt.datetime.strptime(str(i), date_fmt) for i in x_raw]\n",
    "x = [mdates.date2num(i) for i in dt_x] #x in 'datenum'-like format in MATLAB\n",
    "fig, ax = plt.subplots()\n",
    "ax.plot_date(x, y, 'bo-')\n",
    "date_formatter = mdates.DateFormatter('%Y-%m-%d')\n",
    "ax.xaxis.set_major_formatter(date_formatter)\n",
    "# This simply rotates the x-axis tick labels slightly so they fit nicely.\n",
    "fig.autofmt_xdate()\n",
    "plt.xticks(rotation=90,ha='center')\n",
    "plt.grid(color='g', linestyle='-', linewidth=0.1)\n",
    "#ax.xaxis.set_major_locator(plt.MaxNLocator(31)) #evenly 31 ticks\n",
    "\n",
    "ticks1 = np.linspace(min(x),max(x),31)\n",
    "ax.set_xticks(ticks1)\n",
    "\n",
    "plt.show()\n",
    "fig.savefig(\"foo.pdf\", bbox_inches='tight')"
   ]
  },
  {
   "cell_type": "code",
   "execution_count": null,
   "metadata": {},
   "outputs": [],
   "source": []
  },
  {
   "cell_type": "code",
   "execution_count": null,
   "metadata": {},
   "outputs": [],
   "source": []
  }
 ],
 "metadata": {
  "kernelspec": {
   "display_name": "Python 3",
   "language": "python",
   "name": "python3"
  },
  "language_info": {
   "codemirror_mode": {
    "name": "ipython",
    "version": 3
   },
   "file_extension": ".py",
   "mimetype": "text/x-python",
   "name": "python",
   "nbconvert_exporter": "python",
   "pygments_lexer": "ipython3",
   "version": "3.8.3"
  }
 },
 "nbformat": 4,
 "nbformat_minor": 4
}
