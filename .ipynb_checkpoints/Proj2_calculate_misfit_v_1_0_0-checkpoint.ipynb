{
 "cells": [
  {
   "cell_type": "code",
   "execution_count": null,
   "metadata": {},
   "outputs": [],
   "source": [
    "#<img src=\"Figs/GEOS_Logo.pdf\" width=\"500\" />"
   ]
  },
  {
   "cell_type": "markdown",
   "metadata": {},
   "source": [
    "`FNL2SEASONAL`**: <font color=blue>\"calculate_misfit.ipynb\"</font>\n",
    "#### Nov 09, 2021  <font color=red>(v. 1.0.0)</font>\n",
    "##### Jeonghyeop Kim (jeonghyeop.kim@gmail.com)\n",
    "\n",
    "> input files: **`vel_4_mo_knotpoints_average.gmt`** & **`vel_4_mo_knotpoints_average_from_spline_fit_out.gmt`** \\\n",
    "> output files: **`vel_misfit_test.gmt`** \n",
    "\n",
    "0. This code is a part of FNL2SEASONAL process.\n",
    "1. In the FNL2SEASONAL process, the Sparse programs will be used to invert the 3-year avg. ref. displacement field (to obtain spline_fit_ref.out). \n",
    "2. This inversion assumes the ref. displacement field has no error and the input field is hardwired in. \n",
    "3. This code checks if the inverted ref. displacements are the same as the original values.\n",
    "\n"
   ]
  },
  {
   "cell_type": "code",
   "execution_count": null,
   "metadata": {},
   "outputs": [],
   "source": [
    "import pandas as pd"
   ]
  },
  {
   "cell_type": "code",
   "execution_count": null,
   "metadata": {},
   "outputs": [],
   "source": [
    "names = ['lon','lat','ve','vn','se','sn','corr']\n",
    "\n",
    "filename1 = \"vel_4_mo_knotpoints_average.gmt\"\n",
    "df_original=pd.read_csv(filename1,header = None,sep=r'(?:,|\\s+)',comment='#', engine='python')\n",
    "df_original.columns=names\n",
    "\n",
    "filename2 = \"vel_4_mo_knotpoints_average_from_spline_fit_out.gmt\"\n",
    "df_inverted=pd.read_csv(filename2,header = None,sep=r'(?:,|\\s+)',comment='#', engine='python')\n",
    "df_inverted.columns=names\n",
    "\n",
    "\n",
    "df_save = df_inverted\n",
    "# The inverted one has 0 errors so use df_inverted as the frame of the output file of this code. \n",
    "\n",
    "df_save.loc[:,['ve','vn']] = df_original.loc[:,['ve','vn']]-df_inverted.loc[:,['ve','vn']]\n",
    "savefile = \"vel_misfit_test.gmt\"\n",
    "df_save.to_csv(savefile ,header=None, index=None ,float_format='%.6f', sep=' ')\n",
    "\n"
   ]
  }
 ],
 "metadata": {
  "kernelspec": {
   "display_name": "Python 3",
   "language": "python",
   "name": "python3"
  },
  "language_info": {
   "codemirror_mode": {
    "name": "ipython",
    "version": 3
   },
   "file_extension": ".py",
   "mimetype": "text/x-python",
   "name": "python",
   "nbconvert_exporter": "python",
   "pygments_lexer": "ipython3",
   "version": "3.8.3"
  }
 },
 "nbformat": 4,
 "nbformat_minor": 4
}
