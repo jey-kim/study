{
 "cells": [
  {
   "cell_type": "markdown",
   "metadata": {},
   "source": [
    "<img src=\"Figs/GEOS_logo.pdf\" width=\"500\"/>"
   ]
  },
  {
   "cell_type": "markdown",
   "metadata": {},
   "source": [
    "# Sample InSAR data: <font color=blue>\"change_InSAR_ref.ipynb\"</font>\n",
    "#### Nov 16, 2021  <font color=red>(v. testing)</font> \n",
    "##### Jeonghyeop Kim (jeonghyeop.kim@gmail.com)\n",
    "\n",
    "> input files : **`DT42_data_final.dat`** & **`AT35_data_final.dat`** & **`ref_GNSS.dat`**\\\n",
    "> output files: **`DT42_data_new_ref.dat`** & **`AT35_data_new_ref.dat`**\n",
    "\n",
    "0. This code is a part of the joint inversion project (project4: joint inversion of GNSS and InSAR)\n",
    "1. This code changes the frame of reference to a point. \n",
    "2. The LOS displacement at the ref. point will be projected onto each of the pointing vectors for all the data points. \n",
    "3. The projected LOS displacements will be subtracted from the original data\n",
    "4. DUE TO THE NATURE OF INSAR measurement, maybe to obtain basis-function responses with respect to InSAR reference would be better approach.\n",
    "5. To avoid to pick an outlier, this code finds **`30`** closest InSAR data points to the given ref. point, and then uses the median value as the reference LOS displacement.\n",
    "6. The given ref point is the reference of the GNSS data : `ref_GNSS.dat` \n",
    "\n",
    "> [**unwrapping**] (The LOS deformations are relative motions to a point and the point should be close to the signal). \\\n",
    "> **For now (10/04/2021)**, a master code for the boundary condition velocity responses is NOT ready. \\\n",
    "> Thus, this alternative method is used. \\\n",
    "> In addition, use of different sampling approaches for InSAR data (e.g., QuadTree) may not guarantee that \\\n",
    "> a data is available at the top right corner (the reference of the basis-function responses). \n"
   ]
  },
  {
   "cell_type": "code",
   "execution_count": 1,
   "metadata": {},
   "outputs": [],
   "source": [
    "#import\n",
    "import numpy as np\n",
    "import pandas as pd\n",
    "from distance_calculation import distance_calculation"
   ]
  },
  {
   "cell_type": "code",
   "execution_count": 2,
   "metadata": {},
   "outputs": [],
   "source": [
    "# Define reference point\n",
    "ref_file=\"ref_GNSS.dat\"\n",
    "df_ref = pd.read_csv(ref_file, header=None, sep = ' ')\n",
    "lon_ref = df_ref.iloc[0,0]\n",
    "lat_ref = df_ref.iloc[0,1]"
   ]
  },
  {
   "cell_type": "code",
   "execution_count": 3,
   "metadata": {},
   "outputs": [],
   "source": [
    "# Load InSAR data (in InSAR reference)\n",
    "\n",
    "names = ['lon','lat','rate','Px','Py','Pz']\n",
    "\n",
    "input_file_1=\"DT42_data_final.dat\"\n",
    "df_DESD=pd.read_csv(input_file_1, header=None, sep = ' ')\n",
    "df_DESD.columns = names\n",
    "\n",
    "input_file_2=\"AT35_data_final.dat\"\n",
    "df_ASD=pd.read_csv(input_file_2, header=None, sep = ' ')\n",
    "df_ASD.columns = names\n"
   ]
  },
  {
   "cell_type": "code",
   "execution_count": 4,
   "metadata": {},
   "outputs": [],
   "source": [
    "NUM = len(df_DESD)\n",
    "dist_array = np.zeros((NUM,))\n",
    "\n",
    "for i in range(NUM):\n",
    "    lat_df = df_DESD.iloc[i,1]\n",
    "    lon_df = df_DESD.iloc[i,0]\n",
    "    dist,az = distance_calculation(lat_ref,lon_ref,lat_df,lon_df)\n",
    "    dist_array[i,] = dist\n",
    "idx_closest=dist_array.argsort()[:30]"
   ]
  },
  {
   "cell_type": "code",
   "execution_count": 5,
   "metadata": {},
   "outputs": [],
   "source": [
    "df_ASD_closest=df_ASD.iloc[idx_closest,:]\n",
    "rate_ASD_ref=df_ASD_closest['rate'].median()\n",
    "px_ASD_ref=df_ASD_closest['Px'].mean()\n",
    "py_ASD_ref=df_ASD_closest['Py'].mean()\n",
    "pz_ASD_ref=df_ASD_closest['Pz'].mean()"
   ]
  },
  {
   "cell_type": "code",
   "execution_count": 6,
   "metadata": {},
   "outputs": [],
   "source": [
    "df_DESD_closest=df_DESD.iloc[idx_closest,:]\n",
    "rate_DESD_ref=df_DESD_closest['rate'].median()\n",
    "px_DESD_ref=df_DESD_closest['Px'].mean()\n",
    "py_DESD_ref=df_DESD_closest['Py'].mean()\n",
    "pz_DESD_ref=df_DESD_closest['Pz'].mean()"
   ]
  },
  {
   "cell_type": "code",
   "execution_count": 7,
   "metadata": {},
   "outputs": [],
   "source": [
    "# LOS displacements - Projected ref. LOS displacements = rate - rate_ref * (Px*Px_ref + Py*Py_ref + Pz*Pz_ref)\n",
    "df_ASD['new_rate']=df_ASD['rate']-rate_ASD_ref*(df_ASD['Px']*px_ASD_ref + df_ASD['Py']*py_ASD_ref + df_ASD['Pz']*pz_ASD_ref)\n",
    "df_DESD['new_rate']=df_DESD['rate']-rate_DESD_ref*(df_DESD['Px']*px_DESD_ref + df_DESD['Py']*py_DESD_ref + df_DESD['Pz']*pz_DESD_ref)"
   ]
  },
  {
   "cell_type": "code",
   "execution_count": 8,
   "metadata": {},
   "outputs": [],
   "source": [
    "cols_to_save = ['lon','lat','new_rate','Px','Py','Pz']\n",
    "df_ASD_save = df_ASD.loc[:, cols_to_save]\n",
    "df_DESD_save = df_DESD.loc[:, cols_to_save]"
   ]
  },
  {
   "cell_type": "code",
   "execution_count": 9,
   "metadata": {},
   "outputs": [],
   "source": [
    "# Save data\n",
    "df_ASD_save.to_csv('AT35_data_new_ref.dat',index=None, header=None, sep=' ',float_format='%.5f')\n",
    "df_DESD_save.to_csv('DT42_data_new_ref.dat',index=None, header=None, sep=' ',float_format='%.5f')"
   ]
  },
  {
   "cell_type": "code",
   "execution_count": null,
   "metadata": {},
   "outputs": [],
   "source": []
  }
 ],
 "metadata": {
  "kernelspec": {
   "display_name": "Python 3",
   "language": "python",
   "name": "python3"
  },
  "language_info": {
   "codemirror_mode": {
    "name": "ipython",
    "version": 3
   },
   "file_extension": ".py",
   "mimetype": "text/x-python",
   "name": "python",
   "nbconvert_exporter": "python",
   "pygments_lexer": "ipython3",
   "version": "3.8.3"
  }
 },
 "nbformat": 4,
 "nbformat_minor": 4
}
