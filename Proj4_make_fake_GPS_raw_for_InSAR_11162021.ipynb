{
 "cells": [
  {
   "cell_type": "markdown",
   "metadata": {},
   "source": [
    "<img src=\"Figs/GEOS_logo.pdf\" width=\"500\"/>"
   ]
  },
  {
   "cell_type": "markdown",
   "metadata": {},
   "source": [
    "# <font color=blue>\"make_fake_GPS_raw_for_InSAR.ipynb\"</font>\n",
    "##### Nov 16, 2021  <font color=red>(v. testing)</font> \n",
    "##### Jeonghyeop Kim (jeonghyeop.kim@gmail.com)\n",
    "\n",
    "> output file: **`GPS_raw_fake_InSAR.dat`** \n",
    "\n",
    "0. This code is a part of the joint inversion project (Project4: joint inversion of GNSS and InSAR)\n",
    "1. This code generates `GPS_raw_fake_InSAR.dat` file that will be used to obtain `latlong_gps.dat`\n",
    "2. The `latlong_gps.dat` will be copied as output.dat \n",
    "3. Sparse code will generate **basis function responses (velocity)** at the InSAR data points using the `latlong_gps.dat`"
   ]
  },
  {
   "cell_type": "code",
   "execution_count": 1,
   "metadata": {},
   "outputs": [],
   "source": [
    "import numpy as np\n",
    "import pandas as pd"
   ]
  },
  {
   "cell_type": "code",
   "execution_count": 2,
   "metadata": {},
   "outputs": [],
   "source": [
    "output = 'GPS_raw_fake_InSAR.dat'"
   ]
  },
  {
   "cell_type": "code",
   "execution_count": 3,
   "metadata": {},
   "outputs": [],
   "source": [
    "df_InSAR_data=pd.read_csv('DT42_data_new_ref.dat', header=None, sep=' ')"
   ]
  },
  {
   "cell_type": "code",
   "execution_count": 4,
   "metadata": {},
   "outputs": [],
   "source": [
    "df_InSAR_data.columns=['lon','lat','2','3','4','5']"
   ]
  },
  {
   "cell_type": "code",
   "execution_count": 5,
   "metadata": {},
   "outputs": [],
   "source": [
    "df_save=df_InSAR_data[['lon','lat']]\n",
    "df_save=df_save.reset_index(drop=True)\n",
    "N=len(df_save)"
   ]
  },
  {
   "cell_type": "code",
   "execution_count": 6,
   "metadata": {},
   "outputs": [],
   "source": [
    "df_save['vx fake']=np.ones(N)*-17\n",
    "df_save['vy fake']=np.ones(N)*15\n",
    "df_save['sx fake']=np.ones(N)*0.111\n",
    "df_save['sy fake']=np.ones(N)*0.111\n",
    "df_save['coxy fake']=np.ones(N)*0.05\n",
    "\n",
    "year = np.ones(N)*2020\n",
    "year = year.astype(int)\n",
    "\n",
    "flag = np.ones(N)*1\n",
    "flag = flag.astype(int)\n",
    "\n",
    "df_save['year']=year\n",
    "df_save['flag']=flag"
   ]
  },
  {
   "cell_type": "code",
   "execution_count": 7,
   "metadata": {},
   "outputs": [],
   "source": [
    "df_save.to_csv(output, index=False, sep=' ',float_format='%.3f')"
   ]
  },
  {
   "cell_type": "code",
   "execution_count": null,
   "metadata": {},
   "outputs": [],
   "source": []
  }
 ],
 "metadata": {
  "kernelspec": {
   "display_name": "Python 3",
   "language": "python",
   "name": "python3"
  },
  "language_info": {
   "codemirror_mode": {
    "name": "ipython",
    "version": 3
   },
   "file_extension": ".py",
   "mimetype": "text/x-python",
   "name": "python",
   "nbconvert_exporter": "python",
   "pygments_lexer": "ipython3",
   "version": "3.8.3"
  }
 },
 "nbformat": 4,
 "nbformat_minor": 4
}
