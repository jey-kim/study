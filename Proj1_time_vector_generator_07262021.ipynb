{
 "cells": [
  {
   "cell_type": "markdown",
   "metadata": {},
   "source": [
    "# Step 4: <font color=blue>\"time_vector_generator.ipynb\"</font>\n",
    "#### July 26, 2021  <font color=red>(Still working)</font> \n",
    "##### Jeonghyeop Kim (jeonghyeop.kim@gmail.com)\n",
    "\n",
    "> output files: **`time_vector.dat` & `days_per_month.dat`**\n",
    "\n",
    "1. This code makes a consecutive time vector from 2006/1/1 \\ to the last day of the previous month day from today (`time_vector.dat`)\n",
    "2. This code also generates `days_per_month.dat`,in which  a number for each row indicates the number of days for all months in the time period of our interest\n",
    "\n"
   ]
  },
  {
   "cell_type": "code",
   "execution_count": 1,
   "metadata": {},
   "outputs": [],
   "source": [
    "# 1. import modules\n",
    "import numpy as np\n",
    "import datetime as datetime\n",
    "import pandas as pd\n",
    "#from calendar import monthrange\n",
    "#pd.__version__"
   ]
  },
  {
   "cell_type": "code",
   "execution_count": 2,
   "metadata": {},
   "outputs": [
    {
     "name": "stdout",
     "output_type": "stream",
     "text": [
      "The initial date is January 1, 2006.\n",
      "What is your last date of your analysis (YYYYMMDD format) : \n"
     ]
    },
    {
     "name": "stdin",
     "output_type": "stream",
     "text": [
      " 20080102\n"
     ]
    }
   ],
   "source": [
    "print(\"The initial date is January 1, 2006.\")\n",
    "print(\"What is your last date of your analysis (YYYYMMDD format) : \")\n",
    "#write a statement here\n",
    "#If statement Y-> specific final date\n",
    "#             N-> the last date of the previous month from today is the final date\n",
    "last_date=input()"
   ]
  },
  {
   "cell_type": "code",
   "execution_count": 3,
   "metadata": {},
   "outputs": [
    {
     "name": "stdout",
     "output_type": "stream",
     "text": [
      "202107\n"
     ]
    }
   ],
   "source": [
    "date_final = pd.to_datetime(last_date, format='%Y%m%d')\n",
    "date_initial = pd.to_datetime(20060101, format='%Y%m%d')\n",
    "today=datetime.datetime.today()\n",
    "date_today = pd.to_datetime(today).strftime('%Y%m')\n",
    "\n",
    "\n",
    "#if m = 01 y=y-1\n",
    "#else m = m-1"
   ]
  },
  {
   "cell_type": "code",
   "execution_count": null,
   "metadata": {},
   "outputs": [],
   "source": []
  },
  {
   "cell_type": "code",
   "execution_count": 4,
   "metadata": {},
   "outputs": [],
   "source": [
    "time_vector_list=pd.date_range(start=date_initial,end=date_final).strftime('%Y%m%d').tolist()"
   ]
  },
  {
   "cell_type": "code",
   "execution_count": 5,
   "metadata": {},
   "outputs": [],
   "source": [
    "with open('time_vector.dat', 'w') as filehandle:\n",
    "    for listitem in time_vector_list:\n",
    "        filehandle.write('%s\\n' % listitem)"
   ]
  },
  {
   "cell_type": "code",
   "execution_count": null,
   "metadata": {},
   "outputs": [],
   "source": [
    "\n"
   ]
  },
  {
   "cell_type": "code",
   "execution_count": 6,
   "metadata": {},
   "outputs": [
    {
     "ename": "NameError",
     "evalue": "name 'monthrange' is not defined",
     "output_type": "error",
     "traceback": [
      "\u001b[0;31m-------------------------------------------------\u001b[0m",
      "\u001b[0;31mNameError\u001b[0m       Traceback (most recent call last)",
      "\u001b[0;32m<ipython-input-6-637fa1fb1817>\u001b[0m in \u001b[0;36m<module>\u001b[0;34m\u001b[0m\n\u001b[0;32m----> 1\u001b[0;31m \u001b[0mmonthrange\u001b[0m\u001b[0;34m(\u001b[0m\u001b[0;36m2011\u001b[0m\u001b[0;34m,\u001b[0m \u001b[0;36m2\u001b[0m\u001b[0;34m)\u001b[0m\u001b[0;34m\u001b[0m\u001b[0;34m\u001b[0m\u001b[0m\n\u001b[0m",
      "\u001b[0;31mNameError\u001b[0m: name 'monthrange' is not defined"
     ]
    }
   ],
   "source": [
    "#monthrange(2011, 2)"
   ]
  },
  {
   "cell_type": "code",
   "execution_count": null,
   "metadata": {},
   "outputs": [],
   "source": []
  }
 ],
 "metadata": {
  "kernelspec": {
   "display_name": "Python 3",
   "language": "python",
   "name": "python3"
  },
  "language_info": {
   "codemirror_mode": {
    "name": "ipython",
    "version": 3
   },
   "file_extension": ".py",
   "mimetype": "text/x-python",
   "name": "python",
   "nbconvert_exporter": "python",
   "pygments_lexer": "ipython3",
   "version": "3.8.3"
  }
 },
 "nbformat": 4,
 "nbformat_minor": 4
}
