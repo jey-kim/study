{
 "cells": [
  {
   "cell_type": "markdown",
   "metadata": {},
   "source": [
    "# Markdown! "
   ]
  },
  {
   "cell_type": "markdown",
   "metadata": {},
   "source": [
    "<img src=\"GEOS_Logo.png\" width=\"700\"/> "
   ]
  },
  {
   "cell_type": "markdown",
   "metadata": {},
   "source": [
    "\n",
    "# Step **1** of **`G2FNL`**: <font color=blue>\"download_files.ipynb\"</font>\n",
    "#### Sep 1, 2021  <font color=red>(v. 1.0.0)</font> \n",
    "##### Jeonghyeop Kim (jeonghyeop.kim@gmail.com) \n",
    "\n",
    "> input prompts: **`yes`** or **`no`** & **`yes`** or **`no`**\\\n",
    "> input files: **`list_default.dat`** \\\n",
    "> output files: **`steps.txt`**, **`station_list_full.txt`**, and **`coordinate_list_full.dat`**\n",
    "\n",
    "\n",
    "0. This code is a part of G2FNL process (Project1: GNSS to FNL)\n",
    "1. It is required to specify a longitude and latitude boundary (see the first block of this notebook).\n",
    "2. This code will download GNSS position data provided by the Nevada Geodetic Laboratory \n",
    "3. This code will also download metadata for steps (steps.txt), which will be used for corrections.\n",
    "4. **One can choose to download all data (except MAGNET), PBO (old), or NOTA.** \n",
    "5. If one chose to download all data or NOTA only, analyses of the vertical position estimates will be required later.\n",
    "6. Later in this code, the threshold of minimum daily position estimates will be determined. \n",
    " > The minimum number of daily position estimates: \\\n",
    " > if one wants the PBO or NOTA stations, threshold_num = 0 (to include all NOTA stations) \\\n",
    " > Otherwise, threshold_num = 200\n",
    "\n",
    "\n",
    "**`The NGL website is available at:`**  [click here](http://geodesy.unr.edu)\n",
    "\n",
    "> On the right side of the website, find **\"Downloadable Lists of GPS Data Holdings:\"** \\\n",
    "> This algorithm uses data from \"stations with 24 hour sample rate solutions, final orbits, 2 week latency.\" \n",
    "\n",
    "\n"
   ]
  },
  {
   "cell_type": "markdown",
   "metadata": {},
   "source": [
    "\n",
    "\n",
    "circles and squares\n",
    "- square\n",
    "  - circle\n",
    "  - circle\n",
    "- square\n",
    "  - circle\n",
    "    \n",
    "<br>\n",
    "<div class=\"alert alert-info\">\n",
    "blue\n",
    "</div>\n",
    "\n",
    "<div class=\"alert alert-warning\">\n",
    "Yellow and\n",
    "<b>bold yellow</b> \n",
    "</div>\n",
    "\n",
    "<div class=\"alert alert-danger\">\n",
    "<b>RED!</b> \n",
    "</div>"
   ]
  },
  {
   "cell_type": "code",
   "execution_count": null,
   "metadata": {},
   "outputs": [],
   "source": []
  }
 ],
 "metadata": {
  "kernelspec": {
   "display_name": "Python 3",
   "language": "python",
   "name": "python3"
  },
  "language_info": {
   "codemirror_mode": {
    "name": "ipython",
    "version": 3
   },
   "file_extension": ".py",
   "mimetype": "text/x-python",
   "name": "python",
   "nbconvert_exporter": "python",
   "pygments_lexer": "ipython3",
   "version": "3.8.3"
  }
 },
 "nbformat": 4,
 "nbformat_minor": 4
}
