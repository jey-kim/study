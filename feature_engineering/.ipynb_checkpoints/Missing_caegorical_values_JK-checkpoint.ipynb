{
 "cells": [
  {
   "cell_type": "markdown",
   "id": "74da3afb-7c73-4042-b4cc-d6bc415f7d45",
   "metadata": {},
   "source": [
    "# How to handle missing values in categorical features\n",
    "#### Feb 7, 2022 \n",
    "##### Jey Kim (jeonghyeop.kim@gmail.com)\n",
    "\n",
    "See the YouTube video: [HERE](https://www.youtube.com/watch?v=q-DyjA8ZmYM&list=PLZoTAELRMXVPwYGE2PXD3x0bfKnR0cJjN&index=4)\n",
    "> **`Motivation:`** \\\n",
    "> How do we deal with missing categorical values in real data sets (e.g., IEEE-CIS fraud data sets)?\n",
    "> 4 common methods & their limitations."
   ]
  },
  {
   "cell_type": "markdown",
   "id": "28c80bd4-58c9-4c8a-a15b-a8bc1016abfc",
   "metadata": {},
   "source": [
    "#### <font color=red>Simple example </font>\n",
    "\n",
    "Suppose there exist 3 features and a dependent output  \n",
    "  \n",
    "     'f1',  'f2',  'f3',  'o/p'\n",
    "    \n",
    "     green   23     24     yes\n",
    "      red    24     25     no\n",
    "       -     25     26     yes\n",
    "      red    26     27     yes\n",
    "                ...\n",
    "\n",
    "Q. How do we deal with the missing value in the 'f1' column?\n",
    "\n",
    "We will discuss 4 ways for this."
   ]
  },
  {
   "cell_type": "markdown",
   "id": "9b4a3d98-3f86-4d89-b86f-483a16513b97",
   "metadata": {},
   "source": [
    "## 1. Delete the rows with NaN\n",
    "\n",
    "If you miss few values out of many, it would be okay to use this method. \n",
    "\n",
    "<div class=\"alert alert-warning\">\n",
    "You may lose critical information, especially when the number of data points is small.\n",
    "</div>   \n",
    "\n",
    "Q. \"few\", \"many\", and \"small\" ?? \\\n",
    "A. He said like 2-3 missing values while the total is a million. "
   ]
  },
  {
   "cell_type": "markdown",
   "id": "e3d4742b-5842-43cc-a35a-95481450121d",
   "metadata": {},
   "source": [
    "## 2. Replace with the most frequent value\n",
    "\n",
    "If you have 700 rows with green and 200 rows with red. \n",
    "Replace all the missing values with green. \n",
    "\n",
    "<div class=\"alert alert-warning\">\n",
    "Using this method would imbalance your data sets. \n",
    "</div>  "
   ]
  },
  {
   "cell_type": "markdown",
   "id": "2a633d2b-a204-4df2-aabc-8fc047a34aaa",
   "metadata": {},
   "source": [
    "## 3. Apply a classifier algorithm to predict \n",
    "\n",
    "Treat **'f2'**,**'f3'**,**'o/p'** as features and **'f1'** as a dependent output. \\\n",
    "Create a model (e.g., k-NN, Generative, etc) to predict missing values. \n",
    "\n",
    "<div class=\"alert alert-success\">\n",
    "A good approach!\n",
    "</div>  "
   ]
  },
  {
   "cell_type": "markdown",
   "id": "0700bef5-db63-4719-a9fb-82773cc5ca4c",
   "metadata": {},
   "source": [
    "## 4. Apply an unsupervised ML to predict \n",
    "\n",
    "e.g., k-means or hierarchical clustering\n",
    "\n",
    "<div class=\"alert alert-success\">\n",
    "A good approach!\n",
    "</div>  "
   ]
  },
  {
   "cell_type": "markdown",
   "id": "aac2fa4f-36e0-4256-81c6-ae25e45a4576",
   "metadata": {},
   "source": []
  }
 ],
 "metadata": {
  "kernelspec": {
   "display_name": "Python 3 (ipykernel)",
   "language": "python",
   "name": "python3"
  },
  "language_info": {
   "codemirror_mode": {
    "name": "ipython",
    "version": 3
   },
   "file_extension": ".py",
   "mimetype": "text/x-python",
   "name": "python",
   "nbconvert_exporter": "python",
   "pygments_lexer": "ipython3",
   "version": "3.9.7"
  }
 },
 "nbformat": 4,
 "nbformat_minor": 5
}
