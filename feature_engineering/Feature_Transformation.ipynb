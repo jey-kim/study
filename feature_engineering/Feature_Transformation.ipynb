{
 "cells": [
  {
   "cell_type": "markdown",
   "id": "cc3bd311-700a-49ba-af00-91818492bc7f",
   "metadata": {},
   "source": [
    "# Why do wee need feature Scaling? (working)\n",
    "#### Feb 7, 2022 \n",
    "##### Jey Kim (jeonghyeop.kim@gmail.com)\n",
    "\n",
    "See the YouTube videos: [Video 1](https://www.youtube.com/watch?v=nmBqnKSSKfM&list=PLZoTAELRMXVPwYGE2PXD3x0bfKnR0cJjN&index=3) and [Video 2](https://www.youtube.com/watch?v=3gfhbXt9TcQ&list=PLZoTAELRMXVPwYGE2PXD3x0bfKnR0cJjN&index=15)\n",
    "> **`Motivation:`** \\\n",
    "> \n",
    ">"
   ]
  },
  {
   "cell_type": "markdown",
   "id": "ae1db0a4-d538-474d-a3f1-a9a469197f08",
   "metadata": {},
   "source": [
    "Features have **(1) magnitudes and (2) units**  (e.g., Height [cm]     Weight [kg]) \n",
    "\n",
    "\n",
    "\n",
    "Often use a metric distance in Euclidean Space\n",
    "\n",
    "you want to predict blood pressure (mmHg)\n",
    "\n",
    "\n",
    "\n",
    "\n",
    "k Nearest Neighbor, for instance, works on Euclidean distance. \n",
    "\n",
    "Hierarchical clustering - Euclidean distance \n",
    "\n",
    "k-means - Euclidean distance \n",
    "\n",
    "linear regression - faster computing \n",
    "\n",
    "\n",
    "Deep learning techniques (CNN, RNN, etc): Standardization, Scaling \n",
    "0-255 pixel scales, 0-1 activation scales, etc.\n",
    "\n",
    "\n",
    "\n"
   ]
  },
  {
   "cell_type": "markdown",
   "id": "7be87227-0739-436f-a311-df4b23b202f8",
   "metadata": {},
   "source": [
    "Gradient descent techniques find local minima (coefficients). \n",
    "If you scale features down, it will converge faster. "
   ]
  },
  {
   "cell_type": "markdown",
   "id": "433563c9-73de-4186-8d7f-f41ba5159620",
   "metadata": {},
   "source": [
    "## 2. When should we NOT apply feature scaling?\n",
    "- ensemble technique:\n",
    "1. Decision Tree\n",
    "2. Random Forest\n",
    "3. XGboost "
   ]
  },
  {
   "cell_type": "code",
   "execution_count": null,
   "id": "492a9348-0eee-4b3d-b508-f4efafc3b97d",
   "metadata": {},
   "outputs": [],
   "source": [
    "Types of transformation\n",
    "1. Normalization and Standardization\n",
    "2. Scaling to minumum and maximum values\n",
    "3. scaling to median and quantities\n",
    "4. Gaussian Transformation\n",
    "5. Logarithmic Transformation\n",
    "6. Reciprocal Transformation\n",
    "7. Square Root Transformation\n",
    "8. Exponential Transformation\n",
    "9. Box Cox transformation"
   ]
  },
  {
   "cell_type": "markdown",
   "id": "80ebd174-db11-4e52-9c2b-c9db695b722a",
   "metadata": {},
   "source": [
    "1. standardization\n",
    "features in different units --> bring down to the same scale \n",
    "z=(x-mean(x))/std(x)\n",
    "--------------------------"
   ]
  },
  {
   "cell_type": "code",
   "execution_count": null,
   "id": "346b7022-8954-4797-b74c-421c9b5f4307",
   "metadata": {},
   "outputs": [],
   "source": [
    "df['f1'].fillna(df.f1.mean(),inplace=True)\n",
    "df.isnull().sum()\n",
    "\n",
    "{c.f. from sklearn.model_selection import train_test_split}\n",
    "\n",
    "from sklearn.preprocessing import StandardScaler\n",
    "\n",
    "scaler = StandardScaler()\n",
    "#fit vs fit_transform ? \n",
    "X_train_scaled = scaler.fit_transform(X_train)\n",
    "X_test_scaled = scaler.transform(X_test)"
   ]
  },
  {
   "cell_type": "markdown",
   "id": "34921cc5-3a7e-4f39-bb63-7acd01637536",
   "metadata": {},
   "source": [
    "## 2. Min Max Scaling (using for Deep learning in general)\n",
    "Scaling values between 0 to 1. \\\n",
    "X_scaled = (X-X.min)/(X.max-X.min)"
   ]
  },
  {
   "cell_type": "code",
   "execution_count": null,
   "id": "872e1584-8b8f-4620-a919-20631d02fe47",
   "metadata": {},
   "outputs": [],
   "source": [
    "from sklearn.preprocessing import MinMaxScaler\n",
    "minmax = MiMaxScaler()\n",
    "df_minmax = pd.DataFrame(minmax.fit_transform(X_train))\n",
    "df_minmax.head()"
   ]
  },
  {
   "cell_type": "markdown",
   "id": "711b4499-0f4b-4a67-bd00-63abaa1b949d",
   "metadata": {},
   "source": [
    "## 3. Robust Scaler ** robust outliers! \n",
    "It is used to sclae the feature to median and quantiles.\n",
    "\n",
    "\n",
    "`X_scaled = (X-X.median)/IQR`, \\\n",
    "where IQR = 75th quantile - 25th quantile "
   ]
  },
  {
   "cell_type": "code",
   "execution_count": null,
   "id": "848c419f-ac29-4327-b603-37d9732e2647",
   "metadata": {},
   "outputs": [],
   "source": [
    "from sklearn.preprocessing import RobustScaler\n",
    "scaler = RobustScaler()\n",
    "df_robust_scaler = pd.DataFrame(scaler.fit_transform(X_train))\n",
    "df_robust_scaler.head()"
   ]
  },
  {
   "cell_type": "markdown",
   "id": "ea74a542-7a06-4d5c-888a-448d9e540ced",
   "metadata": {},
   "source": [
    "## 4. Gaussian Transformation\n",
    "\n",
    "Some ML algorithms like linear & logistic assume that the features are normally distributed. \n",
    "\n",
    "Each of the following transformation may help features to be Gaussian\n",
    "\n",
    "- Logarithmic Transformation:\n",
    "   logarithmic distribution means that if you apply LT the distribution will be normal distribution. \n",
    "- Reciprocal Transformation\n",
    "- Square Root Transformation\n",
    "- Exponential Transformation\n",
    "- Box Cox transformation\n",
    "\n",
    "Q-Q plot : a line represents a perfect gaussian. \n",
    "Is a feature gaussian? PLOT together with the line. \n"
   ]
  },
  {
   "cell_type": "code",
   "execution_count": null,
   "id": "e4133d05-3942-4654-96ec-82e40aef3518",
   "metadata": {},
   "outputs": [],
   "source": [
    "#Q-Q plot\n",
    "\n",
    "import matplotlib.pyplot as plt\n",
    "import scipy.stats as stat\n",
    "import pylab\n",
    "\n",
    "def plot_QQ(df,feature):\n",
    "    plt.figure(figsize=(10,6))\n",
    "    plt.subplot(1,2,1)\n",
    "    df[feature].hist\n",
    "    plot.subplot(1,2,2)\n",
    "    stat.probplot(df[feature],dist='norm',plot=pylab)\n",
    "    plt.show()"
   ]
  },
  {
   "cell_type": "code",
   "execution_count": null,
   "id": "f67d091f-b150-4dcb-bbb4-f5e562836ab0",
   "metadata": {},
   "outputs": [],
   "source": [
    "import numpy as np\n",
    "df['f1_log'] = np.log(df['f1'])\n",
    "plot_QQ(df,'f1_log')"
   ]
  },
  {
   "cell_type": "code",
   "execution_count": null,
   "id": "696118fc-942a-4ecb-bfe9-23408793bed0",
   "metadata": {},
   "outputs": [],
   "source": [
    "df['f1_reciprocal'] = 1/df['f1']\n",
    "plot_QQ(df,'f1_reciprocal')"
   ]
  },
  {
   "cell_type": "code",
   "execution_count": null,
   "id": "b2771b48-337a-4ab0-8ef8-60a5fd097399",
   "metadata": {},
   "outputs": [],
   "source": [
    "df['f1_sqrt'] = df['f1']**(1/2)\n",
    "plot_QQ(df,'f1_sqrt')"
   ]
  },
  {
   "cell_type": "code",
   "execution_count": null,
   "id": "a6100c50-403a-41ad-94f0-bb42d935cd5f",
   "metadata": {},
   "outputs": [],
   "source": [
    "df['f1_exp'] = df['f1']**(1/1.2)\n",
    "plot_QQ(df,'f1_exp')"
   ]
  },
  {
   "cell_type": "markdown",
   "id": "50c8c96d-645a-424d-bd4b-e7d2b7f19fa9",
   "metadata": {},
   "source": [
    "Box Cox Transformation\n",
    "\n",
    "\n",
    "T(Y) = (Y*exp(alpha)-1)/alpha\n",
    "where Y is the response variable and alpha is the transformation parameter. alpha varies from -5 to 5. \n",
    "In the transformation, all values of alpha are considered and the optimal value for a given variable is selected. \n",
    "\n"
   ]
  },
  {
   "cell_type": "code",
   "execution_count": null,
   "id": "c551606c-718b-4737-bef2-c25071125e8c",
   "metadata": {},
   "outputs": [],
   "source": [
    "df['f1_BoxCox'],parameters=stat.boxcox(df['f1'])\n",
    "print(parameters)\n",
    "plot_QQ(df,'f1_BoxCox')"
   ]
  },
  {
   "cell_type": "code",
   "execution_count": null,
   "id": "b7df58d4-c783-46d8-96d4-8c8a98e58d8f",
   "metadata": {},
   "outputs": [],
   "source": [
    "Check more: Fare, Fare_log (np.log1p), Fare_BoxCox, etc"
   ]
  }
 ],
 "metadata": {
  "kernelspec": {
   "display_name": "Python 3 (ipykernel)",
   "language": "python",
   "name": "python3"
  },
  "language_info": {
   "codemirror_mode": {
    "name": "ipython",
    "version": 3
   },
   "file_extension": ".py",
   "mimetype": "text/x-python",
   "name": "python",
   "nbconvert_exporter": "python",
   "pygments_lexer": "ipython3",
   "version": "3.9.7"
  }
 },
 "nbformat": 4,
 "nbformat_minor": 5
}
