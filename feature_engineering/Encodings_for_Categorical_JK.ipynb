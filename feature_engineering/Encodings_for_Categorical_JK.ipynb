{
 "cells": [
  {
   "cell_type": "markdown",
   "id": "09a9eaf4-eb5a-4753-b891-6da1966d967d",
   "metadata": {},
   "source": [
    "# Types of encoding for categorical variables\n",
    "#### Feb 5, 2022 \n",
    "##### Jey Kim (jeonghyeop.kim@gmail.com)\n",
    "\n",
    "See the YouTube video: [HERE](https://youtu.be/OTPz5plKb40)\n",
    "> **`Motivation:`** \\\n",
    "> ML algorithms are mathematical processures; \\\n",
    "> we need to convert categorical variables into a form that computers can understand.\n"
   ]
  },
  {
   "cell_type": "markdown",
   "id": "b4df4750-d5ee-42af-85c8-5d32949cc3d2",
   "metadata": {},
   "source": [
    "  "
   ]
  },
  {
   "cell_type": "markdown",
   "id": "4b6111e8-bbe7-40f9-b218-b697ec0db297",
   "metadata": {},
   "source": [
    "## A. Two types of categorical variables\n",
    "1. **`Nominal Categorical Variables`**\n",
    "- There is no intrinsic ordering to the categories\n",
    "- e.g. Genders (Male, Female, and others), States (NY, NJ, CA, and others), etc\n",
    "2. **`Ordinal Categorical Variables`**\n",
    "- There is intrinsic ordering, or ranking, to the categories\n",
    "- e.g. Grades (A,B,C,D,F), education levels (PhD, MS, Bachelor's, High School, ...), etc\n",
    "- If you want to predict a person's income, the ranking of educations may be a useful information\n",
    "- Note that the states can be a ordinal category in the context of this prediction."
   ]
  },
  {
   "cell_type": "markdown",
   "id": "2a2a5fc6-5c57-4523-87ce-f71fa9ab679c",
   "metadata": {},
   "source": [
    "## B. Types of encodings\n",
    "B-1. **`Nominal encoding:`** \n",
    "> a. One hot encoding; \\\n",
    "> b. One hot encoding with many categorical variables; \\\n",
    "> c. Mean encoding; \\\n",
    "> d. Count or frequency encoding; \\\n",
    "> etc \n",
    "\n",
    "B-2. **`Ordinal encoding:`** \n",
    "> a. Label (numbering) encoding; \\\n",
    "> b. Target guided ordinal encoding (similar to mean encoding); \\\n",
    "> etc "
   ]
  },
  {
   "cell_type": "markdown",
   "id": "0aaa165e-9544-450a-a046-e9d6da332a25",
   "metadata": {},
   "source": [
    "-----------------------------------------------------------------"
   ]
  },
  {
   "cell_type": "markdown",
   "id": "c2c90796-7f77-4b97-87d7-c06b1fbf3009",
   "metadata": {},
   "source": [
    "#### <font color=red>B-1-a. One Hot Encoding </font>\n",
    "\n",
    "For instance, Suppose there exist 5 unique variables in a column 'Country'. \n",
    "  \n",
    "    'Country'   -->   'S. Korea', 'US', 'Canada', 'Germany'\n",
    "\n",
    "     S. Korea             1        0       0          0  \n",
    "     US                   0        1       0          0   \n",
    "     Canada               0        0       1          0  \n",
    "     Germany              0        0       0          1       \n",
    "     Japan                0        0       0          0 \n",
    "\n",
    "Q. Where is the new 'Japan' column?? \\\n",
    "A. When one sees all of the values in the four new columns are 0, the corresponding country must be 'Japan'. We don't need the 5th column"
   ]
  },
  {
   "cell_type": "markdown",
   "id": "ffc703e4-ee6a-4730-a7c7-a1df622b2a33",
   "metadata": {},
   "source": [
    "#### <font color=red>B-1-b. One hot encoding with many variables </font>\n",
    "\n",
    "For instance, Suppose there exist 160 unique variables in a column 'Country'. \n",
    "  \n",
    "    'Country'   -->   'S. Korea', 'US', 'Canada', 'Germany', 'Japan', 'Spain', 'France', ... \n",
    "\n",
    "     S. Korea             1        0       0          0         0         0        0    ...\n",
    "     US                   0        1       0          0         0         0        0    ...\n",
    "     Canada               0        0       1          0         0         0        0    ...   \n",
    "     Germany              0        0       0          1         0         0        0    ...     \n",
    "     Japan                0        0       0          0         1         0        0    ...   \n",
    "     Spain                0        0       0          0         0         1        0    ...   \n",
    "     France               0        0       0          0         0         0        1    ...     \n",
    "      ...                  ...\n",
    "\n",
    "The number of the new columns is 159 (160 - 1), which is too many.  \n",
    "    \n",
    "Apply `KDD Orange algorithm:`\n",
    "\n",
    "(a) Count frequencies of each of the unique variables \\\n",
    "(b) Choose 'k' top frequently repeated variables \\\n",
    "(c) Make 'k'-1 new columns only ignoring the rest"
   ]
  },
  {
   "cell_type": "markdown",
   "id": "452db0aa-e38c-484a-9ac6-25c4627f669f",
   "metadata": {},
   "source": [
    "#### <font color=red>B-1-c. Mean Encoding</font>\n",
    "\n",
    "(a) Find a output values associated with 'feature 1'. \n",
    "  \n",
    "    'feature 1'    -->   'Output (e.g., classified binary labels)' \n",
    "       A                    1\n",
    "       B                    1\n",
    "       C                    0\n",
    "       D                    1\n",
    "       D                    1\n",
    "       A                    0\n",
    "       C                    1 \n",
    "      ...                  ...\n",
    "\n",
    "(b) Compute average output for each categorical var (e.g.). \n",
    "    \n",
    "    A average output : 0.87 \n",
    "    B average output : 0.13 \n",
    "    C average output : 0.41 \n",
    "    D average output : 0.69 \n",
    "    \n",
    "(c) Replace each var. in 'feature 1' with the means from the step (b). \n",
    "  \n",
    "    'feature 1'    -->   'new feature 1'\n",
    "       A                       0.87\n",
    "       B                       0.13\n",
    "       C                       0.41\n",
    "       D                       0.69\n",
    "       D                       0.69\n",
    "       A                       0.87\n",
    "       C                       0.41\n",
    "      ...                     ..."
   ]
  },
  {
   "cell_type": "markdown",
   "id": "d0225c5d-1777-4fde-9b43-ad45038642ee",
   "metadata": {},
   "source": [
    "#### <font color=red>B-1-d. Count (frequency) encoding</font>\n",
    "\n",
    "(a) Count how many times each of categorical variables appears\n",
    "\n",
    "(b) Replace categorical vars with the corresponding counts"
   ]
  },
  {
   "cell_type": "markdown",
   "id": "43851151-37e7-4634-89c6-299f7d06cce7",
   "metadata": {},
   "source": [
    "#### <font color=orange>B-2-a. Label Encoding</font>\n",
    "\n",
    "Assign labels to each of the variables in a 'feature'. \n",
    "\n",
    "EXAMPLE 1:\n",
    "\n",
    "    'feature 1 (degrees)'    -->   'lables' \n",
    "       BS                             2\n",
    "       MS                             3\n",
    "       PhD                            4\n",
    "       HS                             1\n",
    "       HS                             1\n",
    "       MS                             3\n",
    "       BS                             2 \n",
    "      ...                            ...\n",
    "\n",
    "EXAMPLE 2:\n",
    "\n",
    "    'feature 1 (Grades)'    -->   'lables' \n",
    "       A                             4\n",
    "       B                             3\n",
    "       A                             4\n",
    "       A                             4\n",
    "       C                             2\n",
    "       F                             0\n",
    "       D+                            1.5 \n",
    "      ...                            ..."
   ]
  },
  {
   "cell_type": "markdown",
   "id": "c44ce618-627d-4d97-97f1-3409c1df9a81",
   "metadata": {},
   "source": [
    "#### <font color=orange>B-2-b.Target Guided Ordinal Encoding</font>\n",
    "\n",
    "(a) Find a output values associated with 'feature 1'. \n",
    "  \n",
    "    'feature 1'    -->   'Output (e.g., classified binary labels)' \n",
    "       A                    1\n",
    "       B                    1\n",
    "       C                    0\n",
    "       D                    1\n",
    "       D                    1\n",
    "       A                    0\n",
    "       C                    1 \n",
    "      ...                  ...\n",
    "\n",
    "(b) Compute average output for each categorical var (e.g.). \n",
    "    \n",
    "    a average output : 0.87 \n",
    "    b average output : 0.13 \n",
    "    c average output : 0.41 \n",
    "    d average output : 0.69 \n",
    "    \n",
    "(c) Assign labels according to the step (b). \n",
    "    \n",
    "    a label : 4 (highest)\n",
    "    b label : 1 (lowest)\n",
    "    c label : 2 (lower)\n",
    "    d label : 3 (highter)\n",
    "    \n",
    "(d) Replace each var in 'feature 1' with the labels from the step (c). \n",
    "  \n",
    "    'feature 1'    -->   'new feature 1'\n",
    "       A                       4\n",
    "       B                       1\n",
    "       C                       2\n",
    "       D                       3\n",
    "       D                       3\n",
    "       A                       4\n",
    "       C                       2\n",
    "      ...                     ..."
   ]
  },
  {
   "cell_type": "code",
   "execution_count": null,
   "id": "f946bbb4-6816-4c08-9cf1-242a28f86e90",
   "metadata": {},
   "outputs": [],
   "source": []
  }
 ],
 "metadata": {
  "kernelspec": {
   "display_name": "Python 3 (ipykernel)",
   "language": "python",
   "name": "python3"
  },
  "language_info": {
   "codemirror_mode": {
    "name": "ipython",
    "version": 3
   },
   "file_extension": ".py",
   "mimetype": "text/x-python",
   "name": "python",
   "nbconvert_exporter": "python",
   "pygments_lexer": "ipython3",
   "version": "3.9.7"
  }
 },
 "nbformat": 4,
 "nbformat_minor": 5
}
