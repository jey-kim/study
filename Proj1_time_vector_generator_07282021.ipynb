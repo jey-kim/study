{
 "cells": [
  {
   "cell_type": "markdown",
   "metadata": {},
   "source": [
    "# Step 4: <font color=blue>\"time_vector_generator.ipynb\"</font>\n",
    "#### July 28, 2021  <font color=red>(Still working)</font> \n",
    "##### Jeonghyeop Kim (jeonghyeop.kim@gmail.com)\n",
    "\n",
    "> output files: **`time_vector.dat` & `days_per_month.dat`**\n",
    "\n",
    "1. This code makes a consecutive time vector from 2006/1/1 \\ to the last day of the previous month day from today (`time_vector.dat`)\n",
    "2. This code also generates `days_per_month.dat`,in which  a number for each row indicates the number of days for all months in the time period of our interest\n",
    "\n"
   ]
  },
  {
   "cell_type": "code",
   "execution_count": 2,
   "metadata": {},
   "outputs": [],
   "source": [
    "# 1. import modules\n",
    "import numpy as np\n",
    "import datetime as datetime\n",
    "import calendar\n",
    "import pandas as pd\n",
    "#from calendar import monthrange\n",
    "#pd.__version__"
   ]
  },
  {
   "cell_type": "code",
   "execution_count": 3,
   "metadata": {},
   "outputs": [
    {
     "name": "stdout",
     "output_type": "stream",
     "text": [
      "The initial date of this analysis is January 1, 2006.\n",
      "If no, the end time of your analysis is the last date of the previous month from today.\n",
      "NOTE: Do NOT give this code the current month/year. Final GNSS products are usually available after 14 days.\n"
     ]
    },
    {
     "name": "stdin",
     "output_type": "stream",
     "text": [
      " Would you like to specify the end time of your analysis? [yes/no] n\n"
     ]
    }
   ],
   "source": [
    "date_initial = pd.to_datetime(20060101, format='%Y%m%d')\n",
    "print(\"The initial date of this analysis is January 1, 2006.\")\n",
    "print(\"You can specify the end time of your analysis.\")\n",
    "print(\"Otherwise, the end time of your analysis is the last date of the previous month from today.\")\n",
    "print(\"Do NOT give this code the current month/year as the end time. Final GNSS products are usually available after 14 days.\")\n",
    "YESorNO = input(\" Would you like to specify the end time of your analysis? [yes/no]\").lower()\n",
    "if YESorNO.startswith('y'):\n",
    "\n",
    "    print(\"What is your last date of your analysis (YYYYMM format) : \")\n",
    "#write a statement here\n",
    "#If statement Y-> specific final date\n",
    "#             N-> the last date of the previous month from today is the final date\n",
    "    last_date=input()\n",
    "    date_target_adjusting = pd.to_datetime(last_date, format='%Y%m').strftime('%Y%m')\n",
    "    year_target = date_target_adjusting[0:4]\n",
    "    month_target = date_target_adjusting[4:6]\n",
    "    \n",
    "    year_target=int(year_target)\n",
    "    month_target=int(month_target)"
   ]
  },
  {
   "cell_type": "code",
   "execution_count": null,
   "metadata": {},
   "outputs": [],
   "source": [
    "#This gives the last date!\n",
    "calendar.monthrange(year_target, month_target)[1] "
   ]
  },
  {
   "cell_type": "code",
   "execution_count": null,
   "metadata": {},
   "outputs": [],
   "source": [
    "\n",
    "today=datetime.datetime.today()\n",
    "date_today = pd.to_datetime(today).strftime('%Y%m')\n",
    "\n",
    "\n",
    "#if m = 01 y=y-1\n",
    "#else m = m-1"
   ]
  },
  {
   "cell_type": "code",
   "execution_count": null,
   "metadata": {},
   "outputs": [],
   "source": [
    "time_vector_list=pd.date_range(start=date_initial,end=date_final).strftime('%Y%m%d').tolist()"
   ]
  },
  {
   "cell_type": "code",
   "execution_count": null,
   "metadata": {},
   "outputs": [],
   "source": [
    "with open('time_vector.dat', 'w') as filehandle:\n",
    "    for listitem in time_vector_list:\n",
    "        filehandle.write('%s\\n' % listitem)"
   ]
  },
  {
   "cell_type": "code",
   "execution_count": null,
   "metadata": {},
   "outputs": [],
   "source": [
    "df_year=np.array(pd.date_range(start=date_initial,end=date_final).strftime('%Y'))\n",
    "df_month=np.array(pd.date_range(start=date_initial,end=date_final).strftime('%m'))\n",
    "df_year_month = pd.DataFrame(index = range(len(df_year))) # A blank dataFrame\n",
    "\n",
    "\n",
    "df_year_month['year']=df_year\n",
    "df_year_month['month']=df_month"
   ]
  },
  {
   "cell_type": "code",
   "execution_count": null,
   "metadata": {},
   "outputs": [],
   "source": [
    "df_year_month"
   ]
  },
  {
   "cell_type": "code",
   "execution_count": null,
   "metadata": {},
   "outputs": [],
   "source": [
    "howManyDatesPerMonths = df_year_month.groupby(['year','month']).size()"
   ]
  },
  {
   "cell_type": "code",
   "execution_count": null,
   "metadata": {},
   "outputs": [],
   "source": [
    "howManyDatesPerMonths.to_csv('days_per_month.dat',header=None, index=None,sep=' ',float_format='%g')"
   ]
  },
  {
   "cell_type": "code",
   "execution_count": null,
   "metadata": {},
   "outputs": [],
   "source": [
    "howManyDatesPerMonths"
   ]
  },
  {
   "cell_type": "code",
   "execution_count": null,
   "metadata": {},
   "outputs": [],
   "source": []
  }
 ],
 "metadata": {
  "kernelspec": {
   "display_name": "Python 3",
   "language": "python",
   "name": "python3"
  },
  "language_info": {
   "codemirror_mode": {
    "name": "ipython",
    "version": 3
   },
   "file_extension": ".py",
   "mimetype": "text/x-python",
   "name": "python",
   "nbconvert_exporter": "python",
   "pygments_lexer": "ipython3",
   "version": "3.8.3"
  }
 },
 "nbformat": 4,
 "nbformat_minor": 4
}
