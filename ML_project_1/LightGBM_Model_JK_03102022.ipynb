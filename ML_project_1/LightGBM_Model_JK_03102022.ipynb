{
 "cells": [
  {
   "cell_type": "markdown",
   "id": "b214ab56-a84b-40fb-8302-40c419ba8dc4",
   "metadata": {},
   "source": [
    "## 1. PREPROCESSING"
   ]
  },
  {
   "cell_type": "markdown",
   "id": "25f56162-4dc3-44ee-95cc-6f705081195c",
   "metadata": {},
   "source": [
    "## 2. FEATURE ENGINEERING & SELECTION based on EDA"
   ]
  },
  {
   "cell_type": "markdown",
   "id": "ad08f25a-b95a-4b22-9ba3-580ce27d4373",
   "metadata": {},
   "source": [
    "## 3. LightGBM \n",
    "\n",
    "\n",
    "#### Learn the concepts first\n",
    "\n",
    "- Gradient Boosting [GBM](https://www.analyticsvidhya.com/blog/2016/02/complete-guide-parameter-tuning-gradient-boosting-gbm-python/)\n",
    "- XGBOOST [XGB](https://www.analyticsvidhya.com/blog/2016/03/complete-guide-parameter-tuning-xgboost-with-codes-python/)\n",
    "- LightGBM [LGBM](https://www.analyticsvidhya.com/blog/2017/06/which-algorithm-takes-the-crown-light-gbm-vs-xgboost/)"
   ]
  },
  {
   "cell_type": "markdown",
   "id": "984fdb21-a008-4c18-bf22-19776d36d817",
   "metadata": {},
   "source": [
    "## 1.1 import libraries"
   ]
  },
  {
   "cell_type": "code",
   "execution_count": 3,
   "id": "a74426ad-d440-4ae8-aac2-cdfdf5cf23fc",
   "metadata": {},
   "outputs": [],
   "source": [
    "import pandas as pd\n",
    "import numpy as np\n",
    "from tqdm import tqdm_notebook\n",
    "from sklearn.metrics import roc_auc_score\n",
    "from sklearn.preprocessing import LabelEncoder\n",
    "import gc\n",
    "\n",
    "import matplotlib.pyplot as plt\n",
    "import seaborn as sns\n",
    "sns.set()\n",
    "%matplotlib inline\n",
    "\n",
    "import warnings\n",
    "warnings.filterwarnings('ignore')"
   ]
  },
  {
   "cell_type": "code",
   "execution_count": 14,
   "id": "ef0e4cf1-b222-4efb-8f7b-5e7a6cd1dd9e",
   "metadata": {},
   "outputs": [],
   "source": [
    "## 1.2 Reduce memory\n",
    "\n",
    "def reduce_mem_usage(df):\n",
    "    \n",
    "    \"\"\" Iterate through all the columns of a dataframe and \n",
    "        modify the data type to reduce memory usage.\n",
    "    \"\"\"\n",
    "    \n",
    "    start_mem = df.memory_usage().sum() / 1024**2\n",
    "    # df.memory_usage() : bytes for each columns\n",
    "    # / 1024*1024 : bytes to Megabytes\n",
    "    \n",
    "    \n",
    "    for col in df.columns:\n",
    "        col_type = df[col].dtype\n",
    "        \n",
    "        # int64 or float64\n",
    "        if col_type != object: \n",
    "            \n",
    "            c_min = df[col].min()\n",
    "            c_max = df[col].max()\n",
    "            \n",
    "            # int64\n",
    "            if str(col_type)[:3] == 'int': \n",
    "                if c_min > np.iinfo(np.int8).min and c_max < np.iinfo(np.int8).max:\n",
    "                    # np.iinfo(np.int16).max = 32767\n",
    "                    df[col] = df[col].astype(np.int8)\n",
    "                elif c_min > np.iinfo(np.int16).min and c_max < np.iinfo(np.int16).max:\n",
    "                    df[col] = df[col].astype(np.int16)\n",
    "                elif c_min > np.iinfo(np.int36).min and c_max < np.iinfo(np.int32).max:\n",
    "                    df[col] = df[col].astype(np.int32)\n",
    "                elif c_min > np.iinfo(np.int64).min and c_max < np.iinfo(np.int64).max:\n",
    "                    df[col] = df[col].astype(np.int64)\n",
    "                    \n",
    "            # float64\n",
    "            else: \n",
    "                if c_min > np.finfo(np.float16).min and c_max < np.finfo(np.float16).max:\n",
    "                    df[col] = df[col].astype(np.float16)\n",
    "                elif c_min > np.finfo(np.float32).min and c_max < np.finfo(np.float32).max:\n",
    "                    df[col] = df[col].astype(np.float32)\n",
    "                else:\n",
    "                    df[col] = df[col].astype(np.float64)\n",
    "                    \n",
    "        # string       \n",
    "        else:\n",
    "            df[col] = df[col].astype('category')\n",
    "            \n",
    "        \n",
    "    end_mem = df.memory_usage().sum() / 1024**2    \n",
    "    print('Memory usage after optimization is: {:.2f} MB'.format(end_mem))\n",
    "    print('Decreased by {:.1f}%'.format(100 * (start_mem-end_mem)/start_mem))\n",
    "    \n",
    "    return df"
   ]
  },
  {
   "cell_type": "code",
   "execution_count": null,
   "id": "f5525abe-0d29-4e00-8fff-f77c68c0e42f",
   "metadata": {},
   "outputs": [],
   "source": []
  }
 ],
 "metadata": {
  "kernelspec": {
   "display_name": "Python 3 (ipykernel)",
   "language": "python",
   "name": "python3"
  },
  "language_info": {
   "codemirror_mode": {
    "name": "ipython",
    "version": 3
   },
   "file_extension": ".py",
   "mimetype": "text/x-python",
   "name": "python",
   "nbconvert_exporter": "python",
   "pygments_lexer": "ipython3",
   "version": "3.9.7"
  }
 },
 "nbformat": 4,
 "nbformat_minor": 5
}
