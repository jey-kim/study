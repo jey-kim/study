{
 "cells": [
  {
   "cell_type": "markdown",
   "id": "3ff455dc-5a84-4c8e-b000-60db30d360a7",
   "metadata": {},
   "source": [
    "https://www.kaggle.com/davidcairuz/feature-engineering-lightgbm"
   ]
  },
  {
   "cell_type": "markdown",
   "id": "b214ab56-a84b-40fb-8302-40c419ba8dc4",
   "metadata": {},
   "source": [
    "## 1. PREPROCESSING"
   ]
  },
  {
   "cell_type": "markdown",
   "id": "25f56162-4dc3-44ee-95cc-6f705081195c",
   "metadata": {},
   "source": [
    "## 2. FEATURE ENGINEERING & SELECTION based on EDA"
   ]
  },
  {
   "cell_type": "markdown",
   "id": "ad08f25a-b95a-4b22-9ba3-580ce27d4373",
   "metadata": {},
   "source": [
    "## 3. LightGBM \n",
    "\n",
    "\n",
    "#### Learn the concepts first\n",
    "\n",
    "- Gradient Boosting [GBM](https://www.analyticsvidhya.com/blog/2016/02/complete-guide-parameter-tuning-gradient-boosting-gbm-python/)\n",
    "- XGBOOST [XGB](https://www.analyticsvidhya.com/blog/2016/03/complete-guide-parameter-tuning-xgboost-with-codes-python/)\n",
    "- LightGBM [LGBM](https://www.analyticsvidhya.com/blog/2017/06/which-algorithm-takes-the-crown-light-gbm-vs-xgboost/)"
   ]
  },
  {
   "cell_type": "markdown",
   "id": "01f01550-9c0c-47fc-9eb2-bfd305ee1b50",
   "metadata": {},
   "source": [
    "------"
   ]
  },
  {
   "cell_type": "markdown",
   "id": "6ecb1740-a732-4cb5-a550-2761b977b192",
   "metadata": {},
   "source": [
    "_______"
   ]
  },
  {
   "cell_type": "markdown",
   "id": "984fdb21-a008-4c18-bf22-19776d36d817",
   "metadata": {},
   "source": [
    "## 1. Preprocessing"
   ]
  },
  {
   "cell_type": "code",
   "execution_count": 1,
   "id": "a74426ad-d440-4ae8-aac2-cdfdf5cf23fc",
   "metadata": {},
   "outputs": [],
   "source": [
    "## 1.1 Import libraries\n",
    "\n",
    "import pandas as pd\n",
    "import numpy as np\n",
    "from tqdm import tqdm_notebook\n",
    "from sklearn.metrics import roc_auc_score\n",
    "from sklearn.preprocessing import LabelEncoder\n",
    "import gc\n",
    "\n",
    "import matplotlib.pyplot as plt\n",
    "import seaborn as sns\n",
    "sns.set()\n",
    "%matplotlib inline\n",
    "\n",
    "import warnings\n",
    "warnings.filterwarnings('ignore')"
   ]
  },
  {
   "cell_type": "code",
   "execution_count": 2,
   "id": "ef0e4cf1-b222-4efb-8f7b-5e7a6cd1dd9e",
   "metadata": {},
   "outputs": [],
   "source": [
    "## 1.2 Reduce memory\n",
    "\n",
    "def reduce_mem_usage(df):\n",
    "    \n",
    "    \"\"\" Iterate through all the columns of a dataframe and \n",
    "        modify the data type to reduce memory usage.\n",
    "    \"\"\"\n",
    "    \n",
    "    start_mem = df.memory_usage().sum() / 1024**2\n",
    "    # df.memory_usage() : bytes for each columns\n",
    "    # / 1024*1024 : bytes to Megabytes\n",
    "    \n",
    "    \n",
    "    for col in df.columns:\n",
    "        col_type = df[col].dtype\n",
    "        \n",
    "        # int64 or float64\n",
    "        if col_type != object: \n",
    "            \n",
    "            c_min = df[col].min()\n",
    "            c_max = df[col].max()\n",
    "            \n",
    "            # int64\n",
    "            if str(col_type)[:3] == 'int': \n",
    "                if c_min > np.iinfo(np.int8).min and c_max < np.iinfo(np.int8).max:\n",
    "                    # e.g., np.iinfo(np.int16).max = 32767\n",
    "                    df[col] = df[col].astype(np.int8)\n",
    "                elif c_min > np.iinfo(np.int16).min and c_max < np.iinfo(np.int16).max:\n",
    "                    df[col] = df[col].astype(np.int16)\n",
    "                elif c_min > np.iinfo(np.int36).min and c_max < np.iinfo(np.int32).max:\n",
    "                    df[col] = df[col].astype(np.int32)\n",
    "                elif c_min > np.iinfo(np.int64).min and c_max < np.iinfo(np.int64).max:\n",
    "                    df[col] = df[col].astype(np.int64)\n",
    "                    \n",
    "            # float64\n",
    "            else: \n",
    "                if c_min > np.finfo(np.float16).min and c_max < np.finfo(np.float16).max:\n",
    "                    df[col] = df[col].astype(np.float16)\n",
    "                elif c_min > np.finfo(np.float32).min and c_max < np.finfo(np.float32).max:\n",
    "                    df[col] = df[col].astype(np.float32)\n",
    "                else:\n",
    "                    df[col] = df[col].astype(np.float64)\n",
    "                    \n",
    "        # string       \n",
    "        else:\n",
    "            df[col] = df[col].astype('category')\n",
    "            \n",
    "        \n",
    "    end_mem = df.memory_usage().sum() / 1024**2    \n",
    "    print('Memory usage after optimization is: {:.2f} MB'.format(end_mem))\n",
    "    print('Decreased by {:.1f}%'.format(100 * (start_mem-end_mem)/start_mem))\n",
    "    \n",
    "    return df"
   ]
  },
  {
   "cell_type": "code",
   "execution_count": 3,
   "id": "f5525abe-0d29-4e00-8fff-f77c68c0e42f",
   "metadata": {},
   "outputs": [
    {
     "name": "stdout",
     "output_type": "stream",
     "text": [
      "Loading data...\n",
      "\tSuccessfully loaded train_identity!\n",
      "\tSuccessfully loaded train_transaction!\n",
      "\tSuccessfully loaded test_identity!\n",
      "\tSuccessfully loaded test_transaction!\n",
      "\tSuccessfully loaded sample_submission!\n",
      "Data was successfully loaded!\n",
      "\n",
      "CPU times: user 11.7 s, sys: 2.79 s, total: 14.5 s\n",
      "Wall time: 14.9 s\n"
     ]
    }
   ],
   "source": [
    "## 1.3 Load data sets\n",
    "\n",
    "%%time\n",
    "\n",
    "dir_path = '/Users/jkim/main/kaggle/ieee_cis_fraud/'\n",
    "print('Loading data...')\n",
    "\n",
    "train_identity = pd.read_csv(f'{dir_path}train_identity.csv', index_col='TransactionID')\n",
    "print('\\tSuccessfully loaded train_identity!')\n",
    "\n",
    "train_transaction = pd.read_csv(f'{dir_path}train_transaction.csv', index_col='TransactionID')\n",
    "print('\\tSuccessfully loaded train_transaction!')\n",
    "\n",
    "test_identity = pd.read_csv(f'{dir_path}test_identity.csv', index_col='TransactionID')\n",
    "print('\\tSuccessfully loaded test_identity!')\n",
    "\n",
    "test_transaction = pd.read_csv(f'{dir_path}test_transaction.csv', index_col='TransactionID')\n",
    "print('\\tSuccessfully loaded test_transaction!')\n",
    "\n",
    "sub = pd.read_csv(f'{dir_path}sample_submission.csv')\n",
    "print('\\tSuccessfully loaded sample_submission!')\n",
    "\n",
    "print('Data was successfully loaded!\\n')"
   ]
  },
  {
   "cell_type": "code",
   "execution_count": 41,
   "id": "021a1e23-747e-4209-bc63-7884e2bb6a6f",
   "metadata": {},
   "outputs": [
    {
     "data": {
      "text/plain": [
       "1"
      ]
     },
     "execution_count": 41,
     "metadata": {},
     "output_type": "execute_result"
    }
   ],
   "source": [
    "pd.set_option('display.max_columns', None)\n",
    "train_identity.id_31.nunique()\n",
    "\n",
    "df_id_31=train_identity['id_31'].str.split(' ', expand=True)\n",
    "df_id_31.columns = ['one','two','three','four']\n",
    "df_id_31.loc[df_id_31['one'].str.contains('mobile', na = False), 'two'].nunique()"
   ]
  },
  {
   "cell_type": "code",
   "execution_count": 14,
   "id": "38a5fe55-387e-4cef-934f-7aebeaa85019",
   "metadata": {},
   "outputs": [
    {
     "data": {
      "text/plain": [
       "Index(['id_01', 'id_02', 'id_03', 'id_04', 'id_05', 'id_06', 'id_07', 'id_08',\n",
       "       'id_09', 'id_10', 'id_11', 'id_12', 'id_13', 'id_14', 'id_15', 'id_16',\n",
       "       'id_17', 'id_18', 'id_19', 'id_20', 'id_21', 'id_22', 'id_23', 'id_24',\n",
       "       'id_25', 'id_26', 'id_27', 'id_28', 'id_29', 'id_30', 'id_31', 'id_32',\n",
       "       'id_33', 'id_34', 'id_35', 'id_36', 'id_37', 'id_38', 'DeviceType',\n",
       "       'DeviceInfo'],\n",
       "      dtype='object')"
      ]
     },
     "execution_count": 14,
     "metadata": {},
     "output_type": "execute_result"
    }
   ],
   "source": [
    "## 1.4 preprocessing for identity data\n",
    "\n",
    "## id_23 ':'\n",
    "## id_30 'OS  Version'\n",
    "## id_31 'Browser' 'Version'\n",
    "## id_34 ':'\n",
    "## id_35 'x' [e.g. 2220x1080]"
   ]
  },
  {
   "cell_type": "code",
   "execution_count": null,
   "id": "f3f2fbaa-c6d7-4392-ab1f-2a95486068c8",
   "metadata": {},
   "outputs": [],
   "source": []
  }
 ],
 "metadata": {
  "kernelspec": {
   "display_name": "Python 3 (ipykernel)",
   "language": "python",
   "name": "python3"
  },
  "language_info": {
   "codemirror_mode": {
    "name": "ipython",
    "version": 3
   },
   "file_extension": ".py",
   "mimetype": "text/x-python",
   "name": "python",
   "nbconvert_exporter": "python",
   "pygments_lexer": "ipython3",
   "version": "3.9.7"
  }
 },
 "nbformat": 4,
 "nbformat_minor": 5
}
